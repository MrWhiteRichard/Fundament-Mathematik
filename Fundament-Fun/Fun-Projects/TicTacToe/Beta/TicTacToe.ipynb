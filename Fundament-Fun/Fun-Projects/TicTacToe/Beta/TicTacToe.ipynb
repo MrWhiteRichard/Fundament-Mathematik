{
 "cells": [
  {
   "cell_type": "markdown",
   "metadata": {},
   "source": [
    "# TicTacToe\n",
    "\n",
    "In this notebook we will focus on implementing this game in a more abstract setting than usual. To lay down the basics however, two dimensions will suffice. A further generalization will be implemented lateron."
   ]
  },
  {
   "cell_type": "markdown",
   "metadata": {},
   "source": [
    "## The Board\n",
    "\n",
    "Establishing a digital representation is easily done with `numpy` and a Matrix $B \\in \\{ 0, \\pm 1 \\}^{n \\times n}$. We identify \"empty\" with $0$ and $X \\cong  1$, $O \\cong -1$. The reason for using this identification becomes clear when doing calculations with board positions."
   ]
  },
  {
   "cell_type": "code",
   "execution_count": 1,
   "metadata": {},
   "outputs": [],
   "source": [
    "import numpy as np"
   ]
  },
  {
   "cell_type": "markdown",
   "metadata": {},
   "source": [
    "Consider a player marking the position $p$ on the board $B$. To check, whether $p$ is a legal choice for a position, we check for two necessary conditions.\n",
    "\n",
    "1. The position has not been marked before; i.e. $B_p = 0$\n",
    "2. The position is actually on the board; i.e. $p \\in \\{ 0, \\ldots, n-1 \\}^2$"
   ]
  },
  {
   "cell_type": "code",
   "execution_count": 3,
   "metadata": {},
   "outputs": [],
   "source": [
    "def is_legal_position(board, position):\n",
    "    B = board\n",
    "    p = position\n",
    "\n",
    "    n = B.shape[0]\n",
    "\n",
    "    if B[p] != 0:\n",
    "        return False\n",
    "\n",
    "    for p_ in p:\n",
    "        if not p < n:\n",
    "            return False\n",
    "\n",
    "    return True"
   ]
  },
  {
   "cell_type": "markdown",
   "metadata": {},
   "source": [
    "## The Players\n",
    "\n",
    "TicTacToe is a game between two players, where the first to achive a TicTacToe wins the game. For reasons that will become clear lateron, it is useful to generalize by the following:\n",
    "\n",
    "When a player makes a move, we must check for all possible ways a TicTacToe could occur. These will be summed up as points and added to the active player's `score`. When all board positions are marked, then the player with the highest score wins. If they match, then the player who `scored_first` wins. A draw occurs if nobody scored.\n",
    "\n",
    "To store player information, we introduce the pyton class `player` and a dictionary `players` with two instances."
   ]
  },
  {
   "cell_type": "code",
   "execution_count": 4,
   "metadata": {},
   "outputs": [],
   "source": [
    "class player:\n",
    "    def __init__(self, name):\n",
    "        self.name  = name\n",
    "        self.score = 0"
   ]
  },
  {
   "cell_type": "code",
   "execution_count": 7,
   "metadata": {},
   "outputs": [
    {
     "name": "stdout",
     "output_type": "stream",
     "text": [
      "id:    X\n",
      "name:  Alice\n",
      "score: 0\n",
      "\n",
      "id:    O\n",
      "name:  Bob\n",
      "score: 0\n",
      "\n"
     ]
    }
   ],
   "source": [
    "players = {'X': player(\"Alice\"),\n",
    "           'O': player(\"Bob\")}\n",
    "\n",
    "for XO in {'X', 'O'}:\n",
    "    print(\"id:   \", XO)\n",
    "    print(\"name: \", players[XO].name)\n",
    "    print(\"score:\", players[XO].score)\n",
    "    print(\"\")"
   ]
  },
  {
   "cell_type": "markdown",
   "metadata": {},
   "source": [
    "Let $p$ be, once again, the position on the board $B$, which gets marked by a player. We have to check if (and how many) TicTacToe have been achived by implementing a further method `update_score`. One way of doing so is enumerating every possible line $L \\in \\{ 0, \\ldots, n-1 \\}^{2 \\times n}$, of lenght $n$, that passes through $p$ and checking $L$ for being TicTacToe.\n",
    "\n",
    "1. By $n-1$ times increasing the first coordinate $p_0$ we obtain a horizontal line. This must be done modulo $n-1$. The same thing can be said about $p_1$ and a vertical line. If $p_0 = p_1$, then $p$ is on the main diagonal of $B$, and $p_0 = n - 1 - p_1$ accounts for the side diagnal."
   ]
  },
  {
   "cell_type": "code",
   "execution_count": 135,
   "metadata": {},
   "outputs": [],
   "source": [
    "def get_lines(board, point):\n",
    "    B = board\n",
    "    p = point\n",
    "\n",
    "    x = p[0]\n",
    "    y = p[1]\n",
    "    n = B.shape[0]\n",
    "\n",
    "    lines = []\n",
    "\n",
    "    # vertical line\n",
    "    lines += [[((x+i)%n, y) for i in range(n)]]\n",
    "\n",
    "    # horizontal line\n",
    "    lines += [[(x, (y+i)%n) for i in range(n)]]\n",
    "\n",
    "    # main diagonal\n",
    "    if x == y:\n",
    "        lines += [[(i, i) for i in range(n)]]\n",
    "\n",
    "    # side diagonal\n",
    "    if x == n-1-y:\n",
    "        lines += [[(n-1-i, i) for i in range(n)]]\n",
    "\n",
    "    return lines"
   ]
  },
  {
   "cell_type": "code",
   "execution_count": 81,
   "metadata": {},
   "outputs": [
    {
     "name": "stdout",
     "output_type": "stream",
     "text": [
      "[[(1, 1), (2, 1), (0, 1)], [(1, 1), (1, 2), (1, 0)], [(0, 0), (1, 1), (2, 2)], [(2, 0), (1, 1), (0, 2)]]\n"
     ]
    }
   ],
   "source": [
    "p = (1, 1)\n",
    "\n",
    "print(get_lines(B, p))"
   ]
  },
  {
   "cell_type": "markdown",
   "metadata": {},
   "source": [
    "2. The fact that the matrix $B$ entries on the line $L$ form a \"TicTacToe\" is equivalent to\n",
    "\n",
    "$$\n",
    "| \\sum_{i=0}^{n-1} A_{L_i} | = n.\n",
    "$$."
   ]
  },
  {
   "cell_type": "code",
   "execution_count": 134,
   "metadata": {},
   "outputs": [],
   "source": [
    "def is_tictactoe(matrix, line):\n",
    "    B = matrix\n",
    "    L = line\n",
    "    n = B.shape[0]\n",
    "\n",
    "    S = np.array([B[L[i]] for i in range(n)])\n",
    "\n",
    "    return abs(np.sum(S)) == n"
   ]
  },
  {
   "cell_type": "code",
   "execution_count": 117,
   "metadata": {
    "scrolled": true
   },
   "outputs": [
    {
     "name": "stdout",
     "output_type": "stream",
     "text": [
      "B =\n"
     ]
    },
    {
     "data": {
      "text/plain": [
       "array([[1., 0., 0.],\n",
       "       [0., 1., 0.],\n",
       "       [0., 0., 1.]])"
      ]
     },
     "metadata": {},
     "output_type": "display_data"
    },
    {
     "name": "stdout",
     "output_type": "stream",
     "text": [
      "L = [(1, 0), (2, 0), (0, 0)]\n",
      "Is L a TicTacToe? ... False\n",
      "\n",
      "L = [(1, 0), (1, 1), (1, 2)]\n",
      "Is L a TicTacToe? ... False\n",
      "\n"
     ]
    }
   ],
   "source": [
    "B = np.identity(n)\n",
    "\n",
    "print(\"B =\")\n",
    "display(B)\n",
    "\n",
    "p = (1, 0)\n",
    "\n",
    "lines = get_lines(B, p)\n",
    "\n",
    "for L in lines:\n",
    "    print(\"L =\", L)\n",
    "    print(\"Is L a TicTacToe? ...\", is_tictactoe(B, L))\n",
    "    print(\"\")"
   ]
  },
  {
   "cell_type": "markdown",
   "metadata": {},
   "source": [
    "Now, we can easily implement `update_score`. It shall be called, once a player marks a position $p$ on the board $B$."
   ]
  },
  {
   "cell_type": "code",
   "execution_count": 150,
   "metadata": {},
   "outputs": [],
   "source": [
    "class player:\n",
    "\n",
    "    def __init__(self, XO, name):\n",
    "        self.XO    = XO\n",
    "        self.name  = name\n",
    "        self.score = 0\n",
    "\n",
    "    def update_score(self, board, position):\n",
    "        B = board\n",
    "        p = position\n",
    "\n",
    "        lines = get_lines(B, p)\n",
    "\n",
    "        for L in lines:\n",
    "            if is_tictactoe(B, L):\n",
    "                self.score += 1"
   ]
  },
  {
   "cell_type": "code",
   "execution_count": 153,
   "metadata": {},
   "outputs": [
    {
     "name": "stdout",
     "output_type": "stream",
     "text": [
      "B =\n"
     ]
    },
    {
     "data": {
      "text/plain": [
       "array([[ 1, -1,  0],\n",
       "       [ 1,  1, -1],\n",
       "       [ 1,  0, -1]])"
      ]
     },
     "metadata": {},
     "output_type": "display_data"
    },
    {
     "name": "stdout",
     "output_type": "stream",
     "text": [
      "Alice's score: 1\n"
     ]
    }
   ],
   "source": [
    "XO   = 1\n",
    "name = \"Alice\"\n",
    "\n",
    "player_ = player(XO, name)\n",
    "\n",
    "B = np.array([[1, -1,  0],\n",
    "              [1,  1, -1],\n",
    "              [0,  0, -1]])\n",
    "\n",
    "# marks board position\n",
    "p = (2, 0)\n",
    "assert B[p] == 0\n",
    "B[p] = player_.XO\n",
    "\n",
    "print(\"B =\")\n",
    "display(B)\n",
    "\n",
    "player_.update_score(B, p)\n",
    "\n",
    "print(player_.name + \"'s score:\", player_.score)"
   ]
  },
  {
   "cell_type": "markdown",
   "metadata": {},
   "source": [
    "In order to determine, who won the game, we need to take into account the player's scores and who `scored_first`."
   ]
  },
  {
   "cell_type": "code",
   "execution_count": null,
   "metadata": {},
   "outputs": [],
   "source": [
    "def get_winner(players, scored_first):\n",
    "    if players['X'].score < players['O'].score:\n",
    "        return 'O'\n",
    "\n",
    "    if players['O'].score < players['X'].score:\n",
    "        return 'X'\n",
    "\n",
    "    if players['X'].score == players['O'].score:\n",
    "        return scored_first"
   ]
  },
  {
   "cell_type": "markdown",
   "metadata": {},
   "source": [
    "## The Game\n",
    "\n",
    "A nice looking user interface will not be implemented in this notebook. Please refer to the source code provided to find out more about that.\n",
    "\n",
    "To beginn with, we have to take care of some simple initializations. What firstly comes to mind, is of course the board itself and the participating players. Furthermore, we'll track, who's `turn` it is, and who `scored_first`, by using `XO`.\n",
    "\n",
    "---\n",
    "\n",
    "Of course, $B$ starts out empty, but turns full iff\n",
    "\n",
    "$$ \\prod_{i,j=0}^{n-1} B_{i,j} \\neq 0. $$"
   ]
  },
  {
   "cell_type": "code",
   "execution_count": null,
   "metadata": {},
   "outputs": [],
   "source": [
    "n = input(\"Game dimension: \")\n",
    "\n",
    "B = np.zeros((n, n))\n",
    "\n",
    "name_X = input(\"Player X's name: \")\n",
    "name_O = input(\"Player O's name: \")\n",
    "\n",
    "players = {'X': player( 1, name_X),\n",
    "           'O': player(-1, name_O)}\n",
    "\n",
    "turn = 1\n",
    "scored_first = ''\n",
    "\n",
    "# game starts\n",
    "\n",
    "while np.prod(B) == 0:\n",
    "    XO = ''\n",
    "    for XO_ in {'X', 'O'}\n",
    "        if players[XO_].XO == turn:\n",
    "            XO = XO_\n",
    "\n",
    "    if scored_first == '' and players[XO].score != 0:\n",
    "        scored_first = XO\n",
    "\n",
    "    turn *= -1\n",
    "\n",
    "# game ends\n",
    "\n",
    "winner = get_winner(players, scored_first)\n",
    "\n",
    "winner_name = \"\"\n",
    "if winner == '':\n",
    "    winner_name = \"Nobody\"\n",
    "else:\n",
    "    winner_name = players[winner].name\n",
    "\n",
    "print(winner_name + \" wins the game!\")\n",
    "print(\"\")\n",
    "\n",
    "for XO in {'X', 'O'}:\n",
    "    print(players[XO].name + \"'s score:'\")\n",
    "    print(players[XO].score)\n",
    "    print(\"\")"
   ]
  },
  {
   "cell_type": "code",
   "execution_count": null,
   "metadata": {},
   "outputs": [],
   "source": []
  }
 ],
 "metadata": {
  "kernelspec": {
   "display_name": "Python 3",
   "language": "python",
   "name": "python3"
  },
  "language_info": {
   "codemirror_mode": {
    "name": "ipython",
    "version": 3
   },
   "file_extension": ".py",
   "mimetype": "text/x-python",
   "name": "python",
   "nbconvert_exporter": "python",
   "pygments_lexer": "ipython3",
   "version": "3.7.4"
  }
 },
 "nbformat": 4,
 "nbformat_minor": 2
}
