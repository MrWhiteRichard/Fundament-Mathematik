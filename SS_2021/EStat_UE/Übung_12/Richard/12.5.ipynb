{
 "metadata": {
  "language_info": {
   "codemirror_mode": {
    "name": "ipython",
    "version": 3
   },
   "file_extension": ".py",
   "mimetype": "text/x-python",
   "name": "python",
   "nbconvert_exporter": "python",
   "pygments_lexer": "ipython3",
   "version": "3.9.2"
  },
  "orig_nbformat": 4,
  "kernelspec": {
   "name": "python3",
   "display_name": "Python 3.9.2 64-bit"
  },
  "interpreter": {
   "hash": "29dd0665073eae84ffe5a7687a8a9c5d424813438214318fcc694af1c42e9e2c"
  }
 },
 "nbformat": 4,
 "nbformat_minor": 2,
 "cells": [
  {
   "source": [
    "# Hypnosis"
   ],
   "cell_type": "markdown",
   "metadata": {}
  },
  {
   "source": [
    "Some researchers claim that susceptibility to hypnosis can be acquired or improved through training.\n",
    "To investigate this claim six subjects were rated on a scale of $1$-$20$ according to their initial susceptibility to hypnosis and then given $4$ weeks of training.\n",
    "Each subject was rated again after the training period. In the ratings below, higher numbers represent greater susceptibility to hypnosis.\n",
    "\n",
    "\\begin{align*}\n",
    "    \\begin{array}{c|c|c}\n",
    "        \\hline\n",
    "        \\text{Subject} & \\text{Before} & \\text{After} \\\\\n",
    "        \\hline\n",
    "        1 & 10 & 18 \\\\\n",
    "        2 & 16 & 19 \\\\\n",
    "        3 & 7  & 11 \\\\\n",
    "        4 & 4  & 3  \\\\\n",
    "        5 & 7  & 5  \\\\\n",
    "        6 & 2  & 3  \\\\ \\hline\n",
    "    \\end{array}\n",
    "\\end{align*}\n",
    "\n",
    "Specify and perform the appropriate hypothesis test.\n",
    "What potential issues exist with this analysis?"
   ],
   "cell_type": "markdown",
   "metadata": {}
  },
  {
   "source": [
    "We use lecture 11, slide 34."
   ],
   "cell_type": "markdown",
   "metadata": {}
  },
  {
   "cell_type": "code",
   "execution_count": 1,
   "metadata": {},
   "outputs": [],
   "source": [
    "import numpy as np\n",
    "from scipy import stats\n",
    "import pandas as pd"
   ]
  },
  {
   "cell_type": "code",
   "execution_count": 3,
   "metadata": {},
   "outputs": [
    {
     "output_type": "execute_result",
     "data": {
      "text/plain": [
       "   Before  After\n",
       "0      10     18\n",
       "1      16     19\n",
       "2       7     11\n",
       "3       4      3\n",
       "4       7      5\n",
       "5       2      3"
      ],
      "text/html": "<div>\n<style scoped>\n    .dataframe tbody tr th:only-of-type {\n        vertical-align: middle;\n    }\n\n    .dataframe tbody tr th {\n        vertical-align: top;\n    }\n\n    .dataframe thead th {\n        text-align: right;\n    }\n</style>\n<table border=\"1\" class=\"dataframe\">\n  <thead>\n    <tr style=\"text-align: right;\">\n      <th></th>\n      <th>Before</th>\n      <th>After</th>\n    </tr>\n  </thead>\n  <tbody>\n    <tr>\n      <th>0</th>\n      <td>10</td>\n      <td>18</td>\n    </tr>\n    <tr>\n      <th>1</th>\n      <td>16</td>\n      <td>19</td>\n    </tr>\n    <tr>\n      <th>2</th>\n      <td>7</td>\n      <td>11</td>\n    </tr>\n    <tr>\n      <th>3</th>\n      <td>4</td>\n      <td>3</td>\n    </tr>\n    <tr>\n      <th>4</th>\n      <td>7</td>\n      <td>5</td>\n    </tr>\n    <tr>\n      <th>5</th>\n      <td>2</td>\n      <td>3</td>\n    </tr>\n  </tbody>\n</table>\n</div>"
     },
     "metadata": {},
     "execution_count": 3
    }
   ],
   "source": [
    "data = pd.DataFrame({\n",
    "    'Before': [10, 16, 7, 4, 7, 2],\n",
    "    'After': [18, 19, 11, 3, 5, 3]\n",
    "})\n",
    "data"
   ]
  },
  {
   "cell_type": "code",
   "execution_count": 36,
   "metadata": {},
   "outputs": [
    {
     "output_type": "execute_result",
     "data": {
      "text/plain": [
       "0    8\n",
       "1    3\n",
       "2    4\n",
       "3   -1\n",
       "4   -2\n",
       "5    1\n",
       "dtype: int64"
      ]
     },
     "metadata": {},
     "execution_count": 36
    }
   ],
   "source": [
    "x = data['After'] - data['Before']\n",
    "x"
   ]
  },
  {
   "cell_type": "code",
   "execution_count": 13,
   "metadata": {},
   "outputs": [],
   "source": [
    "alpha = 0.05"
   ]
  },
  {
   "cell_type": "code",
   "execution_count": 37,
   "metadata": {},
   "outputs": [
    {
     "output_type": "execute_result",
     "data": {
      "text/plain": [
       "2.1666666666666665"
      ]
     },
     "metadata": {},
     "execution_count": 37
    }
   ],
   "source": [
    "x_bar = x.mean()\n",
    "x_bar"
   ]
  },
  {
   "cell_type": "code",
   "execution_count": 35,
   "metadata": {},
   "outputs": [
    {
     "output_type": "execute_result",
     "data": {
      "text/plain": [
       "3.6560452221856705"
      ]
     },
     "metadata": {},
     "execution_count": 35
    }
   ],
   "source": [
    "s = x.std()\n",
    "s"
   ]
  },
  {
   "cell_type": "code",
   "execution_count": 8,
   "metadata": {},
   "outputs": [
    {
     "output_type": "execute_result",
     "data": {
      "text/plain": [
       "6"
      ]
     },
     "metadata": {},
     "execution_count": 8
    }
   ],
   "source": [
    "n, _ = data.shape\n",
    "n"
   ]
  },
  {
   "cell_type": "code",
   "execution_count": 9,
   "metadata": {},
   "outputs": [
    {
     "output_type": "execute_result",
     "data": {
      "text/plain": [
       "0"
      ]
     },
     "metadata": {},
     "execution_count": 9
    }
   ],
   "source": [
    "mu_0 = 0\n",
    "mu_0"
   ]
  },
  {
   "cell_type": "code",
   "execution_count": 39,
   "metadata": {},
   "outputs": [
    {
     "output_type": "execute_result",
     "data": {
      "text/plain": [
       "(2.1666666666666665, 3.836784158693447)"
      ]
     },
     "metadata": {},
     "execution_count": 39
    }
   ],
   "source": [
    "x_bar, stats.t(n-1).ppf(1 - alpha / 2) * (s / np.sqrt(n))"
   ]
  },
  {
   "source": [
    "Since $0$ is contained within the range of the confidence interval, we cannot reject the null hypothesis at significance level $\\alpha = 0.05$."
   ],
   "cell_type": "markdown",
   "metadata": {}
  }
 ]
}