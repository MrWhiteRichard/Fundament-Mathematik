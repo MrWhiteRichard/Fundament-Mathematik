{
 "metadata": {
  "language_info": {
   "codemirror_mode": {
    "name": "ipython",
    "version": 3
   },
   "file_extension": ".py",
   "mimetype": "text/x-python",
   "name": "python",
   "nbconvert_exporter": "python",
   "pygments_lexer": "ipython3",
   "version": "3.9.2"
  },
  "orig_nbformat": 4,
  "kernelspec": {
   "name": "python3",
   "display_name": "Python 3.9.2 64-bit"
  },
  "interpreter": {
   "hash": "29dd0665073eae84ffe5a7687a8a9c5d424813438214318fcc694af1c42e9e2c"
  }
 },
 "nbformat": 4,
 "nbformat_minor": 2,
 "cells": [
  {
   "source": [
    "# Comparing Two Populations 2"
   ],
   "cell_type": "markdown",
   "metadata": {}
  },
  {
   "source": [
    "Suppose you wish to compare a new method of teaching reading to slow learners with the current standard method.\n",
    "You decide to base your comparison on the results of a reading test given at the end of a learning period of six months.\n",
    "Of a random sample of $22$ slow learners, $10$ are taught by the new method and $12$ are taught by the standard method.\n",
    "All $22$ children are taught by qualified instructors under similar conditions for the designated six-month period.\n",
    "The results of the reading test at the end of this period are given below.\n",
    "\n",
    "\\begin{align*}\n",
    "    & \\text{New Method}: 80, 76, 70, 80, 66, 85, 79, 71, 81, 76. \\\\\n",
    "    & \\text{Standard Method}: 79, 73, 72, 62, 76, 68, 70, 86, 75, 68, 73, 66.\n",
    "\\end{align*}\n",
    "\n",
    "(a) Use the data in the table to estimate the true mean difference between the test scores for the new method and the standard method.\n",
    "Use a $95 \\%$ confidence interval.\n",
    "\n",
    "(b) Interpret the interval you found in the previous part.\n",
    "\n",
    "(c) What assumptions must be made in order that the estimate be valid? Are they reasonably satisfied?"
   ],
   "cell_type": "markdown",
   "metadata": {}
  },
  {
   "source": [
    "## (a)"
   ],
   "cell_type": "markdown",
   "metadata": {}
  },
  {
   "source": [
    "We use lecture 11, slide 34."
   ],
   "cell_type": "markdown",
   "metadata": {}
  },
  {
   "cell_type": "code",
   "execution_count": 1,
   "metadata": {},
   "outputs": [],
   "source": [
    "import numpy as np\n",
    "from scipy import stats\n",
    "import pandas as pd"
   ]
  },
  {
   "cell_type": "code",
   "execution_count": 30,
   "metadata": {},
   "outputs": [
    {
     "output_type": "execute_result",
     "data": {
      "text/plain": [
       "{1: [80, 76, 70, 80, 66, 85, 79, 71, 81, 76],\n",
       " 2: [79, 73, 72, 62, 76, 68, 70, 86, 75, 68, 73, 66]}"
      ]
     },
     "metadata": {},
     "execution_count": 30
    }
   ],
   "source": [
    "data = {\n",
    "    1: [80, 76, 70, 80, 66, 85, 79, 71, 81, 76],\n",
    "    2: [79, 73, 72, 62, 76, 68, 70, 86, 75, 68, 73, 66]\n",
    "}\n",
    "data"
   ]
  },
  {
   "cell_type": "code",
   "execution_count": 54,
   "metadata": {},
   "outputs": [],
   "source": [
    "alpha = 0.05"
   ]
  },
  {
   "cell_type": "code",
   "execution_count": 39,
   "metadata": {},
   "outputs": [
    {
     "output_type": "execute_result",
     "data": {
      "text/plain": [
       "{1: 76.4, 2: 72.33333333333333}"
      ]
     },
     "metadata": {},
     "execution_count": 39
    }
   ],
   "source": [
    "x_bar = {\n",
    "    i: np.mean(data[i])\n",
    "    for i in [1, 2]\n",
    "}\n",
    "x_bar"
   ]
  },
  {
   "cell_type": "code",
   "execution_count": 40,
   "metadata": {},
   "outputs": [
    {
     "output_type": "execute_result",
     "data": {
      "text/plain": [
       "{1: 5.834761729877618, 2: 6.343691688790073}"
      ]
     },
     "metadata": {},
     "execution_count": 40
    }
   ],
   "source": [
    "s = {\n",
    "    i: stats.tstd(data[i])\n",
    "    for i in [1, 2]\n",
    "}\n",
    "s"
   ]
  },
  {
   "cell_type": "code",
   "execution_count": 41,
   "metadata": {},
   "outputs": [
    {
     "output_type": "execute_result",
     "data": {
      "text/plain": [
       "{1: 10, 2: 12}"
      ]
     },
     "metadata": {},
     "execution_count": 41
    }
   ],
   "source": [
    "n = {\n",
    "    i: len(data[i])\n",
    "    for i in [1, 2]\n",
    "}\n",
    "n"
   ]
  },
  {
   "cell_type": "code",
   "execution_count": 33,
   "metadata": {},
   "outputs": [
    {
     "output_type": "execute_result",
     "data": {
      "text/plain": [
       "0"
      ]
     },
     "metadata": {},
     "execution_count": 33
    }
   ],
   "source": [
    "mu_0 = 0\n",
    "mu_0"
   ]
  },
  {
   "cell_type": "code",
   "execution_count": 42,
   "metadata": {},
   "outputs": [
    {
     "output_type": "execute_result",
     "data": {
      "text/plain": [
       "1.5643363297503636"
      ]
     },
     "metadata": {},
     "execution_count": 42
    }
   ],
   "source": [
    "t = (x_bar[1] - x_bar[2] - mu_0) / np.sqrt(s[1] ** 2 / n[1] + s[2] ** 2 / n[2])\n",
    "t"
   ]
  },
  {
   "cell_type": "code",
   "execution_count": 48,
   "metadata": {},
   "outputs": [
    {
     "output_type": "execute_result",
     "data": {
      "text/plain": [
       "19.769093292057992"
      ]
     },
     "metadata": {},
     "execution_count": 48
    }
   ],
   "source": [
    "nu = (s[1] ** 2 / n[1] + s[2] ** 2 / n[2]) ** 2 / ( (s[1] ** 2 / n[1]) ** 2 / (n[1] - 1) + (s[2] ** 2 / n[2]) ** 2 / (n[2] - 1) )\n",
    "nu"
   ]
  },
  {
   "cell_type": "code",
   "execution_count": 56,
   "metadata": {},
   "outputs": [
    {
     "output_type": "execute_result",
     "data": {
      "text/plain": [
       "(4.066666666666677, 5.426757803062288)"
      ]
     },
     "metadata": {},
     "execution_count": 56
    }
   ],
   "source": [
    "x_bar[1] - x_bar[2], stats.t(nu).ppf(1 - alpha / 2) * np.sqrt(s[1] ** 2 / n[1] + s[2] ** 2 / n[2])"
   ]
  },
  {
   "source": [
    "## (b)"
   ],
   "cell_type": "markdown",
   "metadata": {}
  },
  {
   "source": [
    "Since $0 \\in \\text{CI}$, we cannot reject the claim with conficence level $0.95$."
   ],
   "cell_type": "markdown",
   "metadata": {}
  },
  {
   "source": [
    "## (c)"
   ],
   "cell_type": "markdown",
   "metadata": {}
  },
  {
   "source": [
    "\"$n_1 < 30$ or $n_2 < 30$\" and \"both populations are normally distributed with unequal variances $\\sigma_1^2 \\neq \\sigma_2^2$\"."
   ],
   "cell_type": "markdown",
   "metadata": {}
  }
 ]
}