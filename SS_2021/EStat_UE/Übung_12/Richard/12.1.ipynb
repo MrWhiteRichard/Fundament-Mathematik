{
 "metadata": {
  "language_info": {
   "codemirror_mode": {
    "name": "ipython",
    "version": 3
   },
   "file_extension": ".py",
   "mimetype": "text/x-python",
   "name": "python",
   "nbconvert_exporter": "python",
   "pygments_lexer": "ipython3",
   "version": "3.9.2"
  },
  "orig_nbformat": 4,
  "kernelspec": {
   "name": "python3",
   "display_name": "Python 3.9.2 64-bit"
  },
  "interpreter": {
   "hash": "29dd0665073eae84ffe5a7687a8a9c5d424813438214318fcc694af1c42e9e2c"
  }
 },
 "nbformat": 4,
 "nbformat_minor": 2,
 "cells": [
  {
   "source": [
    "# Comparing Two Populations 1"
   ],
   "cell_type": "markdown",
   "metadata": {}
  },
  {
   "source": [
    "A study of the differences in cognitive function between normal individuals and patients diagnosed with schizophrenia was published in the American Journal of Psychiatry (Apr. 2010).\n",
    "The total time (in minutes) a subject spent on the Trail Making Test (a standard psychological test) was used as a measure of cognitive function.\n",
    "The researchers theorize that the mean time on the Trail Making Test for schizophrenics will be larger than the corresponding mean for normal subjects.\n",
    "The data for independent random samples of $41$ schizophrenics and $49$ normal individuals yielded the following results:\n",
    "\n",
    "\\begin{align*}\n",
    "    \\begin{array}{l|cc}\n",
    "                                  & \\text{Schizophrenia} & \\text{Normal} \\\\ \\hline\n",
    "        \\text{Sample size}        & 41                   & 49            \\\\\n",
    "        \\text{Standard deviation} & 62.24                & 16.34         \\\\\n",
    "    \\end{array}\n",
    "\\end{align*}\n",
    "\n",
    "(a) Define the parameter of interest to the researchers.\n",
    "\n",
    "(b) Set up the null and alternative hypothesis for testing the researchers’ theory.\n",
    "\n",
    "(c) The researchers conducted the test, part (b), and reported a $p$-value of $.001$.\n",
    "What conclusions can you draw from this result?\n",
    "(Use $\\alpha = 0.01$)\n",
    "\n",
    "(d) Find a $99 \\%$ confidence interval for the target parameter.\n",
    "    Interpret the result.\n",
    "    Does your conclusion agree with that of the previous part?"
   ],
   "cell_type": "markdown",
   "metadata": {}
  },
  {
   "source": [
    "## (a)"
   ],
   "cell_type": "markdown",
   "metadata": {}
  },
  {
   "source": [
    "We use lecture 11, slide 32.\n",
    "The parameter of interest to the researchers is $\\mu_1 - \\mu_2$."
   ],
   "cell_type": "markdown",
   "metadata": {}
  },
  {
   "source": [
    "## (b)"
   ],
   "cell_type": "markdown",
   "metadata": {}
  },
  {
   "source": [
    "Our test reads\n",
    "\n",
    "\\begin{align*}\n",
    "    H_0: \\mu_1 - \\mu_2 = 0\n",
    "    \\quad\n",
    "    \\textit{vs.}\n",
    "    \\quad\n",
    "    H_1: \\mu_1 - \\mu_2 > 0.\n",
    "\\end{align*}"
   ],
   "cell_type": "markdown",
   "metadata": {}
  },
  {
   "source": [
    "## (c)"
   ],
   "cell_type": "markdown",
   "metadata": {}
  },
  {
   "source": [
    "Since\n",
    "\n",
    "\\begin{align*}\n",
    "    p-\\text{value} = 0.001 < 0.01 = \\alpha,\n",
    "\\end{align*}\n",
    "\n",
    "one should reject the $H_0$."
   ],
   "cell_type": "markdown",
   "metadata": {}
  },
  {
   "source": [
    "## (d)"
   ],
   "cell_type": "markdown",
   "metadata": {}
  },
  {
   "cell_type": "code",
   "execution_count": 1,
   "metadata": {},
   "outputs": [],
   "source": [
    "import numpy as np\n",
    "from scipy import stats"
   ]
  },
  {
   "cell_type": "code",
   "execution_count": 2,
   "metadata": {},
   "outputs": [
    {
     "output_type": "execute_result",
     "data": {
      "text/plain": [
       "0.01"
      ]
     },
     "metadata": {},
     "execution_count": 2
    }
   ],
   "source": [
    "alpha = 0.01\n",
    "alpha"
   ]
  },
  {
   "cell_type": "code",
   "execution_count": 3,
   "metadata": {},
   "outputs": [
    {
     "output_type": "execute_result",
     "data": {
      "text/plain": [
       "{1: 41, 2: 49}"
      ]
     },
     "metadata": {},
     "execution_count": 3
    }
   ],
   "source": [
    "n = {\n",
    "    1: 41,\n",
    "    2: 49\n",
    "}\n",
    "n"
   ]
  },
  {
   "cell_type": "code",
   "execution_count": 4,
   "metadata": {},
   "outputs": [
    {
     "output_type": "execute_result",
     "data": {
      "text/plain": [
       "{1: 104.23, 2: 62.24}"
      ]
     },
     "metadata": {},
     "execution_count": 4
    }
   ],
   "source": [
    "x_bar = {\n",
    "    1: 104.23,\n",
    "    2: 62.24\n",
    "}\n",
    "x_bar"
   ]
  },
  {
   "cell_type": "code",
   "execution_count": 5,
   "metadata": {},
   "outputs": [
    {
     "output_type": "execute_result",
     "data": {
      "text/plain": [
       "{1: 62.24, 2: 16.34}"
      ]
     },
     "metadata": {},
     "execution_count": 5
    }
   ],
   "source": [
    "s = {\n",
    "    1: 62.24,\n",
    "    2: 16.34\n",
    "}\n",
    "s"
   ]
  },
  {
   "cell_type": "code",
   "execution_count": 6,
   "metadata": {},
   "outputs": [
    {
     "output_type": "execute_result",
     "data": {
      "text/plain": [
       "0"
      ]
     },
     "metadata": {},
     "execution_count": 6
    }
   ],
   "source": [
    "mu_0 = 0\n",
    "mu_0"
   ]
  },
  {
   "cell_type": "code",
   "execution_count": 8,
   "metadata": {},
   "outputs": [
    {
     "output_type": "execute_result",
     "data": {
      "text/plain": [
       "67.73956540625613"
      ]
     },
     "metadata": {},
     "execution_count": 8
    }
   ],
   "source": [
    "x_bar[1] - x_bar[2], stats.norm.ppf(1 - alpha / 2) * np.sqrt(s[1] ** 2 / n[1] + s[2] ** 2 / n[2])"
   ]
  },
  {
   "source": [
    "Indeed, our conclusion agrees with that of the previous part (c)."
   ],
   "cell_type": "markdown",
   "metadata": {}
  }
 ]
}