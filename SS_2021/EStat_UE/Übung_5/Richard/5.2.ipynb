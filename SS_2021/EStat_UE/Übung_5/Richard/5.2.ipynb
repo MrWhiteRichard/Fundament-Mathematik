{
 "metadata": {
  "language_info": {
   "codemirror_mode": {
    "name": "ipython",
    "version": 3
   },
   "file_extension": ".py",
   "mimetype": "text/x-python",
   "name": "python",
   "nbconvert_exporter": "python",
   "pygments_lexer": "ipython3",
   "version": "3.9.2-final"
  },
  "orig_nbformat": 2,
  "kernelspec": {
   "name": "python392jvsc74a57bd029dd0665073eae84ffe5a7687a8a9c5d424813438214318fcc694af1c42e9e2c",
   "display_name": "Python 3.9.2 64-bit"
  },
  "metadata": {
   "interpreter": {
    "hash": "29dd0665073eae84ffe5a7687a8a9c5d424813438214318fcc694af1c42e9e2c"
   }
  }
 },
 "nbformat": 4,
 "nbformat_minor": 2,
 "cells": [
  {
   "cell_type": "code",
   "execution_count": 1,
   "metadata": {},
   "outputs": [],
   "source": [
    "import numpy as np\n",
    "from scipy import stats"
   ]
  },
  {
   "cell_type": "code",
   "execution_count": 2,
   "metadata": {},
   "outputs": [],
   "source": [
    "n = 600\n",
    "p = 1 - 1/4\n",
    "\n",
    "X = stats.binom(n, p)"
   ]
  },
  {
   "cell_type": "code",
   "execution_count": 3,
   "metadata": {},
   "outputs": [
    {
     "output_type": "execute_result",
     "data": {
      "text/plain": [
       "0.6778428341479965"
      ]
     },
     "metadata": {},
     "execution_count": 3
    }
   ],
   "source": [
    "sum([X.pmf(k) for k in range(440, 460 + 1)])"
   ]
  },
  {
   "cell_type": "code",
   "execution_count": 20,
   "metadata": {},
   "outputs": [],
   "source": [
    "mu = X.expect()\n",
    "sigma = X.std()\n",
    "\n",
    "Phi = lambda x: stats.norm.cdf(x)"
   ]
  },
  {
   "cell_type": "code",
   "execution_count": 21,
   "metadata": {},
   "outputs": [
    {
     "output_type": "execute_result",
     "data": {
      "text/plain": [
       "0.6542214138488397"
      ]
     },
     "metadata": {},
     "execution_count": 21
    }
   ],
   "source": [
    "Phi((460 - mu) / sigma) - Phi((440 - mu) / sigma)"
   ]
  },
  {
   "cell_type": "code",
   "execution_count": 22,
   "metadata": {},
   "outputs": [
    {
     "output_type": "execute_result",
     "data": {
      "text/plain": [
       "0.6295702089514392"
      ]
     },
     "metadata": {},
     "execution_count": 22
    }
   ],
   "source": [
    "Phi((460 - 0.5 - mu) / sigma) - Phi((440 + 0.5 - mu) / sigma)"
   ]
  }
 ]
}