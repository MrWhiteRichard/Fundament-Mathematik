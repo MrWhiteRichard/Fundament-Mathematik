{
 "metadata": {
  "language_info": {
   "codemirror_mode": {
    "name": "ipython",
    "version": 3
   },
   "file_extension": ".py",
   "mimetype": "text/x-python",
   "name": "python",
   "nbconvert_exporter": "python",
   "pygments_lexer": "ipython3",
   "version": "3.9.2"
  },
  "orig_nbformat": 4,
  "kernelspec": {
   "name": "python3",
   "display_name": "Python 3.9.2 64-bit"
  },
  "interpreter": {
   "hash": "29dd0665073eae84ffe5a7687a8a9c5d424813438214318fcc694af1c42e9e2c"
  }
 },
 "nbformat": 4,
 "nbformat_minor": 2,
 "cells": [
  {
   "source": [
    "# Comparing groups"
   ],
   "cell_type": "markdown",
   "metadata": {}
  },
  {
   "cell_type": "code",
   "execution_count": 1,
   "metadata": {},
   "outputs": [],
   "source": [
    "import numpy as np\n",
    "import pandas as pd\n",
    "\n",
    "from scipy import stats"
   ]
  },
  {
   "source": [
    "Health professionals warn that transmission of infectious diseases may occur during the traditional handshake greeting.\n",
    "Two alternative methods of greeting (popularized in sports) are the high five and the first bump.\n",
    "Researchers compared the hygiene of these alternative greetings in a designed study and reported the results in the American Journal of Infection Control (Aug. $2014$).\n",
    "A sterile-gloved hand was dipped into a culture of bacteria, then made contact for three seconds with another sterile-gloved hand via either a handshake, high five, or fist bump.\n",
    "The researchers then counted the number of bacteria present on the second, recipient, gloved hand.\n",
    "This experiment was replicated five times for each contact method.\n",
    "Simulated data (recorded as a percentage relative to the mean of the handshake), based on information provided by the journal article, are provided in the table."
   ],
   "cell_type": "markdown",
   "metadata": {}
  },
  {
   "cell_type": "code",
   "execution_count": 2,
   "metadata": {},
   "outputs": [
    {
     "output_type": "execute_result",
     "data": {
      "text/plain": [
       "   Handshake  High five  Fist bump\n",
       "0        131         44         15\n",
       "1         74         70         14\n",
       "2        129         69         21\n",
       "3         96         43         29\n",
       "4         92         53         21"
      ],
      "text/html": "<div>\n<style scoped>\n    .dataframe tbody tr th:only-of-type {\n        vertical-align: middle;\n    }\n\n    .dataframe tbody tr th {\n        vertical-align: top;\n    }\n\n    .dataframe thead th {\n        text-align: right;\n    }\n</style>\n<table border=\"1\" class=\"dataframe\">\n  <thead>\n    <tr style=\"text-align: right;\">\n      <th></th>\n      <th>Handshake</th>\n      <th>High five</th>\n      <th>Fist bump</th>\n    </tr>\n  </thead>\n  <tbody>\n    <tr>\n      <th>0</th>\n      <td>131</td>\n      <td>44</td>\n      <td>15</td>\n    </tr>\n    <tr>\n      <th>1</th>\n      <td>74</td>\n      <td>70</td>\n      <td>14</td>\n    </tr>\n    <tr>\n      <th>2</th>\n      <td>129</td>\n      <td>69</td>\n      <td>21</td>\n    </tr>\n    <tr>\n      <th>3</th>\n      <td>96</td>\n      <td>43</td>\n      <td>29</td>\n    </tr>\n    <tr>\n      <th>4</th>\n      <td>92</td>\n      <td>53</td>\n      <td>21</td>\n    </tr>\n  </tbody>\n</table>\n</div>"
     },
     "metadata": {},
     "execution_count": 2
    }
   ],
   "source": [
    "X = pd.DataFrame({\n",
    "    'Handshake': [131, 74, 129, 96, 92],\n",
    "    'High five': [44, 70, 69, 43, 53],\n",
    "    'Fist bump': [15, 14, 21, 29, 21]\n",
    "})\n",
    "\n",
    "X"
   ]
  },
  {
   "cell_type": "code",
   "execution_count": 3,
   "metadata": {},
   "outputs": [
    {
     "output_type": "execute_result",
     "data": {
      "text/plain": [
       "5"
      ]
     },
     "metadata": {},
     "execution_count": 3
    }
   ],
   "source": [
    "n, _ = X.shape\n",
    "n"
   ]
  },
  {
   "source": [
    "(a)\n",
    "The researchers reported that more bacteria were transferred during a handshake compared with a high five.\n",
    "Use a $95 \\%$ confidence interval to support this statement statistically."
   ],
   "cell_type": "markdown",
   "metadata": {}
  },
  {
   "cell_type": "code",
   "execution_count": 4,
   "metadata": {},
   "outputs": [
    {
     "output_type": "execute_result",
     "data": {
      "text/plain": [
       "0    87\n",
       "1     4\n",
       "2    60\n",
       "3    53\n",
       "4    39\n",
       "dtype: int64"
      ]
     },
     "metadata": {},
     "execution_count": 4
    }
   ],
   "source": [
    "Y = X['Handshake'] - X['High five']\n",
    "Y"
   ]
  },
  {
   "cell_type": "code",
   "execution_count": 5,
   "metadata": {},
   "outputs": [
    {
     "output_type": "execute_result",
     "data": {
      "text/plain": [
       "(48.6, 30.435177016077958)"
      ]
     },
     "metadata": {},
     "execution_count": 5
    }
   ],
   "source": [
    "Y.mean(), Y.std()"
   ]
  },
  {
   "source": [
    "Let $\\alpha = 0.05$, then $0.95 \\% = 100 (1 - \\alpha) \\%$."
   ],
   "cell_type": "markdown",
   "metadata": {}
  },
  {
   "cell_type": "code",
   "execution_count": 6,
   "metadata": {},
   "outputs": [],
   "source": [
    "alpha = 0.05"
   ]
  },
  {
   "source": [
    "Our $100 (1 - \\alpha) \\%$ CI reads ..."
   ],
   "cell_type": "markdown",
   "metadata": {}
  },
  {
   "cell_type": "code",
   "execution_count": 7,
   "metadata": {},
   "outputs": [
    {
     "output_type": "execute_result",
     "data": {
      "text/plain": [
       "[21.922881318969367, 75.27711868103063]"
      ]
     },
     "metadata": {},
     "execution_count": 7
    }
   ],
   "source": [
    "T = Y.mean()\n",
    "V = Y.std() / np.sqrt(n)\n",
    "\n",
    "bounds = [T + sign * stats.norm.ppf(1 - alpha / 2) * V for sign in [-1, 1]]\n",
    "bounds"
   ]
  },
  {
   "source": [
    "We could also write the bounds as"
   ],
   "cell_type": "markdown",
   "metadata": {}
  },
  {
   "cell_type": "code",
   "execution_count": 8,
   "metadata": {},
   "outputs": [
    {
     "output_type": "stream",
     "name": "stdout",
     "text": [
      "48.6 +/- 26.677118681030635.\n"
     ]
    }
   ],
   "source": [
    "print(f'{T} +/- {stats.norm.ppf(1 - alpha / 2) * V}.')"
   ]
  },
  {
   "source": [
    "(b)\n",
    "The researchers also reported that the first bump gave a lower transmission transmission of bacteria than the high five.\n",
    "Use a $95 \\%$ confidence interval to support this statement statistically."
   ],
   "cell_type": "markdown",
   "metadata": {}
  },
  {
   "cell_type": "code",
   "execution_count": 9,
   "metadata": {},
   "outputs": [
    {
     "output_type": "execute_result",
     "data": {
      "text/plain": [
       "0   -29\n",
       "1   -56\n",
       "2   -48\n",
       "3   -14\n",
       "4   -32\n",
       "dtype: int64"
      ]
     },
     "metadata": {},
     "execution_count": 9
    }
   ],
   "source": [
    "Y = X['Fist bump'] - X['High five']\n",
    "Y"
   ]
  },
  {
   "cell_type": "code",
   "execution_count": 10,
   "metadata": {},
   "outputs": [
    {
     "output_type": "execute_result",
     "data": {
      "text/plain": [
       "(-35.8, 16.52876280911551)"
      ]
     },
     "metadata": {},
     "execution_count": 10
    }
   ],
   "source": [
    "Y.mean(), Y.std()"
   ]
  },
  {
   "source": [
    "Our $100 (1 - \\alpha) \\%$ CI reads ..."
   ],
   "cell_type": "markdown",
   "metadata": {}
  },
  {
   "cell_type": "code",
   "execution_count": 11,
   "metadata": {},
   "outputs": [
    {
     "output_type": "execute_result",
     "data": {
      "text/plain": [
       "[-50.287833170033636, -21.31216682996636]"
      ]
     },
     "metadata": {},
     "execution_count": 11
    }
   ],
   "source": [
    "T = Y.mean()\n",
    "V = Y.std() / np.sqrt(n)\n",
    "\n",
    "bounds = [T + sign * stats.norm.ppf(1 - alpha / 2) * V for sign in [-1, 1]]\n",
    "bounds"
   ]
  },
  {
   "source": [
    "We could also write the bounds as"
   ],
   "cell_type": "markdown",
   "metadata": {}
  },
  {
   "cell_type": "code",
   "execution_count": 12,
   "metadata": {},
   "outputs": [
    {
     "output_type": "stream",
     "name": "stdout",
     "text": [
      "-35.8 +/- 14.487833170033639.\n"
     ]
    }
   ],
   "source": [
    "print(f'{T} +/- {stats.norm.ppf(1 - alpha / 2) * V}.')"
   ]
  },
  {
   "source": [
    "(c)\n",
    "Based on the results, parts (a) and (b), which greeting method would you recommend as being the most hygienic?"
   ],
   "cell_type": "markdown",
   "metadata": {}
  },
  {
   "source": [
    "One greeting is more hygenic than another, iff less bacteria are transferred.\n",
    "According to (b), the fist bump is more hygenic than the high five, which, according to (a) is more hygenic than the handshake.\n",
    "Surprise, surprise:\n",
    "Indeed the fist bump is the most hygenic greeting."
   ],
   "cell_type": "markdown",
   "metadata": {}
  }
 ]
}