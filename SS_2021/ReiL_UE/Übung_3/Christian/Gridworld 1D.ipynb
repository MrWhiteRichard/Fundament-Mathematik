{
 "cells": [
  {
   "cell_type": "code",
   "execution_count": 1,
   "metadata": {},
   "outputs": [],
   "source": [
    "import numpy as np"
   ]
  },
  {
   "cell_type": "code",
   "execution_count": 2,
   "metadata": {},
   "outputs": [],
   "source": [
    "theta = 1e-5\n",
    "n = 10\n",
    "gamma = 0.9"
   ]
  },
  {
   "cell_type": "code",
   "execution_count": 3,
   "metadata": {},
   "outputs": [],
   "source": [
    "def gridworld_1D_policy_eval(n, theta, gamma, pi):\n",
    "    state_vals = np.zeros(n)\n",
    "    Delta = 50              #Choose initial value of delta high enough so Delta > theta holds\n",
    "    \n",
    "    for i in range(1, n-1):\n",
    "        state_vals[i] = 1 #Initialize all non-terminal state values arbitrarily\n",
    "    while Delta > theta:\n",
    "        Delta = 0\n",
    "        for s in range(1, n-1):  #only iterate over non-terminal states\n",
    "            v = state_vals[s] \n",
    "            if s == 1: #left action takes us to terminal state where we get reward of 10\n",
    "                state_vals[s] = pi[s][0]*(10 + gamma*state_vals[s-1]) + pi[s][1]*gamma*state_vals[s+1]\n",
    "            elif s == n-2:  #right action takes us to terminal state where we get a reward of -5\n",
    "                state_vals[s] = pi[s][0]*gamma*state_vals[s-1] + pi[s][1]*(-5 + gamma*state_vals[s+1])\n",
    "            else:\n",
    "                state_vals[s] = pi[s][0]*gamma*state_vals[s-1] + pi[s][1]*gamma*state_vals[s+1]\n",
    "            Delta = max(Delta, abs(v - state_vals[s]))\n",
    "    \n",
    "    return state_vals"
   ]
  },
  {
   "cell_type": "code",
   "execution_count": 4,
   "metadata": {},
   "outputs": [
    {
     "name": "stdout",
     "output_type": "stream",
     "text": [
      "[ 0.          6.88156669  4.18125175  2.41009525  1.1745072   0.19991375\n",
      " -0.73025963 -1.82271621 -3.32022229  0.        ]\n"
     ]
    }
   ],
   "source": [
    "pi = np.zeros((n,2))+0.5 #equiprobable policy, action left is 0 and action right is 1\n",
    "print(gridworld_1D_policy_eval(n,theta,gamma,pi))"
   ]
  },
  {
   "cell_type": "code",
   "execution_count": 5,
   "metadata": {},
   "outputs": [],
   "source": [
    "def gridworld_1D(n, theta, gamma):\n",
    "    pi = np.zeros((n,2))+0.5 #we start with equiprobable policy\n",
    "    policy_stable = True\n",
    "    \n",
    "    while policy_stable: # In this implementation policy stable = false means actually the opposite\n",
    "        state_vals = gridworld_1D_policy_eval(n,theta,gamma, pi) #evaluation step\n",
    "        for s in range(1, n-1):\n",
    "            v = state_vals[s]\n",
    "            old_action = pi[s][0] #if we change one probability we also have to change the other one accordingly\n",
    "            if s == 1:            #so we only have to check if one changed\n",
    "                if (10 + gamma*state_vals[s-1] >= gamma*state_vals[s+1]):\n",
    "                    pi[s][0] = 1\n",
    "                    pi[s][1] = 0\n",
    "                else:\n",
    "                    pi[s][0] = 0\n",
    "                    pi[s][1] = 1\n",
    "                    \n",
    "            elif s == n-2:\n",
    "                if (gamma*state_vals[s-1] >= gamma*state_vals[s+1]- 5):\n",
    "                    pi[s][0] = 1\n",
    "                    pi[s][1] = 0\n",
    "                else:\n",
    "                    pi[s][0] = 0\n",
    "                    pi[s][1] = 1\n",
    "                    \n",
    "            else:\n",
    "                if (gamma*state_vals[s-1] >= gamma*state_vals[s+1]):\n",
    "                    pi[s][0] = 1\n",
    "                    pi[s][1] = 0\n",
    "                else:\n",
    "                    pi[s][0] = 0\n",
    "                    pi[s][1] = 1\n",
    "            if old_action == pi[s][0]:\n",
    "                policy_stable = False\n",
    "                \n",
    "    return pi"
   ]
  },
  {
   "cell_type": "code",
   "execution_count": 6,
   "metadata": {},
   "outputs": [
    {
     "name": "stdout",
     "output_type": "stream",
     "text": [
      "[[1. 0.]\n",
      " [1. 0.]\n",
      " [1. 0.]\n",
      " [1. 0.]\n",
      " [1. 0.]\n",
      " [1. 0.]\n",
      " [1. 0.]\n",
      " [1. 0.]]\n"
     ]
    }
   ],
   "source": [
    "print(gridworld_1D(n, theta, gamma)[1:n-1])"
   ]
  }
 ],
 "metadata": {
  "kernelspec": {
   "display_name": "Python 3",
   "language": "python",
   "name": "python3"
  },
  "language_info": {
   "codemirror_mode": {
    "name": "ipython",
    "version": 3
   },
   "file_extension": ".py",
   "mimetype": "text/x-python",
   "name": "python",
   "nbconvert_exporter": "python",
   "pygments_lexer": "ipython3",
   "version": "3.7.9"
  }
 },
 "nbformat": 4,
 "nbformat_minor": 4
}
