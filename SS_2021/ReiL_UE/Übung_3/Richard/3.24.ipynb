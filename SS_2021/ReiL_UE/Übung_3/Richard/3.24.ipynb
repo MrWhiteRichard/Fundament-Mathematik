{
 "metadata": {
  "language_info": {
   "codemirror_mode": {
    "name": "ipython",
    "version": 3
   },
   "file_extension": ".py",
   "mimetype": "text/x-python",
   "name": "python",
   "nbconvert_exporter": "python",
   "pygments_lexer": "ipython3",
   "version": "3.9.2"
  },
  "orig_nbformat": 2,
  "kernelspec": {
   "name": "python392jvsc74a57bd029dd0665073eae84ffe5a7687a8a9c5d424813438214318fcc694af1c42e9e2c",
   "display_name": "Python 3.9.2 64-bit"
  },
  "metadata": {
   "interpreter": {
    "hash": "29dd0665073eae84ffe5a7687a8a9c5d424813438214318fcc694af1c42e9e2c"
   }
  }
 },
 "nbformat": 4,
 "nbformat_minor": 2,
 "cells": [
  {
   "source": [
    "Consider the following one-dimensional \"gridworld\":\n",
    "You are on a route consisting of $10$ states.\n",
    "The state on the left side is a terminal state with a reward of $+10$ and the state on the right is also a terminal state width a reward of $-5$.\n",
    "You can move left and right."
   ],
   "cell_type": "markdown",
   "metadata": {}
  },
  {
   "cell_type": "code",
   "execution_count": 1,
   "metadata": {},
   "outputs": [],
   "source": [
    "import numpy as np\n",
    "from fractions import Fraction\n",
    "import itertools"
   ]
  },
  {
   "cell_type": "code",
   "execution_count": 2,
   "metadata": {},
   "outputs": [],
   "source": [
    "states = set(np.arange(10))\n",
    "states_terminal = {0, 9}\n",
    "\n",
    "actions = {s: {'left', 'right'} for s in states}\n",
    "for s in states_terminal:\n",
    "    actions[s] = {}\n",
    "\n",
    "rewards = {0, 10, -5}\n",
    "\n",
    "def p(s_prime, r, s, a):\n",
    "\n",
    "    if (s_prime, r, s, a) in {\n",
    "        (2,  0, 1, 'right'),\n",
    "        (3,  0, 2, 'right'),\n",
    "        (4,  0, 3, 'right'),\n",
    "        (5,  0, 4, 'right'),\n",
    "        (6,  0, 5, 'right'),\n",
    "        (7,  0, 6, 'right'),\n",
    "        (8,  0, 7, 'right'),\n",
    "        (9, -5, 8, 'right'),\n",
    "        (7,  0, 8, 'left'),\n",
    "        (6,  0, 7, 'left'),\n",
    "        (5,  0, 6, 'left'),\n",
    "        (4,  0, 5, 'left'),\n",
    "        (3,  0, 4, 'left'),\n",
    "        (2,  0, 3, 'left'),\n",
    "        (1,  0, 2, 'left'),\n",
    "        (0, 10, 1, 'left')\n",
    "    }:\n",
    "        return 1\n",
    "    else:\n",
    "        return 0"
   ]
  },
  {
   "source": [
    "Write an implementation of Dynamic Programming for estimating the values of the above states under the equiprobable random policy."
   ],
   "cell_type": "markdown",
   "metadata": {}
  },
  {
   "cell_type": "code",
   "execution_count": 3,
   "metadata": {},
   "outputs": [],
   "source": [
    "def initialization():\n",
    "\n",
    "    V = {s: np.random.random() for s in states}\n",
    "\n",
    "    for s in states_terminal:\n",
    "        V[s] = 0\n",
    "\n",
    "    pi = {s: {a: np.random.random() for a in actions[s]} for s in states}\n",
    "\n",
    "    for s, pi_s in pi.items():\n",
    "\n",
    "        sum_evaluated = sum(pi_s.values())\n",
    "\n",
    "        for a in pi_s.keys():\n",
    "            pi[s][a] /= sum_evaluated\n",
    "\n",
    "    return V, pi"
   ]
  },
  {
   "cell_type": "code",
   "execution_count": 4,
   "metadata": {},
   "outputs": [],
   "source": [
    "def iterative_policy_evaluation(V = None, pi = None, gamma = 1, theta = 1e-6, debug = False):\n",
    "\n",
    "    if V == None:\n",
    "        V, _ = initialization()\n",
    "\n",
    "    assert pi != None\n",
    "\n",
    "    Delta = np.infty\n",
    "\n",
    "    if debug:\n",
    "        run = 0\n",
    "\n",
    "    while not Delta < theta:\n",
    "\n",
    "        Delta = 0\n",
    "\n",
    "        for s in states:\n",
    "\n",
    "            v = V[s]\n",
    "\n",
    "            V[s] = sum([\n",
    "                pi[s][a] * sum([\n",
    "                    p(s_prime, r, s, a) * (r + gamma * V[s_prime])\n",
    "                    for s_prime, r in itertools.product(states, rewards)\n",
    "                ])\n",
    "                for a in actions[s]\n",
    "            ])\n",
    "\n",
    "            Delta = max(Delta, abs(v - V[s]))\n",
    "\n",
    "    return V"
   ]
  },
  {
   "cell_type": "code",
   "execution_count": 5,
   "metadata": {},
   "outputs": [],
   "source": [
    "pi = {s: {a: 0.5 for a in actions[s]} for s in states}\n",
    "\n",
    "V = iterative_policy_evaluation(pi = pi)"
   ]
  },
  {
   "cell_type": "code",
   "execution_count": 34,
   "metadata": {},
   "outputs": [
    {
     "output_type": "stream",
     "name": "stdout",
     "text": [
      "V(0) = 0\nV(1) = 10\nV(2) = 5\nV(3) = 5/2\nV(4) = 5/4\nV(5) = 5/8\nV(6) = 5/16\nV(7) = 5/32\nV(8) = 5/64\nV(9) = 0\n"
     ]
    }
   ],
   "source": [
    "for s, V_s in V.items():\n",
    "\n",
    "    print(\n",
    "        f'V({s}) =',\n",
    "        str(\n",
    "            Fraction(V_s).limit_denominator(max_denominator = 10_000)\n",
    "        )\n",
    "    )"
   ]
  },
  {
   "source": [
    "Then use policy improvement to find the optimal policy."
   ],
   "cell_type": "markdown",
   "metadata": {}
  },
  {
   "cell_type": "code",
   "execution_count": 7,
   "metadata": {},
   "outputs": [],
   "source": [
    "def argsmax(A):\n",
    "\n",
    "    if type(A) == dict:\n",
    "        return {i for i, a in A.items() if a == max(A.values())}\n",
    "\n",
    "    if type(A) == list:\n",
    "        return argsmax(dict(enumerate(A)))\n",
    "\n",
    "    return None"
   ]
  },
  {
   "cell_type": "code",
   "execution_count": 8,
   "metadata": {},
   "outputs": [],
   "source": [
    "def policy_improvement(V, pi, gamma = 1, debug = False):\n",
    "\n",
    "    policy_stable = True\n",
    "\n",
    "    for s in states:\n",
    "        if s not in states_terminal:\n",
    "\n",
    "            old_actions = pi[s]\n",
    "\n",
    "            q_s = {\n",
    "                a: sum([\n",
    "                    p(s_prime, r, s, a) * (r + gamma * V[s_prime])\n",
    "                    for s_prime, r in itertools.product(states, rewards)\n",
    "                ])\n",
    "                for a in actions[s]\n",
    "            }\n",
    "            actions_max = argsmax(q_s)\n",
    "\n",
    "            pi[s] = {a: 0 for a in actions[s]}\n",
    "\n",
    "            for a in actions_max:\n",
    "                pi[s][a] = 1 / len(actions_max)\n",
    "\n",
    "            if old_actions != pi[s]:\n",
    "                policy_stable = False\n",
    "\n",
    "    return pi, policy_stable"
   ]
  },
  {
   "cell_type": "code",
   "execution_count": 18,
   "metadata": {},
   "outputs": [],
   "source": [
    "def policy_iteration(gamma = 1, theta = 1e-6, debug = False):\n",
    "\n",
    "    V, pi = initialization()\n",
    "\n",
    "    policy_stable = False\n",
    "\n",
    "    if debug:\n",
    "        run = 0\n",
    "\n",
    "    while not policy_stable:\n",
    "\n",
    "        if debug:\n",
    "            print(f'run = {run} ...')\n",
    "            run += 1\n",
    "\n",
    "        V = iterative_policy_evaluation(V = V, pi = pi, gamma = gamma, theta = 1e-6)\n",
    "        if debug:\n",
    "            print(f'V = {V}')\n",
    "\n",
    "        pi, policy_stable = policy_improvement(V, pi, gamma = gamma)\n",
    "        if debug:\n",
    "            print(f'pi = {pi}')\n",
    "            print(f'policy_stable = {policy_stable}')\n",
    "            print()\n",
    "\n",
    "    return V, pi"
   ]
  },
  {
   "cell_type": "code",
   "execution_count": 43,
   "metadata": {
    "tags": []
   },
   "outputs": [
    {
     "output_type": "stream",
     "name": "stdout",
     "text": [
      "# ---------------------------------------------------------------- # \n\ngamma = 0 ... \n\nV_ast =\n"
     ]
    },
    {
     "output_type": "display_data",
     "data": {
      "text/plain": "{0: 0, 1: 10.0, 2: 0.0, 3: 0.0, 4: 0.0, 5: 0.0, 6: 0.0, 7: 0.0, 8: 0.0, 9: 0}"
     },
     "metadata": {}
    },
    {
     "output_type": "stream",
     "name": "stdout",
     "text": [
      "pi_ast =\n"
     ]
    },
    {
     "output_type": "display_data",
     "data": {
      "text/plain": "{0: {},\n 1: {'right': 0, 'left': 1.0},\n 2: {'right': 0.5, 'left': 0.5},\n 3: {'right': 0.5, 'left': 0.5},\n 4: {'right': 0.5, 'left': 0.5},\n 5: {'right': 0.5, 'left': 0.5},\n 6: {'right': 0.5, 'left': 0.5},\n 7: {'right': 0.5, 'left': 0.5},\n 8: {'right': 0, 'left': 1.0},\n 9: {}}"
     },
     "metadata": {}
    },
    {
     "output_type": "stream",
     "name": "stdout",
     "text": [
      "# ---------------------------------------------------------------- # \n\ngamma = 0.1 ... \n\nV_ast =\n"
     ]
    },
    {
     "output_type": "display_data",
     "data": {
      "text/plain": "{0: 0,\n 1: 10.0,\n 2: 1.0,\n 3: 0.1,\n 4: 0.010000000000000002,\n 5: 0.0010000000000000002,\n 6: 0.00010000000000000003,\n 7: 1.0000000000000004e-05,\n 8: 1.0000000000000004e-06,\n 9: 0}"
     },
     "metadata": {}
    },
    {
     "output_type": "stream",
     "name": "stdout",
     "text": [
      "pi_ast =\n"
     ]
    },
    {
     "output_type": "display_data",
     "data": {
      "text/plain": "{0: {},\n 1: {'right': 0, 'left': 1.0},\n 2: {'right': 0, 'left': 1.0},\n 3: {'right': 0, 'left': 1.0},\n 4: {'right': 0, 'left': 1.0},\n 5: {'right': 0, 'left': 1.0},\n 6: {'right': 0, 'left': 1.0},\n 7: {'right': 0, 'left': 1.0},\n 8: {'right': 0, 'left': 1.0},\n 9: {}}"
     },
     "metadata": {}
    },
    {
     "output_type": "stream",
     "name": "stdout",
     "text": [
      "# ---------------------------------------------------------------- # \n\ngamma = 0.5 ... \n\nV_ast =\n"
     ]
    },
    {
     "output_type": "display_data",
     "data": {
      "text/plain": "{0: 0,\n 1: 10.0,\n 2: 5.0,\n 3: 2.5,\n 4: 1.25,\n 5: 0.625,\n 6: 0.3125,\n 7: 0.15625,\n 8: 0.078125,\n 9: 0}"
     },
     "metadata": {}
    },
    {
     "output_type": "stream",
     "name": "stdout",
     "text": [
      "pi_ast =\n"
     ]
    },
    {
     "output_type": "display_data",
     "data": {
      "text/plain": "{0: {},\n 1: {'right': 0, 'left': 1.0},\n 2: {'right': 0, 'left': 1.0},\n 3: {'right': 0, 'left': 1.0},\n 4: {'right': 0, 'left': 1.0},\n 5: {'right': 0, 'left': 1.0},\n 6: {'right': 0, 'left': 1.0},\n 7: {'right': 0, 'left': 1.0},\n 8: {'right': 0, 'left': 1.0},\n 9: {}}"
     },
     "metadata": {}
    },
    {
     "output_type": "stream",
     "name": "stdout",
     "text": [
      "# ---------------------------------------------------------------- # \n\ngamma = 0.9 ... \n\nV_ast =\n"
     ]
    },
    {
     "output_type": "display_data",
     "data": {
      "text/plain": "{0: 0,\n 1: 10.0,\n 2: 9.0,\n 3: 8.1,\n 4: 7.29,\n 5: 6.561,\n 6: 5.9049000000000005,\n 7: 5.3144100000000005,\n 8: 4.7829690000000005,\n 9: 0}"
     },
     "metadata": {}
    },
    {
     "output_type": "stream",
     "name": "stdout",
     "text": [
      "pi_ast =\n"
     ]
    },
    {
     "output_type": "display_data",
     "data": {
      "text/plain": "{0: {},\n 1: {'right': 0, 'left': 1.0},\n 2: {'right': 0, 'left': 1.0},\n 3: {'right': 0, 'left': 1.0},\n 4: {'right': 0, 'left': 1.0},\n 5: {'right': 0, 'left': 1.0},\n 6: {'right': 0, 'left': 1.0},\n 7: {'right': 0, 'left': 1.0},\n 8: {'right': 0, 'left': 1.0},\n 9: {}}"
     },
     "metadata": {}
    },
    {
     "output_type": "stream",
     "name": "stdout",
     "text": [
      "# ---------------------------------------------------------------- # \n",
      "\n",
      "gamma = 1 ... \n",
      "\n",
      "V_ast =\n"
     ]
    },
    {
     "output_type": "display_data",
     "data": {
      "text/plain": "{0: 0,\n 1: 10.0,\n 2: 10.0,\n 3: 10.0,\n 4: 10.0,\n 5: 10.0,\n 6: 10.0,\n 7: 10.0,\n 8: 10.0,\n 9: 0}"
     },
     "metadata": {}
    },
    {
     "output_type": "stream",
     "name": "stdout",
     "text": [
      "pi_ast =\n"
     ]
    },
    {
     "output_type": "display_data",
     "data": {
      "text/plain": "{0: {},\n 1: {'right': 0.5, 'left': 0.5},\n 2: {'right': 0.5, 'left': 0.5},\n 3: {'right': 0.5, 'left': 0.5},\n 4: {'right': 0.5, 'left': 0.5},\n 5: {'right': 0.5, 'left': 0.5},\n 6: {'right': 0.5, 'left': 0.5},\n 7: {'right': 0.5, 'left': 0.5},\n 8: {'right': 0, 'left': 1.0},\n 9: {}}"
     },
     "metadata": {}
    },
    {
     "output_type": "stream",
     "name": "stdout",
     "text": [
      "# ---------------------------------------------------------------- #\n"
     ]
    }
   ],
   "source": [
    "for gamma in [0, 0.1, 0.5, 0.9, 1]:\n",
    "\n",
    "    print('#', '-'*64, '#', '\\n')\n",
    "    print(f'gamma = {gamma} ...', '\\n')\n",
    "\n",
    "    V_ast, pi_ast = policy_iteration(gamma = gamma)\n",
    "\n",
    "    print('V_ast =')\n",
    "    display(V_ast)\n",
    "\n",
    "    print('pi_ast =')\n",
    "    display(pi_ast)\n",
    "\n",
    "print('#', '-'*64, '#')"
   ]
  }
 ]
}