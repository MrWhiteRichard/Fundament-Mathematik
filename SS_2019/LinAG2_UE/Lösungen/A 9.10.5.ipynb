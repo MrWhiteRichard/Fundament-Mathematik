{
 "cells": [
  {
   "cell_type": "code",
   "execution_count": 13,
   "metadata": {},
   "outputs": [],
   "source": [
    "from sympy.interactive import printing\n",
    "printing.init_printing(use_latex = True)\n",
    "\n",
    "import numpy as np\n",
    "import sympy as sp"
   ]
  },
  {
   "cell_type": "code",
   "execution_count": 14,
   "metadata": {},
   "outputs": [
    {
     "data": {
      "text/latex": [
       "$$\\left[\\begin{matrix}1 & 0 & - 1.0 i\\\\0 & 1 & 0\\\\1.0 i & 0 & 2\\end{matrix}\\right]$$"
      ],
      "text/plain": [
       "⎡  1    0  -1.0⋅ⅈ⎤\n",
       "⎢                ⎥\n",
       "⎢  0    1    0   ⎥\n",
       "⎢                ⎥\n",
       "⎣1.0⋅ⅈ  0    2   ⎦"
      ]
     },
     "metadata": {},
     "output_type": "display_data"
    }
   ],
   "source": [
    "A = sp.Matrix([[1, 0, -1j], [0, 1, 0], [1j, 0, 2]])\n",
    "display(A)"
   ]
  },
  {
   "cell_type": "code",
   "execution_count": 15,
   "metadata": {},
   "outputs": [
    {
     "data": {
      "text/latex": [
       "$$\\left[\\begin{matrix}1 & 0 & 1.0 i\\\\0 & 1 & 0\\\\0 & 0 & 1\\end{matrix}\\right]$$"
      ],
      "text/plain": [
       "⎡1  0  1.0⋅ⅈ⎤\n",
       "⎢           ⎥\n",
       "⎢0  1    0  ⎥\n",
       "⎢           ⎥\n",
       "⎣0  0    1  ⎦"
      ]
     },
     "metadata": {},
     "output_type": "display_data"
    }
   ],
   "source": [
    "T = sp.Matrix([[1, 0, 1j], [0, 1, 0], [0, 0, 1]])\n",
    "display(T)"
   ]
  },
  {
   "cell_type": "code",
   "execution_count": 16,
   "metadata": {
    "scrolled": true
   },
   "outputs": [
    {
     "data": {
      "text/latex": [
       "$$\\left[\\begin{matrix}1 & 0 & 0\\\\0 & 1 & 0\\\\0 & 0 & 1.0\\end{matrix}\\right]$$"
      ],
      "text/plain": [
       "⎡1  0   0 ⎤\n",
       "⎢         ⎥\n",
       "⎢0  1   0 ⎥\n",
       "⎢         ⎥\n",
       "⎣0  0  1.0⎦"
      ]
     },
     "metadata": {},
     "output_type": "display_data"
    }
   ],
   "source": [
    "display(\n",
    "    sp.transpose(sp.conjugate(T))*A*T\n",
    ")"
   ]
  },
  {
   "cell_type": "code",
   "execution_count": 17,
   "metadata": {},
   "outputs": [
    {
     "data": {
      "text/latex": [
       "$$\\left[\\begin{matrix}1 & 0 & - 1.0 i\\\\0 & 1 & 0\\\\1.0 i & 0 & 2.0\\end{matrix}\\right]$$"
      ],
      "text/plain": [
       "⎡  1    0  -1.0⋅ⅈ⎤\n",
       "⎢                ⎥\n",
       "⎢  0    1    0   ⎥\n",
       "⎢                ⎥\n",
       "⎣1.0⋅ⅈ  0   2.0  ⎦"
      ]
     },
     "metadata": {},
     "output_type": "display_data"
    }
   ],
   "source": [
    "P = T.inv()\n",
    "\n",
    "display(\n",
    "    sp.transpose(sp.conjugate(P))*P\n",
    ")"
   ]
  }
 ],
 "metadata": {
  "kernelspec": {
   "display_name": "Python 3",
   "language": "python",
   "name": "python3"
  },
  "language_info": {
   "codemirror_mode": {
    "name": "ipython",
    "version": 3
   },
   "file_extension": ".py",
   "mimetype": "text/x-python",
   "name": "python",
   "nbconvert_exporter": "python",
   "pygments_lexer": "ipython3",
   "version": "3.7.3"
  }
 },
 "nbformat": 4,
 "nbformat_minor": 2
}
