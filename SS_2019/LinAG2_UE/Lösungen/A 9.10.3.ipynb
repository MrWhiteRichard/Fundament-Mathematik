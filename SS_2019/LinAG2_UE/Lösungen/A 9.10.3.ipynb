{
 "cells": [
  {
   "cell_type": "code",
   "execution_count": 36,
   "metadata": {},
   "outputs": [],
   "source": [
    "from sympy.interactive import printing\n",
    "printing.init_printing(use_latex = True)\n",
    "\n",
    "import numpy as np\n",
    "import sympy as sp"
   ]
  },
  {
   "cell_type": "code",
   "execution_count": 37,
   "metadata": {},
   "outputs": [
    {
     "data": {
      "text/latex": [
       "$$\\left[\\begin{matrix}0 & 1.0 i & 2.0 i\\\\- 1.0 i & 0 & - 1.0 i\\\\- 2.0 i & 1.0 i & 0\\end{matrix}\\right]$$"
      ],
      "text/plain": [
       "⎡  0     1.0⋅ⅈ  2.0⋅ⅈ ⎤\n",
       "⎢                     ⎥\n",
       "⎢-1.0⋅ⅈ    0    -1.0⋅ⅈ⎥\n",
       "⎢                     ⎥\n",
       "⎣-2.0⋅ⅈ  1.0⋅ⅈ    0   ⎦"
      ]
     },
     "metadata": {},
     "output_type": "display_data"
    }
   ],
   "source": [
    "A = sp.Matrix([[0, 1j, 2j], [-1j, 0, -1j], [-2j, 1j, 0]])\n",
    "display(A)"
   ]
  },
  {
   "cell_type": "code",
   "execution_count": 38,
   "metadata": {},
   "outputs": [
    {
     "data": {
      "text/latex": [
       "$$\\left[\\begin{matrix}0.5 & 1.0 i & -1\\\\1 & 0 & -2\\\\0 & 0 & 1\\end{matrix}\\right]$$"
      ],
      "text/plain": [
       "⎡0.5  1.0⋅ⅈ  -1⎤\n",
       "⎢              ⎥\n",
       "⎢ 1     0    -2⎥\n",
       "⎢              ⎥\n",
       "⎣ 0     0    1 ⎦"
      ]
     },
     "metadata": {},
     "output_type": "display_data"
    }
   ],
   "source": [
    "P = sp.Matrix([[1/2, 1j, -1], [1, 0, -2], [0, 0, 1]])\n",
    "display(P)"
   ]
  },
  {
   "cell_type": "code",
   "execution_count": 39,
   "metadata": {
    "scrolled": true
   },
   "outputs": [
    {
     "data": {
      "text/latex": [
       "$$\\left[\\begin{matrix}0 & 1.0 & 0\\\\-1.0 & 0 & 0\\\\0 & 0 & 0\\end{matrix}\\right]$$"
      ],
      "text/plain": [
       "⎡ 0    1.0  0⎤\n",
       "⎢            ⎥\n",
       "⎢-1.0   0   0⎥\n",
       "⎢            ⎥\n",
       "⎣ 0     0   0⎦"
      ]
     },
     "metadata": {},
     "output_type": "display_data"
    }
   ],
   "source": [
    "display(\n",
    "    sp.transpose(P)*A*P\n",
    ")"
   ]
  },
  {
   "cell_type": "code",
   "execution_count": 77,
   "metadata": {},
   "outputs": [
    {
     "data": {
      "text/latex": [
       "$$\\left[\\begin{matrix}0.353553390593274 + 0.707106781186547 i & -0.707106781186547 - 0.353553390593274 i & -1\\\\0.707106781186547 & - 0.707106781186547 i & -2\\\\0 & 0 & 1\\end{matrix}\\right]$$"
      ],
      "text/plain": [
       "⎡0.353553390593274 + 0.707106781186547⋅ⅈ  -0.707106781186547 - 0.3535533905932\n",
       "⎢                                                                             \n",
       "⎢           0.707106781186547                       -0.707106781186547⋅ⅈ      \n",
       "⎢                                                                             \n",
       "⎣                   0                                        0                \n",
       "\n",
       "74⋅ⅈ  -1⎤\n",
       "        ⎥\n",
       "      -2⎥\n",
       "        ⎥\n",
       "      1 ⎦"
      ]
     },
     "metadata": {},
     "output_type": "display_data"
    }
   ],
   "source": [
    "x = 1/2**(1/2)\n",
    "Q = sp.Matrix([[x**3 + x*1j, -x - x**3 * 1j, -1], [x, -x*1j, -2], [0, 0, 1]])\n",
    "display(Q)"
   ]
  },
  {
   "cell_type": "code",
   "execution_count": 78,
   "metadata": {},
   "outputs": [
    {
     "data": {
      "text/latex": [
       "$$\\left[\\begin{matrix}1.0 & 0 & 0\\\\0 & -1.0 & 0\\\\0 & 0 & 0\\end{matrix}\\right]$$"
      ],
      "text/plain": [
       "⎡1.0   0    0⎤\n",
       "⎢            ⎥\n",
       "⎢ 0   -1.0  0⎥\n",
       "⎢            ⎥\n",
       "⎣ 0    0    0⎦"
      ]
     },
     "metadata": {},
     "output_type": "display_data"
    }
   ],
   "source": [
    "display(\n",
    "    sp.simplify(sp.transpose(sp.conjugate(Q))*A*Q)\n",
    ")"
   ]
  },
  {
   "cell_type": "code",
   "execution_count": null,
   "metadata": {},
   "outputs": [],
   "source": []
  }
 ],
 "metadata": {
  "kernelspec": {
   "display_name": "Python 3",
   "language": "python",
   "name": "python3"
  },
  "language_info": {
   "codemirror_mode": {
    "name": "ipython",
    "version": 3
   },
   "file_extension": ".py",
   "mimetype": "text/x-python",
   "name": "python",
   "nbconvert_exporter": "python",
   "pygments_lexer": "ipython3",
   "version": "3.7.3"
  }
 },
 "nbformat": 4,
 "nbformat_minor": 2
}
