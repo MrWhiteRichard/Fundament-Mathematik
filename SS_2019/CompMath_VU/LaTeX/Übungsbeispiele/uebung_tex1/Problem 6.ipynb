{
 "cells": [
  {
   "cell_type": "code",
   "execution_count": 8,
   "metadata": {},
   "outputs": [],
   "source": [
    "from sympy.interactive import printing\n",
    "printing.init_printing(use_latex = True)\n",
    "\n",
    "import numpy as np\n",
    "import sympy as sp\n",
    "\n",
    "n = 4\n",
    "x = sp.IndexedBase('x')\n",
    "V = sp.Matrix(n, n, lambda i, j: x[i+1]**j)"
   ]
  },
  {
   "cell_type": "code",
   "execution_count": 9,
   "metadata": {},
   "outputs": [
    {
     "data": {
      "text/plain": [
       "'{x}_{1}^{3} {x}_{2}^{2} {x}_{3} - {x}_{1}^{3} {x}_{2}^{2} {x}_{4} - {x}_{1}^{3} {x}_{2} {x}_{3}^{2} + {x}_{1}^{3} {x}_{2} {x}_{4}^{2} + {x}_{1}^{3} {x}_{3}^{2} {x}_{4} - {x}_{1}^{3} {x}_{3} {x}_{4}^{2} - {x}_{1}^{2} {x}_{2}^{3} {x}_{3} + {x}_{1}^{2} {x}_{2}^{3} {x}_{4} + {x}_{1}^{2} {x}_{2} {x}_{3}^{3} - {x}_{1}^{2} {x}_{2} {x}_{4}^{3} - {x}_{1}^{2} {x}_{3}^{3} {x}_{4} + {x}_{1}^{2} {x}_{3} {x}_{4}^{3} + {x}_{1} {x}_{2}^{3} {x}_{3}^{2} - {x}_{1} {x}_{2}^{3} {x}_{4}^{2} - {x}_{1} {x}_{2}^{2} {x}_{3}^{3} + {x}_{1} {x}_{2}^{2} {x}_{4}^{3} + {x}_{1} {x}_{3}^{3} {x}_{4}^{2} - {x}_{1} {x}_{3}^{2} {x}_{4}^{3} - {x}_{2}^{3} {x}_{3}^{2} {x}_{4} + {x}_{2}^{3} {x}_{3} {x}_{4}^{2} + {x}_{2}^{2} {x}_{3}^{3} {x}_{4} - {x}_{2}^{2} {x}_{3} {x}_{4}^{3} - {x}_{2} {x}_{3}^{3} {x}_{4}^{2} + {x}_{2} {x}_{3}^{2} {x}_{4}^{3}'"
      ]
     },
     "metadata": {},
     "output_type": "display_data"
    }
   ],
   "source": [
    "d = V.det()\n",
    "d = sp.simplify(d)\n",
    "\n",
    "display(sp.latex(d))"
   ]
  },
  {
   "cell_type": "code",
   "execution_count": 10,
   "metadata": {},
   "outputs": [
    {
     "data": {
      "text/latex": [
       "$\\displaystyle \\left[\\begin{matrix}1 & {x}_{1} & {x}_{1}^{2} & {x}_{1}^{3}\\\\1 & {x}_{2} & {x}_{2}^{2} & {x}_{2}^{3}\\\\1 & {x}_{3} & {x}_{3}^{2} & {x}_{3}^{3}\\\\1 & {x}_{4} & {x}_{4}^{2} & {x}_{4}^{3}\\end{matrix}\\right]$"
      ],
      "text/plain": [
       "⎡             2      3⎤\n",
       "⎢1  x[1]  x[1]   x[1] ⎥\n",
       "⎢                     ⎥\n",
       "⎢             2      3⎥\n",
       "⎢1  x[2]  x[2]   x[2] ⎥\n",
       "⎢                     ⎥\n",
       "⎢             2      3⎥\n",
       "⎢1  x[3]  x[3]   x[3] ⎥\n",
       "⎢                     ⎥\n",
       "⎢             2      3⎥\n",
       "⎣1  x[4]  x[4]   x[4] ⎦"
      ]
     },
     "metadata": {},
     "output_type": "display_data"
    }
   ],
   "source": [
    "display(V)"
   ]
  },
  {
   "cell_type": "code",
   "execution_count": 7,
   "metadata": {},
   "outputs": [
    {
     "data": {
      "image/png": "[encoded data removed]",
      "text/latex": [
       "$\\displaystyle \\left({x}_{1} - {x}_{2}\\right) \\left({x}_{1} - {x}_{3}\\right) \\left({x}_{1} - {x}_{4}\\right) \\left({x}_{2} - {x}_{3}\\right) \\left({x}_{2} - {x}_{4}\\right) \\left({x}_{3} - {x}_{4}\\right)$"
      ],
      "text/plain": [
       "(x[1] - x[2])⋅(x[1] - x[3])⋅(x[1] - x[4])⋅(x[2] - x[3])⋅(x[2] - x[4])⋅(x[3] - \n",
       "x[4])"
      ]
     },
     "metadata": {},
     "output_type": "display_data"
    },
    {
     "data": {
      "text/plain": [
       "'\\\\left({x}_{1} - {x}_{2}\\\\right) \\\\left({x}_{1} - {x}_{3}\\\\right) \\\\left({x}_{1} - {x}_{4}\\\\right) \\\\left({x}_{2} - {x}_{3}\\\\right) \\\\left({x}_{2} - {x}_{4}\\\\right) \\\\left({x}_{3} - {x}_{4}\\\\right)'"
      ]
     },
     "metadata": {},
     "output_type": "display_data"
    }
   ],
   "source": [
    "d = V.det()\n",
    "d = sp.simplify(d)\n",
    "d = sp.factor(d)\n",
    "\n",
    "display(d)\n",
    "display(sp.latex(d))"
   ]
  }
 ],
 "metadata": {
  "kernelspec": {
   "display_name": "Python 3",
   "language": "python",
   "name": "python3"
  },
  "language_info": {
   "codemirror_mode": {
    "name": "ipython",
    "version": 3
   },
   "file_extension": ".py",
   "mimetype": "text/x-python",
   "name": "python",
   "nbconvert_exporter": "python",
   "pygments_lexer": "ipython3",
   "version": "3.7.3"
  }
 },
 "nbformat": 4,
 "nbformat_minor": 2
}
