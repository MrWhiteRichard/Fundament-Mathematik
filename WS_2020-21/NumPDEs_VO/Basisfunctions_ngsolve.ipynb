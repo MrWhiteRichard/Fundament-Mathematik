{
 "cells": [
  {
   "cell_type": "markdown",
   "metadata": {},
   "source": [
    "# High Order Basis Functions"
   ]
  },
  {
   "cell_type": "code",
   "execution_count": 1,
   "metadata": {},
   "outputs": [
    {
     "name": "stdout",
     "output_type": "stream",
     "text": [
      "number vertices: 20\n",
      "number edges: 45\n",
      "number elements: 26\n"
     ]
    },
    {
     "data": {
      "application/vnd.jupyter.widget-view+json": {
       "model_id": "6e113c2844c340e485797a5c8c412fac",
       "version_major": 2,
       "version_minor": 0
      },
      "text/plain": [
       "NGSWebGuiWidget(value={'ngsolve_version': '6.2.2009-14-g847138235', 'mesh_dim': 2, 'order2d': 1, 'order3d': 1,…"
      ]
     },
     "metadata": {},
     "output_type": "display_data"
    },
    {
     "data": {
      "text/plain": []
     },
     "execution_count": 1,
     "metadata": {},
     "output_type": "execute_result"
    }
   ],
   "source": [
    "from ngsolve import *\n",
    "from ngsolve.webgui import Draw\n",
    "from netgen.geom2d import CSG2d, Circle\n",
    "\n",
    "\n",
    "circle = Circle( center=(0,0), radius=1, bc=\"bc_circle\" )\n",
    "geo = CSG2d()\n",
    "geo.Add(circle)\n",
    "mesh = Mesh(geo.GenerateMesh(maxh=0.5))\n",
    "\n",
    "nv=mesh.nv\n",
    "ned=mesh.nedge\n",
    "nel=mesh.ne\n",
    "\n",
    "print(\"number vertices:\", nv)\n",
    "print(\"number edges:\", ned)\n",
    "print(\"number elements:\", nel)\n",
    "\n",
    "Draw(mesh)"
   ]
  },
  {
   "cell_type": "code",
   "execution_count": 9,
   "metadata": {},
   "outputs": [
    {
     "name": "stdout",
     "output_type": "stream",
     "text": [
      "total dofs: 136\n",
      "vertices dofs: 0 -  19\n",
      "edge dofs:  20  -  109\n",
      "element dofs:  110  -  135\n"
     ]
    }
   ],
   "source": [
    "p=3\n",
    "fes = H1(mesh, order=p)\n",
    "\n",
    "ndof=fes.ndof\n",
    "print(\"total dofs:\", ndof)\n",
    "\n",
    "nv_dofs=nv\n",
    "ned_dofs=(p-1)*ned\n",
    "nel_dofs=int((p-1)*(p-2)/2*nel)\n",
    "\n",
    "print(\"vertices dofs: 0 - \", nv_dofs-1)\n",
    "print(\"edge dofs: \", nv_dofs , \" - \", nv_dofs+ned_dofs-1)\n",
    "print(\"element dofs: \",nv_dofs+ned_dofs , \" - \",nv_dofs+ned_dofs+nel_dofs-1)"
   ]
  },
  {
   "cell_type": "code",
   "execution_count": 12,
   "metadata": {},
   "outputs": [
    {
     "data": {
      "application/vnd.jupyter.widget-view+json": {
       "model_id": "33eb9ac032f4462692e042408107189c",
       "version_major": 2,
       "version_minor": 0
      },
      "text/plain": [
       "NGSWebGuiWidget(value={'ngsolve_version': '6.2.2009-14-g847138235', 'mesh_dim': 2, 'order2d': 3, 'order3d': 2,…"
      ]
     },
     "metadata": {},
     "output_type": "display_data"
    },
    {
     "data": {
      "text/plain": []
     },
     "execution_count": 12,
     "metadata": {},
     "output_type": "execute_result"
    }
   ],
   "source": [
    "#mesh.Curve(p)\n",
    "gfu = GridFunction(fes,multidim=ndof)\n",
    "for i in range(ndof):\n",
    "    uvec=gfu.vecs[i]    \n",
    "    uvec[i]=10\n",
    "\n",
    "Draw(gfu,order=p)"
   ]
  },
  {
   "cell_type": "code",
   "execution_count": null,
   "metadata": {},
   "outputs": [],
   "source": []
  }
 ],
 "metadata": {
  "kernelspec": {
   "display_name": "Python 3",
   "language": "python",
   "name": "python3"
  },
  "language_info": {
   "codemirror_mode": {
    "name": "ipython",
    "version": 3
   },
   "file_extension": ".py",
   "mimetype": "text/x-python",
   "name": "python",
   "nbconvert_exporter": "python",
   "pygments_lexer": "ipython3",
   "version": "3.7.0"
  }
 },
 "nbformat": 4,
 "nbformat_minor": 2
}
