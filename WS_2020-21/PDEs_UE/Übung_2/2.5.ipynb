{
 "metadata": {
  "language_info": {
   "codemirror_mode": {
    "name": "ipython",
    "version": 3
   },
   "file_extension": ".py",
   "mimetype": "text/x-python",
   "name": "python",
   "nbconvert_exporter": "python",
   "pygments_lexer": "ipython3",
   "version": "3.8.5-final"
  },
  "orig_nbformat": 2,
  "kernelspec": {
   "name": "Python 3.8.5 32-bit ('venv': venv)",
   "display_name": "Python 3.8.5 32-bit ('venv': venv)",
   "metadata": {
    "interpreter": {
     "hash": "bec670cf9db7201dd2783c67117180277e0964270039fda88ab9aeb4e0eae750"
    }
   }
  }
 },
 "nbformat": 4,
 "nbformat_minor": 2,
 "cells": [
  {
   "cell_type": "code",
   "execution_count": 1,
   "metadata": {},
   "outputs": [],
   "source": [
    "import sympy as sp"
   ]
  },
  {
   "cell_type": "code",
   "execution_count": 2,
   "metadata": {},
   "outputs": [
    {
     "output_type": "display_data",
     "data": {
      "text/plain": "Matrix([\n[0, 1],\n[1, 0]])",
      "text/latex": "$\\displaystyle \\left[\\begin{matrix}0 & 1\\\\1 & 0\\end{matrix}\\right]$"
     },
     "metadata": {}
    }
   ],
   "source": [
    "A = sp.Matrix([[0, 1], [1, 0]])\n",
    "display(A)"
   ]
  },
  {
   "cell_type": "code",
   "execution_count": 3,
   "metadata": {},
   "outputs": [
    {
     "output_type": "display_data",
     "data": {
      "text/plain": "[(-1,\n  1,\n  [Matrix([\n   [-1],\n   [ 1]])]),\n (1,\n  1,\n  [Matrix([\n   [1],\n   [1]])])]"
     },
     "metadata": {}
    }
   ],
   "source": [
    "eigen_info = A.eigenvects()\n",
    "display(eigen_info)"
   ]
  },
  {
   "cell_type": "code",
   "execution_count": 4,
   "metadata": {},
   "outputs": [
    {
     "output_type": "display_data",
     "data": {
      "text/plain": "s",
      "text/latex": "$\\displaystyle s$"
     },
     "metadata": {}
    },
    {
     "output_type": "display_data",
     "data": {
      "text/plain": "t",
      "text/latex": "$\\displaystyle t$"
     },
     "metadata": {}
    }
   ],
   "source": [
    "s, t = sp.symbols('s t')\n",
    "display(s, t)"
   ]
  },
  {
   "cell_type": "code",
   "execution_count": 5,
   "metadata": {},
   "outputs": [
    {
     "output_type": "display_data",
     "data": {
      "text/plain": "Matrix([\n[exp(s)/2 + exp(-s)/2, exp(s)/2 - exp(-s)/2],\n[exp(s)/2 - exp(-s)/2, exp(s)/2 + exp(-s)/2]])",
      "text/latex": "$\\displaystyle \\left[\\begin{matrix}\\frac{e^{s}}{2} + \\frac{e^{- s}}{2} & \\frac{e^{s}}{2} - \\frac{e^{- s}}{2}\\\\\\frac{e^{s}}{2} - \\frac{e^{- s}}{2} & \\frac{e^{s}}{2} + \\frac{e^{- s}}{2}\\end{matrix}\\right]$"
     },
     "metadata": {}
    }
   ],
   "source": [
    "exp_sA = sp.exp(s * A)\n",
    "display(exp_sA)"
   ]
  },
  {
   "cell_type": "code",
   "execution_count": 6,
   "metadata": {},
   "outputs": [
    {
     "output_type": "display_data",
     "data": {
      "text/plain": "Matrix([\n[exp(s), -exp(-s)],\n[exp(s),  exp(-s)]])",
      "text/latex": "$\\displaystyle \\left[\\begin{matrix}e^{s} & - e^{- s}\\\\e^{s} & e^{- s}\\end{matrix}\\right]$"
     },
     "metadata": {}
    }
   ],
   "source": [
    "Y = lambda s: sp.Matrix([[sp.exp(s), -sp.exp(-s)], [sp.exp(s), sp.exp(-s)]])\n",
    "display((Y(s)))"
   ]
  },
  {
   "cell_type": "code",
   "execution_count": 7,
   "metadata": {},
   "outputs": [
    {
     "output_type": "display_data",
     "data": {
      "text/plain": "Matrix([\n[    t],\n[t + 1]])",
      "text/latex": "$\\displaystyle \\left[\\begin{matrix}t\\\\t + 1\\end{matrix}\\right]$"
     },
     "metadata": {}
    }
   ],
   "source": [
    "v_0 = sp.Matrix([t, 1 + t])\n",
    "display(v_0)"
   ]
  },
  {
   "cell_type": "code",
   "execution_count": 8,
   "metadata": {},
   "outputs": [
    {
     "output_type": "display_data",
     "data": {
      "text/plain": "Matrix([\n[ exp(s)],\n[-exp(s)]])",
      "text/latex": "$\\displaystyle \\left[\\begin{matrix}e^{s}\\\\- e^{s}\\end{matrix}\\right]$"
     },
     "metadata": {}
    }
   ],
   "source": [
    "b = lambda s: sp.Matrix([sp.exp(s), -sp.exp(s)])\n",
    "display(b(s))"
   ]
  },
  {
   "cell_type": "code",
   "execution_count": 9,
   "metadata": {},
   "outputs": [
    {
     "output_type": "display_data",
     "data": {
      "text/plain": "xi",
      "text/latex": "$\\displaystyle \\xi$"
     },
     "metadata": {}
    }
   ],
   "source": [
    "xi = sp.symbols('xi')\n",
    "display(xi)"
   ]
  },
  {
   "cell_type": "code",
   "execution_count": 10,
   "metadata": {},
   "outputs": [
    {
     "output_type": "display_data",
     "data": {
      "text/plain": "Matrix([\n[t*exp(s) + exp(s) - exp(-s)],\n[         t*exp(s) + exp(-s)]])",
      "text/latex": "$\\displaystyle \\left[\\begin{matrix}t e^{s} + e^{s} - e^{- s}\\\\t e^{s} + e^{- s}\\end{matrix}\\right]$"
     },
     "metadata": {}
    }
   ],
   "source": [
    "v = lambda s: sp.simplify(\n",
    "    Y(s) @ (Y(0).inv() @ v_0 + sp.integrate(Y(xi).inv() @ b(xi), (xi, 0, s)))\n",
    ")\n",
    "\n",
    "display(v(s))"
   ]
  },
  {
   "cell_type": "code",
   "execution_count": 11,
   "metadata": {},
   "outputs": [
    {
     "output_type": "display_data",
     "data": {
      "text/plain": "Matrix([\n[((t + 1)*exp(2*s) + 1)*exp(-s)],\n[            t*exp(s) - exp(-s)]])",
      "text/latex": "$\\displaystyle \\left[\\begin{matrix}\\left(\\left(t + 1\\right) e^{2 s} + 1\\right) e^{- s}\\\\t e^{s} - e^{- s}\\end{matrix}\\right]$"
     },
     "metadata": {}
    },
    {
     "output_type": "display_data",
     "data": {
      "text/plain": "Matrix([\n[((t + 1)*exp(2*s) + 1)*exp(-s)],\n[            t*exp(s) - exp(-s)]])",
      "text/latex": "$\\displaystyle \\left[\\begin{matrix}\\left(\\left(t + 1\\right) e^{2 s} + 1\\right) e^{- s}\\\\t e^{s} - e^{- s}\\end{matrix}\\right]$"
     },
     "metadata": {}
    }
   ],
   "source": [
    "differentiation = v(s).diff(s).simplify()\n",
    "display(differentiation)\n",
    "\n",
    "affine = (A @ v(s) + b(s)).simplify()\n",
    "display(affine)"
   ]
  }
 ]
}