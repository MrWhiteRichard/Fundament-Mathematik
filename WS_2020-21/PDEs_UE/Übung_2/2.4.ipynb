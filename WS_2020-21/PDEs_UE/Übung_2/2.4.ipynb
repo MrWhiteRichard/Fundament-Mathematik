{
 "metadata": {
  "language_info": {
   "codemirror_mode": {
    "name": "ipython",
    "version": 3
   },
   "file_extension": ".py",
   "mimetype": "text/x-python",
   "name": "python",
   "nbconvert_exporter": "python",
   "pygments_lexer": "ipython3",
   "version": "3.8.5-final"
  },
  "orig_nbformat": 2,
  "kernelspec": {
   "name": "Python 3.8.5 32-bit ('venv': venv)",
   "display_name": "Python 3.8.5 32-bit ('venv': venv)",
   "metadata": {
    "interpreter": {
     "hash": "bec670cf9db7201dd2783c67117180277e0964270039fda88ab9aeb4e0eae750"
    }
   }
  }
 },
 "nbformat": 4,
 "nbformat_minor": 2,
 "cells": [
  {
   "cell_type": "code",
   "execution_count": 1,
   "metadata": {},
   "outputs": [],
   "source": [
    "import sympy as sp"
   ]
  },
  {
   "cell_type": "code",
   "execution_count": 2,
   "metadata": {
    "tags": []
   },
   "outputs": [
    {
     "output_type": "display_data",
     "data": {
      "text/plain": "Matrix([\n[ 0, 1, 0],\n[-1, 0, 0],\n[ 0, 0, 1]])",
      "text/latex": "$\\displaystyle \\left[\\begin{matrix}0 & 1 & 0\\\\-1 & 0 & 0\\\\0 & 0 & 1\\end{matrix}\\right]$"
     },
     "metadata": {}
    }
   ],
   "source": [
    "A = sp.Matrix([[0, 1, 0], [-1, 0, 0], [0, 0, 1]])\n",
    "display(A)"
   ]
  },
  {
   "cell_type": "code",
   "execution_count": 3,
   "metadata": {},
   "outputs": [
    {
     "output_type": "display_data",
     "data": {
      "text/plain": "[(1,\n  1,\n  [Matrix([\n   [0],\n   [0],\n   [1]])]),\n (-I,\n  1,\n  [Matrix([\n   [I],\n   [1],\n   [0]])]),\n (I,\n  1,\n  [Matrix([\n   [-I],\n   [ 1],\n   [ 0]])])]"
     },
     "metadata": {}
    }
   ],
   "source": [
    "eigen_info = A.eigenvects()\n",
    "display(eigen_info)"
   ]
  },
  {
   "cell_type": "code",
   "execution_count": 4,
   "metadata": {},
   "outputs": [
    {
     "output_type": "display_data",
     "data": {
      "text/plain": "s",
      "text/latex": "$\\displaystyle s$"
     },
     "metadata": {}
    }
   ],
   "source": [
    "s = sp.Symbol('s')\n",
    "display(s)"
   ]
  },
  {
   "cell_type": "code",
   "execution_count": 5,
   "metadata": {},
   "outputs": [
    {
     "output_type": "display_data",
     "data": {
      "text/plain": "Matrix([\n[    exp(I*s)/2 + exp(-I*s)/2, -I*exp(I*s)/2 + I*exp(-I*s)/2,      0],\n[I*exp(I*s)/2 - I*exp(-I*s)/2,      exp(I*s)/2 + exp(-I*s)/2,      0],\n[                           0,                             0, exp(s)]])",
      "text/latex": "$\\displaystyle \\left[\\begin{matrix}\\frac{e^{i s}}{2} + \\frac{e^{- i s}}{2} & - \\frac{i e^{i s}}{2} + \\frac{i e^{- i s}}{2} & 0\\\\\\frac{i e^{i s}}{2} - \\frac{i e^{- i s}}{2} & \\frac{e^{i s}}{2} + \\frac{e^{- i s}}{2} & 0\\\\0 & 0 & e^{s}\\end{matrix}\\right]$"
     },
     "metadata": {}
    }
   ],
   "source": [
    "exp_sA = sp.exp(s * A)\n",
    "display(exp_sA)"
   ]
  },
  {
   "cell_type": "code",
   "execution_count": 6,
   "metadata": {},
   "outputs": [
    {
     "output_type": "display_data",
     "data": {
      "text/plain": "(psi(sqrt(x**2 + y**2)) + 1)*exp(atan(y/x)) - 1",
      "text/latex": "$\\displaystyle \\left(\\psi{\\left(\\sqrt{x^{2} + y^{2}} \\right)} + 1\\right) e^{\\operatorname{atan}{\\left(\\frac{y}{x} \\right)}} - 1$"
     },
     "metadata": {}
    }
   ],
   "source": [
    "x, y = sp.symbols('x y')\n",
    "psi = sp.Function('psi')\n",
    "u = sp.exp(sp.atan(y / x)) * (psi(sp.sqrt(x**2 + y**2)) + 1) - 1\n",
    "display(u)"
   ]
  },
  {
   "cell_type": "code",
   "execution_count": 7,
   "metadata": {},
   "outputs": [
    {
     "output_type": "display_data",
     "data": {
      "text/plain": "(x*(x**2 + y**2)*Subs(Derivative(psi(_xi_1), _xi_1), _xi_1, sqrt(x**2 + y**2)) - y*sqrt(x**2 + y**2)*(psi(sqrt(x**2 + y**2)) + 1))*exp(atan(y/x))/(x**2 + y**2)**(3/2)",
      "text/latex": "$\\displaystyle \\frac{\\left(x \\left(x^{2} + y^{2}\\right) \\left. \\frac{d}{d \\xi_{1}} \\psi{\\left(\\xi_{1} \\right)} \\right|_{\\substack{ \\xi_{1}=\\sqrt{x^{2} + y^{2}} }} - y \\sqrt{x^{2} + y^{2}} \\left(\\psi{\\left(\\sqrt{x^{2} + y^{2}} \\right)} + 1\\right)\\right) e^{\\operatorname{atan}{\\left(\\frac{y}{x} \\right)}}}{\\left(x^{2} + y^{2}\\right)^{\\frac{3}{2}}}$"
     },
     "metadata": {}
    }
   ],
   "source": [
    "u_x = u.diff(x).simplify()\n",
    "display(u_x)"
   ]
  },
  {
   "cell_type": "code",
   "execution_count": 8,
   "metadata": {},
   "outputs": [
    {
     "output_type": "display_data",
     "data": {
      "text/plain": "(x*sqrt(x**2 + y**2)*(psi(sqrt(x**2 + y**2)) + 1) + y*(x**2 + y**2)*Subs(Derivative(psi(_xi_1), _xi_1), _xi_1, sqrt(x**2 + y**2)))*exp(atan(y/x))/(x**2 + y**2)**(3/2)",
      "text/latex": "$\\displaystyle \\frac{\\left(x \\sqrt{x^{2} + y^{2}} \\left(\\psi{\\left(\\sqrt{x^{2} + y^{2}} \\right)} + 1\\right) + y \\left(x^{2} + y^{2}\\right) \\left. \\frac{d}{d \\xi_{1}} \\psi{\\left(\\xi_{1} \\right)} \\right|_{\\substack{ \\xi_{1}=\\sqrt{x^{2} + y^{2}} }}\\right) e^{\\operatorname{atan}{\\left(\\frac{y}{x} \\right)}}}{\\left(x^{2} + y^{2}\\right)^{\\frac{3}{2}}}$"
     },
     "metadata": {}
    }
   ],
   "source": [
    "u_y = u.diff(y).simplify()\n",
    "display(u_y)"
   ]
  },
  {
   "cell_type": "code",
   "execution_count": 9,
   "metadata": {},
   "outputs": [
    {
     "output_type": "display_data",
     "data": {
      "text/plain": "0",
      "text/latex": "$\\displaystyle 0$"
     },
     "metadata": {}
    }
   ],
   "source": [
    "lhs = -y * u_x + x * u_y\n",
    "rhs = u + 1\n",
    "residuum = sp.simplify(lhs - rhs)\n",
    "display(residuum)"
   ]
  }
 ]
}