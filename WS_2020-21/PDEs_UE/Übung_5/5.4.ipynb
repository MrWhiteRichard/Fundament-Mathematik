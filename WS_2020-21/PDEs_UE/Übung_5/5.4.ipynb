{
 "metadata": {
  "language_info": {
   "codemirror_mode": {
    "name": "ipython",
    "version": 3
   },
   "file_extension": ".py",
   "mimetype": "text/x-python",
   "name": "python",
   "nbconvert_exporter": "python",
   "pygments_lexer": "ipython3",
   "version": "3.8.5-final"
  },
  "orig_nbformat": 2,
  "kernelspec": {
   "name": "Python 3.8.5 32-bit",
   "display_name": "Python 3.8.5 32-bit",
   "metadata": {
    "interpreter": {
     "hash": "40cb2bb56373c022834ee8e9769523d8b6b61d1ea0764aafe0994d305d0247ca"
    }
   }
  }
 },
 "nbformat": 4,
 "nbformat_minor": 2,
 "cells": [
  {
   "source": [
    "Folgende Ergebnisse stammen von Wolfram Alpha.\n",
    "Die sind aber vollkommen nutzlos.\n",
    "Wir haben bereits ein Besseres gefunden."
   ],
   "cell_type": "markdown",
   "metadata": {}
  },
  {
   "cell_type": "code",
   "execution_count": 1,
   "metadata": {},
   "outputs": [],
   "source": [
    "import sympy as sp"
   ]
  },
  {
   "cell_type": "code",
   "execution_count": 2,
   "metadata": {},
   "outputs": [],
   "source": [
    "r, k = sp.symbols('r k')\n",
    "c = sp.IndexedBase('c')"
   ]
  },
  {
   "source": [
    "1. Kandidat"
   ],
   "cell_type": "markdown",
   "metadata": {}
  },
  {
   "cell_type": "code",
   "execution_count": 3,
   "metadata": {},
   "outputs": [],
   "source": [
    "g = sp.sqrt(\n",
    "    2 * r**2 / (sp.pi * k)\n",
    ") * (\n",
    "    c[1] * (\n",
    "        sp.sin(k * r) / (k * r) - sp.cos(k * r)\n",
    "    ) + c[2] * (\n",
    "        -sp.sin(k * r) - sp.cos(k * r) / (k * r)\n",
    "    )\n",
    ")"
   ]
  },
  {
   "cell_type": "code",
   "execution_count": 4,
   "metadata": {},
   "outputs": [
    {
     "output_type": "execute_result",
     "data": {
      "text/plain": [
       "-sqrt(2)*sqrt(r**2/k)*((k*r*sin(k*r) + cos(k*r))*c[2] + (k*r*cos(k*r) - sin(k*r))*c[1])/(sqrt(pi)*k*r)"
      ],
      "text/latex": "$\\displaystyle - \\frac{\\sqrt{2} \\sqrt{\\frac{r^{2}}{k}} \\left(\\left(k r \\sin{\\left(k r \\right)} + \\cos{\\left(k r \\right)}\\right) {c}_{2} + \\left(k r \\cos{\\left(k r \\right)} - \\sin{\\left(k r \\right)}\\right) {c}_{1}\\right)}{\\sqrt{\\pi} k r}$"
     },
     "metadata": {},
     "execution_count": 4
    }
   ],
   "source": [
    "g.simplify()"
   ]
  },
  {
   "cell_type": "code",
   "execution_count": 5,
   "metadata": {},
   "outputs": [],
   "source": [
    "ODE = lambda g: (g.diff(r, 2) - 2 / r * g.diff(r) + k**2 * g).simplify()"
   ]
  },
  {
   "cell_type": "code",
   "execution_count": 6,
   "metadata": {},
   "outputs": [
    {
     "output_type": "execute_result",
     "data": {
      "text/plain": [
       "0"
      ],
      "text/latex": "$\\displaystyle 0$"
     },
     "metadata": {},
     "execution_count": 6
    }
   ],
   "source": [
    "ODE(g)"
   ]
  },
  {
   "cell_type": "code",
   "execution_count": 7,
   "metadata": {},
   "outputs": [
    {
     "output_type": "execute_result",
     "data": {
      "text/plain": [
       "sqrt(2)*r**2*(sin(k*r)*c[1] - cos(k*r)*c[2])/(sqrt(pi)*sqrt(r**2/k))"
      ],
      "text/latex": "$\\displaystyle \\frac{\\sqrt{2} r^{2} \\left(\\sin{\\left(k r \\right)} {c}_{1} - \\cos{\\left(k r \\right)} {c}_{2}\\right)}{\\sqrt{\\pi} \\sqrt{\\frac{r^{2}}{k}}}$"
     },
     "metadata": {},
     "execution_count": 7
    }
   ],
   "source": [
    "g.diff(r).simplify()"
   ]
  },
  {
   "cell_type": "code",
   "execution_count": 8,
   "metadata": {},
   "outputs": [],
   "source": [
    "SUN = lambda g: sp.simplify(\n",
    "    r * (g.diff(r) - 1j * k * g)\n",
    ")"
   ]
  },
  {
   "cell_type": "code",
   "execution_count": 9,
   "metadata": {},
   "outputs": [
    {
     "output_type": "execute_result",
     "data": {
      "text/plain": [
       "1.0*sqrt(2)*sqrt(r**2/k)*(k*r*sin(k*r)*c[1] + I*k*r*sin(k*r)*c[2] + I*k*r*cos(k*r)*c[1] - k*r*cos(k*r)*c[2] - I*sin(k*r)*c[1] + I*cos(k*r)*c[2])/sqrt(pi)"
      ],
      "text/latex": "$\\displaystyle \\frac{1.0 \\sqrt{2} \\sqrt{\\frac{r^{2}}{k}} \\left(k r \\sin{\\left(k r \\right)} {c}_{1} + i k r \\sin{\\left(k r \\right)} {c}_{2} + i k r \\cos{\\left(k r \\right)} {c}_{1} - k r \\cos{\\left(k r \\right)} {c}_{2} - i \\sin{\\left(k r \\right)} {c}_{1} + i \\cos{\\left(k r \\right)} {c}_{2}\\right)}{\\sqrt{\\pi}}$"
     },
     "metadata": {},
     "execution_count": 9
    }
   ],
   "source": [
    "SUN(g)"
   ]
  },
  {
   "source": [
    "2. Kandidat"
   ],
   "cell_type": "markdown",
   "metadata": {}
  },
  {
   "cell_type": "code",
   "execution_count": 10,
   "metadata": {},
   "outputs": [],
   "source": [
    "g_paul = sum([\n",
    "    -k * c[1] * r * sp.cos(k * r),\n",
    "    c[1] * sp.sin(k*r),\n",
    "    c[2] * sp.cos(k * r),\n",
    "    k * c[2] * r * sp.sin(k * r)\n",
    "])"
   ]
  },
  {
   "cell_type": "code",
   "execution_count": 11,
   "metadata": {},
   "outputs": [
    {
     "output_type": "execute_result",
     "data": {
      "text/plain": [
       "k*r*sin(k*r)*c[2] - k*r*cos(k*r)*c[1] + sin(k*r)*c[1] + cos(k*r)*c[2]"
      ],
      "text/latex": "$\\displaystyle k r \\sin{\\left(k r \\right)} {c}_{2} - k r \\cos{\\left(k r \\right)} {c}_{1} + \\sin{\\left(k r \\right)} {c}_{1} + \\cos{\\left(k r \\right)} {c}_{2}$"
     },
     "metadata": {},
     "execution_count": 11
    }
   ],
   "source": [
    "g_paul.simplify()"
   ]
  },
  {
   "cell_type": "code",
   "execution_count": 12,
   "metadata": {},
   "outputs": [
    {
     "output_type": "execute_result",
     "data": {
      "text/plain": [
       "0"
      ],
      "text/latex": "$\\displaystyle 0$"
     },
     "metadata": {},
     "execution_count": 12
    }
   ],
   "source": [
    "ODE(g_paul)"
   ]
  },
  {
   "cell_type": "code",
   "execution_count": 13,
   "metadata": {},
   "outputs": [
    {
     "output_type": "execute_result",
     "data": {
      "text/plain": [
       "k*r*(k*r*sin(k*r)*c[1] + k*r*cos(k*r)*c[2] - 1.0*I*(k*r*sin(k*r)*c[2] - k*r*cos(k*r)*c[1] + sin(k*r)*c[1] + cos(k*r)*c[2]))"
      ],
      "text/latex": "$\\displaystyle k r \\left(k r \\sin{\\left(k r \\right)} {c}_{1} + k r \\cos{\\left(k r \\right)} {c}_{2} - 1.0 i \\left(k r \\sin{\\left(k r \\right)} {c}_{2} - k r \\cos{\\left(k r \\right)} {c}_{1} + \\sin{\\left(k r \\right)} {c}_{1} + \\cos{\\left(k r \\right)} {c}_{2}\\right)\\right)$"
     },
     "metadata": {},
     "execution_count": 13
    }
   ],
   "source": [
    "SUN(g_paul)"
   ]
  }
 ]
}