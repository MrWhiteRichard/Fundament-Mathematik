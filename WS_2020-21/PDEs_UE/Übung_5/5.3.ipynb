{
 "metadata": {
  "language_info": {
   "codemirror_mode": {
    "name": "ipython",
    "version": 3
   },
   "file_extension": ".py",
   "mimetype": "text/x-python",
   "name": "python",
   "nbconvert_exporter": "python",
   "pygments_lexer": "ipython3",
   "version": "3.8.5-final"
  },
  "orig_nbformat": 2,
  "kernelspec": {
   "name": "Python 3.8.5 32-bit",
   "display_name": "Python 3.8.5 32-bit",
   "metadata": {
    "interpreter": {
     "hash": "40cb2bb56373c022834ee8e9769523d8b6b61d1ea0764aafe0994d305d0247ca"
    }
   }
  }
 },
 "nbformat": 4,
 "nbformat_minor": 2,
 "cells": [
  {
   "cell_type": "code",
   "execution_count": 1,
   "metadata": {},
   "outputs": [],
   "source": [
    "import sympy as sp"
   ]
  },
  {
   "cell_type": "code",
   "execution_count": 2,
   "metadata": {},
   "outputs": [],
   "source": [
    "x, y, xi, eta = sp.symbols('x y xi eta')"
   ]
  },
  {
   "cell_type": "code",
   "execution_count": 3,
   "metadata": {},
   "outputs": [
    {
     "output_type": "execute_result",
     "data": {
      "text/plain": [
       "(log((-eta + y)**2 + (x - xi)**2) - log((-eta + y)**2 + (x + xi)**2) - log((eta + y)**2 + (x - xi)**2) + log((eta + y)**2 + (x + xi)**2))/(4*pi)"
      ],
      "text/latex": "$\\displaystyle \\frac{\\log{\\left(\\left(- \\eta + y\\right)^{2} + \\left(x - \\xi\\right)^{2} \\right)} - \\log{\\left(\\left(- \\eta + y\\right)^{2} + \\left(x + \\xi\\right)^{2} \\right)} - \\log{\\left(\\left(\\eta + y\\right)^{2} + \\left(x - \\xi\\right)^{2} \\right)} + \\log{\\left(\\left(\\eta + y\\right)^{2} + \\left(x + \\xi\\right)^{2} \\right)}}{4 \\pi}$"
     },
     "metadata": {},
     "execution_count": 3
    }
   ],
   "source": [
    "G = 1 / (4 * sp.pi) * sum([\n",
    "    sp.ln((x - xi) ** 2 + (y - eta) ** 2),\n",
    "    sp.ln((x + xi) ** 2 + (y + eta) ** 2),\n",
    "    -sp.ln((x + xi) ** 2 + (y - eta) ** 2),\n",
    "    -sp.ln((x - xi) ** 2 + (y + eta) ** 2),\n",
    "])\n",
    "\n",
    "G"
   ]
  },
  {
   "cell_type": "code",
   "execution_count": 4,
   "metadata": {},
   "outputs": [
    {
     "output_type": "execute_result",
     "data": {
      "text/plain": [
       "x*((eta - y)**2 - (eta + y)**2)/(pi*(x**2 + (eta - y)**2)*(x**2 + (eta + y)**2))"
      ],
      "text/latex": "$\\displaystyle \\frac{x \\left(\\left(\\eta - y\\right)^{2} - \\left(\\eta + y\\right)^{2}\\right)}{\\pi \\left(x^{2} + \\left(\\eta - y\\right)^{2}\\right) \\left(x^{2} + \\left(\\eta + y\\right)^{2}\\right)}$"
     },
     "metadata": {},
     "execution_count": 4
    }
   ],
   "source": [
    "G_xi = G.diff(xi).subs(xi, 0).simplify()\n",
    "G_xi"
   ]
  },
  {
   "cell_type": "code",
   "execution_count": 5,
   "metadata": {},
   "outputs": [
    {
     "output_type": "execute_result",
     "data": {
      "text/plain": [
       "y*((x - xi)**2 - (x + xi)**2)/(pi*(y**2 + (x - xi)**2)*(y**2 + (x + xi)**2))"
      ],
      "text/latex": "$\\displaystyle \\frac{y \\left(\\left(x - \\xi\\right)^{2} - \\left(x + \\xi\\right)^{2}\\right)}{\\pi \\left(y^{2} + \\left(x - \\xi\\right)^{2}\\right) \\left(y^{2} + \\left(x + \\xi\\right)^{2}\\right)}$"
     },
     "metadata": {},
     "execution_count": 5
    }
   ],
   "source": [
    "G_eta = G.diff(eta).subs(eta, 0).simplify()\n",
    "G_eta"
   ]
  },
  {
   "cell_type": "code",
   "execution_count": 6,
   "metadata": {},
   "outputs": [
    {
     "output_type": "execute_result",
     "data": {
      "text/plain": [
       "I*(log(eta**2 + x**2 - 2*I*x*y - y**2) - log(eta**2 + x**2 + 2*I*x*y - y**2))/(2*pi)"
      ],
      "text/latex": "$\\displaystyle \\frac{i \\left(\\log{\\left(\\eta^{2} + x^{2} - 2 i x y - y^{2} \\right)} - \\log{\\left(\\eta^{2} + x^{2} + 2 i x y - y^{2} \\right)}\\right)}{2 \\pi}$"
     },
     "metadata": {},
     "execution_count": 6
    }
   ],
   "source": [
    "I_1 = sp.integrate(G_xi, eta).simplify()    \n",
    "I_1"
   ]
  },
  {
   "cell_type": "code",
   "execution_count": 7,
   "metadata": {},
   "outputs": [
    {
     "output_type": "execute_result",
     "data": {
      "text/plain": [
       "I*(log(-x**2 - 2*I*x*y + xi**2 + y**2) - log(-x**2 + 2*I*x*y + xi**2 + y**2))/(2*pi)"
      ],
      "text/latex": "$\\displaystyle \\frac{i \\left(\\log{\\left(- x^{2} - 2 i x y + \\xi^{2} + y^{2} \\right)} - \\log{\\left(- x^{2} + 2 i x y + \\xi^{2} + y^{2} \\right)}\\right)}{2 \\pi}$"
     },
     "metadata": {},
     "execution_count": 7
    }
   ],
   "source": [
    "I_2 = sp.integrate(G_eta, xi).simplify()\n",
    "I_2"
   ]
  },
  {
   "cell_type": "code",
   "execution_count": 8,
   "metadata": {},
   "outputs": [
    {
     "output_type": "execute_result",
     "data": {
      "text/plain": [
       "I*(log(x**2 - 2*I*x*y - y**2) - log(x**2 + 2*I*x*y - y**2))/(2*pi)"
      ],
      "text/latex": "$\\displaystyle \\frac{i \\left(\\log{\\left(x^{2} - 2 i x y - y^{2} \\right)} - \\log{\\left(x^{2} + 2 i x y - y^{2} \\right)}\\right)}{2 \\pi}$"
     },
     "metadata": {},
     "execution_count": 8
    }
   ],
   "source": [
    "I_1.subs(eta, 0)"
   ]
  },
  {
   "cell_type": "code",
   "execution_count": 9,
   "metadata": {},
   "outputs": [
    {
     "output_type": "execute_result",
     "data": {
      "text/plain": [
       "0"
      ],
      "text/latex": "$\\displaystyle 0$"
     },
     "metadata": {},
     "execution_count": 9
    }
   ],
   "source": [
    "(sp.atan(x/y) + sp.atan(y/x)).diff(x).simplify()"
   ]
  },
  {
   "cell_type": "code",
   "execution_count": 10,
   "metadata": {},
   "outputs": [
    {
     "output_type": "execute_result",
     "data": {
      "text/plain": [
       "0"
      ],
      "text/latex": "$\\displaystyle 0$"
     },
     "metadata": {},
     "execution_count": 10
    }
   ],
   "source": [
    "(sp.atan(x/y) + sp.atan(y/x)).diff(y).simplify()"
   ]
  },
  {
   "cell_type": "code",
   "execution_count": 11,
   "metadata": {},
   "outputs": [
    {
     "output_type": "execute_result",
     "data": {
      "text/plain": [
       "0"
      ],
      "text/latex": "$\\displaystyle 0$"
     },
     "metadata": {},
     "execution_count": 11
    }
   ],
   "source": [
    "G_xi.subs(x, 0)"
   ]
  },
  {
   "cell_type": "code",
   "execution_count": 12,
   "metadata": {},
   "outputs": [
    {
     "output_type": "execute_result",
     "data": {
      "text/plain": [
       "0"
      ],
      "text/latex": "$\\displaystyle 0$"
     },
     "metadata": {},
     "execution_count": 12
    }
   ],
   "source": [
    "G_xi.subs(y, 0)"
   ]
  },
  {
   "cell_type": "code",
   "execution_count": 13,
   "metadata": {},
   "outputs": [
    {
     "output_type": "execute_result",
     "data": {
      "text/plain": [
       "0"
      ],
      "text/latex": "$\\displaystyle 0$"
     },
     "metadata": {},
     "execution_count": 13
    }
   ],
   "source": [
    "G_eta.subs(x, 0)"
   ]
  },
  {
   "cell_type": "code",
   "execution_count": 14,
   "metadata": {},
   "outputs": [
    {
     "output_type": "execute_result",
     "data": {
      "text/plain": [
       "0"
      ],
      "text/latex": "$\\displaystyle 0$"
     },
     "metadata": {},
     "execution_count": 14
    }
   ],
   "source": [
    "G_eta.subs(y, 0)"
   ]
  },
  {
   "cell_type": "code",
   "execution_count": 15,
   "metadata": {},
   "outputs": [
    {
     "output_type": "execute_result",
     "data": {
      "text/plain": [
       "0"
      ],
      "text/latex": "$\\displaystyle 0$"
     },
     "metadata": {},
     "execution_count": 15
    }
   ],
   "source": [
    "(G_xi.diff(x, 2) + G_xi.diff(y, 2)).simplify()"
   ]
  },
  {
   "cell_type": "code",
   "execution_count": 16,
   "metadata": {},
   "outputs": [
    {
     "output_type": "execute_result",
     "data": {
      "text/plain": [
       "0"
      ],
      "text/latex": "$\\displaystyle 0$"
     },
     "metadata": {},
     "execution_count": 16
    }
   ],
   "source": [
    "(G_eta.diff(x, 2) + G_eta.diff(y, 2)).simplify()"
   ]
  }
 ]
}