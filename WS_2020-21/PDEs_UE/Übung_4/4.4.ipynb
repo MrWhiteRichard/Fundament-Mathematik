{
 "metadata": {
  "language_info": {
   "codemirror_mode": {
    "name": "ipython",
    "version": 3
   },
   "file_extension": ".py",
   "mimetype": "text/x-python",
   "name": "python",
   "nbconvert_exporter": "python",
   "pygments_lexer": "ipython3",
   "version": "3.8.5-final"
  },
  "orig_nbformat": 2,
  "kernelspec": {
   "name": "Python 3.8.5 32-bit ('venv': venv)",
   "display_name": "Python 3.8.5 32-bit ('venv': venv)",
   "metadata": {
    "interpreter": {
     "hash": "0682888a466110a9ac1883ed0ff983a596484e83331c214da3561a9152e8bb96"
    }
   }
  }
 },
 "nbformat": 4,
 "nbformat_minor": 2,
 "cells": [
  {
   "cell_type": "code",
   "execution_count": 1,
   "metadata": {},
   "outputs": [],
   "source": [
    "import sympy as sp"
   ]
  },
  {
   "cell_type": "code",
   "execution_count": 2,
   "metadata": {},
   "outputs": [],
   "source": [
    "# -------------------------------- #\n",
    "\n",
    "def laplace(v, alpha = 1):\n",
    "    \n",
    "    if alpha == 1:\n",
    "        return (v.diff(x, 2) + v.diff(y, 2)).simplify()\n",
    "    else:\n",
    "        return laplace(\n",
    "            (v.diff(x, 2) + v.diff(y, 2)).simplify(),\n",
    "            alpha - 1\n",
    "        ).simplify()\n",
    "\n",
    "# -------------------------------- #\n",
    "\n",
    "nabla = lambda u: sp.Matrix(\n",
    "    [u.diff(x), u.diff(y)]\n",
    ")\n",
    "\n",
    "# -------------------------------- #"
   ]
  },
  {
   "cell_type": "code",
   "execution_count": 3,
   "metadata": {},
   "outputs": [],
   "source": [
    "x, y = sp.symbols('x y')"
   ]
  },
  {
   "cell_type": "code",
   "execution_count": 4,
   "metadata": {},
   "outputs": [
    {
     "output_type": "display_data",
     "data": {
      "text/plain": "(x**2 + y**2)*log(sqrt(x**2 + y**2))/(8*pi)",
      "text/latex": "$\\displaystyle \\frac{\\left(x^{2} + y^{2}\\right) \\log{\\left(\\sqrt{x^{2} + y^{2}} \\right)}}{8 \\pi}$"
     },
     "metadata": {}
    }
   ],
   "source": [
    "u = (8 * sp.pi) ** (-1) * (x**2 + y**2) * sp.ln(sp.sqrt(x**2 + y**2))\n",
    "display(u)"
   ]
  },
  {
   "cell_type": "code",
   "execution_count": 5,
   "metadata": {},
   "outputs": [
    {
     "output_type": "execute_result",
     "data": {
      "text/plain": [
       "Matrix([\n",
       "[x*log(sqrt(x**2 + y**2))/(4*pi) + x/(8*pi)],\n",
       "[y*log(sqrt(x**2 + y**2))/(4*pi) + y/(8*pi)]])"
      ],
      "text/latex": "$\\displaystyle \\left[\\begin{matrix}\\frac{x \\log{\\left(\\sqrt{x^{2} + y^{2}} \\right)}}{4 \\pi} + \\frac{x}{8 \\pi}\\\\\\frac{y \\log{\\left(\\sqrt{x^{2} + y^{2}} \\right)}}{4 \\pi} + \\frac{y}{8 \\pi}\\end{matrix}\\right]$"
     },
     "metadata": {},
     "execution_count": 5
    }
   ],
   "source": [
    "nabla(u)"
   ]
  },
  {
   "cell_type": "code",
   "execution_count": 6,
   "metadata": {},
   "outputs": [
    {
     "output_type": "execute_result",
     "data": {
      "text/plain": [
       "(log(x**2 + y**2) + 2)/(4*pi)"
      ],
      "text/latex": "$\\displaystyle \\frac{\\log{\\left(x^{2} + y^{2} \\right)} + 2}{4 \\pi}$"
     },
     "metadata": {},
     "execution_count": 6
    }
   ],
   "source": [
    "laplace(u)"
   ]
  },
  {
   "cell_type": "code",
   "execution_count": 7,
   "metadata": {},
   "outputs": [
    {
     "output_type": "execute_result",
     "data": {
      "text/plain": [
       "0"
      ],
      "text/latex": "$\\displaystyle 0$"
     },
     "metadata": {},
     "execution_count": 7
    }
   ],
   "source": [
    "laplace(u, 2)"
   ]
  },
  {
   "cell_type": "code",
   "execution_count": 8,
   "metadata": {},
   "outputs": [
    {
     "output_type": "execute_result",
     "data": {
      "text/plain": [
       "Matrix([\n",
       "[x/(2*pi*(x**2 + y**2))],\n",
       "[y/(2*pi*(x**2 + y**2))]])"
      ],
      "text/latex": "$\\displaystyle \\left[\\begin{matrix}\\frac{x}{2 \\pi \\left(x^{2} + y^{2}\\right)}\\\\\\frac{y}{2 \\pi \\left(x^{2} + y^{2}\\right)}\\end{matrix}\\right]$"
     },
     "metadata": {},
     "execution_count": 8
    }
   ],
   "source": [
    "nabla(\n",
    "    laplace(u)\n",
    ")"
   ]
  },
  {
   "cell_type": "code",
   "execution_count": 9,
   "metadata": {},
   "outputs": [],
   "source": [
    "r, epsilon = sp.symbols('r epsilon')"
   ]
  },
  {
   "cell_type": "code",
   "execution_count": 10,
   "metadata": {},
   "outputs": [
    {
     "output_type": "execute_result",
     "data": {
      "text/plain": [
       "epsilon**2*log(epsilon**2)/2 - epsilon**2/2"
      ],
      "text/latex": "$\\displaystyle \\frac{\\epsilon^{2} \\log{\\left(\\epsilon^{2} \\right)}}{2} - \\frac{\\epsilon^{2}}{2}$"
     },
     "metadata": {},
     "execution_count": 10
    }
   ],
   "source": [
    "sp.integrate(\n",
    "    sp.ln(r ** 2) * r,\n",
    "    (r, 0, epsilon)\n",
    ")"
   ]
  }
 ]
}