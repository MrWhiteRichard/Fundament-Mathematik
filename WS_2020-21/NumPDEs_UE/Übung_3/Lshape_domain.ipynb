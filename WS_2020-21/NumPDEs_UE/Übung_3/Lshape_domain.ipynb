{
 "cells": [
  {
   "cell_type": "markdown",
   "metadata": {},
   "source": [
    "# L-Shape domain\n",
    "\n",
    "Let us solve the Poisson problem of finding $u$ satisfying \n",
    "\n",
    "$$\n",
    "\\begin{aligned}\n",
    "-\\Delta u = f && \\text { in } \\Omega,\n",
    "\\\\\n",
    "u  = 0 \n",
    "&& \\text{ on } \\partial\\Omega.\n",
    "\\end{aligned}\n",
    "$$"
   ]
  },
  {
   "cell_type": "markdown",
   "metadata": {},
   "source": [
    "#### 1. Import NGSolve and Netgen Python modules:"
   ]
  },
  {
   "cell_type": "code",
   "execution_count": null,
   "metadata": {},
   "outputs": [],
   "source": [
    "from ngsolve import *\n",
    "from ngsolve.webgui import Draw\n",
    "from math import pi\n",
    "from netgen.geom2d import SplineGeometry"
   ]
  },
  {
   "cell_type": "markdown",
   "metadata": {},
   "source": [
    "#### 2. Polar coordinates in NGSolve"
   ]
  },
  {
   "cell_type": "code",
   "execution_count": null,
   "metadata": {},
   "outputs": [],
   "source": [
    "r = sqrt(x**2+y**2)\n",
    "phi = pi/2-IfPos(-y,IfPos(-x,atan2(x,y),IfPos(x,atan2(x,y),-pi)),atan2(x,y))\n",
    "geoC = SplineGeometry()\n",
    "geoC.AddCircle((0,0),1,bc=\"none\")\n",
    "meshC = Mesh(geoC.GenerateMesh(maxh=0.1))\n",
    "Draw(r, meshC, \"radius\")\n",
    "Draw(phi, meshC, \"angle\")"
   ]
  },
  {
   "cell_type": "markdown",
   "metadata": {},
   "source": [
    "#### 3. Main discretization parameters and mesh"
   ]
  },
  {
   "cell_type": "code",
   "execution_count": null,
   "metadata": {},
   "outputs": [],
   "source": [
    "order = 3\n",
    "maxh = 0.2\n",
    "\n",
    "R = 1\n",
    "beta = 2/3 # no effect on geometry\n",
    "\n",
    "# (Control-) Point positions\n",
    "#  4        3        2\n",
    "#           \n",
    "#\n",
    "#\n",
    "#  5        0        1\n",
    "#           \n",
    "#           \n",
    "#           \n",
    "#  6        7\n",
    "geo = SplineGeometry()\n",
    "pnts = [ (0,0), (R,0), (R,R), (0,R), (-R,R), (-R,0), (-R,-R), (0,-R) ]\n",
    "pind = [ geo.AppendPoint(*pnt) for pnt in pnts ]\n",
    "\n",
    "# line from pind[0] to pind[1]\n",
    "geo.Append(['line',pind[0],pind[1]],bc=\"outer\")\n",
    "# spline from point pind[1] to pind[3] with control point pind[2]\n",
    "geo.Append(['spline3',pind[1],pind[2],pind[3]],bc=\"outer\")\n",
    "geo.Append(['spline3',pind[3],pind[4],pind[5]],bc=\"outer\")\n",
    "geo.Append(['spline3',pind[5],pind[6],pind[7]],bc=\"outer\")\n",
    "geo.Append(['line',pind[7],pind[0]],bc=\"outer\")\n",
    "\n",
    "mesh = Mesh(geo.GenerateMesh(maxh=maxh))\n",
    "mesh.Curve(order)\n",
    "\n",
    "Draw(mesh)"
   ]
  },
  {
   "cell_type": "markdown",
   "metadata": {},
   "source": [
    "#### 4. Reference solution and corresponding right hand side\n"
   ]
  },
  {
   "cell_type": "code",
   "execution_count": null,
   "metadata": {},
   "outputs": [],
   "source": [
    "ex_sol = (R**2-r**2)*r**beta*sin(phi*beta)\n",
    "rhs = (4*beta+4)*r**beta*sin(phi*beta)\n",
    "\n",
    "ex_sol_grad = CoefficientFunction( (ex_sol.Diff(x),ex_sol.Diff(y)) )\n",
    "#ex_sol_grad = ((R**2-r**2)*beta*r**(beta-1)*sin(phi*beta)-2*r**(beta+1)*sin(phi*beta))*CoefficientFunction( (cos(phi),sin(phi)) ) + beta*(R**2-r**2)*r**(beta-1)*cos(phi*beta)*CoefficientFunction( (-sin(phi),cos(phi)) )\n",
    "\n",
    "# Regularize singularity at (0,0) to enable drawing\n",
    "r_eps = sqrt((x+1e-8)**2+(y+1e-8)**2)\n",
    "grad_eps = ((R**2-r_eps**2)*beta*r_eps**(beta-1)*sin(phi*beta)-2*r_eps**(beta+1)*sin(phi*beta))*CoefficientFunction( (cos(phi),sin(phi)) ) + beta*(R**2-r_eps**2)*r_eps**(beta-1)*cos(phi*beta)*CoefficientFunction( (-sin(phi),cos(phi)) )\n",
    "\n",
    "sol_grad = IfPos(r, ex_sol_grad, grad_eps)\n",
    "Draw(ex_sol, mesh, \"ex_solution\")\n",
    "Draw(Norm(sol_grad), mesh, \"ex_solution_grad\", deformation=True)"
   ]
  },
  {
   "cell_type": "markdown",
   "metadata": {},
   "source": [
    "#### 5. Declare a finite element space and gridfunction"
   ]
  },
  {
   "cell_type": "code",
   "execution_count": null,
   "metadata": {},
   "outputs": [],
   "source": [
    "fes = H1(mesh, order=order, dirichlet=\"outer\")\n",
    "sol = GridFunction(fes)"
   ]
  },
  {
   "cell_type": "markdown",
   "metadata": {},
   "source": [
    "#### 6. Define and assemble linear and bilinear forms"
   ]
  },
  {
   "cell_type": "code",
   "execution_count": null,
   "metadata": {},
   "outputs": [],
   "source": [
    "u,v = fes.TnT()\n",
    "\n",
    "a = BilinearForm(fes, symmetric=True)\n",
    "a += grad(u)*grad(v)*dx\n",
    "a.Assemble()\n",
    "\n",
    "f = LinearForm(fes)\n",
    "f += rhs*v*dx\n",
    "f.Assemble()"
   ]
  },
  {
   "cell_type": "markdown",
   "metadata": {},
   "source": [
    "#### 7. Solve system and draw solution"
   ]
  },
  {
   "cell_type": "code",
   "execution_count": null,
   "metadata": {},
   "outputs": [],
   "source": [
    "sol.vec.data = a.mat.Inverse(freedofs=fes.FreeDofs()) * f.vec\n",
    "Draw(sol, mesh, \"sol\")\n",
    "Draw(Norm(Grad(sol)), mesh, \"sol_grad\", deformation=True)"
   ]
  },
  {
   "cell_type": "markdown",
   "metadata": {},
   "source": [
    "#### 8. Compute error"
   ]
  },
  {
   "cell_type": "code",
   "execution_count": null,
   "metadata": {},
   "outputs": [],
   "source": [
    "H1err = sqrt( Integrate((ex_sol-sol)**2 + InnerProduct(ex_sol_grad-Grad(sol),ex_sol_grad-Grad(sol)), mesh) )\n",
    "print(\"err = \", H1err)\n",
    "Draw((ex_sol-sol)**2 + InnerProduct(sol_grad-Grad(sol),sol_grad-Grad(sol)),mesh, \"err\")"
   ]
  },
  {
   "cell_type": "code",
   "execution_count": null,
   "metadata": {},
   "outputs": [],
   "source": []
  }
 ],
 "metadata": {
  "kernelspec": {
   "display_name": "Python 3",
   "language": "python",
   "name": "python3"
  },
  "language_info": {
   "codemirror_mode": {
    "name": "ipython",
    "version": 3
   },
   "file_extension": ".py",
   "mimetype": "text/x-python",
   "name": "python",
   "nbconvert_exporter": "python",
   "pygments_lexer": "ipython3",
   "version": "3.8.5"
  }
 },
 "nbformat": 4,
 "nbformat_minor": 2
}
