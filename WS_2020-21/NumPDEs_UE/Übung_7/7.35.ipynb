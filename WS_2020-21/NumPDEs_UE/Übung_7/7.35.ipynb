{
 "cells": [
  {
   "cell_type": "markdown",
   "metadata": {},
   "source": [
    "# Stokes equation\n",
    "We consider a Stokes problem on a channel with a parabolic inflow on the left and an obstacle placed inside. On the right we have an outflow boundary (do-nothing Neumann boundary condition). At the top and bottom wall and the obstacle we prescribe so-called no-slip boundary conditions $u=0$.\n",
    "\n",
    "Find $(u,p)\\in V\\times Q$ such that\n",
    "\\begin{align*}\n",
    "& -\\Delta u -\\nabla p = 0 &&\\text{ in } \\Omega \\\\\n",
    "& \\text{div}(u) = 0 &&\\text{ in } \\Omega \\\\\n",
    "& u = u_{in} &&\\text{ on } \\Gamma_{\\text{inlet}}\\\\\n",
    "& u = 0 &&\\text{ on } \\Gamma_{\\text{wall}}\\cup \\Gamma_{\\text{cyl}}\n",
    "\\end{align*}"
   ]
  },
  {
   "cell_type": "code",
   "execution_count": 1,
   "metadata": {},
   "outputs": [],
   "source": [
    "from ngsolve import *\n",
    "from ngsolve.webgui import Draw\n",
    "from netgen.geom2d import SplineGeometry"
   ]
  },
  {
   "cell_type": "code",
   "execution_count": 2,
   "metadata": {},
   "outputs": [
    {
     "data": {
      "application/vnd.jupyter.widget-view+json": {
       "model_id": "b450f13e86a44ba09690215bffad39ee",
       "version_major": 2,
       "version_minor": 0
      },
      "text/plain": [
       "NGSWebGuiWidget(value={'ngsolve_version': '6.2.2008', 'mesh_dim': 2, 'order2d': 2, 'order3d': 2, 'draw_vol': F…"
      ]
     },
     "metadata": {},
     "output_type": "display_data"
    },
    {
     "data": {
      "text/plain": []
     },
     "execution_count": 2,
     "metadata": {},
     "output_type": "execute_result"
    }
   ],
   "source": [
    "geo = SplineGeometry()\n",
    "geo.AddRectangle( (0, 0), (2, 0.41), bcs = (\"wall\", \"outlet\", \"wall\", \"inlet\"))\n",
    "geo.AddCircle( (0.2, 0.2), r=0.05, leftdomain=0, rightdomain=1, bc=\"cyl\")\n",
    "mesh = Mesh( geo.GenerateMesh(maxh=0.05))\n",
    "\n",
    "uin = CoefficientFunction( (1.5*4*y*(0.41-y)/(0.41*0.41),0) )\n",
    "Draw(Norm(uin), mesh, \"inlet\")#,deformation=True)"
   ]
  },
  {
   "cell_type": "markdown",
   "metadata": {},
   "source": [
    "## Crouzeix-Raviart-$P^0(\\mathcal T)$ Stokes element"
   ]
  },
  {
   "cell_type": "code",
   "execution_count": 3,
   "metadata": {
    "scrolled": true
   },
   "outputs": [],
   "source": [
    "V = FESpace(\"nonconforming\", mesh, order=1, dirichlet=\"wall|inlet|cyl\")\n",
    "Q = L2(mesh, order = 0)\n",
    "\n",
    "X = V*V*Q"
   ]
  },
  {
   "cell_type": "code",
   "execution_count": 4,
   "metadata": {},
   "outputs": [
    {
     "data": {
      "text/plain": [
       "<ngsolve.comp.BilinearForm at 0x250feaf5c70>"
      ]
     },
     "execution_count": 4,
     "metadata": {},
     "output_type": "execute_result"
    }
   ],
   "source": [
    "ux,uy,p = X.TrialFunction()\n",
    "vx,vy,q = X.TestFunction()\n",
    "\n",
    "div_u = grad(ux)[0]+grad(uy)[1]\n",
    "div_v = grad(vx)[0]+grad(vy)[1]\n",
    "\n",
    "a = BilinearForm(X)\n",
    "a += (grad(ux)*grad(vx)+grad(uy)*grad(vy) + div_u*q + div_v*p) * dx\n",
    "a.Assemble()"
   ]
  },
  {
   "cell_type": "code",
   "execution_count": 5,
   "metadata": {},
   "outputs": [
    {
     "data": {
      "text/plain": [
       "<ngsolve.comp.LinearForm at 0x250feae6180>"
      ]
     },
     "execution_count": 5,
     "metadata": {},
     "output_type": "execute_result"
    }
   ],
   "source": [
    "f = LinearForm(X)\n",
    "f.Assemble()"
   ]
  },
  {
   "cell_type": "code",
   "execution_count": 6,
   "metadata": {
    "scrolled": false
   },
   "outputs": [],
   "source": [
    "gfu = GridFunction(X)\n",
    "uin_1 = 1.5*4*y*(0.41-y)/(0.41*0.41)\n",
    "gfu.components[0].Set(uin_1, definedon=mesh.Boundaries(\"inlet\"))\n",
    "\n",
    "velocity = CoefficientFunction(gfu.components[0:2])\n",
    "pressure = CoefficientFunction(gfu.components[2])"
   ]
  },
  {
   "cell_type": "code",
   "execution_count": 7,
   "metadata": {},
   "outputs": [
    {
     "name": "stdout",
     "output_type": "stream",
     "text": [
      "iteration 0 error = 8.50740709001544\n",
      "iteration 1 error = 4.638343715188219e-06\n",
      "iteration 2 error = 1.9620695007252254e-12\n"
     ]
    }
   ],
   "source": [
    "gfu.components[0].Set(uin_1, definedon=mesh.Boundaries(\"inlet\"))\n",
    "#c = Preconditioner(a,\"local\")   #<- Jacobi preconditioner\n",
    "c = Preconditioner(a,\"direct\") #<- sparse direct solver\n",
    "c.Update()\n",
    "solvers.BVP(bf=a, lf=f, gf=gfu, pre=c)\n",
    "Redraw()"
   ]
  },
  {
   "cell_type": "code",
   "execution_count": 8,
   "metadata": {},
   "outputs": [
    {
     "data": {
      "application/vnd.jupyter.widget-view+json": {
       "model_id": "2ad310086e5c4e84bde80c7ba3e884f9",
       "version_major": 2,
       "version_minor": 0
      },
      "text/plain": [
       "NGSWebGuiWidget(value={'ngsolve_version': '6.2.2008', 'mesh_dim': 2, 'order2d': 2, 'order3d': 2, 'draw_vol': F…"
      ]
     },
     "metadata": {},
     "output_type": "display_data"
    },
    {
     "data": {
      "application/vnd.jupyter.widget-view+json": {
       "model_id": "0315231a530946aaa22bc18ee0514c06",
       "version_major": 2,
       "version_minor": 0
      },
      "text/plain": [
       "NGSWebGuiWidget(value={'ngsolve_version': '6.2.2008', 'mesh_dim': 2, 'order2d': 2, 'order3d': 2, 'draw_vol': F…"
      ]
     },
     "metadata": {},
     "output_type": "display_data"
    }
   ],
   "source": [
    "Draw(velocity, mesh, \"vel\")\n",
    "Draw(pressure, mesh, \"pressure\")\n",
    "SetVisualization(max=2)"
   ]
  },
  {
   "cell_type": "markdown",
   "metadata": {},
   "source": [
    "## Taylor-Hood elements"
   ]
  },
  {
   "cell_type": "code",
   "execution_count": 9,
   "metadata": {},
   "outputs": [],
   "source": [
    "V = VectorH1(mesh, order = 2, dirichlet = \"wall|inlet|cyl\")\n",
    "Q = L2(mesh, order = 0)"
   ]
  },
  {
   "cell_type": "code",
   "execution_count": 10,
   "metadata": {},
   "outputs": [
    {
     "data": {
      "text/plain": [
       "<ngsolve.comp.BilinearForm at 0x25090493bc8>"
      ]
     },
     "execution_count": 10,
     "metadata": {},
     "output_type": "execute_result"
    }
   ],
   "source": [
    "u = V.TrialFunction()\n",
    "p = Q.TrialFunction()\n",
    "v = V.TestFunction()\n",
    "q = Q.TestFunction()\n",
    "\n",
    "\n",
    "a = BilinearForm(V)\n",
    "a += InnerProduct(grad(u),grad(v)) * dx\n",
    "\n",
    "b = BilinearForm(trialspace=V, testspace=Q)\n",
    "b += div(u)*q*dx\n",
    "\n",
    "a.Assemble()\n",
    "b.Assemble()"
   ]
  },
  {
   "cell_type": "code",
   "execution_count": 11,
   "metadata": {},
   "outputs": [
    {
     "data": {
      "text/plain": [
       "<ngsolve.comp.BilinearForm at 0x250feaf5ce0>"
      ]
     },
     "execution_count": 11,
     "metadata": {},
     "output_type": "execute_result"
    }
   ],
   "source": [
    "mp = BilinearForm(Q)\n",
    "mp += p*q*dx\n",
    "mp.Assemble()"
   ]
  },
  {
   "cell_type": "code",
   "execution_count": 12,
   "metadata": {},
   "outputs": [
    {
     "data": {
      "text/plain": [
       "<ngsolve.comp.LinearForm at 0x250feaf58f0>"
      ]
     },
     "execution_count": 12,
     "metadata": {},
     "output_type": "execute_result"
    }
   ],
   "source": [
    "f = LinearForm(V)\n",
    "f.Assemble()\n",
    "\n",
    "g = LinearForm(Q)\n",
    "g.Assemble()"
   ]
  },
  {
   "cell_type": "code",
   "execution_count": 13,
   "metadata": {},
   "outputs": [],
   "source": [
    "gfu = GridFunction(V, name=\"u\")\n",
    "gfp = GridFunction(Q, name=\"p\")\n",
    "\n",
    "gfu.Set(uin, definedon=mesh.Boundaries(\"inlet\"))"
   ]
  },
  {
   "cell_type": "code",
   "execution_count": 14,
   "metadata": {},
   "outputs": [
    {
     "name": "stdout",
     "output_type": "stream",
     "text": [
      "it =  0  err =  4.410515887633548\n",
      "it =  1  err =  2.2639006489235096\n",
      "it =  2  err =  1.747024006226805\n",
      "it =  3  err =  1.5058433419229855\n",
      "it =  4  err =  1.425731137030548\n",
      "it =  5  err =  1.2600856069757695\n",
      "it =  6  err =  1.1865763658597344\n",
      "it =  7  err =  1.0502647177510396\n",
      "it =  8  err =  0.9419159902274162\n",
      "it =  9  err =  0.7966462643621474\n",
      "it =  10  err =  0.7386234626736765\n",
      "it =  11  err =  0.6622827114829848\n",
      "it =  12  err =  0.640353190629561\n",
      "it =  13  err =  0.5910425501195098\n",
      "it =  14  err =  0.573798345223952\n",
      "it =  15  err =  0.5367780282929316\n",
      "it =  16  err =  0.5235674091141345\n",
      "it =  17  err =  0.4947636549455787\n",
      "it =  18  err =  0.4825051720434048\n",
      "it =  19  err =  0.45696599498721086\n",
      "it =  20  err =  0.43637855689464605\n",
      "it =  21  err =  0.4006349059292994\n",
      "it =  22  err =  0.3628118050352526\n",
      "it =  23  err =  0.3105248438880955\n",
      "it =  24  err =  0.26793717168472686\n",
      "it =  25  err =  0.1899835865141405\n",
      "it =  26  err =  0.1642690202546258\n",
      "it =  27  err =  0.1017969128603531\n",
      "it =  28  err =  0.08919431586308678\n",
      "it =  29  err =  0.048015178965861\n",
      "it =  30  err =  0.04588018407341017\n",
      "it =  31  err =  0.018845886141669262\n",
      "it =  32  err =  0.018171238698059894\n",
      "it =  33  err =  0.010411059169144234\n",
      "it =  34  err =  0.010312646591636297\n",
      "it =  35  err =  0.00687483449159742\n",
      "it =  36  err =  0.006857349525174809\n",
      "it =  37  err =  0.004072336870806436\n",
      "it =  38  err =  0.0040669786448384255\n",
      "it =  39  err =  0.0019870429809486054\n",
      "it =  40  err =  0.0018090016448058075\n",
      "it =  41  err =  0.0007969892476483307\n",
      "it =  42  err =  0.0007524613291152027\n",
      "it =  43  err =  0.0003005910854400263\n",
      "it =  44  err =  0.0002921628709744966\n",
      "it =  45  err =  0.00010262809877615588\n",
      "it =  46  err =  8.788752569650165e-05\n",
      "it =  47  err =  3.680138639584599e-05\n",
      "it =  48  err =  3.572656692077781e-05\n",
      "it =  49  err =  1.4672369951732727e-05\n",
      "it =  50  err =  1.4348792995874477e-05\n",
      "it =  51  err =  4.887834310055351e-06\n",
      "it =  52  err =  3.8705452990429926e-06\n",
      "it =  53  err =  1.5100577572134876e-06\n",
      "it =  54  err =  1.4140634249196847e-06\n",
      "it =  55  err =  5.601792773946098e-07\n",
      "it =  56  err =  4.915445809051097e-07\n",
      "it =  57  err =  1.824902781178484e-07\n",
      "it =  58  err =  1.6623300894780227e-07\n",
      "it =  59  err =  5.931940867633186e-08\n"
     ]
    },
    {
     "data": {
      "text/plain": [
       "basevector"
      ]
     },
     "execution_count": 14,
     "metadata": {},
     "output_type": "execute_result"
    }
   ],
   "source": [
    "gfu.Set(uin, definedon=mesh.Boundaries(\"inlet\"))\n",
    "K = BlockMatrix( [ [a.mat, b.mat.T], [b.mat, None] ] )\n",
    "C = BlockMatrix( [ [a.mat.Inverse(V.FreeDofs()), None], [None, mp.mat.Inverse()] ] )\n",
    "\n",
    "rhs = BlockVector ( [f.vec, g.vec] )\n",
    "sol = BlockVector( [gfu.vec, gfp.vec] )\n",
    "\n",
    "solvers.MinRes (mat=K, pre=C, rhs=rhs, sol=sol, initialize=False)"
   ]
  },
  {
   "cell_type": "code",
   "execution_count": 15,
   "metadata": {},
   "outputs": [
    {
     "data": {
      "application/vnd.jupyter.widget-view+json": {
       "model_id": "05e5dac93ac7469fb0ff3f115a280bdd",
       "version_major": 2,
       "version_minor": 0
      },
      "text/plain": [
       "NGSWebGuiWidget(value={'ngsolve_version': '6.2.2008', 'mesh_dim': 2, 'order2d': 2, 'order3d': 2, 'draw_vol': F…"
      ]
     },
     "metadata": {},
     "output_type": "display_data"
    },
    {
     "data": {
      "application/vnd.jupyter.widget-view+json": {
       "model_id": "aca67f6a39dd4f0fa647c5366045702d",
       "version_major": 2,
       "version_minor": 0
      },
      "text/plain": [
       "NGSWebGuiWidget(value={'ngsolve_version': '6.2.2008', 'mesh_dim': 2, 'order2d': 2, 'order3d': 2, 'draw_vol': F…"
      ]
     },
     "metadata": {},
     "output_type": "display_data"
    },
    {
     "data": {
      "text/plain": []
     },
     "execution_count": 15,
     "metadata": {},
     "output_type": "execute_result"
    }
   ],
   "source": [
    "Draw(gfu)\n",
    "Draw(gfp)"
   ]
  }
 ],
 "metadata": {
  "kernelspec": {
   "display_name": "Python 3",
   "language": "python",
   "name": "python3"
  },
  "language_info": {
   "codemirror_mode": {
    "name": "ipython",
    "version": 3
   },
   "file_extension": ".py",
   "mimetype": "text/x-python",
   "name": "python",
   "nbconvert_exporter": "python",
   "pygments_lexer": "ipython3",
   "version": "3.7.0"
  }
 },
 "nbformat": 4,
 "nbformat_minor": 2
}
