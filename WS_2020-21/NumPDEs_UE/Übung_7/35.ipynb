{
 "cells": [
  {
   "cell_type": "markdown",
   "metadata": {},
   "source": [
    "# Stokes equation\n",
    "We consider a Stokes problem on a channel with a parabolic inflow on the left and an obstacle placed inside. On the right we have an outflow boundary (do-nothing Neumann boundary condition). At the top and bottom wall and the obstacle we prescribe so-called no-slip boundary conditions $u=0$.\n",
    "\n",
    "Find $(u,p)\\in V\\times Q$ such that\n",
    "\\begin{align*}\n",
    "& -\\Delta u -\\nabla p = 0 &&\\text{ in } \\Omega \\\\\n",
    "& \\text{div}(u) = 0 &&\\text{ in } \\Omega \\\\\n",
    "& u = u_{in} &&\\text{ on } \\Gamma_{\\text{inlet}}\\\\\n",
    "& u = 0 &&\\text{ on } \\Gamma_{\\text{wall}}\\cup \\Gamma_{\\text{cyl}}\n",
    "\\end{align*}"
   ]
  },
  {
   "cell_type": "code",
   "execution_count": 1,
   "metadata": {},
   "outputs": [],
   "source": [
    "from ngsolve import *\n",
    "from ngsolve.webgui import Draw\n",
    "from netgen.geom2d import SplineGeometry"
   ]
  },
  {
   "cell_type": "code",
   "execution_count": 2,
   "metadata": {},
   "outputs": [
    {
     "data": {
      "application/vnd.jupyter.widget-view+json": {
       "model_id": "20aaae58e55846cfb928d26acd761355",
       "version_major": 2,
       "version_minor": 0
      },
      "text/plain": [
       "NGSWebGuiWidget(value={'ngsolve_version': '6.2.2008', 'mesh_dim': 2, 'order2d': 2, 'order3d': 2, 'draw_vol': F…"
      ]
     },
     "metadata": {},
     "output_type": "display_data"
    },
    {
     "data": {
      "text/plain": []
     },
     "execution_count": 2,
     "metadata": {},
     "output_type": "execute_result"
    }
   ],
   "source": [
    "geo = SplineGeometry()\n",
    "geo.AddRectangle( (0, 0), (2, 0.41), bcs = (\"wall\", \"outlet\", \"wall\", \"inlet\"))\n",
    "geo.AddCircle( (0.2, 0.2), r=0.05, leftdomain=0, rightdomain=1, bc=\"cyl\")\n",
    "mesh = Mesh( geo.GenerateMesh(maxh=0.05))\n",
    "\n",
    "uin = CoefficientFunction( (1.5*4*y*(0.41-y)/(0.41*0.41),0) )\n",
    "Draw(Norm(uin), mesh, \"inlet\")#,deformation=True)"
   ]
  },
  {
   "cell_type": "markdown",
   "metadata": {},
   "source": [
    "## Crouzeix-Raviart-$P^0(\\mathcal T)$ Stokes element"
   ]
  },
  {
   "cell_type": "code",
   "execution_count": 3,
   "metadata": {
    "scrolled": true
   },
   "outputs": [],
   "source": [
    "V = FESpace(\"nonconforming\", mesh, order=1, dirichlet=\"wall|inlet|cyl\")\n",
    "Q = H1(mesh, order = 0)\n",
    "\n",
    "X = V*V*Q"
   ]
  },
  {
   "cell_type": "code",
   "execution_count": 4,
   "metadata": {},
   "outputs": [
    {
     "data": {
      "text/plain": [
       "<ngsolve.comp.BilinearForm at 0x2a6d1f41a70>"
      ]
     },
     "execution_count": 4,
     "metadata": {},
     "output_type": "execute_result"
    }
   ],
   "source": [
    "ux,uy,p = X.TrialFunction()\n",
    "vx,vy,q = X.TestFunction()\n",
    "\n",
    "div_u = grad(ux)[0]+grad(uy)[1]\n",
    "div_v = grad(vx)[0]+grad(vy)[1]\n",
    "\n",
    "a = BilinearForm(X)\n",
    "a += (grad(ux)*grad(vx)+grad(uy)*grad(vy) + div_u*q + div_v*p) * dx\n",
    "a.Assemble()"
   ]
  },
  {
   "cell_type": "code",
   "execution_count": 5,
   "metadata": {},
   "outputs": [
    {
     "data": {
      "text/plain": [
       "<ngsolve.comp.LinearForm at 0x2a6d1def2f0>"
      ]
     },
     "execution_count": 5,
     "metadata": {},
     "output_type": "execute_result"
    }
   ],
   "source": [
    "f = LinearForm(X)\n",
    "f.Assemble()"
   ]
  },
  {
   "cell_type": "code",
   "execution_count": 6,
   "metadata": {
    "scrolled": false
   },
   "outputs": [],
   "source": [
    "gfu = GridFunction(X)\n",
    "uin_1 = 1.5*4*y*(0.41-y)/(0.41*0.41)\n",
    "gfu.components[0].Set(uin_1, definedon=mesh.Boundaries(\"inlet\"))\n",
    "\n",
    "velocity = CoefficientFunction(gfu.components[0:2])\n",
    "pressure = CoefficientFunction(gfu.components[2])"
   ]
  },
  {
   "cell_type": "code",
   "execution_count": 7,
   "metadata": {},
   "outputs": [
    {
     "name": "stdout",
     "output_type": "stream",
     "text": [
      "iteration 0 error = 8.494482708461543\n",
      "iteration 1 error = 2.924308927234865e-14\n"
     ]
    }
   ],
   "source": [
    "gfu.components[0].Set(uin_1, definedon=mesh.Boundaries(\"inlet\"))\n",
    "#c = Preconditioner(a,\"local\")   #<- Jacobi preconditioner\n",
    "c = Preconditioner(a,\"direct\") #<- sparse direct solver\n",
    "c.Update()\n",
    "solvers.BVP(bf=a, lf=f, gf=gfu, pre=c)\n",
    "Redraw()"
   ]
  },
  {
   "cell_type": "code",
   "execution_count": 8,
   "metadata": {},
   "outputs": [
    {
     "data": {
      "application/vnd.jupyter.widget-view+json": {
       "model_id": "088124ac240645bc9ad6cb876a4ddbb3",
       "version_major": 2,
       "version_minor": 0
      },
      "text/plain": [
       "NGSWebGuiWidget(value={'ngsolve_version': '6.2.2008', 'mesh_dim': 2, 'order2d': 2, 'order3d': 2, 'draw_vol': F…"
      ]
     },
     "metadata": {},
     "output_type": "display_data"
    },
    {
     "data": {
      "application/vnd.jupyter.widget-view+json": {
       "model_id": "a46afba83d444617b9ddb2f219cdd31c",
       "version_major": 2,
       "version_minor": 0
      },
      "text/plain": [
       "NGSWebGuiWidget(value={'ngsolve_version': '6.2.2008', 'mesh_dim': 2, 'order2d': 2, 'order3d': 2, 'draw_vol': F…"
      ]
     },
     "metadata": {},
     "output_type": "display_data"
    }
   ],
   "source": [
    "Draw(velocity, mesh, \"vel\")\n",
    "Draw(pressure, mesh, \"pressure\")\n",
    "SetVisualization(max=2)"
   ]
  },
  {
   "cell_type": "markdown",
   "metadata": {},
   "source": [
    "## Taylor-Hood elements"
   ]
  },
  {
   "cell_type": "code",
   "execution_count": 9,
   "metadata": {},
   "outputs": [],
   "source": [
    "V = VectorH1(mesh, order = 2, dirichlet = \"wall|inlet|cyl\")\n",
    "Q = H1(mesh, order = 0)"
   ]
  },
  {
   "cell_type": "code",
   "execution_count": 10,
   "metadata": {},
   "outputs": [
    {
     "data": {
      "text/plain": [
       "<ngsolve.comp.BilinearForm at 0x2a6d1e6caf0>"
      ]
     },
     "execution_count": 10,
     "metadata": {},
     "output_type": "execute_result"
    }
   ],
   "source": [
    "u = V.TrialFunction()\n",
    "p = Q.TrialFunction()\n",
    "v = V.TestFunction()\n",
    "q = Q.TestFunction()\n",
    "\n",
    "\n",
    "a = BilinearForm(V)\n",
    "a += InnerProduct(grad(u),grad(v)) * dx\n",
    "\n",
    "b = BilinearForm(trialspace=V, testspace=Q)\n",
    "b += div(u)*q*dx\n",
    "\n",
    "a.Assemble()\n",
    "b.Assemble()"
   ]
  },
  {
   "cell_type": "code",
   "execution_count": 11,
   "metadata": {},
   "outputs": [
    {
     "data": {
      "text/plain": [
       "<ngsolve.comp.BilinearForm at 0x2a6d1e75130>"
      ]
     },
     "execution_count": 11,
     "metadata": {},
     "output_type": "execute_result"
    }
   ],
   "source": [
    "mp = BilinearForm(Q)\n",
    "mp += p*q*dx\n",
    "mp.Assemble()"
   ]
  },
  {
   "cell_type": "code",
   "execution_count": 12,
   "metadata": {},
   "outputs": [
    {
     "data": {
      "text/plain": [
       "<ngsolve.comp.LinearForm at 0x2a6d1e757f0>"
      ]
     },
     "execution_count": 12,
     "metadata": {},
     "output_type": "execute_result"
    }
   ],
   "source": [
    "f = LinearForm(V)\n",
    "f.Assemble()\n",
    "\n",
    "g = LinearForm(Q)\n",
    "g.Assemble()"
   ]
  },
  {
   "cell_type": "code",
   "execution_count": 13,
   "metadata": {},
   "outputs": [],
   "source": [
    "gfu = GridFunction(V, name=\"u\")\n",
    "gfp = GridFunction(Q, name=\"p\")\n",
    "\n",
    "gfu.Set(uin, definedon=mesh.Boundaries(\"inlet\"))"
   ]
  },
  {
   "cell_type": "code",
   "execution_count": 14,
   "metadata": {},
   "outputs": [
    {
     "name": "stdout",
     "output_type": "stream",
     "text": [
      "it =  0  err =  4.226349524222936\n",
      "it =  1  err =  2.24742720237691\n",
      "it =  2  err =  2.0079965248753786\n",
      "it =  3  err =  1.5223974591861806\n",
      "it =  4  err =  1.4865165128148892\n",
      "it =  5  err =  1.2684172936012543\n",
      "it =  6  err =  1.2238227706232239\n",
      "it =  7  err =  1.0613991811698644\n",
      "it =  8  err =  0.9751048985880616\n",
      "it =  9  err =  0.8059667668187446\n",
      "it =  10  err =  0.7659685044672495\n",
      "it =  11  err =  0.6732666269471119\n",
      "it =  12  err =  0.6441496546283989\n",
      "it =  13  err =  0.5885055784970951\n",
      "it =  14  err =  0.5761085504203545\n",
      "it =  15  err =  0.5350751953698764\n",
      "it =  16  err =  0.5284519959422413\n",
      "it =  17  err =  0.4992634648147116\n",
      "it =  18  err =  0.4790130012830835\n",
      "it =  19  err =  0.4501314537196627\n",
      "it =  20  err =  0.4383073011697616\n",
      "it =  21  err =  0.4009282353966521\n",
      "it =  22  err =  0.35857850978473527\n",
      "it =  23  err =  0.30279166557592146\n",
      "it =  24  err =  0.28138958292648175\n",
      "it =  25  err =  0.17696934093687483\n",
      "it =  26  err =  0.16827009411896102\n",
      "it =  27  err =  0.11721391516867231\n",
      "it =  28  err =  0.10666857150833046\n",
      "it =  29  err =  0.06245581255969992\n",
      "it =  30  err =  0.06192795539895659\n",
      "it =  31  err =  0.0388397252877558\n",
      "it =  32  err =  0.03868406455604215\n",
      "it =  33  err =  0.022640093257663804\n",
      "it =  34  err =  0.022530186908754638\n",
      "it =  35  err =  0.014280385989878554\n",
      "it =  36  err =  0.014260793692590019\n",
      "it =  37  err =  0.006734626415332645\n",
      "it =  38  err =  0.005818808372973417\n",
      "it =  39  err =  0.003422764616809891\n",
      "it =  40  err =  0.003336953638960282\n",
      "it =  41  err =  0.0018598376709198384\n",
      "it =  42  err =  0.0018400019825673714\n",
      "it =  43  err =  0.0010735473336228735\n",
      "it =  44  err =  0.0010676581597345931\n",
      "it =  45  err =  0.0006246314081718349\n",
      "it =  46  err =  0.0005982221025833356\n",
      "it =  47  err =  0.00036842255358403953\n",
      "it =  48  err =  0.0003655427705751438\n",
      "it =  49  err =  0.00021949997804575797\n",
      "it =  50  err =  0.00020964649870082303\n",
      "it =  51  err =  0.0001000055718272222\n",
      "it =  52  err =  9.791762132337694e-05\n",
      "it =  53  err =  4.494708775671452e-05\n",
      "it =  54  err =  4.449227274286212e-05\n",
      "it =  55  err =  1.631535030026199e-05\n",
      "it =  56  err =  1.4886166579857109e-05\n",
      "it =  57  err =  5.87808591165397e-06\n",
      "it =  58  err =  5.358215535402639e-06\n",
      "it =  59  err =  2.2533778849942195e-06\n",
      "it =  60  err =  2.239402435932199e-06\n",
      "it =  61  err =  7.153285196406944e-07\n",
      "it =  62  err =  7.065586219816187e-07\n",
      "it =  63  err =  2.3112951464362425e-07\n",
      "it =  64  err =  2.2210694781668422e-07\n",
      "it =  65  err =  7.394286466394282e-08\n"
     ]
    },
    {
     "data": {
      "text/plain": [
       "basevector"
      ]
     },
     "execution_count": 14,
     "metadata": {},
     "output_type": "execute_result"
    }
   ],
   "source": [
    "gfu.Set(uin, definedon=mesh.Boundaries(\"inlet\"))\n",
    "K = BlockMatrix( [ [a.mat, b.mat.T], [b.mat, None] ] )\n",
    "C = BlockMatrix( [ [a.mat.Inverse(V.FreeDofs()), None], [None, mp.mat.Inverse()] ] )\n",
    "\n",
    "rhs = BlockVector ( [f.vec, g.vec] )\n",
    "sol = BlockVector( [gfu.vec, gfp.vec] )\n",
    "\n",
    "solvers.MinRes (mat=K, pre=C, rhs=rhs, sol=sol, initialize=False)"
   ]
  },
  {
   "cell_type": "code",
   "execution_count": 15,
   "metadata": {},
   "outputs": [
    {
     "data": {
      "application/vnd.jupyter.widget-view+json": {
       "model_id": "c5933b1528444c869eeaeadc4a070857",
       "version_major": 2,
       "version_minor": 0
      },
      "text/plain": [
       "NGSWebGuiWidget(value={'ngsolve_version': '6.2.2008', 'mesh_dim': 2, 'order2d': 2, 'order3d': 2, 'draw_vol': F…"
      ]
     },
     "metadata": {},
     "output_type": "display_data"
    },
    {
     "data": {
      "application/vnd.jupyter.widget-view+json": {
       "model_id": "7fce23ca45a54fc3a2cfdfc376fe3def",
       "version_major": 2,
       "version_minor": 0
      },
      "text/plain": [
       "NGSWebGuiWidget(value={'ngsolve_version': '6.2.2008', 'mesh_dim': 2, 'order2d': 2, 'order3d': 2, 'draw_vol': F…"
      ]
     },
     "metadata": {},
     "output_type": "display_data"
    },
    {
     "data": {
      "text/plain": []
     },
     "execution_count": 15,
     "metadata": {},
     "output_type": "execute_result"
    }
   ],
   "source": [
    "Draw(gfu)\n",
    "Draw(gfp)"
   ]
  }
 ],
 "metadata": {
  "kernelspec": {
   "display_name": "Python 3",
   "language": "python",
   "name": "python3"
  },
  "language_info": {
   "codemirror_mode": {
    "name": "ipython",
    "version": 3
   },
   "file_extension": ".py",
   "mimetype": "text/x-python",
   "name": "python",
   "nbconvert_exporter": "python",
   "pygments_lexer": "ipython3",
   "version": "3.7.4"
  }
 },
 "nbformat": 4,
 "nbformat_minor": 2
}
