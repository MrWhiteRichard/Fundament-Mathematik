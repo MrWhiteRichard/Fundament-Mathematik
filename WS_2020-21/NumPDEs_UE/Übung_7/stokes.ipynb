{
 "cells": [
  {
   "cell_type": "markdown",
   "metadata": {},
   "source": [
    "# Stokes equation\n",
    "We consider a Stokes problem on a channel with a parabolic inflow on the left and an obstacle placed inside. On the right we have an outflow boundary (do-nothing Neumann boundary condition). At the top and bottom wall and the obstacle we prescribe so-called no-slip boundary conditions $u=0$.\n",
    "\n",
    "Find $(u,p)\\in V\\times Q$ such that\n",
    "\\begin{align*}\n",
    "& -\\Delta u -\\nabla p = 0 &&\\text{ in } \\Omega \\\\\n",
    "& \\text{div}(u) = 0 &&\\text{ in } \\Omega \\\\\n",
    "& u = u_{in} &&\\text{ on } \\Gamma_{\\text{inlet}}\\\\\n",
    "& u = 0 &&\\text{ on } \\Gamma_{\\text{wall}}\\cup \\Gamma_{\\text{cyl}}\n",
    "\\end{align*}"
   ]
  },
  {
   "cell_type": "code",
   "execution_count": null,
   "metadata": {},
   "outputs": [],
   "source": [
    "from ngsolve import *\n",
    "from ngsolve.webgui import Draw\n",
    "from netgen.geom2d import SplineGeometry"
   ]
  },
  {
   "cell_type": "code",
   "execution_count": null,
   "metadata": {},
   "outputs": [],
   "source": [
    "geo = SplineGeometry()\n",
    "geo.AddRectangle( (0, 0), (2, 0.41), bcs = (\"wall\", \"outlet\", \"wall\", \"inlet\"))\n",
    "geo.AddCircle( (0.2, 0.2), r=0.05, leftdomain=0, rightdomain=1, bc=\"cyl\")\n",
    "mesh = Mesh( geo.GenerateMesh(maxh=0.1))\n",
    "\n",
    "uin = CoefficientFunction( (1.5*4*y*(0.41-y)/(0.41*0.41),0) )\n",
    "Draw(Norm(uin), mesh, \"inlet\")#,deformation=True)"
   ]
  },
  {
   "cell_type": "code",
   "execution_count": null,
   "metadata": {},
   "outputs": [],
   "source": []
  }
 ],
 "metadata": {
  "kernelspec": {
   "display_name": "Python 3",
   "language": "python",
   "name": "python3"
  },
  "language_info": {
   "codemirror_mode": {
    "name": "ipython",
    "version": 3
   },
   "file_extension": ".py",
   "mimetype": "text/x-python",
   "name": "python",
   "nbconvert_exporter": "python",
   "pygments_lexer": "ipython3",
   "version": "3.8.5"
  }
 },
 "nbformat": 4,
 "nbformat_minor": 2
}
