{
 "cells": [
  {
   "cell_type": "markdown",
   "metadata": {},
   "source": [
    "# Goal driven error estimator:\n",
    "## Geometry of examples:\n",
    "Geometry where all goal areas and subdomains are resolved."
   ]
  },
  {
   "cell_type": "code",
   "execution_count": 1,
   "metadata": {},
   "outputs": [
    {
     "data": {
      "application/vnd.jupyter.widget-view+json": {
       "model_id": "4cb0170aad2342bf83e6447cd1bfd33a",
       "version_major": 2,
       "version_minor": 0
      },
      "text/plain": [
       "NGSWebGuiWidget(value={'ngsolve_version': '6.2.2008', 'mesh_dim': 2, 'order2d': 2, 'order3d': 2, 'draw_vol': F…"
      ]
     },
     "metadata": {},
     "output_type": "display_data"
    },
    {
     "data": {
      "text/plain": []
     },
     "execution_count": 1,
     "metadata": {},
     "output_type": "execute_result"
    }
   ],
   "source": [
    "import ngsolve as ngs\n",
    "from ngsolve.webgui import Draw\n",
    "maxh = 1\n",
    "import matplotlib.pyplot as plt\n",
    "import numpy as np\n",
    "\n",
    "from netgen.geom2d import SplineGeometry\n",
    "geo = SplineGeometry()\n",
    "cos = [(0.7,0.45), (0.75,0.45), (0.8,0.45), (0.8, 0.55), (0.75,0.55), (0.7,0.55), (0.75,0.5)]\n",
    "for co in cos:\n",
    "    geo.AddPoint(*co)\n",
    "geo.Append([\"line\", 0,1], leftdomain=3, rightdomain=1, bc='none'  , maxh=maxh)\n",
    "geo.Append([\"line\", 1,6], leftdomain=3, rightdomain=3, bc='goal_2', maxh=maxh)\n",
    "geo.Append([\"line\", 6,4], leftdomain=3, rightdomain=3, bc='goal_2', maxh=maxh)\n",
    "geo.Append([\"line\", 4,5], leftdomain=3, rightdomain=1, bc='none'  , maxh=maxh)\n",
    "geo.Append([\"line\", 5,0], leftdomain=3, rightdomain=1, bc='none'  , maxh=maxh)\n",
    "geo.Append([\"line\", 1,2], leftdomain=3, rightdomain=1, bc='none'  , maxh=maxh)\n",
    "geo.Append([\"line\", 2,3], leftdomain=3, rightdomain=1, bc='none'  , maxh=maxh)\n",
    "geo.Append([\"line\", 3,4], leftdomain=3, rightdomain=1, bc='none'  , maxh=maxh)\n",
    "geo.AddRectangle( (0,0), (1,1), leftdomain=1, rightdomain=0, bc='outer')\n",
    "geo.AddRectangle( (0.2,0.45), (0.3,0.55), leftdomain=2, rightdomain=1,maxh=0.05, \n",
    "                 bcs=['inner_bot', 'inner_right', 'inner_top', 'inner_left'])\n",
    "geo.SetMaterial(1, 'outer')\n",
    "geo.SetMaterial(2, 'source')\n",
    "geo.SetMaterial(3, 'goal_1')\n",
    "\n",
    "#mesh = ngs.Mesh(geo.GenerateMesh(maxh = maxh))\n",
    "mesh = ngs.Mesh(\"mesh_bsp30.vol\")\n",
    "Draw(ngs.CoefficientFunction( [1,2,3] ), mesh, \"domains\")"
   ]
  },
  {
   "cell_type": "code",
   "execution_count": 2,
   "metadata": {},
   "outputs": [],
   "source": [
    "order = 2\n",
    "\n",
    "#Referenzwerte aus PDF\n",
    "ref_1 = 0.042556207995730\n",
    "ref_2 = 0.042349426604237\n",
    "ref_3 = 0.042557119266960"
   ]
  },
  {
   "cell_type": "markdown",
   "metadata": {},
   "source": [
    "## Erstellen der FES und Gridfunctions für Lösung $u$ sowie $\\eta_{zz}$ und Lösungen $w$ der dualen Probleme "
   ]
  },
  {
   "cell_type": "code",
   "execution_count": 3,
   "metadata": {},
   "outputs": [],
   "source": [
    "fes = ngs.H1(mesh, order = order , dirichlet = \"outer\")\n",
    "fe_ag = ngs.VectorH1(mesh, order = order, dirichlet = \"outer\")\n",
    "\n",
    "u_approx = ngs.GridFunction(fes)\n",
    "u_approx_grad_avg = ngs.GridFunction(fe_ag)\n",
    "\n",
    "w_1_approx = ngs.GridFunction(fes)\n",
    "w_1_approx_grad_avg = ngs.GridFunction(fe_ag)\n",
    "\n",
    "w_2_approx = ngs.GridFunction(fes)\n",
    "w_2_approx_grad_avg = ngs.GridFunction(fe_ag)\n",
    "\n",
    "w_3_approx = ngs.GridFunction(fes)\n",
    "w_3_approx_grad_avg = ngs.GridFunction(fe_ag)"
   ]
  },
  {
   "cell_type": "markdown",
   "metadata": {},
   "source": [
    "## Aufstellen der Bilinear- sowie Linearform\n",
    "\n"
   ]
  },
  {
   "cell_type": "code",
   "execution_count": 4,
   "metadata": {},
   "outputs": [
    {
     "data": {
      "text/plain": [
       "<ngsolve.comp.LinearForm at 0x244a10f32b0>"
      ]
     },
     "execution_count": 4,
     "metadata": {},
     "output_type": "execute_result"
    }
   ],
   "source": [
    "u = fes.TrialFunction()\n",
    "v = fes.TestFunction()\n",
    "\n",
    "a = ngs.BilinearForm(fes, symmetric = True)\n",
    "a += (ngs.grad(u) * ngs.grad(v)) * ngs.dx\n",
    "a.Assemble()\n",
    "\n",
    "f = ngs.LinearForm(fes)\n",
    "f += 100 * v * ngs.dx(\"source\")\n",
    "f.Assemble()"
   ]
  },
  {
   "cell_type": "code",
   "execution_count": 5,
   "metadata": {
    "scrolled": true
   },
   "outputs": [
    {
     "data": {
      "application/vnd.jupyter.widget-view+json": {
       "model_id": "f4f22538d91c49c4afd5c1a33c1881a0",
       "version_major": 2,
       "version_minor": 0
      },
      "text/plain": [
       "NGSWebGuiWidget(value={'ngsolve_version': '6.2.2008', 'mesh_dim': 2, 'order2d': 2, 'order3d': 2, 'draw_vol': F…"
      ]
     },
     "metadata": {},
     "output_type": "display_data"
    },
    {
     "data": {
      "text/plain": []
     },
     "execution_count": 5,
     "metadata": {},
     "output_type": "execute_result"
    }
   ],
   "source": [
    "u_approx.vec.data = a.mat.Inverse(freedofs = fes.FreeDofs()) * f.vec\n",
    "\n",
    "Draw(u_approx, mesh)"
   ]
  },
  {
   "cell_type": "markdown",
   "metadata": {},
   "source": [
    "## Implementierung der Linearformen $b_i, i \\in \\{1,2,3\\}$"
   ]
  },
  {
   "cell_type": "code",
   "execution_count": 6,
   "metadata": {},
   "outputs": [
    {
     "data": {
      "text/plain": [
       "<ngsolve.comp.LinearForm at 0x244a11b12b0>"
      ]
     },
     "execution_count": 6,
     "metadata": {},
     "output_type": "execute_result"
    }
   ],
   "source": [
    "b_1 = ngs.LinearForm(fes)\n",
    "b_1 += 100 * v * ngs.dx(\"goal_1\")\n",
    "b_1.Assemble()\n",
    "\n",
    "\n",
    "b_2 = ngs.LinearForm(fes)\n",
    "b_2 += 10 * v * ngs.ds(\"goal_2\")\n",
    "b_2.Assemble()\n",
    "\n",
    "b_3 = ngs.LinearForm(fes)\n",
    "b_3 += v(0.75, 0.5)\n",
    "b_3.Assemble()"
   ]
  },
  {
   "cell_type": "markdown",
   "metadata": {},
   "source": [
    "## Lösen der dualen Probleme"
   ]
  },
  {
   "cell_type": "code",
   "execution_count": 7,
   "metadata": {},
   "outputs": [],
   "source": [
    "w_1_approx.vec.data = a.mat.Inverse(freedofs = fes.FreeDofs()) * b_1.vec\n",
    "w_2_approx.vec.data = a.mat.Inverse(freedofs = fes.FreeDofs()) * b_2.vec\n",
    "w_3_approx.vec.data = a.mat.Inverse(freedofs = fes.FreeDofs()) * b_3.vec"
   ]
  },
  {
   "cell_type": "markdown",
   "metadata": {},
   "source": [
    "## Fehler beim Verfeinern der Ordnung\n",
    "\n",
    "Zuerst wird hier nur die Ordnung vergrößert um zu sehen, wie sich die Approximation bei gleichbleibendem Mesh verbessert."
   ]
  },
  {
   "cell_type": "code",
   "execution_count": 8,
   "metadata": {},
   "outputs": [],
   "source": [
    "order_arr = [i for i in range(1,7)]\n",
    "\n",
    "#Fehlerarrays für \"exakte\" Fehler\n",
    "w_1_err = []\n",
    "w_2_err = []\n",
    "w_3_err = []\n",
    "\n",
    "\n",
    "#Fehlerschätzer-Arrays\n",
    "eta_ZZ_arr = []\n",
    "\n",
    "eta_ZZ_1_arr = []\n",
    "eta_ZZ_2_arr = []\n",
    "eta_ZZ_3_arr = []\n",
    "\n",
    "for order in order_arr:\n",
    "    fes = ngs.H1(mesh, order = order , dirichlet = \"outer\")\n",
    "    fe_ag = ngs.VectorH1(mesh, order = order, dirichlet = \"outer\")\n",
    "\n",
    "    #Lösungsfunktion der PDE\n",
    "    u_approx = ngs.GridFunction(fes)\n",
    "    \n",
    "    #zur späteren Interpolation für Fehlerschätzer\n",
    "    u_approx_grad_avg = ngs.GridFunction(fe_ag)    \n",
    "    \n",
    "    #Lösungsfunktion von (4)\n",
    "    w_1_approx = ngs.GridFunction(fes)\n",
    "    \n",
    "    #zur späteren Interpolation für Fehlerschätzer\n",
    "    w_1_approx_grad_avg = ngs.GridFunction(fe_ag)  \n",
    "    \n",
    "    #ebendies\n",
    "    w_2_approx = ngs.GridFunction(fes)          \n",
    "    w_2_approx_grad_avg = ngs.GridFunction(fe_ag)\n",
    "    \n",
    "    w_3_approx = ngs.GridFunction(fes)\n",
    "    w_3_approx_grad_avg = ngs.GridFunction(fe_ag)\n",
    "    \n",
    "    #It's TnT\n",
    "    u = fes.TrialFunction()\n",
    "    v = fes.TestFunction()\n",
    "    \n",
    "    #Aufstellen der Bilinearform\n",
    "    a = ngs.BilinearForm(fes, symmetric = True)\n",
    "    a += (ngs.grad(u) * ngs.grad(v)) * ngs.dx\n",
    "    a.Assemble()\n",
    "    \n",
    "    #Aufstellen der Linearform\n",
    "    f = ngs.LinearForm(fes)\n",
    "    f += 100 * v * ngs.dx(\"source\")\n",
    "    f.Assemble()\n",
    "    \n",
    "    #Lösen des Problems\n",
    "    u_approx.vec.data = a.mat.Inverse(freedofs = fes.FreeDofs()) * f.vec\n",
    "    \n",
    "    #Aufstellen der b-Linearformen\n",
    "    b_1 = ngs.LinearForm(fes)\n",
    "    b_1 += 100 * v * ngs.dx(\"goal_1\")\n",
    "    b_1.Assemble()\n",
    "\n",
    "    b_2 = ngs.LinearForm(fes)\n",
    "    b_2 += 10 * v * ngs.ds(\"goal_2\")\n",
    "    b_2.Assemble()\n",
    "\n",
    "    b_3 = ngs.LinearForm(fes)\n",
    "    b_3 += v(0.75, 0.5)\n",
    "    b_3.Assemble()\n",
    "    \n",
    "    #Fehler von (2) mit Referenzwerten\n",
    "    w_1_err.append(abs(ngs.InnerProduct(b_1.vec, u_approx.vec)-ref_1))\n",
    "    w_2_err.append(abs(ngs.InnerProduct(b_2.vec, u_approx.vec)-ref_2))\n",
    "    w_3_err.append(abs(ngs.InnerProduct(b_3.vec, u_approx.vec)-ref_3))\n",
    "    \n",
    "    #Lösen von (4)\n",
    "    w_1_approx.vec.data = a.mat.Inverse(freedofs = fes.FreeDofs()) * b_1.vec\n",
    "    w_2_approx.vec.data = a.mat.Inverse(freedofs = fes.FreeDofs()) * b_2.vec\n",
    "    w_3_approx.vec.data = a.mat.Inverse(freedofs = fes.FreeDofs()) * b_3.vec\n",
    "    \n",
    "    #Interpolieren für Fehlerschätzer\n",
    "    flux = ngs.grad(u_approx)\n",
    "    u_approx_grad_avg.Set(flux)\n",
    "    \n",
    "    flux_1 = ngs.grad(w_1_approx)\n",
    "    w_1_approx_grad_avg.Set(flux_1)\n",
    "    flux_2 = ngs.grad(w_2_approx)\n",
    "    w_2_approx_grad_avg.Set(flux_2)\n",
    "    flux_3 = ngs.grad(w_3_approx)\n",
    "    w_3_approx_grad_avg.Set(flux_3)\n",
    "    \n",
    "    #viele Fehlerschätzer\n",
    "    eta_ZZ_arr.append(\n",
    "        ngs.sqrt(\n",
    "            ngs.Integrate(\n",
    "                ngs.InnerProduct(\n",
    "                    ngs.grad(u_approx) - u_approx_grad_avg,\n",
    "                    ngs.grad(u_approx) - u_approx_grad_avg),\n",
    "                mesh,\n",
    "                ngs.VOL,\n",
    "                order * 2\n",
    "            )\n",
    "        )\n",
    "    )\n",
    "    \n",
    "    eta_ZZ_1_arr.append(\n",
    "        ngs.sqrt(\n",
    "            ngs.Integrate(\n",
    "                ngs.InnerProduct(\n",
    "                    ngs.grad(w_1_approx) - w_1_approx_grad_avg,\n",
    "                    ngs.grad(w_1_approx) - w_1_approx_grad_avg),\n",
    "                mesh,\n",
    "                ngs.VOL,\n",
    "                order * 2\n",
    "            )\n",
    "        )\n",
    "    )\n",
    "    \n",
    "    eta_ZZ_2_arr.append(\n",
    "        ngs.sqrt(\n",
    "            ngs.Integrate(\n",
    "                ngs.InnerProduct(\n",
    "                    ngs.grad(w_2_approx) - w_2_approx_grad_avg,\n",
    "                    ngs.grad(w_2_approx) - w_2_approx_grad_avg),\n",
    "                mesh,\n",
    "                ngs.VOL,\n",
    "                order * 2\n",
    "            )\n",
    "        )\n",
    "    )\n",
    "    \n",
    "    eta_ZZ_3_arr.append(\n",
    "        ngs.sqrt(\n",
    "            ngs.Integrate(\n",
    "                ngs.InnerProduct(\n",
    "                    ngs.grad(w_3_approx) - w_3_approx_grad_avg,\n",
    "                    ngs.grad(w_3_approx) - w_3_approx_grad_avg),\n",
    "                mesh,\n",
    "                ngs.VOL,\n",
    "                order * 2\n",
    "            )\n",
    "        )\n",
    "    )"
   ]
  },
  {
   "cell_type": "markdown",
   "metadata": {},
   "source": [
    "## Fehlerschätzer wie in (6)\n"
   ]
  },
  {
   "cell_type": "code",
   "execution_count": 9,
   "metadata": {},
   "outputs": [],
   "source": [
    "for i in range(len(eta_ZZ_arr)):\n",
    "    eta_ZZ_1_arr[i] = eta_ZZ_arr[i]*eta_ZZ_1_arr[i]\n",
    "    eta_ZZ_2_arr[i] = eta_ZZ_arr[i]*eta_ZZ_2_arr[i]\n",
    "    eta_ZZ_3_arr[i] = eta_ZZ_arr[i]*eta_ZZ_3_arr[i]"
   ]
  },
  {
   "cell_type": "markdown",
   "metadata": {},
   "source": [
    "## Plots!"
   ]
  },
  {
   "cell_type": "code",
   "execution_count": 10,
   "metadata": {},
   "outputs": [
    {
     "data": {
      "image/png": "[encoded data removed]",
      "text/plain": [
       "<Figure size 432x288 with 1 Axes>"
      ]
     },
     "metadata": {
      "needs_background": "light"
     },
     "output_type": "display_data"
    }
   ],
   "source": [
    "#%matplotlib notebook\n",
    "\n",
    "#Fehler nach Referenz\n",
    "plt.semilogy(order_arr, w_1_err, label = \"B1-Fehler\")\n",
    "#Fehler nach Fehlerschätzer\n",
    "plt.semilogy(order_arr, eta_ZZ_1_arr, label = \"Approximation mit Fehlerschätzer\")\n",
    "\n",
    "plt.xlabel(\"Order\")\n",
    "plt.ylabel(\"error\")\n",
    "plt.legend()\n",
    "plt.show()"
   ]
  },
  {
   "cell_type": "code",
   "execution_count": 11,
   "metadata": {},
   "outputs": [
    {
     "data": {
      "image/png": "[encoded data removed]",
      "text/plain": [
       "<Figure size 432x288 with 1 Axes>"
      ]
     },
     "metadata": {
      "needs_background": "light"
     },
     "output_type": "display_data"
    }
   ],
   "source": [
    "#%matplotlib notebook\n",
    "\n",
    "#Fehler nach Referenz\n",
    "plt.semilogy(order_arr, w_2_err, label = \"B2-Fehler\")\n",
    "#Fehler nach Fehlerschätzer\n",
    "plt.semilogy(order_arr, eta_ZZ_2_arr, label = \"Approximation mit Fehlerschätzer\")\n",
    "\n",
    "plt.xlabel(\"Order\")\n",
    "plt.ylabel(\"error\")\n",
    "plt.legend()\n",
    "plt.show()"
   ]
  },
  {
   "cell_type": "code",
   "execution_count": 12,
   "metadata": {},
   "outputs": [
    {
     "data": {
      "image/png": "[encoded data removed]",
      "text/plain": [
       "<Figure size 432x288 with 1 Axes>"
      ]
     },
     "metadata": {
      "needs_background": "light"
     },
     "output_type": "display_data"
    }
   ],
   "source": [
    "#%matplotlib notebook\n",
    "\n",
    "#Fehler nach Referenz\n",
    "plt.semilogy(order_arr, w_3_err, label = \"B3-Fehler\")\n",
    "#Fehler nach Fehlerschätzer\n",
    "plt.semilogy(order_arr, eta_ZZ_3_arr, label = \"Approximation mit Fehlerschätzer\")\n",
    "\n",
    "plt.xlabel(\"Order\")\n",
    "plt.ylabel(\"error\")\n",
    "plt.legend()\n",
    "plt.show()"
   ]
  },
  {
   "cell_type": "markdown",
   "metadata": {},
   "source": [
    "Erhöhen der Ordnung verringert zwar den echten Fehler, die Fehlerschätzer werden dabei nur marginal besser. Das könnte daran liegen, dass die Interpolation im Fehlerschätzer immer linear ist."
   ]
  },
  {
   "cell_type": "code",
   "execution_count": 13,
   "metadata": {},
   "outputs": [],
   "source": [
    "order = 4\n",
    "tol = 1e-10\n",
    "theta = 0.25"
   ]
  },
  {
   "cell_type": "code",
   "execution_count": 25,
   "metadata": {
    "scrolled": false
   },
   "outputs": [
    {
     "data": {
      "application/vnd.jupyter.widget-view+json": {
       "model_id": "3a090c4e2c7d4792991fe8c5c4796f3e",
       "version_major": 2,
       "version_minor": 0
      },
      "text/plain": [
       "NGSWebGuiWidget(value={'ngsolve_version': '6.2.2008', 'mesh_dim': 2, 'order2d': 1, 'order3d': 1, 'draw_vol': N…"
      ]
     },
     "metadata": {},
     "output_type": "display_data"
    }
   ],
   "source": [
    "#Fehlerarrays für \"exakte\" Fehler\n",
    "u_err = []\n",
    "\n",
    "\n",
    "#Fehlerschätzer-Arrays\n",
    "\n",
    "eta_ZZ_1_arr = []\n",
    "norm = 1\n",
    "j = 0\n",
    "#ndof array\n",
    "ndof_arr = []\n",
    "while norm > tol:\n",
    "    fes = ngs.H1(mesh, order = order , dirichlet = \"outer\")\n",
    "    fe_ag = ngs.VectorH1(mesh, order = order, dirichlet = \"outer\")\n",
    "    \n",
    "    ndof_arr.append(fes.ndof)\n",
    "\n",
    "    u_approx = ngs.GridFunction(fes, autoupdate = True)\n",
    "    u_approx_grad_avg = ngs.GridFunction(fe_ag, autoupdate = True)\n",
    "\n",
    "    w_1_approx = ngs.GridFunction(fes, autoupdate = True)\n",
    "    w_1_approx_grad_avg = ngs.GridFunction(fe_ag, autoupdate = True)\n",
    "  \n",
    "    #It's TnT\n",
    "    u = fes.TrialFunction()\n",
    "    v = fes.TestFunction()\n",
    "    \n",
    "    #Aufstellen der Bilinearform\n",
    "    a = ngs.BilinearForm(fes, symmetric = True)\n",
    "    a += (ngs.grad(u) * ngs.grad(v)) * ngs.dx\n",
    "    a.Assemble()\n",
    "    \n",
    "    #Aufstellen der Linearform\n",
    "    f = ngs.LinearForm(fes)\n",
    "    f += 100 * v * ngs.dx(\"source\")\n",
    "    f.Assemble()\n",
    "    \n",
    "    #Lösen des Problems\n",
    "    u_approx.vec.data = a.mat.Inverse(freedofs = fes.FreeDofs()) * f.vec\n",
    "    \n",
    "    #Aufstellen der b-Linearformen\n",
    "    b_1 = ngs.LinearForm(fes)\n",
    "    b_1 += 100 * v * ngs.dx(\"goal_1\")\n",
    "    b_1.Assemble()\n",
    "\n",
    "    #Fehler von (2) mit Referenzwerten\n",
    "    u_err.append(abs(ngs.InnerProduct(b_1.vec, u_approx.vec)-ref_1))\n",
    " \n",
    "    \n",
    "    w_1_approx.vec.data = a.mat.Inverse(freedofs = fes.FreeDofs()) * b_1.vec\n",
    "  \n",
    "    \n",
    "    #Interpolieren für Fehlerschätzer\n",
    "    flux = ngs.grad(u_approx)\n",
    "    u_approx_grad_avg.Set(flux)\n",
    "    \n",
    "    flux_1 = ngs.grad(w_1_approx)\n",
    "    w_1_approx_grad_avg.Set(flux_1)\n",
    "\n",
    "    \n",
    "    #Fehlerschätzer\n",
    "    \n",
    "    eta_1 =  ngs.Integrate(\n",
    "                ngs.InnerProduct(\n",
    "                    ngs.grad(w_1_approx) - w_1_approx_grad_avg,\n",
    "                    ngs.grad(w_1_approx) - w_1_approx_grad_avg),\n",
    "                mesh,\n",
    "                ngs.VOL,\n",
    "                element_wise = True\n",
    "            )\n",
    "    \n",
    "    eta_2 =  ngs.Integrate(\n",
    "                ngs.InnerProduct(\n",
    "                    ngs.grad(u_approx) - u_approx_grad_avg,\n",
    "                    ngs.grad(u_approx) - u_approx_grad_avg),\n",
    "                mesh,\n",
    "                ngs.VOL,\n",
    "                element_wise = True\n",
    "            )\n",
    "        \n",
    "    \n",
    "    eta_num_1 = eta_1.NumPy()                       #Numpy-Array mit Elementbasierten Fehlern\n",
    "    eta_num_2 = eta_2.NumPy()\n",
    "    eta_num = eta_num_1*eta_num_2\n",
    "    \n",
    "    errnr = []                                  #Liste der Indizes der Mesh-Elemente\n",
    "    sum1 = 0                                    #Summe aller Fehler\n",
    "    for el in mesh.Elements():\n",
    "        errnr.append([eta_num[el.nr],el.nr])    #Fügen Fehler der Mesh-Elemente kodiert mit ihrer Nummer zusammen\n",
    "        sum1 += eta_num[el.nr]                  #Summieren der Fehler\n",
    "        \n",
    "    errnr.sort(key = lambda x: x[0], reverse = True) #Fehler wird absteigend sortiert\n",
    "    \n",
    "    sum2 = 0                                    #Teilsumme der Fehler\n",
    "    i = 0\n",
    "    refinement_arr = []                         #Indizes der Mesh-Elemente, die refined werden sollen\n",
    "    while sum2 < sum1*theta:                    #Summiere bis Teilsumme größer als theta*Gesamtsumme, Negation von (4.54)\n",
    "        sum2 += errnr[i][0]                     #Teilsumme um den i-t größten Fehler erhöhen \n",
    "        refinement_arr.append(errnr[i][1])      #Schlüssel an refinement_arr übergeben\n",
    "        i += 1\n",
    "    \n",
    "    for el in mesh.Elements():\n",
    "        mesh.SetRefinementFlag(el,el.nr in refinement_arr)     #Markieren der Elemente deren Schlüssel im refinement_arr vorkommt\n",
    "\n",
    "    \n",
    "    mesh.Refine()                              #Mesh wird verfeinert\n",
    "    \n",
    "    if j%3==0:\n",
    "        Draw(mesh)\n",
    "    #a.Assemble()                               #Für neuen FES werden Linear- sowie Bilinearform neu Assembliert\n",
    "    #f.Assemble()\n",
    "    \n",
    "    j+=1\n",
    "    eta_num = np.sqrt(eta_num)                  #Wurzelziehen von eta\n",
    "    norm = np.linalg.norm(eta_num)\n",
    "    eta_ZZ_1_arr.append(norm)"
   ]
  },
  {
   "cell_type": "code",
   "execution_count": 15,
   "metadata": {
    "scrolled": false
   },
   "outputs": [
    {
     "data": {
      "image/png": "[encoded data removed]",
      "text/plain": [
       "<Figure size 432x288 with 1 Axes>"
      ]
     },
     "metadata": {
      "needs_background": "light"
     },
     "output_type": "display_data"
    }
   ],
   "source": [
    "#%matplotlib notebook\n",
    "\n",
    "plt.loglog(ndof_arr, u_err,\"-*\", label = \"B1-Fehler\")\n",
    "plt.loglog(ndof_arr, eta_ZZ_1_arr, \"-*\", label = \"Fehlerschätzer\")\n",
    "\n",
    "plt.legend()\n",
    "plt.show()"
   ]
  },
  {
   "cell_type": "code",
   "execution_count": 24,
   "metadata": {},
   "outputs": [],
   "source": [
    "mesh = ngs.Mesh(\"mesh_bsp30.vol\") #Mesh reset, ansonsten wird am schon verfeinerten mesh weitergearbeitet"
   ]
  },
  {
   "cell_type": "code",
   "execution_count": 17,
   "metadata": {
    "scrolled": false
   },
   "outputs": [
    {
     "data": {
      "application/vnd.jupyter.widget-view+json": {
       "model_id": "f6bc11ecccf2405ab9250afc824265aa",
       "version_major": 2,
       "version_minor": 0
      },
      "text/plain": [
       "NGSWebGuiWidget(value={'ngsolve_version': '6.2.2008', 'mesh_dim': 2, 'order2d': 1, 'order3d': 1, 'draw_vol': N…"
      ]
     },
     "metadata": {},
     "output_type": "display_data"
    },
    {
     "data": {
      "application/vnd.jupyter.widget-view+json": {
       "model_id": "8ae91a6ae5b64135a91397b857d346e6",
       "version_major": 2,
       "version_minor": 0
      },
      "text/plain": [
       "NGSWebGuiWidget(value={'ngsolve_version': '6.2.2008', 'mesh_dim': 2, 'order2d': 1, 'order3d': 1, 'draw_vol': N…"
      ]
     },
     "metadata": {},
     "output_type": "display_data"
    },
    {
     "data": {
      "application/vnd.jupyter.widget-view+json": {
       "model_id": "b7e7d88e1a4a47bc9bed3387f67cbdce",
       "version_major": 2,
       "version_minor": 0
      },
      "text/plain": [
       "NGSWebGuiWidget(value={'ngsolve_version': '6.2.2008', 'mesh_dim': 2, 'order2d': 1, 'order3d': 1, 'draw_vol': N…"
      ]
     },
     "metadata": {},
     "output_type": "display_data"
    },
    {
     "data": {
      "application/vnd.jupyter.widget-view+json": {
       "model_id": "8be15b9cefe54c4c8a817407e6078a6b",
       "version_major": 2,
       "version_minor": 0
      },
      "text/plain": [
       "NGSWebGuiWidget(value={'ngsolve_version': '6.2.2008', 'mesh_dim': 2, 'order2d': 1, 'order3d': 1, 'draw_vol': N…"
      ]
     },
     "metadata": {},
     "output_type": "display_data"
    },
    {
     "data": {
      "application/vnd.jupyter.widget-view+json": {
       "model_id": "4758a2a53bc04f12bf918cccc9646697",
       "version_major": 2,
       "version_minor": 0
      },
      "text/plain": [
       "NGSWebGuiWidget(value={'ngsolve_version': '6.2.2008', 'mesh_dim': 2, 'order2d': 1, 'order3d': 1, 'draw_vol': N…"
      ]
     },
     "metadata": {},
     "output_type": "display_data"
    }
   ],
   "source": [
    "#Fehlerarrays für \"exakte\" Fehler\n",
    "u_err = []\n",
    "\n",
    "\n",
    "#Fehlerschätzer-Arrays\n",
    "\n",
    "eta_ZZ_2_arr = []\n",
    "norm = 1\n",
    "j = 0\n",
    "#ndof array\n",
    "ndof_arr = []\n",
    "while norm > tol:\n",
    "    fes = ngs.H1(mesh, order = order , dirichlet = \"outer\")\n",
    "    fe_ag = ngs.VectorH1(mesh, order = order, dirichlet = \"outer\")\n",
    "    \n",
    "    ndof_arr.append(fes.ndof)\n",
    "\n",
    "    u_approx = ngs.GridFunction(fes, autoupdate = True)\n",
    "    u_approx_grad_avg = ngs.GridFunction(fe_ag, autoupdate = True)\n",
    "\n",
    "    w_2_approx = ngs.GridFunction(fes, autoupdate = True)\n",
    "    w_2_approx_grad_avg = ngs.GridFunction(fe_ag, autoupdate = True)\n",
    "  \n",
    "    #It's TnT\n",
    "    u = fes.TrialFunction()\n",
    "    v = fes.TestFunction()\n",
    "    \n",
    "    #Aufstellen der Bilinearform\n",
    "    a = ngs.BilinearForm(fes, symmetric = True)\n",
    "    a += (ngs.grad(u) * ngs.grad(v)) * ngs.dx\n",
    "    a.Assemble()\n",
    "    \n",
    "    #Aufstellen der Linearform\n",
    "    f = ngs.LinearForm(fes)\n",
    "    f += 100 * v * ngs.dx(\"source\")\n",
    "    f.Assemble()\n",
    "    \n",
    "    #Lösen des Problems\n",
    "    u_approx.vec.data = a.mat.Inverse(freedofs = fes.FreeDofs()) * f.vec\n",
    "    \n",
    "    #Aufstellen der b-Linearformen\n",
    "    b_2 = ngs.LinearForm(fes)\n",
    "    b_2 += 10 * v * ngs.ds(\"goal_2\")\n",
    "    b_2.Assemble()\n",
    "\n",
    "    #Fehler von (2) mit Referenzwerten\n",
    "    u_err.append(abs(ngs.InnerProduct(b_2.vec, u_approx.vec)-ref_2))\n",
    " \n",
    "    \n",
    "    w_2_approx.vec.data = a.mat.Inverse(freedofs = fes.FreeDofs()) * b_2.vec\n",
    "  \n",
    "    \n",
    "    #Interpolieren für Fehlerschätzer\n",
    "    flux = ngs.grad(u_approx)\n",
    "    u_approx_grad_avg.Set(flux)\n",
    "    \n",
    "    flux_1 = ngs.grad(w_2_approx)\n",
    "    w_2_approx_grad_avg.Set(flux_1)\n",
    "\n",
    "    \n",
    "    #Fehlerschätzer\n",
    "    \n",
    "    eta_1 =  ngs.Integrate(\n",
    "                ngs.InnerProduct(\n",
    "                    ngs.grad(w_2_approx) - w_2_approx_grad_avg,\n",
    "                    ngs.grad(w_2_approx) - w_2_approx_grad_avg),\n",
    "                mesh,\n",
    "                ngs.VOL,\n",
    "                element_wise = True\n",
    "            )\n",
    "    \n",
    "    eta_2 =  ngs.Integrate(\n",
    "                ngs.InnerProduct(\n",
    "                    ngs.grad(u_approx) - u_approx_grad_avg,\n",
    "                    ngs.grad(u_approx) - u_approx_grad_avg),\n",
    "                mesh,\n",
    "                ngs.VOL,\n",
    "                element_wise = True\n",
    "            )\n",
    "        \n",
    "    \n",
    "    eta_num_1 = eta_1.NumPy()                       #Numpy-Array mit Elementbasierten Fehlern\n",
    "    eta_num_2 = eta_2.NumPy()\n",
    "    eta_num = eta_num_1*eta_num_2\n",
    "    \n",
    "    errnr = []                                  #Liste der Indizes der Mesh-Elemente\n",
    "    sum1 = 0                                    #Summe aller Fehler\n",
    "    for el in mesh.Elements():\n",
    "        errnr.append([eta_num[el.nr],el.nr])    #Fügen Fehler der Mesh-Elemente kodiert mit ihrer Nummer zusammen\n",
    "        sum1 += eta_num[el.nr]                  #Summieren der Fehler\n",
    "        \n",
    "    errnr.sort(key = lambda x: x[0], reverse = True) #Fehler wird absteigend sortiert\n",
    "    \n",
    "    sum2 = 0                                    #Teilsumme der Fehler\n",
    "    i = 0\n",
    "    refinement_arr = []                         #Indizes der Mesh-Elemente, die refined werden sollen\n",
    "    while sum2 < sum1*theta:                    #Summiere bis Teilsumme größer als theta*Gesamtsumme, Negation von (4.54)\n",
    "        sum2 += errnr[i][0]                     #Teilsumme um den i-t größten Fehler erhöhen \n",
    "        refinement_arr.append(errnr[i][1])      #Schlüssel an refinement_arr übergeben\n",
    "        i += 1\n",
    "    \n",
    "    for el in mesh.Elements():\n",
    "        mesh.SetRefinementFlag(el,el.nr in refinement_arr)     #Markieren der Elemente deren Schlüssel im refinement_arr vorkommt\n",
    "\n",
    "    \n",
    "    mesh.Refine()                              #Mesh wird verfeinert\n",
    "    \n",
    "    if j%3==0:\n",
    "        Draw(mesh)\n",
    "    #a.Assemble()                               #Für neuen FES werden Linear- sowie Bilinearform neu Assembliert\n",
    "    #f.Assemble()\n",
    "    eta_num = np.sqrt(eta_num)                  #Wurzelziehen von eta\n",
    "    j+=1\n",
    "    norm = np.linalg.norm(eta_num)\n",
    "    eta_ZZ_2_arr.append(norm)"
   ]
  },
  {
   "cell_type": "markdown",
   "metadata": {},
   "source": [
    "###### Die Mesh-Verfeinerungen finden hier hauptsächlich im Gebiet rund um die Kante, über die $b_2$ integriert, statt."
   ]
  },
  {
   "cell_type": "code",
   "execution_count": 18,
   "metadata": {
    "scrolled": false
   },
   "outputs": [
    {
     "data": {
      "image/png": "[encoded data removed]",
      "text/plain": [
       "<Figure size 432x288 with 1 Axes>"
      ]
     },
     "metadata": {
      "needs_background": "light"
     },
     "output_type": "display_data"
    }
   ],
   "source": [
    "#%matplotlib notebook\n",
    "\n",
    "plt.loglog(ndof_arr, u_err, \"-*\", label = \"B2-Fehler\")\n",
    "plt.loglog(ndof_arr, eta_ZZ_2_arr, \"*-\", label = \"Fehlerschätzer\")\n",
    "\n",
    "plt.legend()\n",
    "plt.show()"
   ]
  },
  {
   "cell_type": "code",
   "execution_count": 19,
   "metadata": {},
   "outputs": [],
   "source": [
    "mesh = ngs.Mesh(\"mesh_bsp30.vol\") #Mesh reset, ansonsten wird am schon verfeinerten mesh weitergearbeitet"
   ]
  },
  {
   "cell_type": "code",
   "execution_count": 20,
   "metadata": {
    "scrolled": false
   },
   "outputs": [
    {
     "data": {
      "application/vnd.jupyter.widget-view+json": {
       "model_id": "82b3c6554ab34c31869fc64b00a0f0d7",
       "version_major": 2,
       "version_minor": 0
      },
      "text/plain": [
       "NGSWebGuiWidget(value={'ngsolve_version': '6.2.2008', 'mesh_dim': 2, 'order2d': 1, 'order3d': 1, 'draw_vol': N…"
      ]
     },
     "metadata": {},
     "output_type": "display_data"
    },
    {
     "data": {
      "application/vnd.jupyter.widget-view+json": {
       "model_id": "c229f13de2714a268e2ac8a211fbca5a",
       "version_major": 2,
       "version_minor": 0
      },
      "text/plain": [
       "NGSWebGuiWidget(value={'ngsolve_version': '6.2.2008', 'mesh_dim': 2, 'order2d': 1, 'order3d': 1, 'draw_vol': N…"
      ]
     },
     "metadata": {},
     "output_type": "display_data"
    },
    {
     "data": {
      "application/vnd.jupyter.widget-view+json": {
       "model_id": "16199198b798409b838663484db686bf",
       "version_major": 2,
       "version_minor": 0
      },
      "text/plain": [
       "NGSWebGuiWidget(value={'ngsolve_version': '6.2.2008', 'mesh_dim': 2, 'order2d': 1, 'order3d': 1, 'draw_vol': N…"
      ]
     },
     "metadata": {},
     "output_type": "display_data"
    },
    {
     "data": {
      "application/vnd.jupyter.widget-view+json": {
       "model_id": "a3a90b008b63485f8aa158154a66fd6c",
       "version_major": 2,
       "version_minor": 0
      },
      "text/plain": [
       "NGSWebGuiWidget(value={'ngsolve_version': '6.2.2008', 'mesh_dim': 2, 'order2d': 1, 'order3d': 1, 'draw_vol': N…"
      ]
     },
     "metadata": {},
     "output_type": "display_data"
    },
    {
     "data": {
      "application/vnd.jupyter.widget-view+json": {
       "model_id": "2941b1b1a97f46e093dae797f3762e6b",
       "version_major": 2,
       "version_minor": 0
      },
      "text/plain": [
       "NGSWebGuiWidget(value={'ngsolve_version': '6.2.2008', 'mesh_dim': 2, 'order2d': 1, 'order3d': 1, 'draw_vol': N…"
      ]
     },
     "metadata": {},
     "output_type": "display_data"
    },
    {
     "data": {
      "application/vnd.jupyter.widget-view+json": {
       "model_id": "19d4d301943844bdab17ee41b1cac7a1",
       "version_major": 2,
       "version_minor": 0
      },
      "text/plain": [
       "NGSWebGuiWidget(value={'ngsolve_version': '6.2.2008', 'mesh_dim': 2, 'order2d': 1, 'order3d': 1, 'draw_vol': N…"
      ]
     },
     "metadata": {},
     "output_type": "display_data"
    }
   ],
   "source": [
    "#Fehlerarrays für \"exakte\" Fehler\n",
    "u_err = []\n",
    "\n",
    "\n",
    "#Fehlerschätzer-Arrays\n",
    "\n",
    "eta_ZZ_3_arr = []\n",
    "norm = 1\n",
    "j = 0\n",
    "#ndof array\n",
    "ndof_arr = []\n",
    "while norm > tol:\n",
    "    fes = ngs.H1(mesh, order = order , dirichlet = \"outer\")\n",
    "    fe_ag = ngs.VectorH1(mesh, order = order, dirichlet = \"outer\")\n",
    "    \n",
    "    ndof_arr.append(fes.ndof)\n",
    "\n",
    "    u_approx = ngs.GridFunction(fes, autoupdate = True)\n",
    "    u_approx_grad_avg = ngs.GridFunction(fe_ag, autoupdate = True)\n",
    "\n",
    "    w_3_approx = ngs.GridFunction(fes, autoupdate = True)\n",
    "    w_3_approx_grad_avg = ngs.GridFunction(fe_ag, autoupdate = True)\n",
    "  \n",
    "    #It's TnT\n",
    "    u = fes.TrialFunction()\n",
    "    v = fes.TestFunction()\n",
    "    \n",
    "    #Aufstellen der Bilinearform\n",
    "    a = ngs.BilinearForm(fes, symmetric = True)\n",
    "    a += (ngs.grad(u) * ngs.grad(v)) * ngs.dx\n",
    "    a.Assemble()\n",
    "    \n",
    "    #Aufstellen der Linearform\n",
    "    f = ngs.LinearForm(fes)\n",
    "    f += 100 * v * ngs.dx(\"source\")\n",
    "    f.Assemble()\n",
    "    \n",
    "    #Lösen des Problems\n",
    "    u_approx.vec.data = a.mat.Inverse(freedofs = fes.FreeDofs()) * f.vec\n",
    "    \n",
    "    #Aufstellen der b-Linearformen\n",
    "    b_3 = ngs.LinearForm(fes)\n",
    "    b_3 += v(0.75, 0.5)\n",
    "    b_3.Assemble()\n",
    "\n",
    "    #Fehler von (2) mit Referenzwerten\n",
    "    u_err.append(abs(ngs.InnerProduct(b_3.vec, u_approx.vec)-ref_3))\n",
    " \n",
    "    \n",
    "    w_3_approx.vec.data = a.mat.Inverse(freedofs = fes.FreeDofs()) * b_3.vec\n",
    "  \n",
    "    \n",
    "    #Interpolieren für Fehlerschätzer\n",
    "    flux = ngs.grad(u_approx)\n",
    "    u_approx_grad_avg.Set(flux)\n",
    "    \n",
    "    flux_1 = ngs.grad(w_3_approx)\n",
    "    w_3_approx_grad_avg.Set(flux_1)\n",
    "\n",
    "    \n",
    "    #Fehlerschätzer\n",
    "    \n",
    "    eta_1 =  ngs.Integrate(\n",
    "                ngs.InnerProduct(\n",
    "                    ngs.grad(w_3_approx) - w_3_approx_grad_avg,\n",
    "                    ngs.grad(w_3_approx) - w_3_approx_grad_avg),\n",
    "                mesh,\n",
    "                ngs.VOL,\n",
    "                element_wise = True\n",
    "            )\n",
    "    \n",
    "    eta_2 =  ngs.Integrate(\n",
    "                ngs.InnerProduct(\n",
    "                    ngs.grad(u_approx) - u_approx_grad_avg,\n",
    "                    ngs.grad(u_approx) - u_approx_grad_avg),\n",
    "                mesh,\n",
    "                ngs.VOL,\n",
    "                element_wise = True\n",
    "            )\n",
    "        \n",
    "    \n",
    "    eta_num_1 = eta_1.NumPy()                       #Numpy-Array mit Elementbasierten Fehlern\n",
    "    eta_num_2 = eta_2.NumPy()\n",
    "    eta_num = eta_num_1*eta_num_2\n",
    "    \n",
    "    errnr = []                                  #Liste der Indizes der Mesh-Elemente\n",
    "    sum1 = 0                                    #Summe aller Fehler\n",
    "    for el in mesh.Elements():\n",
    "        errnr.append([eta_num[el.nr],el.nr])    #Fügen Fehler der Mesh-Elemente kodiert mit ihrer Nummer zusammen\n",
    "        sum1 += eta_num[el.nr]                  #Summieren der Fehler\n",
    "        \n",
    "    errnr.sort(key = lambda x: x[0], reverse = True) #Fehler wird absteigend sortiert\n",
    "    \n",
    "    sum2 = 0                                    #Teilsumme der Fehler\n",
    "    i = 0\n",
    "    refinement_arr = []                         #Indizes der Mesh-Elemente, die refined werden sollen\n",
    "    while sum2 < sum1*theta:                    #Summiere bis Teilsumme größer als theta*Gesamtsumme, Negation von (4.54)\n",
    "        sum2 += errnr[i][0]                     #Teilsumme um den i-t größten Fehler erhöhen \n",
    "        refinement_arr.append(errnr[i][1])      #Schlüssel an refinement_arr übergeben\n",
    "        i += 1\n",
    "    \n",
    "    for el in mesh.Elements():\n",
    "        mesh.SetRefinementFlag(el,el.nr in refinement_arr)     #Markieren der Elemente deren Schlüssel im refinement_arr vorkommt\n",
    "\n",
    "    \n",
    "    mesh.Refine()                              #Mesh wird verfeinert\n",
    "    \n",
    "    if j%3==0:\n",
    "        Draw(mesh)\n",
    "    #a.Assemble()                               #Für neuen FES werden Linear- sowie Bilinearform neu Assembliert\n",
    "    #f.Assemble()\n",
    "    eta_num = np.sqrt(eta_num)                  #Wurzelziehen von eta\n",
    "    j+=1\n",
    "    norm = np.linalg.norm(eta_num)\n",
    "    eta_ZZ_3_arr.append(norm)"
   ]
  },
  {
   "cell_type": "markdown",
   "metadata": {},
   "source": [
    "Auch hier: Hauptsächlich lokale Verfeinerungen rund um (0.75,0.5)"
   ]
  },
  {
   "cell_type": "code",
   "execution_count": 21,
   "metadata": {},
   "outputs": [
    {
     "data": {
      "image/png": "[encoded data removed]",
      "text/plain": [
       "<Figure size 432x288 with 1 Axes>"
      ]
     },
     "metadata": {
      "needs_background": "light"
     },
     "output_type": "display_data"
    }
   ],
   "source": [
    "#%matplotlib notebook\n",
    "\n",
    "plt.loglog(ndof_arr, u_err, \"-*\", label = \"B3-Fehler\")\n",
    "plt.loglog(ndof_arr, eta_ZZ_3_arr, \"*-\", label = \"Fehlerschätzer\")\n",
    "\n",
    "plt.legend()\n",
    "plt.show()"
   ]
  },
  {
   "cell_type": "code",
   "execution_count": 22,
   "metadata": {},
   "outputs": [],
   "source": [
    "mesh = ngs.Mesh(\"mesh_bsp30.vol\") #Mesh reset, ansonsten wird am schon verfeinerten mesh weitergearbeitet\n",
    "tol = 1e-4"
   ]
  },
  {
   "cell_type": "markdown",
   "metadata": {},
   "source": [
    "## Abschließend: Allgemiene Mesh-Verfeinerung ohne zu minimierenden Fehler in Linearform"
   ]
  },
  {
   "cell_type": "code",
   "execution_count": 23,
   "metadata": {
    "scrolled": false
   },
   "outputs": [
    {
     "data": {
      "application/vnd.jupyter.widget-view+json": {
       "model_id": "0b1bdd38b54748fe82d5dfa655aed971",
       "version_major": 2,
       "version_minor": 0
      },
      "text/plain": [
       "NGSWebGuiWidget(value={'ngsolve_version': '6.2.2008', 'mesh_dim': 2, 'order2d': 1, 'order3d': 1, 'draw_vol': N…"
      ]
     },
     "metadata": {},
     "output_type": "display_data"
    },
    {
     "data": {
      "application/vnd.jupyter.widget-view+json": {
       "model_id": "bc44e940bb4444db870b1f5fe6bae3ef",
       "version_major": 2,
       "version_minor": 0
      },
      "text/plain": [
       "NGSWebGuiWidget(value={'ngsolve_version': '6.2.2008', 'mesh_dim': 2, 'order2d': 1, 'order3d': 1, 'draw_vol': N…"
      ]
     },
     "metadata": {},
     "output_type": "display_data"
    },
    {
     "data": {
      "application/vnd.jupyter.widget-view+json": {
       "model_id": "2f7aa415dd384518873904c92a7f9a0e",
       "version_major": 2,
       "version_minor": 0
      },
      "text/plain": [
       "NGSWebGuiWidget(value={'ngsolve_version': '6.2.2008', 'mesh_dim': 2, 'order2d': 1, 'order3d': 1, 'draw_vol': N…"
      ]
     },
     "metadata": {},
     "output_type": "display_data"
    },
    {
     "data": {
      "application/vnd.jupyter.widget-view+json": {
       "model_id": "de665751ea8740c1804135819a4d4cda",
       "version_major": 2,
       "version_minor": 0
      },
      "text/plain": [
       "NGSWebGuiWidget(value={'ngsolve_version': '6.2.2008', 'mesh_dim': 2, 'order2d': 1, 'order3d': 1, 'draw_vol': N…"
      ]
     },
     "metadata": {},
     "output_type": "display_data"
    },
    {
     "data": {
      "application/vnd.jupyter.widget-view+json": {
       "model_id": "1a9d52f57b6e400eb2809af846d8751f",
       "version_major": 2,
       "version_minor": 0
      },
      "text/plain": [
       "NGSWebGuiWidget(value={'ngsolve_version': '6.2.2008', 'mesh_dim': 2, 'order2d': 1, 'order3d': 1, 'draw_vol': N…"
      ]
     },
     "metadata": {},
     "output_type": "display_data"
    }
   ],
   "source": [
    "norm = 1\n",
    "j = 0\n",
    "\n",
    "while norm > tol:\n",
    "    fes = ngs.H1(mesh, order = order , dirichlet = \"outer\")\n",
    "    fe_ag = ngs.VectorH1(mesh, order = order, dirichlet = \"outer\")\n",
    "\n",
    "    u_approx = ngs.GridFunction(fes, autoupdate = True)\n",
    "    u_approx_grad_avg = ngs.GridFunction(fe_ag, autoupdate = True)\n",
    "  \n",
    "    #It's TnT\n",
    "    u = fes.TrialFunction()\n",
    "    v = fes.TestFunction()\n",
    "    \n",
    "    #Aufstellen der Bilinearform\n",
    "    a = ngs.BilinearForm(fes, symmetric = True)\n",
    "    a += (ngs.grad(u) * ngs.grad(v)) * ngs.dx\n",
    "    a.Assemble()\n",
    "    \n",
    "    #Aufstellen der Linearform\n",
    "    f = ngs.LinearForm(fes)\n",
    "    f += 100 * v * ngs.dx(\"source\")\n",
    "    f.Assemble()\n",
    "    \n",
    "    #Lösen des Problems\n",
    "    u_approx.vec.data = a.mat.Inverse(freedofs = fes.FreeDofs()) * f.vec\n",
    "  \n",
    "    \n",
    "    #Interpolieren für Fehlerschätzer\n",
    "    flux = ngs.grad(u_approx)\n",
    "    u_approx_grad_avg.Set(flux)\n",
    "\n",
    "    \n",
    "    #Fehlerschätzer\n",
    "    eta =  ngs.Integrate(\n",
    "                ngs.InnerProduct(\n",
    "                    ngs.grad(u_approx) - u_approx_grad_avg,\n",
    "                    ngs.grad(u_approx) - u_approx_grad_avg),\n",
    "                mesh,\n",
    "                ngs.VOL,\n",
    "                element_wise = True\n",
    "            )\n",
    "        \n",
    "    eta_num = eta.NumPy()\n",
    "    \n",
    "    errnr = []                                  #Liste der Indizes der Mesh-Elemente\n",
    "    sum1 = 0                                    #Summe aller Fehler\n",
    "    for el in mesh.Elements():\n",
    "        errnr.append([eta_num[el.nr],el.nr])    #Fügen Fehler der Mesh-Elemente kodiert mit ihrer Nummer zusammen\n",
    "        sum1 += eta_num[el.nr]                  #Summieren der Fehler\n",
    "        \n",
    "    errnr.sort(key = lambda x: x[0], reverse = True) #Fehler wird absteigend sortiert\n",
    "    \n",
    "    sum2 = 0                                    #Teilsumme der Fehler\n",
    "    i = 0\n",
    "    refinement_arr = []                         #Indizes der Mesh-Elemente, die refined werden sollen\n",
    "    while sum2 < sum1*theta:                    #Summiere bis Teilsumme größer als theta*Gesamtsumme, Negation von (4.54)\n",
    "        sum2 += errnr[i][0]                     #Teilsumme um den i-t größten Fehler erhöhen \n",
    "        refinement_arr.append(errnr[i][1])      #Schlüssel an refinement_arr übergeben\n",
    "        i += 1\n",
    "    \n",
    "    for el in mesh.Elements():\n",
    "        mesh.SetRefinementFlag(el,el.nr in refinement_arr)     #Markieren der Elemente deren Schlüssel im refinement_arr vorkommt\n",
    "\n",
    "    \n",
    "    mesh.Refine()                              #Mesh wird verfeinert\n",
    "    \n",
    "    if j%3==0:\n",
    "        Draw(mesh)\n",
    "    #a.Assemble()                               #Für neuen FES werden Linear- sowie Bilinearform neu Assembliert\n",
    "    #f.Assemble()\n",
    "    eta_num = np.sqrt(eta_num)                  #Wurzelziehen von eta\n",
    "    j+=1\n",
    "    norm = np.linalg.norm(eta_num)\n",
    "    eta_ZZ_3_arr.append(norm)"
   ]
  },
  {
   "cell_type": "markdown",
   "metadata": {},
   "source": [
    "Hier finden die Mesh-Verfeinerungen an den Ecken des \"outer\" Quadrats statt. Ganz im Gegenteil zu den vorherigen Mesh-Verfeinerungen kommt es beim \"goal2\" Quadrats jedoch zu keinen Verfeinerungen."
   ]
  },
  {
   "cell_type": "code",
   "execution_count": null,
   "metadata": {},
   "outputs": [],
   "source": []
  }
 ],
 "metadata": {
  "kernelspec": {
   "display_name": "Python 3",
   "language": "python",
   "name": "python3"
  },
  "language_info": {
   "codemirror_mode": {
    "name": "ipython",
    "version": 3
   },
   "file_extension": ".py",
   "mimetype": "text/x-python",
   "name": "python",
   "nbconvert_exporter": "python",
   "pygments_lexer": "ipython3",
   "version": "3.7.4"
  }
 },
 "nbformat": 4,
 "nbformat_minor": 2
}
