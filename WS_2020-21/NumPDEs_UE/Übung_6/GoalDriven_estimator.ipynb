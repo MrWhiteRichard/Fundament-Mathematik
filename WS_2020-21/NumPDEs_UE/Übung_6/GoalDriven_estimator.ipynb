{
 "cells": [
  {
   "cell_type": "markdown",
   "metadata": {},
   "source": [
    "# Goal driven error estimator:\n",
    "## Geometry of examples:\n",
    "Geometry where all goal areas and subdomains are resolved."
   ]
  },
  {
   "cell_type": "code",
   "execution_count": null,
   "metadata": {},
   "outputs": [],
   "source": [
    "from ngsolve import *\n",
    "from ngsolve.webgui import Draw\n",
    "maxh = 1\n",
    "\n",
    "from netgen.geom2d import SplineGeometry\n",
    "geo = SplineGeometry()\n",
    "cos = [(0.7,0.45), (0.75,0.45), (0.8,0.45), (0.8, 0.55), (0.75,0.55), (0.7,0.55), (0.75,0.5)]\n",
    "for co in cos:\n",
    "    geo.AddPoint(*co)\n",
    "geo.Append([\"line\", 0,1], leftdomain=3, rightdomain=1, bc='none'  , maxh=maxh)\n",
    "geo.Append([\"line\", 1,6], leftdomain=3, rightdomain=3, bc='goal_2', maxh=maxh)\n",
    "geo.Append([\"line\", 6,4], leftdomain=3, rightdomain=3, bc='goal_2', maxh=maxh)\n",
    "geo.Append([\"line\", 4,5], leftdomain=3, rightdomain=1, bc='none'  , maxh=maxh)\n",
    "geo.Append([\"line\", 5,0], leftdomain=3, rightdomain=1, bc='none'  , maxh=maxh)\n",
    "geo.Append([\"line\", 1,2], leftdomain=3, rightdomain=1, bc='none'  , maxh=maxh)\n",
    "geo.Append([\"line\", 2,3], leftdomain=3, rightdomain=1, bc='none'  , maxh=maxh)\n",
    "geo.Append([\"line\", 3,4], leftdomain=3, rightdomain=1, bc='none'  , maxh=maxh)\n",
    "geo.AddRectangle( (0,0), (1,1), leftdomain=1, rightdomain=0, bc='outer')\n",
    "geo.AddRectangle( (0.2,0.45), (0.3,0.55), leftdomain=2, rightdomain=1,maxh=0.05, \n",
    "                 bcs=['inner_bot', 'inner_right', 'inner_top', 'inner_left'])\n",
    "geo.SetMaterial(1, 'outer')\n",
    "geo.SetMaterial(2, 'source')\n",
    "geo.SetMaterial(3, 'goal_1')\n",
    "\n",
    "mesh = Mesh(geo.GenerateMesh(maxh=maxh))\n",
    "Draw(CoefficientFunction( [1,2,3] ), mesh, \"domains\")"
   ]
  },
  {
   "cell_type": "code",
   "execution_count": null,
   "metadata": {},
   "outputs": [],
   "source": []
  }
 ],
 "metadata": {
  "kernelspec": {
   "display_name": "Python 3",
   "language": "python",
   "name": "python3"
  },
  "language_info": {
   "codemirror_mode": {
    "name": "ipython",
    "version": 3
   },
   "file_extension": ".py",
   "mimetype": "text/x-python",
   "name": "python",
   "nbconvert_exporter": "python",
   "pygments_lexer": "ipython3",
   "version": "3.8.5"
  }
 },
 "nbformat": 4,
 "nbformat_minor": 2
}
