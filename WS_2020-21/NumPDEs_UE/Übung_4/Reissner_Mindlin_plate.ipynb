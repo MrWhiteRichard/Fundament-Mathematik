{
 "cells": [
  {
   "cell_type": "markdown",
   "metadata": {},
   "source": [
    "# Reissner-Mindlin Plate\n",
    "\n",
    "Find $(w,\\beta)\\in H_{\\Gamma_D}^1(\\Omega)\\times [H_{\\Gamma_D}^1(\\Omega)]^2$ such that for all $(\\delta w,\\delta \\beta)\\in H_{\\Gamma_D}^1(\\Omega)\\times [H_{\\Gamma_D}^1(\\Omega)]^2$\n",
    "\n",
    "$$\n",
    "\\begin{aligned}\n",
    "\\frac{1}{12}\\int_{\\Omega}\\epsilon(\\beta):\\epsilon(\\delta\\beta)\\,dx + \\frac{1}{2t^2}\\int_{\\Omega}(\\nabla w-\\beta)\\cdot(\\nabla\\delta w-\\delta\\beta)\\,dx& = \\int_{\\Omega}f_z\\delta w\\,dx && \\text { in  } \\Omega,\n",
    "\\\\\n",
    "w & = 0 \n",
    "&& \\text{ on } \\Gamma_D,\\\\\n",
    "\\beta & = 0 \n",
    "&& \\text{ on } \\Gamma_D.\n",
    "\\end{aligned}\n",
    "$$"
   ]
  },
  {
   "cell_type": "markdown",
   "metadata": {},
   "source": [
    "#### Import NGSolve and Netgen Python modules:"
   ]
  },
  {
   "cell_type": "code",
   "execution_count": null,
   "metadata": {},
   "outputs": [],
   "source": [
    "from ngsolve import *\n",
    "from ngsolve.webgui import Draw"
   ]
  },
  {
   "cell_type": "markdown",
   "metadata": {},
   "source": [
    "#### Parameter"
   ]
  },
  {
   "cell_type": "code",
   "execution_count": null,
   "metadata": {},
   "outputs": [],
   "source": [
    "order = 2\n",
    "maxh = 0.5\n",
    "# force\n",
    "fz = 0.01\n",
    "# thickness\n",
    "t = 1"
   ]
  },
  {
   "cell_type": "markdown",
   "metadata": {},
   "source": [
    "#### Mesh"
   ]
  },
  {
   "cell_type": "code",
   "execution_count": null,
   "metadata": {},
   "outputs": [],
   "source": [
    "R = 5\n",
    "from netgen.geom2d import SplineGeometry\n",
    "geo = SplineGeometry()\n",
    "geo.AddCircle((0,0), R, bc=\"circ\")\n",
    "\n",
    "mesh = Mesh(geo.GenerateMesh(maxh=maxh))\n",
    "mesh.Curve(order)\n",
    "Draw(mesh)"
   ]
  },
  {
   "cell_type": "markdown",
   "metadata": {},
   "source": [
    "#### Reference solution\n"
   ]
  },
  {
   "cell_type": "code",
   "execution_count": null,
   "metadata": {},
   "outputs": [],
   "source": [
    "r = sqrt(x**2+y**2)\n",
    "xi = r/R\n",
    "w_ex = -3*fz*R**4/16*(1-xi**2)*( (1-xi**2) + 8*(t/R)**2/3)\n",
    "Draw(w_ex, mesh, \"w_ex\",deformation=True)"
   ]
  },
  {
   "cell_type": "markdown",
   "metadata": {},
   "source": [
    "#### Finite element spaces"
   ]
  },
  {
   "cell_type": "code",
   "execution_count": null,
   "metadata": {},
   "outputs": [],
   "source": [
    "fesW = H1(mesh, order=order, dirichlet=\"circ\")\n",
    "fesB = VectorH1(mesh, order=order, dirichlet=\"circ\")\n",
    "fes = fesW*fesB\n",
    "(w,beta), (dw,dbeta) = fes.TnT()"
   ]
  },
  {
   "cell_type": "markdown",
   "metadata": {},
   "source": [
    "#### Define and assemble linear and bilinear forms"
   ]
  },
  {
   "cell_type": "code",
   "execution_count": null,
   "metadata": {},
   "outputs": [],
   "source": [
    "a = BilinearForm(fes, symmetric=True)\n",
    "a += 1/12*InnerProduct(Sym(grad(beta)),Sym(grad(dbeta)))*dx\n",
    "a += 1/(2*t**2)*InnerProduct( grad(w)-beta, grad(dw)-dbeta )*dx\n",
    "a.Assemble()\n",
    "\n",
    "f = LinearForm(fes)\n",
    "f += -fz*dw*dx\n",
    "f.Assemble()"
   ]
  },
  {
   "cell_type": "markdown",
   "metadata": {},
   "source": [
    "#### Solve system and draw solution"
   ]
  },
  {
   "cell_type": "code",
   "execution_count": null,
   "metadata": {},
   "outputs": [],
   "source": [
    "gfsol = GridFunction(fes)\n",
    "gfw, gfbeta= gfsol.components\n",
    "\n",
    "gfsol.vec.data = a.mat.Inverse(fes.FreeDofs())*f.vec\n",
    "Draw(gfw, mesh, \"w\", deformation=True)\n",
    "Draw(gfbeta, mesh, \"beta\")"
   ]
  },
  {
   "cell_type": "markdown",
   "metadata": {},
   "source": [
    "#### Compute error"
   ]
  },
  {
   "cell_type": "code",
   "execution_count": null,
   "metadata": {},
   "outputs": [],
   "source": [
    "norm_w = sqrt(Integrate(w_ex*w_ex, mesh))\n",
    "l2err = sqrt(Integrate((gfw-w_ex)*(gfw-w_ex), mesh))/norm_w\n",
    "print(l2err)"
   ]
  },
  {
   "cell_type": "code",
   "execution_count": null,
   "metadata": {},
   "outputs": [],
   "source": []
  }
 ],
 "metadata": {
  "kernelspec": {
   "display_name": "Python 3",
   "language": "python",
   "name": "python3"
  },
  "language_info": {
   "codemirror_mode": {
    "name": "ipython",
    "version": 3
   },
   "file_extension": ".py",
   "mimetype": "text/x-python",
   "name": "python",
   "nbconvert_exporter": "python",
   "pygments_lexer": "ipython3",
   "version": "3.8.5"
  }
 },
 "nbformat": 4,
 "nbformat_minor": 2
}
