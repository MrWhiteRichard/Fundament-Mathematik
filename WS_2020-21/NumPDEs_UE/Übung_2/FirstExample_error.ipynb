{
 "cells": [
  {
   "cell_type": "markdown",
   "metadata": {},
   "source": [
    "# Poisson problem\n",
    "\n",
    "Let us solve the Poisson problem of finding $u$ satisfying \n",
    "\n",
    "$$\n",
    "\\begin{aligned}\n",
    "-\\Delta u + u& = f && \\text { in  } (0,10)^2,\n",
    "\\\\\n",
    "\\frac{\\partial u }{\\partial n } & = 0 \n",
    "&& \\text{ on the boundary parts}.\n",
    "\\end{aligned}\n",
    "$$"
   ]
  },
  {
   "cell_type": "markdown",
   "metadata": {},
   "source": [
    "## Quick steps to solution:"
   ]
  },
  {
   "cell_type": "markdown",
   "metadata": {},
   "source": [
    "#### 1. Import NGSolve and Netgen Python modules:"
   ]
  },
  {
   "cell_type": "code",
   "execution_count": null,
   "metadata": {},
   "outputs": [],
   "source": [
    "from ngsolve import *\n",
    "from ngsolve.webgui import Draw"
   ]
  },
  {
   "cell_type": "markdown",
   "metadata": {},
   "source": [
    "#### 2. Main discretization parameters and mesh"
   ]
  },
  {
   "cell_type": "code",
   "execution_count": null,
   "metadata": {},
   "outputs": [],
   "source": [
    "order = 4\n",
    "maxh = 0.5\n",
    "\n",
    "from netgen.geom2d import SplineGeometry\n",
    "geo = SplineGeometry()\n",
    "geo.AddRectangle((0,0), (10,10), bcs=['bottom','right','top','left'])\n",
    "\n",
    "mesh = Mesh(geo.GenerateMesh(maxh=maxh))\n",
    "mesh.nv, mesh.ne"
   ]
  },
  {
   "cell_type": "markdown",
   "metadata": {},
   "source": [
    "#### 3. Reference solution and corresponding right hand side\n"
   ]
  },
  {
   "cell_type": "code",
   "execution_count": null,
   "metadata": {},
   "outputs": [],
   "source": [
    "ref_sol = exp(-2*((x-4)**2+(y-6)**2))\n",
    "Draw(ref_sol, mesh, \"reference solution\")\n",
    "\n",
    "refdx = ref_sol.Diff(x)\n",
    "refdy = ref_sol.Diff(y)\n",
    "rhs = -refdx.Diff(x)-refdy.Diff(y) + ref_sol\n",
    "\n",
    "ref_sol_grad = CoefficientFunction( (refdx,refdy) )"
   ]
  },
  {
   "cell_type": "markdown",
   "metadata": {},
   "source": [
    "#### 4. Declare a finite element space and gridfunction"
   ]
  },
  {
   "cell_type": "code",
   "execution_count": null,
   "metadata": {},
   "outputs": [],
   "source": [
    "fes = H1(mesh, order=order)# fe space\n",
    "sol = GridFunction(fes)  # solution \n",
    "print(fes.ndof) # number of degrees of freedom"
   ]
  },
  {
   "cell_type": "markdown",
   "metadata": {},
   "source": [
    "#### 5. Define and assemble linear and bilinear forms"
   ]
  },
  {
   "cell_type": "code",
   "execution_count": null,
   "metadata": {},
   "outputs": [],
   "source": [
    "u = fes.TrialFunction()  # symbolic object\n",
    "v = fes.TestFunction()   # symbolic object\n",
    "\n",
    "a = BilinearForm(fes, symmetric=True)\n",
    "a += (grad(u)*grad(v) + u*v)*dx\n",
    "a.Assemble()\n",
    "\n",
    "f = LinearForm(fes)\n",
    "f += rhs*v*dx\n",
    "f.Assemble()"
   ]
  },
  {
   "cell_type": "markdown",
   "metadata": {},
   "source": [
    "#### 6. Solve system and draw solution"
   ]
  },
  {
   "cell_type": "code",
   "execution_count": null,
   "metadata": {},
   "outputs": [],
   "source": [
    "from time import time\n",
    "\n",
    "t1 = time()\n",
    "sol.vec.data = a.mat.Inverse(freedofs=fes.FreeDofs()) * f.vec\n",
    "print(\"time = \", time()-t1)\n",
    "Draw(sol, mesh, \"sol\")"
   ]
  },
  {
   "cell_type": "markdown",
   "metadata": {},
   "source": [
    "#### 7. Compute error"
   ]
  },
  {
   "cell_type": "code",
   "execution_count": null,
   "metadata": {},
   "outputs": [],
   "source": [
    "Draw(sqrt((ref_sol-sol)**2 + InnerProduct(ref_sol_grad-Grad(sol),ref_sol_grad-Grad(sol))), mesh, 'error')\n",
    "H1err = sqrt( Integrate((ref_sol-sol)**2 + InnerProduct(ref_sol_grad-Grad(sol),ref_sol_grad-Grad(sol)), mesh, VOL, 2*order) )\n",
    "help(Integrate)\n",
    "print(H1err)"
   ]
  },
  {
   "cell_type": "markdown",
   "metadata": {},
   "source": [
    "#### 8. Draw error plot"
   ]
  },
  {
   "cell_type": "code",
   "execution_count": null,
   "metadata": {},
   "outputs": [],
   "source": [
    "%matplotlib notebook\n",
    "import matplotlib.pyplot as plt\n",
    "\n",
    "plt.plot(fes.ndof, H1err, 'x')\n",
    "\n",
    "plt.yscale('log')\n",
    "plt.xscale('log')\n",
    "plt.xlabel(\"ndof\")\n",
    "plt.ylabel(\"error\")\n",
    "plt.show()"
   ]
  },
  {
   "cell_type": "code",
   "execution_count": null,
   "metadata": {},
   "outputs": [],
   "source": []
  }
 ],
 "metadata": {
  "kernelspec": {
   "display_name": "Python 3",
   "language": "python",
   "name": "python3"
  },
  "language_info": {
   "codemirror_mode": {
    "name": "ipython",
    "version": 3
   },
   "file_extension": ".py",
   "mimetype": "text/x-python",
   "name": "python",
   "nbconvert_exporter": "python",
   "pygments_lexer": "ipython3",
   "version": "3.8.5"
  }
 },
 "nbformat": 4,
 "nbformat_minor": 2
}
