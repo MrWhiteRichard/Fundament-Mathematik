{
 "cells": [
  {
   "cell_type": "markdown",
   "metadata": {},
   "source": [
    "# Poisson problem\n",
    "\n",
    "Let us solve the Poisson problem of finding $u$ satisfying \n",
    "\n",
    "$$\n",
    "\\begin{aligned}\n",
    "-\\Delta u + u& = f && \\text { in  } (0,10)^2,\n",
    "\\\\\n",
    "\\frac{\\partial u }{\\partial n } & = 0 \n",
    "&& \\text{ on the boundary parts}.\n",
    "\\end{aligned}\n",
    "$$"
   ]
  },
  {
   "cell_type": "markdown",
   "metadata": {},
   "source": [
    "## Quick steps to solution:"
   ]
  },
  {
   "cell_type": "markdown",
   "metadata": {},
   "source": [
    "#### 1. Import NGSolve and Netgen Python modules:"
   ]
  },
  {
   "cell_type": "code",
   "execution_count": 1,
   "metadata": {},
   "outputs": [],
   "source": [
    "from ngsolve import *\n",
    "from ngsolve.webgui import Draw"
   ]
  },
  {
   "cell_type": "markdown",
   "metadata": {},
   "source": [
    "#### 2. Main discretization parameters and mesh"
   ]
  },
  {
   "cell_type": "code",
   "execution_count": 2,
   "metadata": {},
   "outputs": [],
   "source": [
    "order = 2\n",
    "maxh = [1/n for n in range(1,10)]\n",
    "\n",
    "from netgen.geom2d import SplineGeometry\n",
    "geo = SplineGeometry()\n",
    "geo.AddRectangle((0,0), (10,10), bcs=['bottom','right','top','left'])\n",
    "\n",
    "mesh_list = [Mesh(geo.GenerateMesh(maxh=h)) for h in maxh]\n",
    "for i in range(len(maxh)):\n",
    "    mesh_list[i].nv, mesh_list[i].ne  #number of vertices, number of elements"
   ]
  },
  {
   "cell_type": "markdown",
   "metadata": {},
   "source": [
    "#### 3. Reference solution and corresponding right hand side\n"
   ]
  },
  {
   "cell_type": "code",
   "execution_count": 3,
   "metadata": {
    "scrolled": false
   },
   "outputs": [
    {
     "data": {
      "application/vnd.jupyter.widget-view+json": {
       "model_id": "65d1be30baf04a81ae73544731f3d628",
       "version_major": 2,
       "version_minor": 0
      },
      "text/plain": [
       "NGSWebGuiWidget(value={'ngsolve_version': '6.2.2008', 'mesh_dim': 2, 'order2d': 2, 'order3d': 2, 'draw_vol': F…"
      ]
     },
     "metadata": {},
     "output_type": "display_data"
    },
    {
     "data": {
      "application/vnd.jupyter.widget-view+json": {
       "model_id": "4f5d216dcc5641d9a91826d7929f3a41",
       "version_major": 2,
       "version_minor": 0
      },
      "text/plain": [
       "NGSWebGuiWidget(value={'ngsolve_version': '6.2.2008', 'mesh_dim': 2, 'order2d': 2, 'order3d': 2, 'draw_vol': F…"
      ]
     },
     "metadata": {},
     "output_type": "display_data"
    },
    {
     "data": {
      "application/vnd.jupyter.widget-view+json": {
       "model_id": "f74f347e32844eeca3885d769234a693",
       "version_major": 2,
       "version_minor": 0
      },
      "text/plain": [
       "NGSWebGuiWidget(value={'ngsolve_version': '6.2.2008', 'mesh_dim': 2, 'order2d': 2, 'order3d': 2, 'draw_vol': F…"
      ]
     },
     "metadata": {},
     "output_type": "display_data"
    },
    {
     "data": {
      "application/vnd.jupyter.widget-view+json": {
       "model_id": "0b122f9dfe3142dfa8b83bf2edcab385",
       "version_major": 2,
       "version_minor": 0
      },
      "text/plain": [
       "NGSWebGuiWidget(value={'ngsolve_version': '6.2.2008', 'mesh_dim': 2, 'order2d': 2, 'order3d': 2, 'draw_vol': F…"
      ]
     },
     "metadata": {},
     "output_type": "display_data"
    },
    {
     "data": {
      "application/vnd.jupyter.widget-view+json": {
       "model_id": "51ed0d54f1634d1fb2dadcba400f79da",
       "version_major": 2,
       "version_minor": 0
      },
      "text/plain": [
       "NGSWebGuiWidget(value={'ngsolve_version': '6.2.2008', 'mesh_dim': 2, 'order2d': 2, 'order3d': 2, 'draw_vol': F…"
      ]
     },
     "metadata": {},
     "output_type": "display_data"
    },
    {
     "data": {
      "application/vnd.jupyter.widget-view+json": {
       "model_id": "a680a86215a545abb77a4489de5fc4d9",
       "version_major": 2,
       "version_minor": 0
      },
      "text/plain": [
       "NGSWebGuiWidget(value={'ngsolve_version': '6.2.2008', 'mesh_dim': 2, 'order2d': 2, 'order3d': 2, 'draw_vol': F…"
      ]
     },
     "metadata": {},
     "output_type": "display_data"
    },
    {
     "data": {
      "application/vnd.jupyter.widget-view+json": {
       "model_id": "9d43a2bf615e4cc497ddc9ef2d83b1e5",
       "version_major": 2,
       "version_minor": 0
      },
      "text/plain": [
       "NGSWebGuiWidget(value={'ngsolve_version': '6.2.2008', 'mesh_dim': 2, 'order2d': 2, 'order3d': 2, 'draw_vol': F…"
      ]
     },
     "metadata": {},
     "output_type": "display_data"
    },
    {
     "data": {
      "application/vnd.jupyter.widget-view+json": {
       "model_id": "fa97b86c6d3845a68f955cf7fd714d0f",
       "version_major": 2,
       "version_minor": 0
      },
      "text/plain": [
       "NGSWebGuiWidget(value={'ngsolve_version': '6.2.2008', 'mesh_dim': 2, 'order2d': 2, 'order3d': 2, 'draw_vol': F…"
      ]
     },
     "metadata": {},
     "output_type": "display_data"
    },
    {
     "data": {
      "application/vnd.jupyter.widget-view+json": {
       "model_id": "695655bda06949f187b3e8a4b8baa744",
       "version_major": 2,
       "version_minor": 0
      },
      "text/plain": [
       "NGSWebGuiWidget(value={'ngsolve_version': '6.2.2008', 'mesh_dim': 2, 'order2d': 2, 'order3d': 2, 'draw_vol': F…"
      ]
     },
     "metadata": {},
     "output_type": "display_data"
    }
   ],
   "source": [
    "ref_sol = exp(-2*((x-4)**2+(y-6)**2))\n",
    "\n",
    "for i in range(len(maxh)):\n",
    "    Draw(ref_sol, mesh_list[i], \"reference solution\")\n",
    "\n",
    "refdx = ref_sol.Diff(x)\n",
    "refdy = ref_sol.Diff(y)\n",
    "rhs = -refdx.Diff(x)-refdy.Diff(y) + ref_sol\n",
    "\n",
    "ref_sol_grad = CoefficientFunction( (refdx,refdy) )"
   ]
  },
  {
   "cell_type": "markdown",
   "metadata": {},
   "source": [
    "#### 4. Declare a finite element space and gridfunction"
   ]
  },
  {
   "cell_type": "code",
   "execution_count": 4,
   "metadata": {},
   "outputs": [],
   "source": [
    "fes_list = [H1(mesh, order=order) for mesh in mesh_list]# fe space\n",
    "sol = [GridFunction(fes) for fes in fes_list]  # solution\n",
    "#print(fes.ndof) # number of degrees of freedom"
   ]
  },
  {
   "cell_type": "markdown",
   "metadata": {},
   "source": [
    "#### 5. Define and assemble linear and bilinear forms"
   ]
  },
  {
   "cell_type": "code",
   "execution_count": 5,
   "metadata": {},
   "outputs": [],
   "source": [
    "u_list = [fes_list[i].TrialFunction() for i in range(len(fes_list))]  # symbolic object\n",
    "v_list = [fes_list[i].TestFunction() for i in range(len(fes_list))]  # symbolic object\n",
    "\n",
    "a_list = [BilinearForm(fes_list[i], symmetric=True) for i in range(len(fes_list))]\n",
    "\n",
    "for i in range(len(a_list)):\n",
    "    a_list[i] += (grad(u_list[i])*grad(v_list[i]) + u_list[i]*v_list[i])*dx\n",
    "    a_list[i].Assemble()\n",
    "\n",
    "f_list = [LinearForm(fes_list[i]) for i in range(len(fes_list))]\n",
    "\n",
    "for i in range(len(f_list)):\n",
    "    f_list[i] += rhs*v_list[i]*dx\n",
    "    f_list[i].Assemble()"
   ]
  },
  {
   "cell_type": "markdown",
   "metadata": {},
   "source": [
    "#### 6. Solve system and draw solution"
   ]
  },
  {
   "cell_type": "code",
   "execution_count": 6,
   "metadata": {
    "scrolled": false
   },
   "outputs": [
    {
     "name": "stdout",
     "output_type": "stream",
     "text": [
      "time =  0.4567897319793701\n"
     ]
    },
    {
     "data": {
      "application/vnd.jupyter.widget-view+json": {
       "model_id": "dc5132e3d0054088a7c98a6d53e35613",
       "version_major": 2,
       "version_minor": 0
      },
      "text/plain": [
       "NGSWebGuiWidget(value={'ngsolve_version': '6.2.2008', 'mesh_dim': 2, 'order2d': 2, 'order3d': 2, 'draw_vol': F…"
      ]
     },
     "metadata": {},
     "output_type": "display_data"
    },
    {
     "data": {
      "application/vnd.jupyter.widget-view+json": {
       "model_id": "6897de7379f3445a83e10808efad114c",
       "version_major": 2,
       "version_minor": 0
      },
      "text/plain": [
       "NGSWebGuiWidget(value={'ngsolve_version': '6.2.2008', 'mesh_dim': 2, 'order2d': 2, 'order3d': 2, 'draw_vol': F…"
      ]
     },
     "metadata": {},
     "output_type": "display_data"
    },
    {
     "data": {
      "application/vnd.jupyter.widget-view+json": {
       "model_id": "7fb448d6fe42478b8f2227293208bcbd",
       "version_major": 2,
       "version_minor": 0
      },
      "text/plain": [
       "NGSWebGuiWidget(value={'ngsolve_version': '6.2.2008', 'mesh_dim': 2, 'order2d': 2, 'order3d': 2, 'draw_vol': F…"
      ]
     },
     "metadata": {},
     "output_type": "display_data"
    },
    {
     "data": {
      "application/vnd.jupyter.widget-view+json": {
       "model_id": "9af67de426fa4e57b83532a54e7eafb3",
       "version_major": 2,
       "version_minor": 0
      },
      "text/plain": [
       "NGSWebGuiWidget(value={'ngsolve_version': '6.2.2008', 'mesh_dim': 2, 'order2d': 2, 'order3d': 2, 'draw_vol': F…"
      ]
     },
     "metadata": {},
     "output_type": "display_data"
    },
    {
     "data": {
      "application/vnd.jupyter.widget-view+json": {
       "model_id": "f1c4441a00004c89a273411b0d4d21fe",
       "version_major": 2,
       "version_minor": 0
      },
      "text/plain": [
       "NGSWebGuiWidget(value={'ngsolve_version': '6.2.2008', 'mesh_dim': 2, 'order2d': 2, 'order3d': 2, 'draw_vol': F…"
      ]
     },
     "metadata": {},
     "output_type": "display_data"
    },
    {
     "data": {
      "application/vnd.jupyter.widget-view+json": {
       "model_id": "89adb7774025428d934d554a0f9a5450",
       "version_major": 2,
       "version_minor": 0
      },
      "text/plain": [
       "NGSWebGuiWidget(value={'ngsolve_version': '6.2.2008', 'mesh_dim': 2, 'order2d': 2, 'order3d': 2, 'draw_vol': F…"
      ]
     },
     "metadata": {},
     "output_type": "display_data"
    },
    {
     "data": {
      "application/vnd.jupyter.widget-view+json": {
       "model_id": "1e7ecbdb16584155b1a1fd77e57b0565",
       "version_major": 2,
       "version_minor": 0
      },
      "text/plain": [
       "NGSWebGuiWidget(value={'ngsolve_version': '6.2.2008', 'mesh_dim': 2, 'order2d': 2, 'order3d': 2, 'draw_vol': F…"
      ]
     },
     "metadata": {},
     "output_type": "display_data"
    },
    {
     "data": {
      "application/vnd.jupyter.widget-view+json": {
       "model_id": "13953f85d6964eb3b0253b471c661155",
       "version_major": 2,
       "version_minor": 0
      },
      "text/plain": [
       "NGSWebGuiWidget(value={'ngsolve_version': '6.2.2008', 'mesh_dim': 2, 'order2d': 2, 'order3d': 2, 'draw_vol': F…"
      ]
     },
     "metadata": {},
     "output_type": "display_data"
    },
    {
     "data": {
      "application/vnd.jupyter.widget-view+json": {
       "model_id": "27fd0b5b75264159939bb0e44f405ebe",
       "version_major": 2,
       "version_minor": 0
      },
      "text/plain": [
       "NGSWebGuiWidget(value={'ngsolve_version': '6.2.2008', 'mesh_dim': 2, 'order2d': 2, 'order3d': 2, 'draw_vol': F…"
      ]
     },
     "metadata": {},
     "output_type": "display_data"
    }
   ],
   "source": [
    "from time import time\n",
    "t1 = time()\n",
    "for i in range(len(mesh_list)):\n",
    "    sol[i].vec.data = a_list[i].mat.Inverse(freedofs=fes_list[i].FreeDofs()) * f_list[i].vec\n",
    "print(\"time = \", time()-t1)\n",
    "\n",
    "for i in range(len(mesh_list)):\n",
    "    Draw(sol[i], mesh_list[i], \"sol\")"
   ]
  },
  {
   "cell_type": "markdown",
   "metadata": {},
   "source": [
    "#### 7. Compute error"
   ]
  },
  {
   "cell_type": "code",
   "execution_count": 7,
   "metadata": {
    "scrolled": false
   },
   "outputs": [
    {
     "data": {
      "application/vnd.jupyter.widget-view+json": {
       "model_id": "a13faec99cae45169c912b240b3b3d7c",
       "version_major": 2,
       "version_minor": 0
      },
      "text/plain": [
       "NGSWebGuiWidget(value={'ngsolve_version': '6.2.2008', 'mesh_dim': 2, 'order2d': 2, 'order3d': 2, 'draw_vol': F…"
      ]
     },
     "metadata": {},
     "output_type": "display_data"
    },
    {
     "data": {
      "application/vnd.jupyter.widget-view+json": {
       "model_id": "161b83a1d92a46a799d805a5c2cd3599",
       "version_major": 2,
       "version_minor": 0
      },
      "text/plain": [
       "NGSWebGuiWidget(value={'ngsolve_version': '6.2.2008', 'mesh_dim': 2, 'order2d': 2, 'order3d': 2, 'draw_vol': F…"
      ]
     },
     "metadata": {},
     "output_type": "display_data"
    },
    {
     "data": {
      "application/vnd.jupyter.widget-view+json": {
       "model_id": "febf2ea502e6413f8aef7ec5f4d42c3b",
       "version_major": 2,
       "version_minor": 0
      },
      "text/plain": [
       "NGSWebGuiWidget(value={'ngsolve_version': '6.2.2008', 'mesh_dim': 2, 'order2d': 2, 'order3d': 2, 'draw_vol': F…"
      ]
     },
     "metadata": {},
     "output_type": "display_data"
    },
    {
     "data": {
      "application/vnd.jupyter.widget-view+json": {
       "model_id": "1516b7eae86a415c94818ca8065b09bc",
       "version_major": 2,
       "version_minor": 0
      },
      "text/plain": [
       "NGSWebGuiWidget(value={'ngsolve_version': '6.2.2008', 'mesh_dim': 2, 'order2d': 2, 'order3d': 2, 'draw_vol': F…"
      ]
     },
     "metadata": {},
     "output_type": "display_data"
    },
    {
     "data": {
      "application/vnd.jupyter.widget-view+json": {
       "model_id": "35f16729e30845c4a9e0eca5fa884edc",
       "version_major": 2,
       "version_minor": 0
      },
      "text/plain": [
       "NGSWebGuiWidget(value={'ngsolve_version': '6.2.2008', 'mesh_dim': 2, 'order2d': 2, 'order3d': 2, 'draw_vol': F…"
      ]
     },
     "metadata": {},
     "output_type": "display_data"
    },
    {
     "data": {
      "application/vnd.jupyter.widget-view+json": {
       "model_id": "64457bf627ac460ab4586b56854d1649",
       "version_major": 2,
       "version_minor": 0
      },
      "text/plain": [
       "NGSWebGuiWidget(value={'ngsolve_version': '6.2.2008', 'mesh_dim': 2, 'order2d': 2, 'order3d': 2, 'draw_vol': F…"
      ]
     },
     "metadata": {},
     "output_type": "display_data"
    },
    {
     "data": {
      "application/vnd.jupyter.widget-view+json": {
       "model_id": "09114f4c45f34c17982318e523bd1ee7",
       "version_major": 2,
       "version_minor": 0
      },
      "text/plain": [
       "NGSWebGuiWidget(value={'ngsolve_version': '6.2.2008', 'mesh_dim': 2, 'order2d': 2, 'order3d': 2, 'draw_vol': F…"
      ]
     },
     "metadata": {},
     "output_type": "display_data"
    },
    {
     "data": {
      "application/vnd.jupyter.widget-view+json": {
       "model_id": "0083994e611540d591048a90380f1525",
       "version_major": 2,
       "version_minor": 0
      },
      "text/plain": [
       "NGSWebGuiWidget(value={'ngsolve_version': '6.2.2008', 'mesh_dim': 2, 'order2d': 2, 'order3d': 2, 'draw_vol': F…"
      ]
     },
     "metadata": {},
     "output_type": "display_data"
    },
    {
     "data": {
      "application/vnd.jupyter.widget-view+json": {
       "model_id": "ab13b888cc614244a6cd265bd3b3948b",
       "version_major": 2,
       "version_minor": 0
      },
      "text/plain": [
       "NGSWebGuiWidget(value={'ngsolve_version': '6.2.2008', 'mesh_dim': 2, 'order2d': 2, 'order3d': 2, 'draw_vol': F…"
      ]
     },
     "metadata": {},
     "output_type": "display_data"
    },
    {
     "name": "stdout",
     "output_type": "stream",
     "text": [
      "[0.45682032753337776, 0.14833301472741847, 0.0630012738579597, 0.030918058907279854, 0.019109975635172242, 0.013677326513667595, 0.009713985618086608, 0.00782516978614647, 0.005887876022466763]\n"
     ]
    }
   ],
   "source": [
    "for i in range(len(maxh)):\n",
    "    Draw(sqrt((ref_sol-sol[i])**2 + InnerProduct(ref_sol_grad-Grad(sol[i]),ref_sol_grad-Grad(sol[i]))), mesh_list[i], 'error')\n",
    "H1err = [sqrt( Integrate((ref_sol-sol[i])**2 + InnerProduct(ref_sol_grad-Grad(sol[i]),ref_sol_grad-Grad(sol[i])), mesh_list[i], VOL, 2*order) ) for i in range(len(maxh))]\n",
    "#help(Integrate)\n",
    "print(H1err)\n"
   ]
  },
  {
   "cell_type": "markdown",
   "metadata": {},
   "source": [
    "#### 8. Draw error plot"
   ]
  },
  {
   "cell_type": "code",
   "execution_count": 8,
   "metadata": {},
   "outputs": [
    {
     "data": {
      "application/javascript": [
       "/* Put everything inside the global mpl namespace */\n",
       "window.mpl = {};\n",
       "\n",
       "\n",
       "mpl.get_websocket_type = function() {\n",
       "    if (typeof(WebSocket) !== 'undefined') {\n",
       "        return WebSocket;\n",
       "    } else if (typeof(MozWebSocket) !== 'undefined') {\n",
       "        return MozWebSocket;\n",
       "    } else {\n",
       "        alert('Your browser does not have WebSocket support. ' +\n",
       "              'Please try Chrome, Safari or Firefox ≥ 6. ' +\n",
       "              'Firefox 4 and 5 are also supported but you ' +\n",
       "              'have to enable WebSockets in about:config.');\n",
       "    };\n",
       "}\n",
       "\n",
       "mpl.figure = function(figure_id, websocket, ondownload, parent_element) {\n",
       "    this.id = figure_id;\n",
       "\n",
       "    this.ws = websocket;\n",
       "\n",
       "    this.supports_binary = (this.ws.binaryType != undefined);\n",
       "\n",
       "    if (!this.supports_binary) {\n",
       "        var warnings = document.getElementById(\"mpl-warnings\");\n",
       "        if (warnings) {\n",
       "            warnings.style.display = 'block';\n",
       "            warnings.textContent = (\n",
       "                \"This browser does not support binary websocket messages. \" +\n",
       "                    \"Performance may be slow.\");\n",
       "        }\n",
       "    }\n",
       "\n",
       "    this.imageObj = new Image();\n",
       "\n",
       "    this.context = undefined;\n",
       "    this.message = undefined;\n",
       "    this.canvas = undefined;\n",
       "    this.rubberband_canvas = undefined;\n",
       "    this.rubberband_context = undefined;\n",
       "    this.format_dropdown = undefined;\n",
       "\n",
       "    this.image_mode = 'full';\n",
       "\n",
       "    this.root = $('<div/>');\n",
       "    this._root_extra_style(this.root)\n",
       "    this.root.attr('style', 'display: inline-block');\n",
       "\n",
       "    $(parent_element).append(this.root);\n",
       "\n",
       "    this._init_header(this);\n",
       "    this._init_canvas(this);\n",
       "    this._init_toolbar(this);\n",
       "\n",
       "    var fig = this;\n",
       "\n",
       "    this.waiting = false;\n",
       "\n",
       "    this.ws.onopen =  function () {\n",
       "            fig.send_message(\"supports_binary\", {value: fig.supports_binary});\n",
       "            fig.send_message(\"send_image_mode\", {});\n",
       "            if (mpl.ratio != 1) {\n",
       "                fig.send_message(\"set_dpi_ratio\", {'dpi_ratio': mpl.ratio});\n",
       "            }\n",
       "            fig.send_message(\"refresh\", {});\n",
       "        }\n",
       "\n",
       "    this.imageObj.onload = function() {\n",
       "            if (fig.image_mode == 'full') {\n",
       "                // Full images could contain transparency (where diff images\n",
       "                // almost always do), so we need to clear the canvas so that\n",
       "                // there is no ghosting.\n",
       "                fig.context.clearRect(0, 0, fig.canvas.width, fig.canvas.height);\n",
       "            }\n",
       "            fig.context.drawImage(fig.imageObj, 0, 0);\n",
       "        };\n",
       "\n",
       "    this.imageObj.onunload = function() {\n",
       "        fig.ws.close();\n",
       "    }\n",
       "\n",
       "    this.ws.onmessage = this._make_on_message_function(this);\n",
       "\n",
       "    this.ondownload = ondownload;\n",
       "}\n",
       "\n",
       "mpl.figure.prototype._init_header = function() {\n",
       "    var titlebar = $(\n",
       "        '<div class=\"ui-dialog-titlebar ui-widget-header ui-corner-all ' +\n",
       "        'ui-helper-clearfix\"/>');\n",
       "    var titletext = $(\n",
       "        '<div class=\"ui-dialog-title\" style=\"width: 100%; ' +\n",
       "        'text-align: center; padding: 3px;\"/>');\n",
       "    titlebar.append(titletext)\n",
       "    this.root.append(titlebar);\n",
       "    this.header = titletext[0];\n",
       "}\n",
       "\n",
       "\n",
       "\n",
       "mpl.figure.prototype._canvas_extra_style = function(canvas_div) {\n",
       "\n",
       "}\n",
       "\n",
       "\n",
       "mpl.figure.prototype._root_extra_style = function(canvas_div) {\n",
       "\n",
       "}\n",
       "\n",
       "mpl.figure.prototype._init_canvas = function() {\n",
       "    var fig = this;\n",
       "\n",
       "    var canvas_div = $('<div/>');\n",
       "\n",
       "    canvas_div.attr('style', 'position: relative; clear: both; outline: 0');\n",
       "\n",
       "    function canvas_keyboard_event(event) {\n",
       "        return fig.key_event(event, event['data']);\n",
       "    }\n",
       "\n",
       "    canvas_div.keydown('key_press', canvas_keyboard_event);\n",
       "    canvas_div.keyup('key_release', canvas_keyboard_event);\n",
       "    this.canvas_div = canvas_div\n",
       "    this._canvas_extra_style(canvas_div)\n",
       "    this.root.append(canvas_div);\n",
       "\n",
       "    var canvas = $('<canvas/>');\n",
       "    canvas.addClass('mpl-canvas');\n",
       "    canvas.attr('style', \"left: 0; top: 0; z-index: 0; outline: 0\")\n",
       "\n",
       "    this.canvas = canvas[0];\n",
       "    this.context = canvas[0].getContext(\"2d\");\n",
       "\n",
       "    var backingStore = this.context.backingStorePixelRatio ||\n",
       "\tthis.context.webkitBackingStorePixelRatio ||\n",
       "\tthis.context.mozBackingStorePixelRatio ||\n",
       "\tthis.context.msBackingStorePixelRatio ||\n",
       "\tthis.context.oBackingStorePixelRatio ||\n",
       "\tthis.context.backingStorePixelRatio || 1;\n",
       "\n",
       "    mpl.ratio = (window.devicePixelRatio || 1) / backingStore;\n",
       "\n",
       "    var rubberband = $('<canvas/>');\n",
       "    rubberband.attr('style', \"position: absolute; left: 0; top: 0; z-index: 1;\")\n",
       "\n",
       "    var pass_mouse_events = true;\n",
       "\n",
       "    canvas_div.resizable({\n",
       "        start: function(event, ui) {\n",
       "            pass_mouse_events = false;\n",
       "        },\n",
       "        resize: function(event, ui) {\n",
       "            fig.request_resize(ui.size.width, ui.size.height);\n",
       "        },\n",
       "        stop: function(event, ui) {\n",
       "            pass_mouse_events = true;\n",
       "            fig.request_resize(ui.size.width, ui.size.height);\n",
       "        },\n",
       "    });\n",
       "\n",
       "    function mouse_event_fn(event) {\n",
       "        if (pass_mouse_events)\n",
       "            return fig.mouse_event(event, event['data']);\n",
       "    }\n",
       "\n",
       "    rubberband.mousedown('button_press', mouse_event_fn);\n",
       "    rubberband.mouseup('button_release', mouse_event_fn);\n",
       "    // Throttle sequential mouse events to 1 every 20ms.\n",
       "    rubberband.mousemove('motion_notify', mouse_event_fn);\n",
       "\n",
       "    rubberband.mouseenter('figure_enter', mouse_event_fn);\n",
       "    rubberband.mouseleave('figure_leave', mouse_event_fn);\n",
       "\n",
       "    canvas_div.on(\"wheel\", function (event) {\n",
       "        event = event.originalEvent;\n",
       "        event['data'] = 'scroll'\n",
       "        if (event.deltaY < 0) {\n",
       "            event.step = 1;\n",
       "        } else {\n",
       "            event.step = -1;\n",
       "        }\n",
       "        mouse_event_fn(event);\n",
       "    });\n",
       "\n",
       "    canvas_div.append(canvas);\n",
       "    canvas_div.append(rubberband);\n",
       "\n",
       "    this.rubberband = rubberband;\n",
       "    this.rubberband_canvas = rubberband[0];\n",
       "    this.rubberband_context = rubberband[0].getContext(\"2d\");\n",
       "    this.rubberband_context.strokeStyle = \"#000000\";\n",
       "\n",
       "    this._resize_canvas = function(width, height) {\n",
       "        // Keep the size of the canvas, canvas container, and rubber band\n",
       "        // canvas in synch.\n",
       "        canvas_div.css('width', width)\n",
       "        canvas_div.css('height', height)\n",
       "\n",
       "        canvas.attr('width', width * mpl.ratio);\n",
       "        canvas.attr('height', height * mpl.ratio);\n",
       "        canvas.attr('style', 'width: ' + width + 'px; height: ' + height + 'px;');\n",
       "\n",
       "        rubberband.attr('width', width);\n",
       "        rubberband.attr('height', height);\n",
       "    }\n",
       "\n",
       "    // Set the figure to an initial 600x600px, this will subsequently be updated\n",
       "    // upon first draw.\n",
       "    this._resize_canvas(600, 600);\n",
       "\n",
       "    // Disable right mouse context menu.\n",
       "    $(this.rubberband_canvas).bind(\"contextmenu\",function(e){\n",
       "        return false;\n",
       "    });\n",
       "\n",
       "    function set_focus () {\n",
       "        canvas.focus();\n",
       "        canvas_div.focus();\n",
       "    }\n",
       "\n",
       "    window.setTimeout(set_focus, 100);\n",
       "}\n",
       "\n",
       "mpl.figure.prototype._init_toolbar = function() {\n",
       "    var fig = this;\n",
       "\n",
       "    var nav_element = $('<div/>');\n",
       "    nav_element.attr('style', 'width: 100%');\n",
       "    this.root.append(nav_element);\n",
       "\n",
       "    // Define a callback function for later on.\n",
       "    function toolbar_event(event) {\n",
       "        return fig.toolbar_button_onclick(event['data']);\n",
       "    }\n",
       "    function toolbar_mouse_event(event) {\n",
       "        return fig.toolbar_button_onmouseover(event['data']);\n",
       "    }\n",
       "\n",
       "    for(var toolbar_ind in mpl.toolbar_items) {\n",
       "        var name = mpl.toolbar_items[toolbar_ind][0];\n",
       "        var tooltip = mpl.toolbar_items[toolbar_ind][1];\n",
       "        var image = mpl.toolbar_items[toolbar_ind][2];\n",
       "        var method_name = mpl.toolbar_items[toolbar_ind][3];\n",
       "\n",
       "        if (!name) {\n",
       "            // put a spacer in here.\n",
       "            continue;\n",
       "        }\n",
       "        var button = $('<button/>');\n",
       "        button.addClass('ui-button ui-widget ui-state-default ui-corner-all ' +\n",
       "                        'ui-button-icon-only');\n",
       "        button.attr('role', 'button');\n",
       "        button.attr('aria-disabled', 'false');\n",
       "        button.click(method_name, toolbar_event);\n",
       "        button.mouseover(tooltip, toolbar_mouse_event);\n",
       "\n",
       "        var icon_img = $('<span/>');\n",
       "        icon_img.addClass('ui-button-icon-primary ui-icon');\n",
       "        icon_img.addClass(image);\n",
       "        icon_img.addClass('ui-corner-all');\n",
       "\n",
       "        var tooltip_span = $('<span/>');\n",
       "        tooltip_span.addClass('ui-button-text');\n",
       "        tooltip_span.html(tooltip);\n",
       "\n",
       "        button.append(icon_img);\n",
       "        button.append(tooltip_span);\n",
       "\n",
       "        nav_element.append(button);\n",
       "    }\n",
       "\n",
       "    var fmt_picker_span = $('<span/>');\n",
       "\n",
       "    var fmt_picker = $('<select/>');\n",
       "    fmt_picker.addClass('mpl-toolbar-option ui-widget ui-widget-content');\n",
       "    fmt_picker_span.append(fmt_picker);\n",
       "    nav_element.append(fmt_picker_span);\n",
       "    this.format_dropdown = fmt_picker[0];\n",
       "\n",
       "    for (var ind in mpl.extensions) {\n",
       "        var fmt = mpl.extensions[ind];\n",
       "        var option = $(\n",
       "            '<option/>', {selected: fmt === mpl.default_extension}).html(fmt);\n",
       "        fmt_picker.append(option);\n",
       "    }\n",
       "\n",
       "    // Add hover states to the ui-buttons\n",
       "    $( \".ui-button\" ).hover(\n",
       "        function() { $(this).addClass(\"ui-state-hover\");},\n",
       "        function() { $(this).removeClass(\"ui-state-hover\");}\n",
       "    );\n",
       "\n",
       "    var status_bar = $('<span class=\"mpl-message\"/>');\n",
       "    nav_element.append(status_bar);\n",
       "    this.message = status_bar[0];\n",
       "}\n",
       "\n",
       "mpl.figure.prototype.request_resize = function(x_pixels, y_pixels) {\n",
       "    // Request matplotlib to resize the figure. Matplotlib will then trigger a resize in the client,\n",
       "    // which will in turn request a refresh of the image.\n",
       "    this.send_message('resize', {'width': x_pixels, 'height': y_pixels});\n",
       "}\n",
       "\n",
       "mpl.figure.prototype.send_message = function(type, properties) {\n",
       "    properties['type'] = type;\n",
       "    properties['figure_id'] = this.id;\n",
       "    this.ws.send(JSON.stringify(properties));\n",
       "}\n",
       "\n",
       "mpl.figure.prototype.send_draw_message = function() {\n",
       "    if (!this.waiting) {\n",
       "        this.waiting = true;\n",
       "        this.ws.send(JSON.stringify({type: \"draw\", figure_id: this.id}));\n",
       "    }\n",
       "}\n",
       "\n",
       "\n",
       "mpl.figure.prototype.handle_save = function(fig, msg) {\n",
       "    var format_dropdown = fig.format_dropdown;\n",
       "    var format = format_dropdown.options[format_dropdown.selectedIndex].value;\n",
       "    fig.ondownload(fig, format);\n",
       "}\n",
       "\n",
       "\n",
       "mpl.figure.prototype.handle_resize = function(fig, msg) {\n",
       "    var size = msg['size'];\n",
       "    if (size[0] != fig.canvas.width || size[1] != fig.canvas.height) {\n",
       "        fig._resize_canvas(size[0], size[1]);\n",
       "        fig.send_message(\"refresh\", {});\n",
       "    };\n",
       "}\n",
       "\n",
       "mpl.figure.prototype.handle_rubberband = function(fig, msg) {\n",
       "    var x0 = msg['x0'] / mpl.ratio;\n",
       "    var y0 = (fig.canvas.height - msg['y0']) / mpl.ratio;\n",
       "    var x1 = msg['x1'] / mpl.ratio;\n",
       "    var y1 = (fig.canvas.height - msg['y1']) / mpl.ratio;\n",
       "    x0 = Math.floor(x0) + 0.5;\n",
       "    y0 = Math.floor(y0) + 0.5;\n",
       "    x1 = Math.floor(x1) + 0.5;\n",
       "    y1 = Math.floor(y1) + 0.5;\n",
       "    var min_x = Math.min(x0, x1);\n",
       "    var min_y = Math.min(y0, y1);\n",
       "    var width = Math.abs(x1 - x0);\n",
       "    var height = Math.abs(y1 - y0);\n",
       "\n",
       "    fig.rubberband_context.clearRect(\n",
       "        0, 0, fig.canvas.width / mpl.ratio, fig.canvas.height / mpl.ratio);\n",
       "\n",
       "    fig.rubberband_context.strokeRect(min_x, min_y, width, height);\n",
       "}\n",
       "\n",
       "mpl.figure.prototype.handle_figure_label = function(fig, msg) {\n",
       "    // Updates the figure title.\n",
       "    fig.header.textContent = msg['label'];\n",
       "}\n",
       "\n",
       "mpl.figure.prototype.handle_cursor = function(fig, msg) {\n",
       "    var cursor = msg['cursor'];\n",
       "    switch(cursor)\n",
       "    {\n",
       "    case 0:\n",
       "        cursor = 'pointer';\n",
       "        break;\n",
       "    case 1:\n",
       "        cursor = 'default';\n",
       "        break;\n",
       "    case 2:\n",
       "        cursor = 'crosshair';\n",
       "        break;\n",
       "    case 3:\n",
       "        cursor = 'move';\n",
       "        break;\n",
       "    }\n",
       "    fig.rubberband_canvas.style.cursor = cursor;\n",
       "}\n",
       "\n",
       "mpl.figure.prototype.handle_message = function(fig, msg) {\n",
       "    fig.message.textContent = msg['message'];\n",
       "}\n",
       "\n",
       "mpl.figure.prototype.handle_draw = function(fig, msg) {\n",
       "    // Request the server to send over a new figure.\n",
       "    fig.send_draw_message();\n",
       "}\n",
       "\n",
       "mpl.figure.prototype.handle_image_mode = function(fig, msg) {\n",
       "    fig.image_mode = msg['mode'];\n",
       "}\n",
       "\n",
       "mpl.figure.prototype.updated_canvas_event = function() {\n",
       "    // Called whenever the canvas gets updated.\n",
       "    this.send_message(\"ack\", {});\n",
       "}\n",
       "\n",
       "// A function to construct a web socket function for onmessage handling.\n",
       "// Called in the figure constructor.\n",
       "mpl.figure.prototype._make_on_message_function = function(fig) {\n",
       "    return function socket_on_message(evt) {\n",
       "        if (evt.data instanceof Blob) {\n",
       "            /* FIXME: We get \"Resource interpreted as Image but\n",
       "             * transferred with MIME type text/plain:\" errors on\n",
       "             * Chrome.  But how to set the MIME type?  It doesn't seem\n",
       "             * to be part of the websocket stream */\n",
       "            evt.data.type = \"image/png\";\n",
       "\n",
       "            /* Free the memory for the previous frames */\n",
       "            if (fig.imageObj.src) {\n",
       "                (window.URL || window.webkitURL).revokeObjectURL(\n",
       "                    fig.imageObj.src);\n",
       "            }\n",
       "\n",
       "            fig.imageObj.src = (window.URL || window.webkitURL).createObjectURL(\n",
       "                evt.data);\n",
       "            fig.updated_canvas_event();\n",
       "            fig.waiting = false;\n",
       "            return;\n",
       "        }\n",
       "        else if (typeof evt.data === 'string' && evt.data.slice(0, 21) == \"data:image/png;base64\") {\n",
       "            fig.imageObj.src = evt.data;\n",
       "            fig.updated_canvas_event();\n",
       "            fig.waiting = false;\n",
       "            return;\n",
       "        }\n",
       "\n",
       "        var msg = JSON.parse(evt.data);\n",
       "        var msg_type = msg['type'];\n",
       "\n",
       "        // Call the  \"handle_{type}\" callback, which takes\n",
       "        // the figure and JSON message as its only arguments.\n",
       "        try {\n",
       "            var callback = fig[\"handle_\" + msg_type];\n",
       "        } catch (e) {\n",
       "            console.log(\"No handler for the '\" + msg_type + \"' message type: \", msg);\n",
       "            return;\n",
       "        }\n",
       "\n",
       "        if (callback) {\n",
       "            try {\n",
       "                // console.log(\"Handling '\" + msg_type + \"' message: \", msg);\n",
       "                callback(fig, msg);\n",
       "            } catch (e) {\n",
       "                console.log(\"Exception inside the 'handler_\" + msg_type + \"' callback:\", e, e.stack, msg);\n",
       "            }\n",
       "        }\n",
       "    };\n",
       "}\n",
       "\n",
       "// from http://stackoverflow.com/questions/1114465/getting-mouse-location-in-canvas\n",
       "mpl.findpos = function(e) {\n",
       "    //this section is from http://www.quirksmode.org/js/events_properties.html\n",
       "    var targ;\n",
       "    if (!e)\n",
       "        e = window.event;\n",
       "    if (e.target)\n",
       "        targ = e.target;\n",
       "    else if (e.srcElement)\n",
       "        targ = e.srcElement;\n",
       "    if (targ.nodeType == 3) // defeat Safari bug\n",
       "        targ = targ.parentNode;\n",
       "\n",
       "    // jQuery normalizes the pageX and pageY\n",
       "    // pageX,Y are the mouse positions relative to the document\n",
       "    // offset() returns the position of the element relative to the document\n",
       "    var x = e.pageX - $(targ).offset().left;\n",
       "    var y = e.pageY - $(targ).offset().top;\n",
       "\n",
       "    return {\"x\": x, \"y\": y};\n",
       "};\n",
       "\n",
       "/*\n",
       " * return a copy of an object with only non-object keys\n",
       " * we need this to avoid circular references\n",
       " * http://stackoverflow.com/a/24161582/3208463\n",
       " */\n",
       "function simpleKeys (original) {\n",
       "  return Object.keys(original).reduce(function (obj, key) {\n",
       "    if (typeof original[key] !== 'object')\n",
       "        obj[key] = original[key]\n",
       "    return obj;\n",
       "  }, {});\n",
       "}\n",
       "\n",
       "mpl.figure.prototype.mouse_event = function(event, name) {\n",
       "    var canvas_pos = mpl.findpos(event)\n",
       "\n",
       "    if (name === 'button_press')\n",
       "    {\n",
       "        this.canvas.focus();\n",
       "        this.canvas_div.focus();\n",
       "    }\n",
       "\n",
       "    var x = canvas_pos.x * mpl.ratio;\n",
       "    var y = canvas_pos.y * mpl.ratio;\n",
       "\n",
       "    this.send_message(name, {x: x, y: y, button: event.button,\n",
       "                             step: event.step,\n",
       "                             guiEvent: simpleKeys(event)});\n",
       "\n",
       "    /* This prevents the web browser from automatically changing to\n",
       "     * the text insertion cursor when the button is pressed.  We want\n",
       "     * to control all of the cursor setting manually through the\n",
       "     * 'cursor' event from matplotlib */\n",
       "    event.preventDefault();\n",
       "    return false;\n",
       "}\n",
       "\n",
       "mpl.figure.prototype._key_event_extra = function(event, name) {\n",
       "    // Handle any extra behaviour associated with a key event\n",
       "}\n",
       "\n",
       "mpl.figure.prototype.key_event = function(event, name) {\n",
       "\n",
       "    // Prevent repeat events\n",
       "    if (name == 'key_press')\n",
       "    {\n",
       "        if (event.which === this._key)\n",
       "            return;\n",
       "        else\n",
       "            this._key = event.which;\n",
       "    }\n",
       "    if (name == 'key_release')\n",
       "        this._key = null;\n",
       "\n",
       "    var value = '';\n",
       "    if (event.ctrlKey && event.which != 17)\n",
       "        value += \"ctrl+\";\n",
       "    if (event.altKey && event.which != 18)\n",
       "        value += \"alt+\";\n",
       "    if (event.shiftKey && event.which != 16)\n",
       "        value += \"shift+\";\n",
       "\n",
       "    value += 'k';\n",
       "    value += event.which.toString();\n",
       "\n",
       "    this._key_event_extra(event, name);\n",
       "\n",
       "    this.send_message(name, {key: value,\n",
       "                             guiEvent: simpleKeys(event)});\n",
       "    return false;\n",
       "}\n",
       "\n",
       "mpl.figure.prototype.toolbar_button_onclick = function(name) {\n",
       "    if (name == 'download') {\n",
       "        this.handle_save(this, null);\n",
       "    } else {\n",
       "        this.send_message(\"toolbar_button\", {name: name});\n",
       "    }\n",
       "};\n",
       "\n",
       "mpl.figure.prototype.toolbar_button_onmouseover = function(tooltip) {\n",
       "    this.message.textContent = tooltip;\n",
       "};\n",
       "mpl.toolbar_items = [[\"Home\", \"Reset original view\", \"fa fa-home icon-home\", \"home\"], [\"Back\", \"Back to previous view\", \"fa fa-arrow-left icon-arrow-left\", \"back\"], [\"Forward\", \"Forward to next view\", \"fa fa-arrow-right icon-arrow-right\", \"forward\"], [\"\", \"\", \"\", \"\"], [\"Pan\", \"Pan axes with left mouse, zoom with right\", \"fa fa-arrows icon-move\", \"pan\"], [\"Zoom\", \"Zoom to rectangle\", \"fa fa-square-o icon-check-empty\", \"zoom\"], [\"\", \"\", \"\", \"\"], [\"Download\", \"Download plot\", \"fa fa-floppy-o icon-save\", \"download\"]];\n",
       "\n",
       "mpl.extensions = [\"eps\", \"jpeg\", \"pdf\", \"png\", \"ps\", \"raw\", \"svg\", \"tif\"];\n",
       "\n",
       "mpl.default_extension = \"png\";var comm_websocket_adapter = function(comm) {\n",
       "    // Create a \"websocket\"-like object which calls the given IPython comm\n",
       "    // object with the appropriate methods. Currently this is a non binary\n",
       "    // socket, so there is still some room for performance tuning.\n",
       "    var ws = {};\n",
       "\n",
       "    ws.close = function() {\n",
       "        comm.close()\n",
       "    };\n",
       "    ws.send = function(m) {\n",
       "        //console.log('sending', m);\n",
       "        comm.send(m);\n",
       "    };\n",
       "    // Register the callback with on_msg.\n",
       "    comm.on_msg(function(msg) {\n",
       "        //console.log('receiving', msg['content']['data'], msg);\n",
       "        // Pass the mpl event to the overridden (by mpl) onmessage function.\n",
       "        ws.onmessage(msg['content']['data'])\n",
       "    });\n",
       "    return ws;\n",
       "}\n",
       "\n",
       "mpl.mpl_figure_comm = function(comm, msg) {\n",
       "    // This is the function which gets called when the mpl process\n",
       "    // starts-up an IPython Comm through the \"matplotlib\" channel.\n",
       "\n",
       "    var id = msg.content.data.id;\n",
       "    // Get hold of the div created by the display call when the Comm\n",
       "    // socket was opened in Python.\n",
       "    var element = $(\"#\" + id);\n",
       "    var ws_proxy = comm_websocket_adapter(comm)\n",
       "\n",
       "    function ondownload(figure, format) {\n",
       "        window.open(figure.imageObj.src);\n",
       "    }\n",
       "\n",
       "    var fig = new mpl.figure(id, ws_proxy,\n",
       "                           ondownload,\n",
       "                           element.get(0));\n",
       "\n",
       "    // Call onopen now - mpl needs it, as it is assuming we've passed it a real\n",
       "    // web socket which is closed, not our websocket->open comm proxy.\n",
       "    ws_proxy.onopen();\n",
       "\n",
       "    fig.parent_element = element.get(0);\n",
       "    fig.cell_info = mpl.find_output_cell(\"<div id='\" + id + \"'></div>\");\n",
       "    if (!fig.cell_info) {\n",
       "        console.error(\"Failed to find cell for figure\", id, fig);\n",
       "        return;\n",
       "    }\n",
       "\n",
       "    var output_index = fig.cell_info[2]\n",
       "    var cell = fig.cell_info[0];\n",
       "\n",
       "};\n",
       "\n",
       "mpl.figure.prototype.handle_close = function(fig, msg) {\n",
       "    var width = fig.canvas.width/mpl.ratio\n",
       "    fig.root.unbind('remove')\n",
       "\n",
       "    // Update the output cell to use the data from the current canvas.\n",
       "    fig.push_to_output();\n",
       "    var dataURL = fig.canvas.toDataURL();\n",
       "    // Re-enable the keyboard manager in IPython - without this line, in FF,\n",
       "    // the notebook keyboard shortcuts fail.\n",
       "    IPython.keyboard_manager.enable()\n",
       "    $(fig.parent_element).html('<img src=\"' + dataURL + '\" width=\"' + width + '\">');\n",
       "    fig.close_ws(fig, msg);\n",
       "}\n",
       "\n",
       "mpl.figure.prototype.close_ws = function(fig, msg){\n",
       "    fig.send_message('closing', msg);\n",
       "    // fig.ws.close()\n",
       "}\n",
       "\n",
       "mpl.figure.prototype.push_to_output = function(remove_interactive) {\n",
       "    // Turn the data on the canvas into data in the output cell.\n",
       "    var width = this.canvas.width/mpl.ratio\n",
       "    var dataURL = this.canvas.toDataURL();\n",
       "    this.cell_info[1]['text/html'] = '<img src=\"' + dataURL + '\" width=\"' + width + '\">';\n",
       "}\n",
       "\n",
       "mpl.figure.prototype.updated_canvas_event = function() {\n",
       "    // Tell IPython that the notebook contents must change.\n",
       "    IPython.notebook.set_dirty(true);\n",
       "    this.send_message(\"ack\", {});\n",
       "    var fig = this;\n",
       "    // Wait a second, then push the new image to the DOM so\n",
       "    // that it is saved nicely (might be nice to debounce this).\n",
       "    setTimeout(function () { fig.push_to_output() }, 1000);\n",
       "}\n",
       "\n",
       "mpl.figure.prototype._init_toolbar = function() {\n",
       "    var fig = this;\n",
       "\n",
       "    var nav_element = $('<div/>');\n",
       "    nav_element.attr('style', 'width: 100%');\n",
       "    this.root.append(nav_element);\n",
       "\n",
       "    // Define a callback function for later on.\n",
       "    function toolbar_event(event) {\n",
       "        return fig.toolbar_button_onclick(event['data']);\n",
       "    }\n",
       "    function toolbar_mouse_event(event) {\n",
       "        return fig.toolbar_button_onmouseover(event['data']);\n",
       "    }\n",
       "\n",
       "    for(var toolbar_ind in mpl.toolbar_items){\n",
       "        var name = mpl.toolbar_items[toolbar_ind][0];\n",
       "        var tooltip = mpl.toolbar_items[toolbar_ind][1];\n",
       "        var image = mpl.toolbar_items[toolbar_ind][2];\n",
       "        var method_name = mpl.toolbar_items[toolbar_ind][3];\n",
       "\n",
       "        if (!name) { continue; };\n",
       "\n",
       "        var button = $('<button class=\"btn btn-default\" href=\"#\" title=\"' + name + '\"><i class=\"fa ' + image + ' fa-lg\"></i></button>');\n",
       "        button.click(method_name, toolbar_event);\n",
       "        button.mouseover(tooltip, toolbar_mouse_event);\n",
       "        nav_element.append(button);\n",
       "    }\n",
       "\n",
       "    // Add the status bar.\n",
       "    var status_bar = $('<span class=\"mpl-message\" style=\"text-align:right; float: right;\"/>');\n",
       "    nav_element.append(status_bar);\n",
       "    this.message = status_bar[0];\n",
       "\n",
       "    // Add the close button to the window.\n",
       "    var buttongrp = $('<div class=\"btn-group inline pull-right\"></div>');\n",
       "    var button = $('<button class=\"btn btn-mini btn-primary\" href=\"#\" title=\"Stop Interaction\"><i class=\"fa fa-power-off icon-remove icon-large\"></i></button>');\n",
       "    button.click(function (evt) { fig.handle_close(fig, {}); } );\n",
       "    button.mouseover('Stop Interaction', toolbar_mouse_event);\n",
       "    buttongrp.append(button);\n",
       "    var titlebar = this.root.find($('.ui-dialog-titlebar'));\n",
       "    titlebar.prepend(buttongrp);\n",
       "}\n",
       "\n",
       "mpl.figure.prototype._root_extra_style = function(el){\n",
       "    var fig = this\n",
       "    el.on(\"remove\", function(){\n",
       "\tfig.close_ws(fig, {});\n",
       "    });\n",
       "}\n",
       "\n",
       "mpl.figure.prototype._canvas_extra_style = function(el){\n",
       "    // this is important to make the div 'focusable\n",
       "    el.attr('tabindex', 0)\n",
       "    // reach out to IPython and tell the keyboard manager to turn it's self\n",
       "    // off when our div gets focus\n",
       "\n",
       "    // location in version 3\n",
       "    if (IPython.notebook.keyboard_manager) {\n",
       "        IPython.notebook.keyboard_manager.register_events(el);\n",
       "    }\n",
       "    else {\n",
       "        // location in version 2\n",
       "        IPython.keyboard_manager.register_events(el);\n",
       "    }\n",
       "\n",
       "}\n",
       "\n",
       "mpl.figure.prototype._key_event_extra = function(event, name) {\n",
       "    var manager = IPython.notebook.keyboard_manager;\n",
       "    if (!manager)\n",
       "        manager = IPython.keyboard_manager;\n",
       "\n",
       "    // Check for shift+enter\n",
       "    if (event.shiftKey && event.which == 13) {\n",
       "        this.canvas_div.blur();\n",
       "        event.shiftKey = false;\n",
       "        // Send a \"J\" for go to next cell\n",
       "        event.which = 74;\n",
       "        event.keyCode = 74;\n",
       "        manager.command_mode();\n",
       "        manager.handle_keydown(event);\n",
       "    }\n",
       "}\n",
       "\n",
       "mpl.figure.prototype.handle_save = function(fig, msg) {\n",
       "    fig.ondownload(fig, null);\n",
       "}\n",
       "\n",
       "\n",
       "mpl.find_output_cell = function(html_output) {\n",
       "    // Return the cell and output element which can be found *uniquely* in the notebook.\n",
       "    // Note - this is a bit hacky, but it is done because the \"notebook_saving.Notebook\"\n",
       "    // IPython event is triggered only after the cells have been serialised, which for\n",
       "    // our purposes (turning an active figure into a static one), is too late.\n",
       "    var cells = IPython.notebook.get_cells();\n",
       "    var ncells = cells.length;\n",
       "    for (var i=0; i<ncells; i++) {\n",
       "        var cell = cells[i];\n",
       "        if (cell.cell_type === 'code'){\n",
       "            for (var j=0; j<cell.output_area.outputs.length; j++) {\n",
       "                var data = cell.output_area.outputs[j];\n",
       "                if (data.data) {\n",
       "                    // IPython >= 3 moved mimebundle to data attribute of output\n",
       "                    data = data.data;\n",
       "                }\n",
       "                if (data['text/html'] == html_output) {\n",
       "                    return [cell, data, j];\n",
       "                }\n",
       "            }\n",
       "        }\n",
       "    }\n",
       "}\n",
       "\n",
       "// Register the function which deals with the matplotlib target/channel.\n",
       "// The kernel may be null if the page has been refreshed.\n",
       "if (IPython.notebook.kernel != null) {\n",
       "    IPython.notebook.kernel.comm_manager.register_target('matplotlib', mpl.mpl_figure_comm);\n",
       "}\n"
      ],
      "text/plain": [
       "<IPython.core.display.Javascript object>"
      ]
     },
     "metadata": {},
     "output_type": "display_data"
    },
    {
     "data": {
      "text/html": [
       "<img src=\"data:image/png;base64,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\" width=\"640\">"
      ],
      "text/plain": [
       "<IPython.core.display.HTML object>"
      ]
     },
     "metadata": {},
     "output_type": "display_data"
    }
   ],
   "source": [
    "%matplotlib notebook\n",
    "import matplotlib.pyplot as plt\n",
    "\n",
    "ndof_list = [fes_list[i].ndof for i in range(len(fes_list))]\n",
    "reference = [h**order for h in maxh]\n",
    "\n",
    "plt.plot(maxh, H1err)\n",
    "plt.plot(maxh, reference, label = \"Referenzgerade\" , )\n",
    "\n",
    "plt.yscale('log')\n",
    "plt.xscale('log')\n",
    "plt.xlabel(\"maxh\")\n",
    "plt.ylabel(\"error\")\n",
    "plt.legend()\n",
    "plt.show()"
   ]
  },
  {
   "cell_type": "code",
   "execution_count": null,
   "metadata": {},
   "outputs": [],
   "source": []
  }
 ],
 "metadata": {
  "kernelspec": {
   "display_name": "Python 3",
   "language": "python",
   "name": "python3"
  },
  "language_info": {
   "codemirror_mode": {
    "name": "ipython",
    "version": 3
   },
   "file_extension": ".py",
   "mimetype": "text/x-python",
   "name": "python",
   "nbconvert_exporter": "python",
   "pygments_lexer": "ipython3",
   "version": "3.7.4"
  }
 },
 "nbformat": 4,
 "nbformat_minor": 2
}
