{
 "cells": [
  {
   "cell_type": "code",
   "execution_count": 5,
   "metadata": {},
   "outputs": [],
   "source": [
    "import numpy as np\n",
    "import matplotlib.pyplot as plt\n",
    "\n",
    "from scipy import linalg"
   ]
  },
  {
   "cell_type": "markdown",
   "metadata": {},
   "source": [
    "\\begin{align*}\n",
    "    Q(f)\n",
    "    :=\n",
    "    \\frac{1}{2 \\pi i}\n",
    "    \\int_{|\\lambda| = R}\n",
    "    f(\\lambda)\n",
    "    d \\lambda\n",
    "\\end{align*}"
   ]
  },
  {
   "cell_type": "markdown",
   "metadata": {},
   "source": [
    "\\begin{align*}\n",
    "    Q_m(f)\n",
    "    :=\n",
    "    \\frac{R}{m}\n",
    "    \\sum_{\\nu=0}^{m-1}\n",
    "    \\omega_m^\\nu f(R \\omega_m^\\nu),\n",
    "    \\quad\n",
    "    \\omega_m\n",
    "    :=\n",
    "    \\exp\n",
    "    \\left(\n",
    "        \\frac{2 \\pi i}{m}\n",
    "    \\right )\n",
    "\\end{align*}"
   ]
  },
  {
   "cell_type": "code",
   "execution_count": 6,
   "metadata": {},
   "outputs": [],
   "source": [
    "omega = lambda m: np.exp(2 * np.pi * 1j / m)\n",
    "\n",
    "Q_zero = lambda m, f, R: R / m * sum([\n",
    "    omega(m) ** nu * f(R * omega(m) ** nu)\n",
    "    for nu in range(m)\n",
    "])\n",
    "\n",
    "Q = lambda m, f, R, z: Q_zero(\n",
    "    m,\n",
    "    lambda x: f(x - z),\n",
    "    R\n",
    ")"
   ]
  },
  {
   "cell_type": "code",
   "execution_count": 7,
   "metadata": {},
   "outputs": [],
   "source": [
    "def plot_complex(numbers, title = None):\n",
    "\n",
    "    fig = plt.figure(figsize = (8, 8))\n",
    "\n",
    "    plt.scatter(\n",
    "        *np.array([\n",
    "            [number.real, number.imag]\n",
    "            for number in numbers\n",
    "        ]).transpose()\n",
    "    )\n",
    "\n",
    "    plt.grid(linestyle = ':')\n",
    "    plt.xlabel('$\\Re$')\n",
    "    plt.ylabel('$\\Im$')\n",
    "\n",
    "    if title != None:\n",
    "        plt.suptitle(title)\n",
    "\n",
    "    fig.show()"
   ]
  },
  {
   "cell_type": "code",
   "execution_count": 8,
   "metadata": {},
   "outputs": [
    {
     "name": "stderr",
     "output_type": "stream",
     "text": [
      "<ipython-input-7-5d4510b1c6cd>:19: UserWarning: Matplotlib is currently using module://ipykernel.pylab.backend_inline, which is a non-GUI backend, so cannot show the figure.\n",
      "  fig.show()\n"
     ]
    },
    {
     "data": {
      "image/png": "[encoded data removed]",
      "text/plain": [
       "<Figure size 576x576 with 1 Axes>"
      ]
     },
     "metadata": {
      "needs_background": "light"
     },
     "output_type": "display_data"
    }
   ],
   "source": [
    "m = 7\n",
    "\n",
    "numbers = [\n",
    "    omega(m) ** nu\n",
    "    for nu in range(m)\n",
    "]\n",
    "\n",
    "title = f'Complex {m}-unit roots'\n",
    "\n",
    "plot_complex(numbers, title)"
   ]
  },
  {
   "cell_type": "markdown",
   "metadata": {},
   "source": [
    "\\begin{align*}\n",
    "    A_0\n",
    "    & :=\n",
    "    \\frac{1}{2 \\pi i}\n",
    "    \\int_\\Gamma\n",
    "    A(\\lambda)^{-1} \\hat{V}\n",
    "    d \\lambda\n",
    "    \\in \\mathbb{C}^{N \\times j}, \\\\\n",
    "    A_1\n",
    "    & :=\n",
    "    \\frac{1}{2 \\pi i}\n",
    "    \\int_\\Gamma\n",
    "    \\lambda A(\\lambda)^{-1} \\hat{V}\n",
    "    d \\lambda\n",
    "    \\in \\mathbb{C}^{N \\times j}\n",
    "\\end{align*}"
   ]
  },
  {
   "cell_type": "markdown",
   "metadata": {},
   "source": [
    "1. Berechne $A_0 \\in \\mathbb{C}^{N \\times j}$\n",
    "\n",
    "2. Berechne reduzierte Singulärwertzerlegung $A_0 = \\tilde{V} \\Sigma \\tilde{W}^\\ast$ mit $J$ Singulärwerten\n",
    "\n",
    "3. Berechne $A_1 \\in \\mathbb{C}^{N \\times j}$\n",
    "\n",
    "4. Berechne die Eigenwerte der Matrix $\\tilde{V} A_1 \\tilde{W} \\Sigma^{-1} \\in \\mathbb{C}^{j \\times j}$ (z.B. mit QR-Verfahren)"
   ]
  },
  {
   "cell_type": "code",
   "execution_count": 40,
   "metadata": {},
   "outputs": [],
   "source": [
    "omega = lambda m: np.exp(2 * np.pi * 1j / m)\n",
    "\n",
    "Q_zero = lambda m, f, R: R / m * sum([\n",
    "    omega(m) ** nu * f(R * omega(m) ** nu)\n",
    "    for nu in range(m)\n",
    "])\n",
    "\n",
    "Q = lambda m, f, R, z: Q_zero(\n",
    "    m,\n",
    "    lambda x: f(x + z),\n",
    "    R\n",
    ")\n",
    "\n",
    "def integral_method(A, m, R, z):\n",
    "\n",
    "    \"\"\"\n",
    "    A ... matix-function\n",
    "    m ... number of quadrature-nodes\n",
    "    R ... ball-radius\n",
    "    z ... ball-center\n",
    "    \"\"\"\n",
    "\n",
    "    # constants\n",
    "    j = 1\n",
    "    N = 4\n",
    "\n",
    "    # random matrix\n",
    "    V_hat = np.random.random((N, j))\n",
    "\n",
    "    # ------------------------ #\n",
    "    # step 1\n",
    "\n",
    "    # integrand of A_0\n",
    "    def f_0(lamda):\n",
    "\n",
    "        LU, piv = linalg.lu_factor(A(lamda))\n",
    "\n",
    "        return np.array([\n",
    "            linalg.lu_solve((LU,piv), V_hat[:, i])\n",
    "            for i in range(j)\n",
    "        ])\n",
    "\n",
    "    A_0 = Q(m, f_0, R, z)\n",
    "\n",
    "    # ------------------------ #\n",
    "    # step 2\n",
    "\n",
    "    V_tilde, Sigma, W_tilde = linalg.svd(A_0, full_matrices = False)\n",
    "    print(Sigma)\n",
    "\n",
    "    # ------------------------ #\n",
    "    # step 3\n",
    "\n",
    "    # integrand of A_1\n",
    "    f_1 = lambda lamda: lamda * f_0(lamda)\n",
    "\n",
    "    A_1 = Q(m, f_1, R, z)\n",
    "\n",
    "    # ------------------------ #\n",
    "    # step 4\n",
    "\n",
    "    return linalg.eigvals(V_tilde @ A_1 @ W_tilde.conj().T @ np.diag(Sigma ** -1))"
   ]
  },
  {
   "cell_type": "markdown",
   "metadata": {},
   "source": [
    "# Testing"
   ]
  },
  {
   "cell_type": "markdown",
   "metadata": {},
   "source": [
    "Um die Funktion `integral_method` zu testen, konstruieren wir einfache Matrix-Funktionen.\n",
    "\n",
    "Die wohl einfachsten Matrix-Funktion sind konstant gleich einer Matrix.\n",
    "Die Eigenwerte von Diagonalmatrizen stehen direkt in ihrer Diagonale.\n",
    "Ähnliche Matrizen haben dieselben Eigenwerte.\n",
    "\n",
    "Wir werden also für gegebene Eigenwerte `eigen_values` eine Diagonalmatrix `diagonal_matrix` erstellen und diese mit irgendeiner regulären Matrix `T` bzw. ihrer Inversen `T.inv()` von links und rechts multiplizieren.\n",
    "Die dadurch entstandene Matrix `A_const` hat also die Eigenwerte `eigen_values`.\n",
    "Jetzt müssen wir `A_const` nur noch zu einer konstanten Funktion `A` machen."
   ]
  },
  {
   "cell_type": "code",
   "execution_count": 41,
   "metadata": {},
   "outputs": [
    {
     "name": "stderr",
     "output_type": "stream",
     "text": [
      "<ipython-input-7-5d4510b1c6cd>:19: UserWarning: Matplotlib is currently using module://ipykernel.pylab.backend_inline, which is a non-GUI backend, so cannot show the figure.\n",
      "  fig.show()\n"
     ]
    },
    {
     "data": {
      "image/png": "[encoded data removed]",
      "text/plain": [
       "<Figure size 576x576 with 1 Axes>"
      ]
     },
     "metadata": {
      "needs_background": "light"
     },
     "output_type": "display_data"
    }
   ],
   "source": [
    "eigen_values = [1 + 1j, 1 - 1j, -1 + 1j, -1 - 1j]\n",
    "\n",
    "plot_complex(eigen_values)"
   ]
  },
  {
   "cell_type": "code",
   "execution_count": 42,
   "metadata": {},
   "outputs": [],
   "source": [
    "# diagonal matrix with eigen values in diagonal\n",
    "diagonal_matrix = np.diag(eigen_values)\n",
    "\n",
    "# transformation matrix\n",
    "T = np.random.random(diagonal_matrix.shape)\n",
    "\n",
    "# arbitrary matrix with known eigen values\n",
    "A_const = T @ diagonal_matrix @ linalg.inv(T)\n",
    "\n",
    "# function with constant output 'A_const'\n",
    "A = lambda lamda: A_const"
   ]
  },
  {
   "cell_type": "code",
   "execution_count": 43,
   "metadata": {},
   "outputs": [
    {
     "data": {
      "text/plain": [
       "array([[-1.05082021+0.14817949j,  0.00983614+0.5587537j ,\n",
       "         0.06815409-2.28109331j,  0.06592735+2.30767949j],\n",
       "       [-0.65529892-0.1916717j ,  1.12091114-1.2698777j ,\n",
       "        -0.43296229+0.40474366j,  0.46364127+1.24944046j],\n",
       "       [-0.80411153-0.48940557j,  0.26872474-0.51520831j,\n",
       "         0.00398484+0.00987338j,  1.02122971+1.58074007j],\n",
       "       [-0.65183901-0.01353726j, -0.28825839-0.23767824j,\n",
       "         1.14678929+0.05823224j, -0.07407577+1.11182483j]])"
      ]
     },
     "execution_count": 43,
     "metadata": {},
     "output_type": "execute_result"
    }
   ],
   "source": [
    "A_const"
   ]
  },
  {
   "cell_type": "code",
   "execution_count": 44,
   "metadata": {},
   "outputs": [
    {
     "data": {
      "text/plain": [
       "array([-1.+1.j,  1.+1.j, -1.-1.j,  1.-1.j])"
      ]
     },
     "execution_count": 44,
     "metadata": {},
     "output_type": "execute_result"
    }
   ],
   "source": [
    "# confirmation\n",
    "vals, vectors = linalg.eig(A_const)\n",
    "vals"
   ]
  },
  {
   "cell_type": "code",
   "execution_count": 45,
   "metadata": {},
   "outputs": [
    {
     "name": "stdout",
     "output_type": "stream",
     "text": [
      "[6.76462087e-17]\n"
     ]
    },
    {
     "data": {
      "text/plain": [
       "array([2.40740741+1.5993266j])"
      ]
     },
     "execution_count": 45,
     "metadata": {},
     "output_type": "execute_result"
    }
   ],
   "source": [
    "m = 10\n",
    "R = 1\n",
    "z = 1+1j\n",
    "\n",
    "integral_method(A, m, R, z)"
   ]
  },
  {
   "cell_type": "code",
   "execution_count": null,
   "metadata": {},
   "outputs": [],
   "source": []
  },
  {
   "cell_type": "code",
   "execution_count": null,
   "metadata": {},
   "outputs": [],
   "source": []
  }
 ],
 "metadata": {
  "kernelspec": {
   "display_name": "Python 3",
   "language": "python",
   "name": "python3"
  },
  "language_info": {
   "codemirror_mode": {
    "name": "ipython",
    "version": 3
   },
   "file_extension": ".py",
   "mimetype": "text/x-python",
   "name": "python",
   "nbconvert_exporter": "python",
   "pygments_lexer": "ipython3",
   "version": "3.8.5"
  }
 },
 "nbformat": 4,
 "nbformat_minor": 2
}
