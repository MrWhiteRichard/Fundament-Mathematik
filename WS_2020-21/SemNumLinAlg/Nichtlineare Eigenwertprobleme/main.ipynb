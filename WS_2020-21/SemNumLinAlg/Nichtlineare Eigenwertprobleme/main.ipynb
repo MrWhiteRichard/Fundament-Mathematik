{
 "cells": [
  {
   "cell_type": "code",
   "execution_count": 344,
   "metadata": {},
   "outputs": [],
   "source": [
    "import numpy as np\n",
    "import matplotlib.pyplot as plt\n",
    "\n",
    "from scipy import linalg"
   ]
  },
  {
   "cell_type": "markdown",
   "metadata": {},
   "source": [
    "\\begin{align*}\n",
    "    Q(f)\n",
    "    :=\n",
    "    \\frac{1}{2 \\pi i}\n",
    "    \\int_{|\\lambda| = R}\n",
    "    f(\\lambda)\n",
    "    d \\lambda\n",
    "\\end{align*}"
   ]
  },
  {
   "cell_type": "markdown",
   "metadata": {},
   "source": [
    "\\begin{align*}\n",
    "    Q_m(f)\n",
    "    :=\n",
    "    \\frac{R}{m}\n",
    "    \\sum_{\\nu=0}^{m-1}\n",
    "    \\omega_m^\\nu f(R \\omega_m^\\nu),\n",
    "    \\quad\n",
    "    \\omega_m\n",
    "    :=\n",
    "    \\exp\n",
    "    \\left(\n",
    "        \\frac{2 \\pi i}{m}\n",
    "    \\right )\n",
    "\\end{align*}"
   ]
  },
  {
   "cell_type": "code",
   "execution_count": 345,
   "metadata": {},
   "outputs": [],
   "source": [
    "omega = lambda m: np.exp(2 * np.pi * 1j / m)\n",
    "\n",
    "Q_zero = lambda m, f, R: R / m * sum([\n",
    "    omega(m) ** nu * f(R * omega(m) ** nu)\n",
    "    for nu in range(m)\n",
    "])\n",
    "\n",
    "Q = lambda m, f, R, z: Q_zero(\n",
    "    m,\n",
    "    lambda x: f(x - z),\n",
    "    R\n",
    ")"
   ]
  },
  {
   "cell_type": "code",
   "execution_count": 346,
   "metadata": {},
   "outputs": [],
   "source": [
    "def plot_complex(numbers, approx_numbers = None, title = None):\n",
    "\n",
    "    fig = plt.figure(figsize = (8, 8))\n",
    "\n",
    "    plt.scatter(\n",
    "        *np.array([\n",
    "            [number.real, number.imag]\n",
    "            for number in numbers\n",
    "        ]).transpose(), edgecolors = \"blue\"\n",
    "    )\n",
    "    \n",
    "    if approx_numbers:\n",
    "        plt.scatter(\n",
    "            *np.array([\n",
    "                [number.real, number.imag]\n",
    "                for number in approx_numbers\n",
    "            ]).transpose(), edgecolors = \"red\"\n",
    "        )\n",
    "\n",
    "    plt.grid(linestyle = ':')\n",
    "    plt.xlabel('$\\Re$')\n",
    "    plt.ylabel('$\\Im$')\n",
    "\n",
    "    if title != None:\n",
    "        plt.suptitle(title)\n",
    "\n",
    "    fig.show()"
   ]
  },
  {
   "cell_type": "code",
   "execution_count": 347,
   "metadata": {},
   "outputs": [
    {
     "name": "stderr",
     "output_type": "stream",
     "text": [
      "<ipython-input-346-bacad595a497>:27: UserWarning: Matplotlib is currently using module://ipykernel.pylab.backend_inline, which is a non-GUI backend, so cannot show the figure.\n",
      "  fig.show()\n"
     ]
    },
    {
     "data": {
      "image/png": "[encoded data removed]",
      "text/plain": [
       "<Figure size 576x576 with 1 Axes>"
      ]
     },
     "metadata": {
      "needs_background": "light"
     },
     "output_type": "display_data"
    }
   ],
   "source": [
    "m = 7\n",
    "\n",
    "numbers = [\n",
    "    omega(m) ** nu\n",
    "    for nu in range(m)\n",
    "]\n",
    "\n",
    "title = f'Complex {m}-unit roots'\n",
    "\n",
    "plot_complex(numbers, None, title)"
   ]
  },
  {
   "cell_type": "markdown",
   "metadata": {},
   "source": [
    "\\begin{align*}\n",
    "    A_0\n",
    "    & :=\n",
    "    \\frac{1}{2 \\pi i}\n",
    "    \\int_\\Gamma\n",
    "    A(\\lambda)^{-1} \\hat{V}\n",
    "    d \\lambda\n",
    "    \\in \\mathbb{C}^{N \\times j}, \\\\\n",
    "    A_1\n",
    "    & :=\n",
    "    \\frac{1}{2 \\pi i}\n",
    "    \\int_\\Gamma\n",
    "    \\lambda A(\\lambda)^{-1} \\hat{V}\n",
    "    d \\lambda\n",
    "    \\in \\mathbb{C}^{N \\times j}\n",
    "\\end{align*}"
   ]
  },
  {
   "cell_type": "markdown",
   "metadata": {},
   "source": [
    "1. Berechne $A_0 \\in \\mathbb{C}^{N \\times j}$\n",
    "\n",
    "2. Berechne reduzierte Singulärwertzerlegung $A_0 = \\tilde{V} \\Sigma \\tilde{W}^\\ast$ mit $J$ Singulärwerten\n",
    "\n",
    "3. Berechne $A_1 \\in \\mathbb{C}^{N \\times j}$\n",
    "\n",
    "4. Berechne die Eigenwerte der Matrix $\\tilde{V} A_1 \\tilde{W} \\Sigma^{-1} \\in \\mathbb{C}^{j \\times j}$ (z.B. mit QR-Verfahren)"
   ]
  },
  {
   "cell_type": "code",
   "execution_count": 348,
   "metadata": {},
   "outputs": [],
   "source": [
    "omega = lambda m: np.exp(2 * np.pi * 1j / m)\n",
    "\n",
    "Q_zero = lambda m, f, R: R / m * sum([\n",
    "    omega(m) ** nu * f(R * omega(m) ** nu)\n",
    "    for nu in range(m)\n",
    "])\n",
    "\n",
    "Q = lambda m, f, R, z: Q_zero(\n",
    "    m,\n",
    "    lambda x: f(x + z),\n",
    "    R\n",
    ")\n",
    "\n",
    "def integral_method(A, N, j, m, R, z, tol):\n",
    "\n",
    "    \"\"\"\n",
    "    A ... matrix-function\n",
    "    N ... number of rows/columns of A(lambda)\n",
    "    j ... number of expected eigen values in B_R(z)\n",
    "    m ... number of quadrature-nodes\n",
    "    R ... ball-radius\n",
    "    z ... ball-center\n",
    "    \"\"\"\n",
    "\n",
    "\n",
    "    # random matrix\n",
    "    V_hat = np.random.random((N, j))\n",
    "\n",
    "    # ------------------------ #\n",
    "    # step 1\n",
    "\n",
    "    # integrand of A_0\n",
    "    def f_0(lamda):\n",
    "\n",
    "        LU, piv = linalg.lu_factor(A(lamda))\n",
    "        return np.array([\n",
    "            linalg.lu_solve((LU,piv), V_hat[:, i])\n",
    "            for i in range(j)\n",
    "        ]).T\n",
    "    A_0 = Q(m, f_0, R, z)\n",
    "\n",
    "    # ------------------------ #\n",
    "    # step 2\n",
    "\n",
    "    V_tilde, Sigma, W_tilde = linalg.svd(A_0, full_matrices = False)\n",
    "\n",
    "    mask = np.abs(Sigma) > tol\n",
    "\n",
    "    Sigma = Sigma[mask]\n",
    "    V_tilde = V_tilde[:,mask]\n",
    "    W_tilde = W_tilde[mask,:]\n",
    "        \n",
    "\n",
    "    # ------------------------ #\n",
    "    # step 3\n",
    "\n",
    "    # integrand of A_1\n",
    "    f_1 = lambda lamda: lamda * f_0(lamda)\n",
    "    A_1 = Q(m, f_1, R, z)\n",
    "\n",
    "    # ------------------------ #\n",
    "    # step 4\n",
    "    return linalg.eigvals(V_tilde.conj().T @ A_1 @ W_tilde.conj().T @ np.diag(Sigma ** -1))"
   ]
  },
  {
   "cell_type": "markdown",
   "metadata": {},
   "source": [
    "# Testing"
   ]
  },
  {
   "cell_type": "markdown",
   "metadata": {},
   "source": [
    "Um die Funktion `integral_method` zu testen, konstruieren wir einfache Matrix-Funktionen.\n",
    "\n",
    "Die wohl einfachsten Matrix-Funktion sind konstant gleich einer Matrix.\n",
    "Die Eigenwerte von Diagonalmatrizen stehen direkt in ihrer Diagonale.\n",
    "Ähnliche Matrizen haben dieselben Eigenwerte.\n",
    "\n",
    "Wir werden also für gegebene Eigenwerte `eigen_values` eine Diagonalmatrix `diagonal_matrix` erstellen und diese mit irgendeiner regulären Matrix `T` bzw. ihrer Inversen `T.inv()` von links und rechts multiplizieren.\n",
    "Die dadurch entstandene Matrix `A_const` hat also die Eigenwerte `eigen_values`.\n",
    "Jetzt müssen wir `A_const` nur noch zu einer konstanten Funktion `A` machen."
   ]
  },
  {
   "cell_type": "code",
   "execution_count": 349,
   "metadata": {},
   "outputs": [
    {
     "name": "stderr",
     "output_type": "stream",
     "text": [
      "<ipython-input-346-bacad595a497>:27: UserWarning: Matplotlib is currently using module://ipykernel.pylab.backend_inline, which is a non-GUI backend, so cannot show the figure.\n",
      "  fig.show()\n"
     ]
    },
    {
     "data": {
      "image/png": "[encoded data removed]",
      "text/plain": [
       "<Figure size 576x576 with 1 Axes>"
      ]
     },
     "metadata": {
      "needs_background": "light"
     },
     "output_type": "display_data"
    }
   ],
   "source": [
    "eigen_values = [1 + 1j, 1 - 1j, -1 + 1j, -1 - 1j, 0, 1, 1j, -1j, -1]\n",
    "N = len(eigen_values)\n",
    "\n",
    "plot_complex(eigen_values)"
   ]
  },
  {
   "cell_type": "code",
   "execution_count": 350,
   "metadata": {},
   "outputs": [],
   "source": [
    "# diagonal matrix with eigen values in diagonal\n",
    "diagonal_matrix = np.diag(eigen_values)\n",
    "\n",
    "# transformation matrix\n",
    "T = np.random.random(diagonal_matrix.shape)\n",
    "\n",
    "# arbitrary matrix with known eigen values\n",
    "A = T @ diagonal_matrix @ linalg.inv(T)\n",
    "# function A\n",
    "A = lambda lamda: T @ diagonal_matrix @ linalg.inv(T) - lamda*np.eye(N)\n"
   ]
  },
  {
   "cell_type": "code",
   "execution_count": 351,
   "metadata": {},
   "outputs": [
    {
     "data": {
      "text/plain": [
       "array([ 1.+1.j,  1.-1.j, -1.+1.j, -1.-1.j])"
      ]
     },
     "execution_count": 351,
     "metadata": {},
     "output_type": "execute_result"
    }
   ],
   "source": [
    "# confirmation\n",
    "vals, vectors = linalg.eig(A_const)\n",
    "vals"
   ]
  },
  {
   "cell_type": "code",
   "execution_count": 381,
   "metadata": {
    "scrolled": false
   },
   "outputs": [
    {
     "name": "stdout",
     "output_type": "stream",
     "text": [
      "0.46433306364135796\n",
      "0.5330043484490185\n",
      "0.5923684632674527\n",
      "0.5830944117034342\n",
      "0.3552544863269797\n",
      "0.004747515101230229\n",
      "4.994840622845512e-07\n",
      "3.3309057742653945e-12\n",
      "7.733402703665958e-15\n"
     ]
    },
    {
     "data": {
      "text/plain": [
       "[<matplotlib.lines.Line2D at 0x7f0234135be0>]"
      ]
     },
     "execution_count": 381,
     "metadata": {},
     "output_type": "execute_result"
    },
    {
     "data": {
      "image/png": "[encoded data removed]",
      "text/plain": [
       "<Figure size 432x288 with 1 Axes>"
      ]
     },
     "metadata": {
      "needs_background": "light"
     },
     "output_type": "display_data"
    }
   ],
   "source": [
    "m_array = np.array([2,3,4,5,10,20,50,100,1000])\n",
    "error_array = []\n",
    "\n",
    "for m in m_array:\n",
    "    R = 1.5\n",
    "    j = 4\n",
    "    z = 1+1j\n",
    "    tol = 1e-6\n",
    "\n",
    "    approx_eigen_values = integral_method(A, N, j, m, R, z, tol)\n",
    "    #plot_complex(eigen_values, [eig for eig in approx_eigen_values])\n",
    "    max_error = max([min([np.abs(approx - eig) for eig in eigen_values]) for approx in approx_eigen_values])\n",
    "    print(max_error)\n",
    "    error_array.append(max_error)\n",
    "    \n",
    "plt.loglog(m_array,error_array)\n",
    "plt.loglog(m_array,1/m_array**2)"
   ]
  },
  {
   "cell_type": "code",
   "execution_count": null,
   "metadata": {},
   "outputs": [],
   "source": []
  },
  {
   "cell_type": "code",
   "execution_count": null,
   "metadata": {},
   "outputs": [],
   "source": []
  }
 ],
 "metadata": {
  "kernelspec": {
   "display_name": "Python 3",
   "language": "python",
   "name": "python3"
  },
  "language_info": {
   "codemirror_mode": {
    "name": "ipython",
    "version": 3
   },
   "file_extension": ".py",
   "mimetype": "text/x-python",
   "name": "python",
   "nbconvert_exporter": "python",
   "pygments_lexer": "ipython3",
   "version": "3.8.5"
  }
 },
 "nbformat": 4,
 "nbformat_minor": 2
}
