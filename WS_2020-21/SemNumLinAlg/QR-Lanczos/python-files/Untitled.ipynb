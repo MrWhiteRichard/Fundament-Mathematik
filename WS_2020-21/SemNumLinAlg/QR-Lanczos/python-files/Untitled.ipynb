{
 "cells": [
  {
   "cell_type": "code",
   "execution_count": 6,
   "metadata": {},
   "outputs": [],
   "source": [
    "import outsource\n",
    "import numpy as np"
   ]
  },
  {
   "cell_type": "code",
   "execution_count": 7,
   "metadata": {},
   "outputs": [
    {
     "data": {
      "text/plain": [
       "array([1, 2, 3])"
      ]
     },
     "execution_count": 7,
     "metadata": {},
     "output_type": "execute_result"
    }
   ],
   "source": [
    "np.array([1,2,3])"
   ]
  },
  {
   "cell_type": "code",
   "execution_count": 11,
   "metadata": {},
   "outputs": [
    {
     "data": {
      "text/plain": [
       "0.0"
      ]
     },
     "execution_count": 11,
     "metadata": {},
     "output_type": "execute_result"
    }
   ],
   "source": [
    "outsource.error(np.array([1]),np.array([1]))"
   ]
  },
  {
   "cell_type": "code",
   "execution_count": 10,
   "metadata": {},
   "outputs": [
    {
     "data": {
      "text/plain": [
       "2.8301943396169813"
      ]
     },
     "execution_count": 10,
     "metadata": {},
     "output_type": "execute_result"
    }
   ],
   "source": [
    "np.linalg.norm(np.array([1,2,3])-np.array([3,2.1,1]))"
   ]
  },
  {
   "cell_type": "code",
   "execution_count": 13,
   "metadata": {},
   "outputs": [
    {
     "name": "stdout",
     "output_type": "stream",
     "text": [
      "6\n"
     ]
    }
   ],
   "source": [
    "A = np.array([1,2,3,4,5,6])\n",
    "print(len(A))"
   ]
  },
  {
   "cell_type": "code",
   "execution_count": 15,
   "metadata": {},
   "outputs": [
    {
     "name": "stdout",
     "output_type": "stream",
     "text": [
      "[6]\n"
     ]
    }
   ],
   "source": [
    "print(A[:4:-1])"
   ]
  },
  {
   "cell_type": "code",
   "execution_count": null,
   "metadata": {},
   "outputs": [],
   "source": [
    "def gen_rand_mat(eig, compl = False):\n",
    "    n = eig.shape[0]\n",
    "    if compl:\n",
    "        B = np.random.rand(n,n) + np.random.rand(n,n)*compl*1j\n",
    "    else:\n",
    "        B = np.random.rand(n,n)\n",
    "    return np.linalg.inv(B)@np.diag(eig)@B\n",
    "\n",
    "\n",
    "\n",
    "def error(eig_1, eig_2):\n",
    "    eig_1 = np.sort(eig_1)\n",
    "    eig_2 = np.sort(eig_2)\n",
    "    eig_2 = eig_2[:len(eig_1)]\n",
    "    return np.linalg.norm(eig_1 - eig_2, np.inf)\n",
    "\n",
    "def runtime(f, A):\n",
    "    start = time.time()\n",
    "    S = f(A)\n",
    "    end = time.time()\n",
    "    return end - start\n",
    "\n",
    "def runtime_error(f, A, eigv, k = 0, l = 0):\n",
    "    if k == 0:\n",
    "        l, S, count = f(A)\n",
    "        S = error(S, eigv)\n",
    "    else:\n",
    "        l, S, count = f(lambda x: A@x, k, l)\n",
    "        S = error(S, eigv)\n",
    "    return count, S\n",
    "\n",
    "\n",
    "def generate_rand_eigvals(n):\n",
    "    return np.sort(5000*np.random.rand(n)-25)\n",
    "\n",
    "\n",
    "def QR_hesse(A,tol=1e-14):\n",
    "    n = A.shape[1]\n",
    "    count = 0\n",
    "    for i in range(n-1,0,-1):\n",
    "        while abs(A[i,i-1]) > tol*(abs(A[i-1,i-1])+abs(A[i,i])):\n",
    "            w = np.linalg.eigvals(A[i-1:i+1,i-1:i+1])\n",
    "            if abs(w[0] - A[i,i]) < abs(w[1] - A[i,i]):\n",
    "                rho = w[0]\n",
    "            else:\n",
    "                rho = w[1]\n",
    "            Q,R = QR_decomp_hesse(A-rho*np.identity(n))\n",
    "            A = R@Q + rho*np.identity(n)\n",
    "            count += 1\n",
    "        A[i,:i-n] = 0\n",
    "    return A, sorted(np.diag(A)), count\n",
    "\n",
    "def gen_hess(n, compl = False):\n",
    "    if compl:\n",
    "        a = np.random.rand(n) + np.random.rand(n)*1j\n",
    "        b = np.random.rand(n-1) + np.random.rand(n-1)*1j\n",
    "        c = np.random.rand(n-1) + np.random.rand(n-1)*1j\n",
    "        return np.diag(b, -1) + np.diag(a,0) + np.diag(c, 1)\n",
    "    else:\n",
    "        A = np.zeros((n,n))\n",
    "        a = np.random.rand(n)*50\n",
    "        for j in range(n-1):\n",
    "            b = np.random.rand(n-j-1)*50\n",
    "            A = A + np.diag(b,j+1)\n",
    "        return np.diag(np.random.rand(n-1)*50, -1) + A\n",
    "    \n",
    "def gen_hermite(eig, compl = False):\n",
    "    n = eig.shape[0]\n",
    "    B = unitary_group.rvs(n)\n",
    "    return B.T.conj()@np.diag(eig)@B\n",
    "\n",
    "\n",
    "def err(A,B,k=0):\n",
    "    if k == 0:\n",
    "        k = len(A)\n",
    "    print(np.linalg.norm(np.array(A[:k])-np.array(B[:k]), ord = 1))\n",
    "    \n",
    "def plot_err(A,B,k=0):\n",
    "    if k == 0:\n",
    "        k = len(A)\n",
    "    return np.linalg.norm(np.array(A[:k])-np.array(B[:k]), ord = 1)\n",
    "\n",
    "def plot_err_1(A,B,k):\n",
    "    return abs(np.array(A[k])-np.array(B[k]))\n",
    "\n",
    "def selective_error(eig_1, eig_2, k = 1):\n",
    "    n_1 = len(eig_1)\n",
    "    n_2 = len(eig_2)\n",
    "    error_1 = np.linalg.norm(eig_1[:k] - eig_2[:k], np.inf)\n",
    "    error_2 = np.linalg.norm(eig_1[:n_1-k-1:-1] - eig_2[:n_2-k-1:-1],np.inf)\n",
    "    return error_1 + error_2"
   ]
  }
 ],
 "metadata": {
  "kernelspec": {
   "display_name": "Python 3",
   "language": "python",
   "name": "python3"
  },
  "language_info": {
   "codemirror_mode": {
    "name": "ipython",
    "version": 3
   },
   "file_extension": ".py",
   "mimetype": "text/x-python",
   "name": "python",
   "nbconvert_exporter": "python",
   "pygments_lexer": "ipython3",
   "version": "3.7.4"
  }
 },
 "nbformat": 4,
 "nbformat_minor": 2
}
