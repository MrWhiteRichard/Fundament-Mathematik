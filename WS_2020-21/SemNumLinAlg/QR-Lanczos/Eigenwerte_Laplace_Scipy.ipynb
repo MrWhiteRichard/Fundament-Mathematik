{
 "cells": [
  {
   "cell_type": "markdown",
   "metadata": {},
   "source": [
    "### Import Libraries"
   ]
  },
  {
   "cell_type": "code",
   "execution_count": 1,
   "metadata": {},
   "outputs": [],
   "source": [
    "from netgen.geom2d import *\n",
    "import scipy\n",
    "import scipy.sparse.linalg\n",
    "from ngsolve import *\n",
    "from ngsolve.webgui import Draw"
   ]
  },
  {
   "cell_type": "markdown",
   "metadata": {},
   "source": [
    "### Set Parameters"
   ]
  },
  {
   "cell_type": "code",
   "execution_count": 13,
   "metadata": {},
   "outputs": [],
   "source": [
    "a = 2              # Length of rectangle in x direction \n",
    "b = 1             # Length of rectangle in y direction \n",
    "\n",
    "maxh = 0.1   # Mesh-size\n",
    "order = 1      # Order of Polynomials\n",
    "nr_eigs = 100     # Number of Eigenvalues to approximate"
   ]
  },
  {
   "cell_type": "markdown",
   "metadata": {},
   "source": [
    "### Create the Rectangle"
   ]
  },
  {
   "cell_type": "code",
   "execution_count": 14,
   "metadata": {},
   "outputs": [
    {
     "data": {
      "application/vnd.jupyter.widget-view+json": {
       "model_id": "952c56d1a1bf4ffebfdb8ff2d5313faa",
       "version_major": 2,
       "version_minor": 0
      },
      "text/plain": [
       "NGSWebGuiWidget(value={'ngsolve_version': '6.2.2009-14-g847138235', 'mesh_dim': 2, 'order2d': 1, 'order3d': 1,…"
      ]
     },
     "metadata": {},
     "output_type": "display_data"
    },
    {
     "data": {
      "text/plain": []
     },
     "execution_count": 14,
     "metadata": {},
     "output_type": "execute_result"
    }
   ],
   "source": [
    "geo = SplineGeometry()\n",
    "geo.AddRectangle((0,0), (a,b), bcs=[\"b\",\"r\",\"t\",\"l\"])\n",
    "mesh = Mesh(geo.GenerateMesh(maxh=maxh))\n",
    "Draw(mesh)"
   ]
  },
  {
   "cell_type": "markdown",
   "metadata": {},
   "source": [
    "### finite element space and bilinear form"
   ]
  },
  {
   "cell_type": "code",
   "execution_count": 15,
   "metadata": {},
   "outputs": [
    {
     "name": "stdout",
     "output_type": "stream",
     "text": [
      "263\n"
     ]
    }
   ],
   "source": [
    "fes = H1(mesh, complex=True, order=order)\n",
    "\n",
    "eigenvec = GridFunction(fes,multidim=nr_eigs)\n",
    "\n",
    "u = fes.TrialFunction()\n",
    "v = fes.TestFunction()\n",
    "\n",
    "a = BilinearForm (fes)\n",
    "a += SymbolicBFI (grad(u)*grad(v))\n",
    "\n",
    "b = BilinearForm (fes)\n",
    "b += SymbolicBFI (u*v)\n",
    "\n",
    "a.Assemble()\n",
    "b.Assemble()\n",
    "\n",
    "A=a.mat\n",
    "B=b.mat\n",
    "\n",
    "print(fes.ndof)\n"
   ]
  },
  {
   "cell_type": "markdown",
   "metadata": {},
   "source": [
    "### eigenvalue solver via scipy"
   ]
  },
  {
   "cell_type": "code",
   "execution_count": 16,
   "metadata": {},
   "outputs": [
    {
     "name": "stdout",
     "output_type": "stream",
     "text": [
      "resonances:\n",
      "0 :  3.5270631629044065  squared:  (12.440174555117235-1.7105549519753929e-16j)\n",
      "1 :  4.471955595411878  squared:  (19.99838684733561+1.341327966776462e-16j)\n",
      "2 :  4.744005583667814  squared:  (22.505588977871398+2.8717163229860597e-16j)\n",
      "3 :  3.151850764112277  squared:  (9.934163239235144-9.842500236454905e-16j)\n",
      "4 :  3.1510012444197635  squared:  (9.928808842334899-6.034923631222385e-16j)\n",
      "5 :  1.5719521225192916  squared:  (2.4710334754929058+1.1733942047924859e-16j)\n",
      "6 :  2.1490760299348766e-07  squared:  (4.618527782440651e-14+2.2612635896946143e-15j)\n",
      "7 :  5.7221572320678895  squared:  (32.74308338850685+2.020378487503845e-15j)\n",
      "8 :  6.366273005370897  squared:  (40.5294319789142-2.315866972896634e-15j)\n",
      "9 :  6.358132518131315  squared:  (40.42584911811886+8.085737281835806e-17j)\n",
      "10 :  6.566628387789881  squared:  (43.120608383327934-7.938031354008079e-16j)\n",
      "11 :  7.135622186157851  squared:  (50.91710398358814+1.7025580037207766e-15j)\n",
      "12 :  7.141111740757764  squared:  (50.99547689398838+2.6828229676095163e-15j)\n",
      "13 :  8.00056766862798  squared:  (64.00908302029534-3.629179267319541e-15j)\n",
      "14 :  8.015865647281341  squared:  (64.25410207526512+1.392430352984099e-15j)\n",
      "15 :  8.651267238142097  squared:  (74.84442482575079-7.831153365573422e-16j)\n",
      "16 :  9.116624307970355  squared:  (83.11283877267596+9.662603426689511e-16j)\n",
      "17 :  9.680001321810614  squared:  (93.70242559025526-2.4117125643957274e-16j)\n",
      "18 :  9.707146781401708  squared:  (94.22869863567755+2.2782381191283234e-15j)\n",
      "19 :  9.847137932227293  squared:  (96.96612545630961-1.775721547101885e-14j)\n",
      "20 :  10.243559871694263  squared:  (104.93051884498499-2.9567146321985603e-15j)\n",
      "21 :  10.268225762430383  squared:  (105.436460308239-1.2612448345821007e-14j)\n",
      "22 :  10.38900491836758  squared:  (107.93142319386577+5.571224459513873e-16j)\n",
      "23 :  10.935481447631101  squared:  (119.58475449148399+1.237383028830737e-14j)\n",
      "24 :  11.401402724601754  squared:  (129.9919840885563+8.383820825551047e-15j)\n",
      "25 :  11.791608111224448  squared:  (139.04202184869422+2.0153624240665535e-15j)\n",
      "26 :  11.819251753688043  squared:  (139.69471201705787+3.647590102615451e-15j)\n",
      "27 :  11.905528858055487  squared:  (141.74161738999197-1.7456117854342522e-15j)\n",
      "28 :  12.88669141757377  squared:  (166.06681569176948-1.1326033551107719e-14j)\n",
      "29 :  13.17196346135295  squared:  (173.5006214272172+5.69559950487285e-15j)\n",
      "30 :  13.230642265610575  squared:  (175.04989476056093-1.0450595510194927e-14j)\n",
      "31 :  13.30692788800868  squared:  (177.07432981666312-5.014511983175858e-15j)\n",
      "32 :  13.34315185495098  squared:  (178.03970142428176-9.882226540243212e-15j)\n",
      "33 :  13.633528133549932  squared:  (185.87308936829749+1.4707404788343998e-14j)\n",
      "34 :  13.687561340989314  squared:  (187.3493354633452-1.0007292035487807e-14j)\n",
      "35 :  14.116569737211979  squared:  (199.27754114556907-1.141128450289084e-14j)\n",
      "36 :  14.240007333738708  squared:  (202.7778088649322+1.2017858310563715e-14j)\n",
      "37 :  14.92186179600329  squared:  (222.66195945902254-1.4366241169018287e-14j)\n",
      "38 :  14.986041102619186  squared:  (224.58142792939165-6.577302077231508e-15j)\n",
      "39 :  15.001103636297843  squared:  (225.03311030694837-7.077533627864217e-16j)\n",
      "40 :  15.42792576707773  squared:  (238.02089347446096+6.514839942152093e-15j)\n",
      "41 :  15.487574571818824  squared:  (239.864966117649+1.1588889920288575e-14j)\n",
      "42 :  15.913264760219167  squared:  (253.23199532883322-1.393144386396698e-14j)\n",
      "43 :  16.625476419344295  squared:  (276.4064661701732+6.122600065037243e-15j)\n",
      "44 :  16.889756404535806  squared:  (285.26387140455824+8.150749258618292e-15j)\n",
      "45 :  16.97339281340972  squared:  (288.0960635983088-1.5157363417474755e-14j)\n",
      "46 :  16.98871069748384  squared:  (288.6162911628018-1.2236507762932004e-14j)\n",
      "47 :  17.03010377231368  squared:  (290.02443449577265+1.270809095640915e-14j)\n",
      "48 :  17.106481886324715  squared:  (292.63172252715555+3.137711497980204e-14j)\n",
      "49 :  17.3064604035197  squared:  (299.5135716985953+3.105507008615971e-14j)\n",
      "50 :  17.427363216486377  squared:  (303.7129886793424+7.084217874549807e-15j)\n",
      "51 :  17.924424885711677  squared:  (321.28500748352+1.596202491447364e-14j)\n",
      "52 :  18.24618686649019  squared:  (332.9233351668791+1.7272730922940714e-15j)\n",
      "53 :  18.40895998888984  squared:  (338.88980787254707+1.7843543322650827e-14j)\n",
      "54 :  18.57498623397465  squared:  (345.0301135923477-8.900325768625879e-16j)\n",
      "55 :  18.591010560829467  squared:  (345.6256736728728-3.9771642478306226e-14j)\n",
      "56 :  18.85584308858875  squared:  (355.5428185814801+2.254782368996648e-14j)\n",
      "57 :  19.252250542987532  squared:  (370.64915096996367-5.424427750523606e-14j)\n",
      "58 :  19.416789956256707  squared:  (377.0117322053913+9.944752003018467e-15j)\n",
      "59 :  19.63154977528411  squared:  (385.3977465794576-3.7614921370413375e-14j)\n",
      "60 :  20.259578294080413  squared:  (410.4505126539743+4.3192211272181915e-15j)\n",
      "61 :  20.297748106078576  squared:  (411.99857817781646-3.369071579642083e-14j)\n",
      "62 :  20.41562765459493  squared:  (416.79785253106127+1.9970418257474367e-14j)\n",
      "63 :  20.885620254252405  squared:  (436.2091334048383+9.020589242677815e-15j)\n",
      "64 :  21.026914115273513  squared:  (442.13111721108845+1.495760200144014e-13j)\n",
      "65 :  21.11254811260076  squared:  (445.7396878068818+1.1595082179760052e-14j)\n",
      "66 :  21.138848980102296  squared:  (446.8509362035719-8.111954315640868e-15j)\n",
      "67 :  21.277371795609465  squared:  (452.7265505285971-4.03419069333388e-14j)\n",
      "68 :  21.397791083356772  squared:  (457.8654632469826-1.4717712648620773e-13j)\n",
      "69 :  21.598968102723  squared:  (466.51542310244554+8.638007630397816e-14j)\n",
      "70 :  21.85712186682738  squared:  (477.7337763013436-4.731678606778422e-14j)\n",
      "71 :  22.060235196119578  squared:  (486.65397690811295+7.908677480874292e-15j)\n",
      "72 :  22.222471764625872  squared:  (493.83825132959413-2.4407555749261046e-14j)\n",
      "73 :  22.46803797620476  squared:  (504.81273050017916-2.87474221013097e-14j)\n",
      "74 :  22.740272609744974  squared:  (517.1199983655175+2.810893489876622e-15j)\n",
      "75 :  22.879372536222263  squared:  (523.4656876512415+7.952366286396343e-15j)\n",
      "76 :  22.993567649721996  squared:  (528.7041532623418-3.788176811166226e-14j)\n",
      "77 :  23.22941033986894  squared:  (539.60550473801+1.893371738746518e-15j)\n",
      "78 :  23.36729273455039  squared:  (546.0303697421714-5.2047891070190506e-14j)\n",
      "79 :  23.959689609869955  squared:  (574.0667262013102-7.106216941717019e-15j)\n",
      "80 :  24.150556009084124  squared:  (583.2493555479093-8.222489422667641e-14j)\n",
      "81 :  24.251109153823506  squared:  (588.1162951906622-1.1882261273570375e-13j)\n",
      "82 :  24.33280460159579  squared:  (592.0853797794413-1.1943881346117606e-14j)\n",
      "83 :  24.49852422256226  squared:  (600.1776890834698-4.9354386895529735e-14j)\n",
      "84 :  25.134114470583395  squared:  (631.7237102203895-2.731599532200344e-14j)\n",
      "85 :  25.25258356575212  squared:  (637.692976745294+5.95758258177051e-14j)\n",
      "86 :  25.417568677338885  squared:  (646.0527974672389+4.901524442388985e-14j)\n",
      "87 :  25.502291379644415  squared:  (650.3668656122859+2.1872013224754344e-13j)\n",
      "88 :  25.519884377433613  squared:  (651.2644986375801-1.123977068846592e-14j)\n",
      "89 :  25.80082702659863  squared:  (665.6826752564623+1.1315559129626507e-13j)\n",
      "90 :  25.809572725997107  squared:  (666.1340442985337-1.7108468392338035e-13j)\n",
      "91 :  25.916695646904294  squared:  (671.675113254268+3.825653623702648e-14j)\n",
      "92 :  26.21405461479006  squared:  (687.176659347196+2.621048477269876e-14j)\n",
      "93 :  26.251939616116235  squared:  (689.164333608213-1.4743219814500402e-14j)\n",
      "94 :  26.358849707446524  squared:  (694.7889578997538-9.925368173987455e-15j)\n",
      "95 :  26.623385639647207  squared:  (708.8046629173732+2.3913402318481527e-14j)\n",
      "96 :  26.83472215078604  squared:  (720.1023129098869-7.405430925421339e-14j)\n",
      "97 :  27.340172221243318  squared:  (747.4850170872447-2.4066706606753156e-14j)\n",
      "98 :  27.39423588789579  squared:  (750.4441598816776-1.5648371786762076e-13j)\n",
      "99 :  27.521881563270245  squared:  (757.4539647826746+1.393206026179031e-13j)\n"
     ]
    },
    {
     "name": "stderr",
     "output_type": "stream",
     "text": [
      "C:\\Users\\Lothar Nannen\\AppData\\Roaming\\Python\\Python37\\site-packages\\ipykernel_launcher.py:19: ComplexWarning: Casting complex values to real discards the imaginary part\n"
     ]
    }
   ],
   "source": [
    "shift = 4\n",
    "\n",
    "shifted = a.mat.CreateMatrix()\n",
    "shifted.AsVector().data = a.mat.AsVector() - (shift**2)*b.mat.AsVector()\n",
    "invshifted = shifted.Inverse(freedofs=fes.FreeDofs())\n",
    "\n",
    "tmp1 = eigenvec.vec.CreateVector()\n",
    "tmp2 = eigenvec.vec.CreateVector()\n",
    "def matvec(v):\n",
    "    tmp1.FV().NumPy()[:] = v\n",
    "    tmp2.data = b.mat * tmp1\n",
    "    tmp1.data = invshifted * tmp2\n",
    "    return tmp1.FV().NumPy()\n",
    "\n",
    "A = scipy.sparse.linalg.LinearOperator( (a.mat.height,a.mat.width), matvec)\n",
    "mu, vecs = scipy.sparse.linalg.eigs(A, nr_eigs)\n",
    "\n",
    "lamsquared=shift**2+1/mu\n",
    "lams=[sqrt(l) for l in lamsquared]\n",
    "print(\"resonances:\")\n",
    "for i in range (0,len(lams)):\n",
    "    print(i,\": \",lams[i], \" squared: \", lamsquared[i])  \n"
   ]
  },
  {
   "cell_type": "markdown",
   "metadata": {},
   "source": [
    "### copy and plot eigenfunctions"
   ]
  },
  {
   "cell_type": "code",
   "execution_count": 17,
   "metadata": {},
   "outputs": [
    {
     "data": {
      "application/vnd.jupyter.widget-view+json": {
       "model_id": "f4efb2d4a8b54100b95424e1b37eca97",
       "version_major": 2,
       "version_minor": 0
      },
      "text/plain": [
       "NGSWebGuiWidget(value={'ngsolve_version': '6.2.2009-14-g847138235', 'mesh_dim': 2, 'order2d': 2, 'order3d': 2,…"
      ]
     },
     "metadata": {},
     "output_type": "display_data"
    },
    {
     "data": {
      "text/plain": []
     },
     "execution_count": 17,
     "metadata": {},
     "output_type": "execute_result"
    }
   ],
   "source": [
    "for i in range(nr_eigs):\n",
    "    eigenvec.vecs[i].FV().NumPy()[:] = vecs[:,i]\n",
    "\n",
    "Draw(eigenvec)"
   ]
  },
  {
   "cell_type": "code",
   "execution_count": null,
   "metadata": {},
   "outputs": [],
   "source": []
  }
 ],
 "metadata": {
  "kernelspec": {
   "display_name": "Python 3",
   "language": "python",
   "name": "python3"
  },
  "language_info": {
   "codemirror_mode": {
    "name": "ipython",
    "version": 3
   },
   "file_extension": ".py",
   "mimetype": "text/x-python",
   "name": "python",
   "nbconvert_exporter": "python",
   "pygments_lexer": "ipython3",
   "version": "3.7.0"
  }
 },
 "nbformat": 4,
 "nbformat_minor": 4
}
