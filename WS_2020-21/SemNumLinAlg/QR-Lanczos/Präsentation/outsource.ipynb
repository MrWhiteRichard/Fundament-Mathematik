{
 "cells": [
  {
   "cell_type": "markdown",
   "metadata": {},
   "source": [
    "# Various Functions#"
   ]
  },
  {
   "cell_type": "code",
   "execution_count": 2,
   "metadata": {},
   "outputs": [],
   "source": [
    "import numpy as np\n",
    "from scipy.stats import unitary_group\n",
    "import time"
   ]
  },
  {
   "cell_type": "markdown",
   "metadata": {},
   "source": [
    "## Matrix generation"
   ]
  },
  {
   "cell_type": "markdown",
   "metadata": {},
   "source": [
    "Takes an array of eigenvalues and creates a random matrix with said eigenvalues via similarity-transformation."
   ]
  },
  {
   "cell_type": "code",
   "execution_count": 5,
   "metadata": {},
   "outputs": [],
   "source": [
    "def gen_rand_mat(eig, compl = False):\n",
    "    n = eig.shape[0]\n",
    "    if compl:\n",
    "        B = np.random.rand(n,n) + np.random.rand(n,n)*compl*1j\n",
    "    else:\n",
    "        B = np.random.rand(n,n)\n",
    "    return np.linalg.inv(B)@np.diag(eig)@B"
   ]
  },
  {
   "cell_type": "markdown",
   "metadata": {},
   "source": [
    "Generates a random Hessenberg-Matrix. In the complex case it is a tridiagonal matrix."
   ]
  },
  {
   "cell_type": "code",
   "execution_count": 6,
   "metadata": {},
   "outputs": [],
   "source": [
    "def gen_hess(n, compl = False):\n",
    "    if compl:\n",
    "        a = np.random.rand(n) + np.random.rand(n)*1j\n",
    "        b = np.random.rand(n-1) + np.random.rand(n-1)*1j\n",
    "        c = np.random.rand(n-1) + np.random.rand(n-1)*1j\n",
    "        return np.diag(b, -1) + np.diag(a,0) + np.diag(c, 1)\n",
    "    else:\n",
    "        A = np.zeros((n,n))\n",
    "        a = np.random.rand(n)*50\n",
    "        for j in range(n-1):\n",
    "            b = np.random.rand(n-j-1)*50\n",
    "            A = A + np.diag(b,j+1)\n",
    "        return np.diag(np.random.rand(n-1)*50, -1) + A"
   ]
  },
  {
   "cell_type": "markdown",
   "metadata": {},
   "source": [
    "Takes an array of eigenvalues and creates a hermitean matrix with said eigenvalues."
   ]
  },
  {
   "cell_type": "code",
   "execution_count": 7,
   "metadata": {},
   "outputs": [],
   "source": [
    "def gen_hermite(eig, compl = False):\n",
    "    n = eig.shape[0]\n",
    "    B = unitary_group.rvs(n)\n",
    "    return B.T.conj()@np.diag(eig)@B"
   ]
  },
  {
   "cell_type": "markdown",
   "metadata": {},
   "source": [
    "## Errors and Runtime"
   ]
  },
  {
   "cell_type": "markdown",
   "metadata": {},
   "source": [
    "Takes two arrays, sorts them, shortens the presumably longer one and returns the norm of the difference (inf is for the max-norm)."
   ]
  },
  {
   "cell_type": "code",
   "execution_count": 8,
   "metadata": {},
   "outputs": [],
   "source": [
    "def error(eig_1, eig_2):\n",
    "    eig_1 = np.sort(eig_1)\n",
    "    eig_2 = np.sort(eig_2)\n",
    "    eig_2 = eig_2[:len(eig_1)]\n",
    "    return np.linalg.norm(eig_1 - eig_2)"
   ]
  },
  {
   "cell_type": "markdown",
   "metadata": {},
   "source": [
    "Takes two array, returns the sum of the norm-difference in the first k and last k entries."
   ]
  },
  {
   "cell_type": "code",
   "execution_count": 9,
   "metadata": {},
   "outputs": [],
   "source": [
    "def selective_error(eig_1, eig_2, k = 1):\n",
    "    n_1 = len(eig_1)\n",
    "    n_2 = len(eig_2)\n",
    "    error_1 = np.linalg.norm(eig_1[:k] - eig_2[:k])\n",
    "    error_2 = np.linalg.norm(eig_1[:n_1-k-1:-1] - eig_2[:n_2-k-1:-1])\n",
    "    return error_1 + error_2"
   ]
  },
  {
   "cell_type": "markdown",
   "metadata": {},
   "source": [
    "Returns the time needed for one function evaluation of f given input A."
   ]
  },
  {
   "cell_type": "code",
   "execution_count": 10,
   "metadata": {},
   "outputs": [],
   "source": [
    "def runtime(f, A):\n",
    "    start = time.time()\n",
    "    S = f(A)\n",
    "    end = time.time()\n",
    "    return end - start"
   ]
  },
  {
   "cell_type": "markdown",
   "metadata": {},
   "source": [
    "Returns the error of some f(A) to some eigv as well as the count as returned from f, the case $l > 0$ is implemented for Lanczos, the casse $l > 0$ for Arnoldi."
   ]
  },
  {
   "cell_type": "code",
   "execution_count": 11,
   "metadata": {},
   "outputs": [],
   "source": [
    "def runtime_error(f, A, eigv, k = 0, l = 0):\n",
    "    if k == 0:\n",
    "        l, S, count = f(A)\n",
    "        S = error(S, eigv)\n",
    "    elif l == 0:\n",
    "        l, S, count = f(A, k)\n",
    "        S = error(S, eigv)\n",
    "    else:\n",
    "        l, S, count = f(lambda x: A@x, l, k)\n",
    "        S = error(S, eigv)\n",
    "    return count, S"
   ]
  }
 ],
 "metadata": {
  "kernelspec": {
   "display_name": "Python 3",
   "language": "python",
   "name": "python3"
  },
  "language_info": {
   "codemirror_mode": {
    "name": "ipython",
    "version": 3
   },
   "file_extension": ".py",
   "mimetype": "text/x-python",
   "name": "python",
   "nbconvert_exporter": "python",
   "pygments_lexer": "ipython3",
   "version": "3.7.4"
  }
 },
 "nbformat": 4,
 "nbformat_minor": 2
}
