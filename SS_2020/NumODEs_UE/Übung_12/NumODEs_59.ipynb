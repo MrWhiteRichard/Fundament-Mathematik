{
 "cells": [
  {
   "cell_type": "code",
   "execution_count": 10,
   "metadata": {},
   "outputs": [],
   "source": [
    "import sympy as sp\n",
    "from fractions import Fraction"
   ]
  },
  {
   "cell_type": "code",
   "execution_count": 15,
   "metadata": {},
   "outputs": [],
   "source": [
    "fraction_vector = lambda vector: [str(Fraction(float(coeff)).limit_denominator(100)) for coeff in vector]"
   ]
  },
  {
   "cell_type": "code",
   "execution_count": 16,
   "metadata": {},
   "outputs": [
    {
     "name": "stdout",
     "output_type": "stream",
     "text": [
      "['-1/12', '4/3', '-5/2', '-1/12', '4/3']\n"
     ]
    }
   ],
   "source": [
    "A = sp.Matrix([[ 1,       1,     1,  1,     1    ],\n",
    "               [-2,      -1,     0,  2,     1    ],\n",
    "               [ 4 /2,    1/2,   0,  4/2,   1/2  ],\n",
    "               [-8 /6,   -1/6,   0,  8/6,   1/6  ],\n",
    "               [ 16/24,   1/24,  0, 16/24,  1/24 ],\n",
    "               [-32/120, -1/120, 0, 32/120, 1/120]])\n",
    "\n",
    "b = sp.Matrix([0, 0, 1, 0, 0, 0])\n",
    "\n",
    "x = list(sp.linsolve((A, b)))[0]\n",
    "\n",
    "print(fraction_vector(x))"
   ]
  }
 ],
 "metadata": {
  "kernelspec": {
   "display_name": "Python 3",
   "language": "python",
   "name": "python3"
  },
  "language_info": {
   "codemirror_mode": {
    "name": "ipython",
    "version": 3
   },
   "file_extension": ".py",
   "mimetype": "text/x-python",
   "name": "python",
   "nbconvert_exporter": "python",
   "pygments_lexer": "ipython3",
   "version": "3.7.4"
  }
 },
 "nbformat": 4,
 "nbformat_minor": 2
}
