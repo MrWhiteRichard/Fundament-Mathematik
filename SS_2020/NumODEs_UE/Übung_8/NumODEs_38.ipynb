{
 "cells": [
  {
   "cell_type": "markdown",
   "metadata": {},
   "source": [
    "**Aufgabe 38:**\n",
    "\n",
    "Schreiben Sie ein Programm, welches für $k \\in \\mathbb{N}$ das explizite bzw. implizite lineare $k$-Schritt Verfahren maximaler Konsistenzordnung berechnet. Geben Sie dann speziell das explizite bzw. implizite $2$- und $3$-Schritt Verfahren maximaler Ordnung an."
   ]
  },
  {
   "cell_type": "code",
   "execution_count": 1,
   "metadata": {},
   "outputs": [],
   "source": [
    "import numpy as np\n",
    "from fractions import Fraction"
   ]
  },
  {
   "cell_type": "code",
   "execution_count": 2,
   "metadata": {},
   "outputs": [],
   "source": [
    "def implicit(k):\n",
    "    \n",
    "    \"\"\"\n",
    "        returns the coefficients of the implicit k-step method with maximal order\n",
    "    \"\"\"\n",
    "    \n",
    "    upper_left  = np.array([ 0 for j in range(k+1)])\n",
    "    upper_right = np.array([-1 for j in range(k)])\n",
    "\n",
    "    lower_left  = np.array([[ i * j**(i-1) for j in range(k+1)] for i in range(1, 2*k+1)])\n",
    "    lower_right = np.array([[-j**i         for j in range(k)]   for i in range(1, 2*k+1)])\n",
    "    \n",
    "    A = np.block([[upper_left, upper_right],\n",
    "                  [lower_left, lower_right]])\n",
    "\n",
    "    b = np.array([k**i for i in range(2*k+1)])\n",
    "\n",
    "    x = np.linalg.solve(A, b)\n",
    "\n",
    "    alpha = np.array(list(x[k+1::]) + [1])\n",
    "    beta  = x[:k+1:]\n",
    "    \n",
    "    return alpha, beta"
   ]
  },
  {
   "cell_type": "code",
   "execution_count": 3,
   "metadata": {},
   "outputs": [],
   "source": [
    "def explicit(k):\n",
    "    \n",
    "    \"\"\"\n",
    "        returns the coefficients of the explicit k-step method with maximal order\n",
    "    \"\"\"\n",
    "    \n",
    "    upper_left  = np.array([ 0 for j in range(k)])\n",
    "    upper_right = np.array([-1 for j in range(k)])\n",
    "\n",
    "    lower_left  = np.array([[ i * j**(i-1) for j in range(k)] for i in range(1, 2*k)])\n",
    "    lower_right = np.array([[-j**i         for j in range(k)] for i in range(1, 2*k)])\n",
    "    \n",
    "    A = np.block([[upper_left, upper_right],\n",
    "                  [lower_left, lower_right]])\n",
    "\n",
    "    b = np.array([k**i for i in range(2*k)])\n",
    "\n",
    "    x = np.linalg.solve(A, b)\n",
    "\n",
    "    alpha = np.array(list(x[k::]) + [1])\n",
    "    beta  = np.array(list(x[:k:]) + [0])\n",
    "    \n",
    "    return alpha, beta"
   ]
  },
  {
   "cell_type": "code",
   "execution_count": 4,
   "metadata": {},
   "outputs": [],
   "source": [
    "fraction = lambda x: [str(Fraction(x_).limit_denominator(100)) for x_ in x]"
   ]
  },
  {
   "cell_type": "code",
   "execution_count": 5,
   "metadata": {},
   "outputs": [],
   "source": [
    "def plicit(im_ex, k_max):\n",
    "\n",
    "    print('#', '-'*64, '#', '\\n')\n",
    "\n",
    "    for k in range(k_max):\n",
    "\n",
    "        print(\"k =\", k+1)\n",
    "        print(\"\")\n",
    "\n",
    "        alpha, beta = im_ex(k+1)\n",
    "\n",
    "        print(\"alpha =\")\n",
    "        print(fraction(alpha))\n",
    "        print(\"\")\n",
    "\n",
    "        print(\"beta =\")\n",
    "        print(fraction(beta))\n",
    "        print(\"\")\n",
    "\n",
    "        print('#', '-'*64, '#', '\\n')"
   ]
  },
  {
   "cell_type": "code",
   "execution_count": 6,
   "metadata": {},
   "outputs": [],
   "source": [
    "k_max = 3"
   ]
  },
  {
   "cell_type": "code",
   "execution_count": 7,
   "metadata": {},
   "outputs": [
    {
     "name": "stdout",
     "output_type": "stream",
     "text": [
      "# ---------------------------------------------------------------- # \n",
      "\n",
      "k = 1\n",
      "\n",
      "alpha =\n",
      "['-1', '1']\n",
      "\n",
      "beta =\n",
      "['1/2', '1/2']\n",
      "\n",
      "# ---------------------------------------------------------------- # \n",
      "\n",
      "k = 2\n",
      "\n",
      "alpha =\n",
      "['-1', '0', '1']\n",
      "\n",
      "beta =\n",
      "['1/3', '4/3', '1/3']\n",
      "\n",
      "# ---------------------------------------------------------------- # \n",
      "\n",
      "k = 3\n",
      "\n",
      "alpha =\n",
      "['-1', '-27/11', '27/11', '1']\n",
      "\n",
      "beta =\n",
      "['3/11', '27/11', '27/11', '3/11']\n",
      "\n",
      "# ---------------------------------------------------------------- # \n",
      "\n"
     ]
    }
   ],
   "source": [
    "plicit(implicit, k_max)"
   ]
  },
  {
   "cell_type": "code",
   "execution_count": 8,
   "metadata": {},
   "outputs": [
    {
     "name": "stdout",
     "output_type": "stream",
     "text": [
      "# ---------------------------------------------------------------- # \n",
      "\n",
      "k = 1\n",
      "\n",
      "alpha =\n",
      "['-1', '1']\n",
      "\n",
      "beta =\n",
      "['1', '0']\n",
      "\n",
      "# ---------------------------------------------------------------- # \n",
      "\n",
      "k = 2\n",
      "\n",
      "alpha =\n",
      "['-5', '4', '1']\n",
      "\n",
      "beta =\n",
      "['2', '4', '0']\n",
      "\n",
      "# ---------------------------------------------------------------- # \n",
      "\n",
      "k = 3\n",
      "\n",
      "alpha =\n",
      "['-10', '-9', '18', '1']\n",
      "\n",
      "beta =\n",
      "['3', '18', '9', '0']\n",
      "\n",
      "# ---------------------------------------------------------------- # \n",
      "\n"
     ]
    }
   ],
   "source": [
    "plicit(explicit, k_max)"
   ]
  }
 ],
 "metadata": {
  "kernelspec": {
   "display_name": "Python 3",
   "language": "python",
   "name": "python3"
  },
  "language_info": {
   "codemirror_mode": {
    "name": "ipython",
    "version": 3
   },
   "file_extension": ".py",
   "mimetype": "text/x-python",
   "name": "python",
   "nbconvert_exporter": "python",
   "pygments_lexer": "ipython3",
   "version": "3.7.4"
  }
 },
 "nbformat": 4,
 "nbformat_minor": 2
}
