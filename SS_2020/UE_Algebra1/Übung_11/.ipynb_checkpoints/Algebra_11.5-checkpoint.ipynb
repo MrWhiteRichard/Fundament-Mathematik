{
 "cells": [
  {
   "cell_type": "code",
   "execution_count": 3,
   "metadata": {},
   "outputs": [],
   "source": [
    "import sympy as sp"
   ]
  },
  {
   "cell_type": "code",
   "execution_count": 10,
   "metadata": {},
   "outputs": [],
   "source": [
    "pi = sp.pi"
   ]
  },
  {
   "cell_type": "code",
   "execution_count": 40,
   "metadata": {},
   "outputs": [
    {
     "name": "stdout",
     "output_type": "stream",
     "text": [
      "# ---------------------------------------------------------------- # \n",
      "\n"
     ]
    },
    {
     "data": {
      "text/latex": [
       "$\\displaystyle \\left(x + 1.0 i y\\right)^{7}$"
      ],
      "text/plain": [
       "(x + 1.0*I*y)**7"
      ]
     },
     "metadata": {},
     "output_type": "display_data"
    },
    {
     "name": "stdout",
     "output_type": "stream",
     "text": [
      "# ---------------------------------------------------------------- # \n",
      "\n",
      "Binomischer Lehrsatz ...\n"
     ]
    },
    {
     "data": {
      "text/latex": [
       "$\\displaystyle x^{7} + 7.0 i x^{6} y - 21.0 x^{5} y^{2} - 35.0 i x^{4} y^{3} + 35.0 x^{3} y^{4} + 21.0 i x^{2} y^{5} - 7.0 x y^{6} - 1.0 i y^{7}$"
      ],
      "text/plain": [
       "x**7 + 7.0*I*x**6*y - 21.0*x**5*y**2 - 35.0*I*x**4*y**3 + 35.0*x**3*y**4 + 21.0*I*x**2*y**5 - 7.0*x*y**6 - 1.0*I*y**7"
      ]
     },
     "metadata": {},
     "output_type": "display_data"
    },
    {
     "name": "stdout",
     "output_type": "stream",
     "text": [
      "# ---------------------------------------------------------------- # \n",
      "\n",
      "für x und y einsetzen ...\n"
     ]
    },
    {
     "data": {
      "text/latex": [
       "$\\displaystyle - 21.0 \\sin^{2}{\\left(\\frac{2 \\pi}{7} \\right)} \\cos^{5}{\\left(\\frac{2 \\pi}{7} \\right)} - 7.0 \\sin^{6}{\\left(\\frac{2 \\pi}{7} \\right)} \\cos{\\left(\\frac{2 \\pi}{7} \\right)} + \\cos^{7}{\\left(\\frac{2 \\pi}{7} \\right)} + 35.0 \\sin^{4}{\\left(\\frac{2 \\pi}{7} \\right)} \\cos^{3}{\\left(\\frac{2 \\pi}{7} \\right)} - 35.0 i \\sin^{3}{\\left(\\frac{2 \\pi}{7} \\right)} \\cos^{4}{\\left(\\frac{2 \\pi}{7} \\right)} - 1.0 i \\sin^{7}{\\left(\\frac{2 \\pi}{7} \\right)} + 7.0 i \\sin{\\left(\\frac{2 \\pi}{7} \\right)} \\cos^{6}{\\left(\\frac{2 \\pi}{7} \\right)} + 21.0 i \\sin^{5}{\\left(\\frac{2 \\pi}{7} \\right)} \\cos^{2}{\\left(\\frac{2 \\pi}{7} \\right)}$"
      ],
      "text/plain": [
       "-21.0*sin(2*pi/7)**2*cos(2*pi/7)**5 - 7.0*sin(2*pi/7)**6*cos(2*pi/7) + cos(2*pi/7)**7 + 35.0*sin(2*pi/7)**4*cos(2*pi/7)**3 - 35.0*I*sin(2*pi/7)**3*cos(2*pi/7)**4 - 1.0*I*sin(2*pi/7)**7 + 7.0*I*sin(2*pi/7)*cos(2*pi/7)**6 + 21.0*I*sin(2*pi/7)**5*cos(2*pi/7)**2"
      ]
     },
     "metadata": {},
     "output_type": "display_data"
    },
    {
     "name": "stdout",
     "output_type": "stream",
     "text": [
      "# ---------------------------------------------------------------- # \n",
      "\n",
      "Weil das Ergebnis 1, also reell ist, fällt der Imaginärteil weg.\n"
     ]
    },
    {
     "data": {
      "text/latex": [
       "$\\displaystyle - 21.0 \\sin^{2}{\\left(\\frac{2 \\pi}{7} \\right)} \\cos^{5}{\\left(\\frac{2 \\pi}{7} \\right)} - 7.0 \\sin^{6}{\\left(\\frac{2 \\pi}{7} \\right)} \\cos{\\left(\\frac{2 \\pi}{7} \\right)} + \\cos^{7}{\\left(\\frac{2 \\pi}{7} \\right)} + 35.0 \\sin^{4}{\\left(\\frac{2 \\pi}{7} \\right)} \\cos^{3}{\\left(\\frac{2 \\pi}{7} \\right)}$"
      ],
      "text/plain": [
       "-21.0*sin(2*pi/7)**2*cos(2*pi/7)**5 - 7.0*sin(2*pi/7)**6*cos(2*pi/7) + cos(2*pi/7)**7 + 35.0*sin(2*pi/7)**4*cos(2*pi/7)**3"
      ]
     },
     "metadata": {},
     "output_type": "display_data"
    },
    {
     "name": "stdout",
     "output_type": "stream",
     "text": [
      "# ---------------------------------------------------------------- # \n",
      "\n",
      "nochmal in die Form mit x und y umschreiben ...\n"
     ]
    },
    {
     "data": {
      "text/latex": [
       "$\\displaystyle x^{7} - 21.0 x^{5} y^{2} + 35.0 x^{3} y^{4} - 7.0 x y^{6}$"
      ],
      "text/plain": [
       "x**7 - 21.0*x**5*y**2 + 35.0*x**3*y**4 - 7.0*x*y**6"
      ]
     },
     "metadata": {},
     "output_type": "display_data"
    },
    {
     "name": "stdout",
     "output_type": "stream",
     "text": [
      "# ---------------------------------------------------------------- # \n",
      "\n",
      "Pythagoras und vereinfachen ...\n"
     ]
    },
    {
     "data": {
      "text/latex": [
       "$\\displaystyle x \\left(64.0 x^{6} - 112.0 x^{4} + 56.0 x^{2} - 7.0\\right)$"
      ],
      "text/plain": [
       "x*(64.0*x**6 - 112.0*x**4 + 56.0*x**2 - 7.0)"
      ]
     },
     "metadata": {},
     "output_type": "display_data"
    },
    {
     "name": "stdout",
     "output_type": "stream",
     "text": [
      "# ---------------------------------------------------------------- # \n",
      "\n"
     ]
    }
   ],
   "source": [
    "x, y = sp.symbols('x y')\n",
    "\n",
    "x_forreal = sp.cos(2 * pi / 7)\n",
    "y_forreal = sp.sin(2 * pi / 7)\n",
    "\n",
    "print('#', '-'*64, '#', '\\n')\n",
    "\n",
    "expr = (x + 1j * y)**7\n",
    "display(expr)\n",
    "print('#', '-'*64, '#', '\\n')\n",
    "\n",
    "print(\"Binomischer Lehrsatz ...\")\n",
    "expr = expr.expand()\n",
    "display(expr)\n",
    "print('#', '-'*64, '#', '\\n')\n",
    "\n",
    "print(\"für x und y einsetzen ...\")\n",
    "expr = expr.subs(x, x_forreal).subs(y, y_forreal)\n",
    "display(expr)\n",
    "print('#', '-'*64, '#', '\\n')\n",
    "\n",
    "print(\"Weil das Ergebnis 1, also reell ist, fällt der Imaginärteil weg.\")\n",
    "expr = sp.re(expr)\n",
    "display(expr)\n",
    "print('#', '-'*64, '#', '\\n')\n",
    "\n",
    "print(\"nochmal in die Form mit x und y umschreiben ...\")\n",
    "expr = expr.subs(x_forreal, x).subs(y_forreal, y)\n",
    "display(expr)\n",
    "print('#', '-'*64, '#', '\\n')\n",
    "\n",
    "print(\"Pythagoras und vereinfachen ...\")\n",
    "expr = expr.subs(y**2, 1 - x**2).simplify()\n",
    "display(expr)\n",
    "print('#', '-'*64, '#', '\\n')"
   ]
  }
 ],
 "metadata": {
  "kernelspec": {
   "display_name": "Python 3",
   "language": "python",
   "name": "python3"
  },
  "language_info": {
   "codemirror_mode": {
    "name": "ipython",
    "version": 3
   },
   "file_extension": ".py",
   "mimetype": "text/x-python",
   "name": "python",
   "nbconvert_exporter": "python",
   "pygments_lexer": "ipython3",
   "version": "3.7.4"
  }
 },
 "nbformat": 4,
 "nbformat_minor": 2
}
