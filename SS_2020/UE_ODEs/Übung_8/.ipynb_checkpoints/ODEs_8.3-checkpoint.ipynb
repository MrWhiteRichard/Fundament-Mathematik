{
 "cells": [
  {
   "cell_type": "code",
   "execution_count": 1,
   "metadata": {},
   "outputs": [],
   "source": [
    "import sympy as sp"
   ]
  },
  {
   "cell_type": "code",
   "execution_count": 30,
   "metadata": {},
   "outputs": [
    {
     "name": "stdout",
     "output_type": "stream",
     "text": [
      "Das ist der Ausdruck aus der Angabe ...\n"
     ]
    },
    {
     "data": {
      "text/latex": [
       "$\\displaystyle y^\\prime = - y^{2} \\left(3 t + 3\\right) + y \\left(6 \\left(t + 1\\right)^{2} - \\frac{3}{t + 1}\\right) - 3 \\left(t + 1\\right)^{3} + 4$"
      ],
      "text/plain": [
       "Eq(y^\\prime, -y**2*(3*t + 3) + y*(6*(t + 1)**2 - 3/(t + 1)) - 3*(t + 1)**3 + 4)"
      ]
     },
     "metadata": {},
     "output_type": "display_data"
    },
    {
     "name": "stdout",
     "output_type": "stream",
     "text": [
      "Substituiere mit dem Ansatz\n"
     ]
    },
    {
     "data": {
      "text/latex": [
       "$\\displaystyle y = t {c}_{1} + {c}_{0}$"
      ],
      "text/plain": [
       "Eq(y, t*c[1] + c[0])"
      ]
     },
     "metadata": {},
     "output_type": "display_data"
    },
    {
     "name": "stdout",
     "output_type": "stream",
     "text": [
      "...\n"
     ]
    },
    {
     "data": {
      "text/latex": [
       "$\\displaystyle {c}_{1} = \\frac{\\left(t + 1\\right) \\left(- 3 \\left(t + 1\\right)^{3} - 3 \\left(t + 1\\right) \\left(t {c}_{1} + {c}_{0}\\right)^{2} + 4\\right) + 3 \\left(t {c}_{1} + {c}_{0}\\right) \\left(2 \\left(t + 1\\right)^{3} - 1\\right)}{t + 1}$"
      ],
      "text/plain": [
       "Eq(c[1], ((t + 1)*(-3*(t + 1)**3 - 3*(t + 1)*(t*c[1] + c[0])**2 + 4) + 3*(t*c[1] + c[0])*(2*(t + 1)**3 - 1))/(t + 1))"
      ]
     },
     "metadata": {},
     "output_type": "display_data"
    },
    {
     "name": "stdout",
     "output_type": "stream",
     "text": [
      "Multipliziere mit\n"
     ]
    },
    {
     "data": {
      "text/latex": [
       "$\\displaystyle t + 1$"
      ],
      "text/plain": [
       "t + 1"
      ]
     },
     "metadata": {},
     "output_type": "display_data"
    },
    {
     "name": "stdout",
     "output_type": "stream",
     "text": [
      "...\n"
     ]
    },
    {
     "data": {
      "text/latex": [
       "$\\displaystyle \\left(t + 1\\right) {c}_{1} = - 3 t^{4} {c}_{1}^{2} + 6 t^{4} {c}_{1} - 3 t^{4} - 6 t^{3} {c}_{0} {c}_{1} + 6 t^{3} {c}_{0} - 6 t^{3} {c}_{1}^{2} + 18 t^{3} {c}_{1} - 12 t^{3} - 3 t^{2} {c}_{0}^{2} - 12 t^{2} {c}_{0} {c}_{1} + 18 t^{2} {c}_{0} - 3 t^{2} {c}_{1}^{2} + 18 t^{2} {c}_{1} - 18 t^{2} - 6 t {c}_{0}^{2} - 6 t {c}_{0} {c}_{1} + 18 t {c}_{0} + 3 t {c}_{1} - 8 t - 3 {c}_{0}^{2} + 3 {c}_{0} + 1$"
      ],
      "text/plain": [
       "Eq((t + 1)*c[1], -3*t**4*c[1]**2 + 6*t**4*c[1] - 3*t**4 - 6*t**3*c[0]*c[1] + 6*t**3*c[0] - 6*t**3*c[1]**2 + 18*t**3*c[1] - 12*t**3 - 3*t**2*c[0]**2 - 12*t**2*c[0]*c[1] + 18*t**2*c[0] - 3*t**2*c[1]**2 + 18*t**2*c[1] - 18*t**2 - 6*t*c[0]**2 - 6*t*c[0]*c[1] + 18*t*c[0] + 3*t*c[1] - 8*t - 3*c[0]**2 + 3*c[0] + 1)"
      ]
     },
     "metadata": {},
     "output_type": "display_data"
    },
    {
     "name": "stdout",
     "output_type": "stream",
     "text": [
      "Subtrahiere\n"
     ]
    },
    {
     "data": {
      "text/latex": [
       "$\\displaystyle \\left(t + 1\\right) {c}_{1}$"
      ],
      "text/plain": [
       "(t + 1)*c[1]"
      ]
     },
     "metadata": {},
     "output_type": "display_data"
    },
    {
     "name": "stdout",
     "output_type": "stream",
     "text": [
      "...\n"
     ]
    },
    {
     "data": {
      "text/latex": [
       "$\\displaystyle 0 = - 3 t^{4} {c}_{1}^{2} + 6 t^{4} {c}_{1} - 3 t^{4} - 6 t^{3} {c}_{0} {c}_{1} + 6 t^{3} {c}_{0} - 6 t^{3} {c}_{1}^{2} + 18 t^{3} {c}_{1} - 12 t^{3} - 3 t^{2} {c}_{0}^{2} - 12 t^{2} {c}_{0} {c}_{1} + 18 t^{2} {c}_{0} - 3 t^{2} {c}_{1}^{2} + 18 t^{2} {c}_{1} - 18 t^{2} - 6 t {c}_{0}^{2} - 6 t {c}_{0} {c}_{1} + 18 t {c}_{0} + 3 t {c}_{1} - 8 t - \\left(t + 1\\right) {c}_{1} - 3 {c}_{0}^{2} + 3 {c}_{0} + 1$"
      ],
      "text/plain": [
       "Eq(0, -3*t**4*c[1]**2 + 6*t**4*c[1] - 3*t**4 - 6*t**3*c[0]*c[1] + 6*t**3*c[0] - 6*t**3*c[1]**2 + 18*t**3*c[1] - 12*t**3 - 3*t**2*c[0]**2 - 12*t**2*c[0]*c[1] + 18*t**2*c[0] - 3*t**2*c[1]**2 + 18*t**2*c[1] - 18*t**2 - 6*t*c[0]**2 - 6*t*c[0]*c[1] + 18*t*c[0] + 3*t*c[1] - 8*t - (t + 1)*c[1] - 3*c[0]**2 + 3*c[0] + 1)"
      ]
     },
     "metadata": {},
     "output_type": "display_data"
    },
    {
     "name": "stdout",
     "output_type": "stream",
     "text": [
      "Weil das das Nullpolynom sein muss, erhält man die Lösung ...\n"
     ]
    },
    {
     "data": {
      "text/plain": [
       "[(1, 1)]"
      ]
     },
     "metadata": {},
     "output_type": "display_data"
    }
   ],
   "source": [
    "t = sp.Symbol('t')\n",
    "y = sp.Symbol('y')\n",
    "c = sp.IndexedBase('c')\n",
    "\n",
    "print(\"Das ist der Ausdruck aus der Angabe ...\")\n",
    "\n",
    "lhs = sp.Symbol('y^\\prime')\n",
    "rhs = 3 * (2 * (t + 1)**2 - 1 / (t + 1)) * y - 3 * (t + 1) * y**2 - 3 * (t + 1)**3 + 4\n",
    "display(sp.Eq(lhs, rhs))\n",
    "\n",
    "print(\"Substituiere mit dem Ansatz\")\n",
    "ansatz = c[1] * t + c[0]\n",
    "display(sp.Eq(y, ansatz))\n",
    "print(\"...\")\n",
    "\n",
    "lhs = ansatz.diff(t)\n",
    "rhs = rhs.subs(y, ansatz)\n",
    "rhs = sp.simplify(rhs)\n",
    "display(sp.Eq(lhs, rhs))\n",
    "\n",
    "print(\"Multipliziere mit\")\n",
    "faktor = t + 1\n",
    "display(faktor)\n",
    "print(\"...\")\n",
    "\n",
    "lhs *= faktor\n",
    "rhs *= faktor\n",
    "rhs = sp.expand(rhs)\n",
    "display(sp.Eq(lhs, rhs))\n",
    "\n",
    "print(\"Subtrahiere\")\n",
    "subtrahent = lhs\n",
    "display(lhs)\n",
    "print(\"...\")\n",
    "\n",
    "rhs -= lhs\n",
    "lhs -= lhs \n",
    "display(sp.Eq(lhs, rhs))\n",
    "\n",
    "print(\"Weil das das Nullpolynom sein muss, erhält man die Lösung ...\")\n",
    "\n",
    "solution = sp.solve(rhs, c[0], c[1])\n",
    "display(solution)"
   ]
  }
 ],
 "metadata": {
  "kernelspec": {
   "display_name": "Python 3",
   "language": "python",
   "name": "python3"
  },
  "language_info": {
   "codemirror_mode": {
    "name": "ipython",
    "version": 3
   },
   "file_extension": ".py",
   "mimetype": "text/x-python",
   "name": "python",
   "nbconvert_exporter": "python",
   "pygments_lexer": "ipython3",
   "version": "3.7.4"
  }
 },
 "nbformat": 4,
 "nbformat_minor": 2
}
