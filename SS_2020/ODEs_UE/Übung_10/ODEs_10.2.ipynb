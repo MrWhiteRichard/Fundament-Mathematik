{
 "cells": [
  {
   "cell_type": "code",
   "execution_count": 1,
   "metadata": {},
   "outputs": [],
   "source": [
    "import sympy as sp"
   ]
  },
  {
   "cell_type": "code",
   "execution_count": 4,
   "metadata": {},
   "outputs": [
    {
     "data": {
      "text/latex": [
       "$\\displaystyle \\left[\\begin{matrix}1 & t\\\\0 & 1\\end{matrix}\\right]$"
      ],
      "text/plain": [
       "Matrix([\n",
       "[1, t],\n",
       "[0, 1]])"
      ]
     },
     "execution_count": 4,
     "metadata": {},
     "output_type": "execute_result"
    }
   ],
   "source": [
    "M = sp.Matrix([[0, 1],\n",
    "               [0, 0]])\n",
    "t = sp.Symbol('t')\n",
    "sp.exp(t*M)"
   ]
  },
  {
   "cell_type": "code",
   "execution_count": 6,
   "metadata": {},
   "outputs": [
    {
     "data": {
      "text/latex": [
       "$\\displaystyle \\left[\\begin{matrix}\\cos{\\left(\\alpha t \\right)} & \\frac{\\sin{\\left(\\alpha t \\right)}}{\\alpha}\\\\- \\alpha \\sin{\\left(\\alpha t \\right)} & \\cos{\\left(\\alpha t \\right)}\\end{matrix}\\right]$"
      ],
      "text/plain": [
       "Matrix([\n",
       "[       cos(alpha*t), sin(alpha*t)/alpha],\n",
       "[-alpha*sin(alpha*t),       cos(alpha*t)]])"
      ]
     },
     "execution_count": 6,
     "metadata": {},
     "output_type": "execute_result"
    }
   ],
   "source": [
    "alpha = sp.Symbol('alpha')\n",
    "M = sp.Matrix([[0,         1],\n",
    "               [-alpha**2, 0]])\n",
    "t = sp.Symbol('t')\n",
    "\n",
    "solution = sp.exp(t*M)\n",
    "solution = sp.simplify(solution)\n",
    "solution"
   ]
  }
 ],
 "metadata": {
  "kernelspec": {
   "display_name": "Python 3",
   "language": "python",
   "name": "python3"
  },
  "language_info": {
   "codemirror_mode": {
    "name": "ipython",
    "version": 3
   },
   "file_extension": ".py",
   "mimetype": "text/x-python",
   "name": "python",
   "nbconvert_exporter": "python",
   "pygments_lexer": "ipython3",
   "version": "3.7.4"
  }
 },
 "nbformat": 4,
 "nbformat_minor": 2
}
