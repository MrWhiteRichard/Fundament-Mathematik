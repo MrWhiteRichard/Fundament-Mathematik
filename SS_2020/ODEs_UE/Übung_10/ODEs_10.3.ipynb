{
 "cells": [
  {
   "cell_type": "code",
   "execution_count": 1,
   "metadata": {},
   "outputs": [],
   "source": [
    "import sympy as sp"
   ]
  },
  {
   "cell_type": "code",
   "execution_count": 6,
   "metadata": {},
   "outputs": [
    {
     "data": {
      "text/latex": [
       "$\\displaystyle \\left[\\begin{matrix}\\cos{\\left(2 t \\right)} & \\frac{\\sin{\\left(2 t \\right)}}{2}\\\\- 2 \\sin{\\left(2 t \\right)} & \\cos{\\left(2 t \\right)}\\end{matrix}\\right]$"
      ],
      "text/plain": [
       "Matrix([\n",
       "[   cos(2*t), sin(2*t)/2],\n",
       "[-2*sin(2*t),   cos(2*t)]])"
      ]
     },
     "metadata": {},
     "output_type": "display_data"
    },
    {
     "data": {
      "text/latex": [
       "$\\displaystyle \\left[\\begin{matrix}\\frac{\\left(2 e^{4 i t} - i e^{4 i t} + 2 + i\\right) e^{- t \\left(1 + 2 i\\right)}}{4} & \\frac{i \\left(1 - e^{4 i t}\\right) e^{- t \\left(1 + 2 i\\right)}}{4}\\\\\\frac{5 i \\left(e^{4 i t} - 1\\right) e^{- t \\left(1 + 2 i\\right)}}{4} & \\frac{\\left(2 e^{4 i t} + i e^{4 i t} + 2 - i\\right) e^{- t \\left(1 + 2 i\\right)}}{4}\\end{matrix}\\right]$"
      ],
      "text/plain": [
       "Matrix([\n",
       "[(2*exp(4*I*t) - I*exp(4*I*t) + 2 + I)*exp(-t*(1 + 2*I))/4,                    I*(1 - exp(4*I*t))*exp(-t*(1 + 2*I))/4],\n",
       "[                 5*I*(exp(4*I*t) - 1)*exp(-t*(1 + 2*I))/4, (2*exp(4*I*t) + I*exp(4*I*t) + 2 - I)*exp(-t*(1 + 2*I))/4]])"
      ]
     },
     "metadata": {},
     "output_type": "display_data"
    }
   ],
   "source": [
    "t = sp.Symbol('t')\n",
    "\n",
    "A = sp.Matrix([[0, 1], [-4, 0]])\n",
    "display(sp.simplify(sp.exp(t*A)))\n",
    "\n",
    "A = sp.Matrix([[0, 1], [-5, -2]])\n",
    "display(sp.simplify(sp.exp(t*A)))"
   ]
  },
  {
   "cell_type": "code",
   "execution_count": 18,
   "metadata": {},
   "outputs": [
    {
     "data": {
      "text/latex": [
       "$\\displaystyle 3 t - 1$"
      ],
      "text/plain": [
       "3*t - 1"
      ]
     },
     "execution_count": 18,
     "metadata": {},
     "output_type": "execute_result"
    }
   ],
   "source": [
    "y = sp.sqrt(t**3 - t**2)\n",
    "\n",
    "sp.simplify((y * y.diff(t)).diff(t))"
   ]
  }
 ],
 "metadata": {
  "kernelspec": {
   "display_name": "Python 3",
   "language": "python",
   "name": "python3"
  },
  "language_info": {
   "codemirror_mode": {
    "name": "ipython",
    "version": 3
   },
   "file_extension": ".py",
   "mimetype": "text/x-python",
   "name": "python",
   "nbconvert_exporter": "python",
   "pygments_lexer": "ipython3",
   "version": "3.7.4"
  }
 },
 "nbformat": 4,
 "nbformat_minor": 2
}
