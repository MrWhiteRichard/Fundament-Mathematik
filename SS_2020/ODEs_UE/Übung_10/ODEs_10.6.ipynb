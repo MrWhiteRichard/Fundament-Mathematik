{
 "cells": [
  {
   "cell_type": "code",
   "execution_count": 1,
   "metadata": {},
   "outputs": [],
   "source": [
    "import sympy as sp"
   ]
  },
  {
   "cell_type": "code",
   "execution_count": 5,
   "metadata": {},
   "outputs": [
    {
     "data": {
      "text/latex": [
       "$\\displaystyle \\left[\\begin{matrix}\\cosh{\\left(c \\sqrt{\\lambda} t \\right)} & \\frac{\\sinh{\\left(c \\sqrt{\\lambda} t \\right)}}{c \\sqrt{\\lambda}}\\\\c \\sqrt{\\lambda} \\sinh{\\left(c \\sqrt{\\lambda} t \\right)} & \\cosh{\\left(c \\sqrt{\\lambda} t \\right)}\\end{matrix}\\right]$"
      ],
      "text/plain": [
       "Matrix([\n",
       "[               cosh(c*sqrt(lambda)*t), sinh(c*sqrt(lambda)*t)/(c*sqrt(lambda))],\n",
       "[c*sqrt(lambda)*sinh(c*sqrt(lambda)*t),                  cosh(c*sqrt(lambda)*t)]])"
      ]
     },
     "execution_count": 5,
     "metadata": {},
     "output_type": "execute_result"
    }
   ],
   "source": [
    "lamda = sp.Symbol('lambda')\n",
    "c = sp.Symbol('c')\n",
    "\n",
    "M = sp.Matrix([[0, 1], [lamda*c**2, 0]])\n",
    "\n",
    "t = sp.Symbol('t')\n",
    "\n",
    "sp.simplify(sp.exp(t*M))"
   ]
  }
 ],
 "metadata": {
  "kernelspec": {
   "display_name": "Python 3",
   "language": "python",
   "name": "python3"
  },
  "language_info": {
   "codemirror_mode": {
    "name": "ipython",
    "version": 3
   },
   "file_extension": ".py",
   "mimetype": "text/x-python",
   "name": "python",
   "nbconvert_exporter": "python",
   "pygments_lexer": "ipython3",
   "version": "3.7.4"
  }
 },
 "nbformat": 4,
 "nbformat_minor": 2
}
