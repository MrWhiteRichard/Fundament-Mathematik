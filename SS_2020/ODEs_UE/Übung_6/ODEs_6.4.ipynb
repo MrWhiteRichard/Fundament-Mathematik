{
 "cells": [
  {
   "attachments": {
    "image.png": {
     "image/png": "[encoded data removed]"
    }
   },
   "cell_type": "markdown",
   "metadata": {},
   "source": [
    "![image.png](attachment:image.png)"
   ]
  },
  {
   "cell_type": "code",
   "execution_count": 2,
   "metadata": {},
   "outputs": [],
   "source": [
    "import numpy as np\n",
    "import sympy as sp"
   ]
  },
  {
   "cell_type": "code",
   "execution_count": 71,
   "metadata": {},
   "outputs": [
    {
     "name": "stdout",
     "output_type": "stream",
     "text": [
      "y_0 = -1.0\n",
      "t_0 = 1.0\n"
     ]
    }
   ],
   "source": [
    "a = 3\n",
    "b = 4\n",
    "c = -1\n",
    "\n",
    "alpha = 4\n",
    "beta = 3\n",
    "gamma = 1\n",
    "\n",
    "A = np.array([[a, b], [alpha, beta]])\n",
    "\n",
    "y_0, t_0 = np.linalg.solve(A, -np.array([c, gamma]))\n",
    "\n",
    "print(\"y_0 =\", y_0)\n",
    "print(\"t_0 =\", t_0)"
   ]
  },
  {
   "cell_type": "code",
   "execution_count": 72,
   "metadata": {},
   "outputs": [],
   "source": [
    "t = sp.Symbol('t')\n",
    "y_hat = sp.Function('\\widehat{y}')(t)\n",
    "\n",
    "f = lambda x: -x"
   ]
  },
  {
   "cell_type": "code",
   "execution_count": 74,
   "metadata": {},
   "outputs": [
    {
     "data": {
      "text/latex": [
       "$\\displaystyle \\frac{2 \\left(8 \\widehat{y}^{3}{\\left(t \\right)} - 18 \\widehat{y}^{2}{\\left(t \\right)} + 17 \\widehat{y}{\\left(t \\right)} - 6\\right)}{7 t}$"
      ],
      "text/plain": [
       "2*(8*\\widehat{y}(t)**3 - 18*\\widehat{y}(t)**2 + 17*\\widehat{y}(t) - 6)/(7*t)"
      ]
     },
     "metadata": {},
     "output_type": "display_data"
    }
   ],
   "source": [
    "# a, b = sp.symbols('a b')\n",
    "# alpha, beta = sp.symbols('alpha, beta')\n",
    "\n",
    "expr = ((a * beta - b * alpha) * f(y_hat) + (b * alpha - a * beta) * (b - y_hat * beta) / (y_hat * alpha - a)) * (alpha * (b - y_hat * beta) / (y_hat * alpha - a) + beta)**(-2) * 1/t\n",
    "expr = sp.simplify(expr)\n",
    "display(expr)"
   ]
  },
  {
   "cell_type": "code",
   "execution_count": 44,
   "metadata": {},
   "outputs": [
    {
     "data": {
      "text/latex": [
       "$\\displaystyle \\frac{3 t^{2} e^{14 C} - \\sqrt{7} t \\sqrt{\\left(- t^{2} e^{14 C} + 8\\right) e^{14 C}} - 24}{4 \\left(t^{2} e^{14 C} - 8\\right)}$"
      ],
      "text/plain": [
       "(3*t**2*exp(14*C) - sqrt(7)*t*sqrt((-t**2*exp(14*C) + 8)*exp(14*C)) - 24)/(4*(t**2*exp(14*C) - 8))"
      ]
     },
     "metadata": {},
     "output_type": "display_data"
    },
    {
     "data": {
      "text/latex": [
       "$\\displaystyle \\frac{3 t^{2} e^{14 C} + \\sqrt{7} t \\sqrt{\\left(- t^{2} e^{14 C} + 8\\right) e^{14 C}} - 24}{4 \\left(t^{2} e^{14 C} - 8\\right)}$"
      ],
      "text/plain": [
       "(3*t**2*exp(14*C) + sqrt(7)*t*sqrt((-t**2*exp(14*C) + 8)*exp(14*C)) - 24)/(4*(t**2*exp(14*C) - 8))"
      ]
     },
     "metadata": {},
     "output_type": "display_data"
    }
   ],
   "source": [
    "C = sp.Symbol('C')\n",
    "\n",
    "eq = (9 - 24 * y_hat + 16 * y_hat**2) - (2 * y_hat**2 - 3 * y_hat + 2) * t**2 * sp.exp(14 * C)\n",
    "\n",
    "solutions = sp.solve(eq, y_hat)\n",
    "\n",
    "display(solutions[0])\n",
    "display(solutions[1])"
   ]
  },
  {
   "cell_type": "code",
   "execution_count": 51,
   "metadata": {},
   "outputs": [
    {
     "name": "stdout",
     "output_type": "stream",
     "text": [
      "solution 1 ...\n"
     ]
    },
    {
     "data": {
      "text/latex": [
       "$\\displaystyle \\frac{\\sqrt{- \\left(\\left(t - 1.0\\right)^{2} e^{14 C} - 8\\right) e^{14 C}} \\left(- 28.0 \\left(t - 1.0\\right)^{2} e^{14 C} + 224.0\\right) - \\sqrt{7} \\left(\\left(t - 1.0\\right)^{2} e^{14 C} - 8\\right) \\left(\\sqrt{7} \\sqrt{- \\left(\\left(t - 1.0\\right)^{2} e^{14 C} - 8\\right) e^{14 C}} \\left(3 t - 3.0\\right) + 7 \\left(t - 1.0\\right)^{2} e^{14 C} - 56\\right)}{28 \\sqrt{- \\left(\\left(t - 1.0\\right)^{2} e^{14 C} - 8\\right) e^{14 C}} \\left(\\left(t - 1.0\\right)^{2} e^{14 C} - 8\\right)}$"
      ],
      "text/plain": [
       "(sqrt(-((t - 1.0)**2*exp(14*C) - 8)*exp(14*C))*(-28.0*(t - 1.0)**2*exp(14*C) + 224.0) - sqrt(7)*((t - 1.0)**2*exp(14*C) - 8)*(sqrt(7)*sqrt(-((t - 1.0)**2*exp(14*C) - 8)*exp(14*C))*(3*t - 3.0) + 7*(t - 1.0)**2*exp(14*C) - 56))/(28*sqrt(-((t - 1.0)**2*exp(14*C) - 8)*exp(14*C))*((t - 1.0)**2*exp(14*C) - 8))"
      ]
     },
     "metadata": {},
     "output_type": "display_data"
    },
    {
     "name": "stdout",
     "output_type": "stream",
     "text": [
      "solution 2 ...\n"
     ]
    },
    {
     "data": {
      "text/latex": [
       "$\\displaystyle \\frac{\\sqrt{- \\left(\\left(t - 1.0\\right)^{2} e^{14 C} - 8\\right) e^{14 C}} \\left(- 28.0 \\left(t - 1.0\\right)^{2} e^{14 C} + 224.0\\right) + \\sqrt{7} \\left(\\left(t - 1.0\\right)^{2} e^{14 C} - 8\\right) \\left(\\sqrt{7} \\sqrt{- \\left(\\left(t - 1.0\\right)^{2} e^{14 C} - 8\\right) e^{14 C}} \\left(3.0 - 3 t\\right) + 7 \\left(t - 1.0\\right)^{2} e^{14 C} - 56\\right)}{28 \\sqrt{- \\left(\\left(t - 1.0\\right)^{2} e^{14 C} - 8\\right) e^{14 C}} \\left(\\left(t - 1.0\\right)^{2} e^{14 C} - 8\\right)}$"
      ],
      "text/plain": [
       "(sqrt(-((t - 1.0)**2*exp(14*C) - 8)*exp(14*C))*(-28.0*(t - 1.0)**2*exp(14*C) + 224.0) + sqrt(7)*((t - 1.0)**2*exp(14*C) - 8)*(sqrt(7)*sqrt(-((t - 1.0)**2*exp(14*C) - 8)*exp(14*C))*(3.0 - 3*t) + 7*(t - 1.0)**2*exp(14*C) - 56))/(28*sqrt(-((t - 1.0)**2*exp(14*C) - 8)*exp(14*C))*((t - 1.0)**2*exp(14*C) - 8))"
      ]
     },
     "metadata": {},
     "output_type": "display_data"
    }
   ],
   "source": [
    "y = []\n",
    "\n",
    "for n, solution in enumerate(solutions):\n",
    "\n",
    "    y_tilde = (b - solution * beta) / (solution * alpha - a) * t\n",
    "    y_new = y_tilde.subs(t, t - t_0) + y_0\n",
    "    y_new = sp.simplify(y_new)\n",
    "\n",
    "    y += [y_new]\n",
    "\n",
    "    print('solution', n+1, '...')\n",
    "    display(y_new)"
   ]
  },
  {
   "cell_type": "code",
   "execution_count": 68,
   "metadata": {},
   "outputs": [
    {
     "data": {
      "text/latex": [
       "$\\displaystyle \\frac{- 588.0 \\sqrt{7} t^{3} e^{14 C} - 196.0 t^{2} \\sqrt{\\left(- t^{2} e^{14 C} + 2.0 t e^{14 C} - 1.0 e^{14 C} + 8\\right) e^{14 C}} + 3136.0 \\sqrt{7} t^{2} e^{14 C} - 196.0 t \\sqrt{\\left(- t^{2} e^{14 C} + 2.0 t e^{14 C} - 1.0 e^{14 C} + 8\\right) e^{14 C}} - 4116.0 \\sqrt{7} t e^{14 C} + 2352.0 \\sqrt{7} t + 1568.0 \\sqrt{\\left(- t^{2} e^{14 C} + 2.0 t e^{14 C} - 1.0 e^{14 C} + 8\\right) e^{14 C}} + 1568.0 \\sqrt{7} e^{14 C} - 9408.0 \\sqrt{7}}{392.0 \\sqrt{7} t^{3} e^{14 C} + 1176.0 t^{2} \\sqrt{\\left(- t^{2} e^{14 C} + 2.0 t e^{14 C} - 1.0 e^{14 C} + 8\\right) e^{14 C}} - 784.0 \\sqrt{7} t^{2} e^{14 C} - 4312.0 t \\sqrt{\\left(- t^{2} e^{14 C} + 2.0 t e^{14 C} - 1.0 e^{14 C} + 8\\right) e^{14 C}} + 392.0 \\sqrt{7} t e^{14 C} - 3136.0 \\sqrt{7} t + 1568.0 \\sqrt{\\left(- t^{2} e^{14 C} + 2.0 t e^{14 C} - 1.0 e^{14 C} + 8\\right) e^{14 C}}}$"
      ],
      "text/plain": [
       "(-588.0*sqrt(7)*t**3*exp(14*C) - 196.0*t**2*sqrt((-t**2*exp(14*C) + 2.0*t*exp(14*C) - 1.0*exp(14*C) + 8)*exp(14*C)) + 3136.0*sqrt(7)*t**2*exp(14*C) - 196.0*t*sqrt((-t**2*exp(14*C) + 2.0*t*exp(14*C) - 1.0*exp(14*C) + 8)*exp(14*C)) - 4116.0*sqrt(7)*t*exp(14*C) + 2352.0*sqrt(7)*t + 1568.0*sqrt((-t**2*exp(14*C) + 2.0*t*exp(14*C) - 1.0*exp(14*C) + 8)*exp(14*C)) + 1568.0*sqrt(7)*exp(14*C) - 9408.0*sqrt(7))/(392.0*sqrt(7)*t**3*exp(14*C) + 1176.0*t**2*sqrt((-t**2*exp(14*C) + 2.0*t*exp(14*C) - 1.0*exp(14*C) + 8)*exp(14*C)) - 784.0*sqrt(7)*t**2*exp(14*C) - 4312.0*t*sqrt((-t**2*exp(14*C) + 2.0*t*exp(14*C) - 1.0*exp(14*C) + 8)*exp(14*C)) + 392.0*sqrt(7)*t*exp(14*C) - 3136.0*sqrt(7)*t + 1568.0*sqrt((-t**2*exp(14*C) + 2.0*t*exp(14*C) - 1.0*exp(14*C) + 8)*exp(14*C)))"
      ]
     },
     "metadata": {},
     "output_type": "display_data"
    },
    {
     "data": {
      "text/latex": [
       "$\\displaystyle \\frac{- 588.0 \\sqrt{7} t^{3} e^{14 C} + 196.0 t^{2} \\sqrt{\\left(- t^{2} e^{14 C} + 2.0 t e^{14 C} - 1.0 e^{14 C} + 8\\right) e^{14 C}} + 3136.0 \\sqrt{7} t^{2} e^{14 C} + 196.0 t \\sqrt{\\left(- t^{2} e^{14 C} + 2.0 t e^{14 C} - 1.0 e^{14 C} + 8\\right) e^{14 C}} - 4116.0 \\sqrt{7} t e^{14 C} + 2352.0 \\sqrt{7} t - 1568.0 \\sqrt{\\left(- t^{2} e^{14 C} + 2.0 t e^{14 C} - 1.0 e^{14 C} + 8\\right) e^{14 C}} + 1568.0 \\sqrt{7} e^{14 C} - 9408.0 \\sqrt{7}}{392.0 \\sqrt{7} t^{3} e^{14 C} - 1176.0 t^{2} \\sqrt{\\left(- t^{2} e^{14 C} + 2.0 t e^{14 C} - 1.0 e^{14 C} + 8\\right) e^{14 C}} - 784.0 \\sqrt{7} t^{2} e^{14 C} + 4312.0 t \\sqrt{\\left(- t^{2} e^{14 C} + 2.0 t e^{14 C} - 1.0 e^{14 C} + 8\\right) e^{14 C}} + 392.0 \\sqrt{7} t e^{14 C} - 3136.0 \\sqrt{7} t - 1568.0 \\sqrt{\\left(- t^{2} e^{14 C} + 2.0 t e^{14 C} - 1.0 e^{14 C} + 8\\right) e^{14 C}}}$"
      ],
      "text/plain": [
       "(-588.0*sqrt(7)*t**3*exp(14*C) + 196.0*t**2*sqrt((-t**2*exp(14*C) + 2.0*t*exp(14*C) - 1.0*exp(14*C) + 8)*exp(14*C)) + 3136.0*sqrt(7)*t**2*exp(14*C) + 196.0*t*sqrt((-t**2*exp(14*C) + 2.0*t*exp(14*C) - 1.0*exp(14*C) + 8)*exp(14*C)) - 4116.0*sqrt(7)*t*exp(14*C) + 2352.0*sqrt(7)*t - 1568.0*sqrt((-t**2*exp(14*C) + 2.0*t*exp(14*C) - 1.0*exp(14*C) + 8)*exp(14*C)) + 1568.0*sqrt(7)*exp(14*C) - 9408.0*sqrt(7))/(392.0*sqrt(7)*t**3*exp(14*C) - 1176.0*t**2*sqrt((-t**2*exp(14*C) + 2.0*t*exp(14*C) - 1.0*exp(14*C) + 8)*exp(14*C)) - 784.0*sqrt(7)*t**2*exp(14*C) + 4312.0*t*sqrt((-t**2*exp(14*C) + 2.0*t*exp(14*C) - 1.0*exp(14*C) + 8)*exp(14*C)) + 392.0*sqrt(7)*t*exp(14*C) - 3136.0*sqrt(7)*t - 1568.0*sqrt((-t**2*exp(14*C) + 2.0*t*exp(14*C) - 1.0*exp(14*C) + 8)*exp(14*C)))"
      ]
     },
     "metadata": {},
     "output_type": "display_data"
    }
   ],
   "source": [
    "for y_ in y:\n",
    "\n",
    "    lhs = y_.diff(t)\n",
    "    lhs = sp.simplify(lhs)\n",
    "    rhs = - (3 * y_ + 4 * t - 1) / (t * y_ + 3 * t - 1)\n",
    "    rhs = sp.simplify(rhs)\n",
    "\n",
    "    zero = lhs - rhs\n",
    "    zero = sp.simplify(zero)\n",
    "    display(zero)"
   ]
  },
  {
   "cell_type": "code",
   "execution_count": null,
   "metadata": {},
   "outputs": [],
   "source": []
  }
 ],
 "metadata": {
  "kernelspec": {
   "display_name": "Python 3",
   "language": "python",
   "name": "python3"
  },
  "language_info": {
   "codemirror_mode": {
    "name": "ipython",
    "version": 3
   },
   "file_extension": ".py",
   "mimetype": "text/x-python",
   "name": "python",
   "nbconvert_exporter": "python",
   "pygments_lexer": "ipython3",
   "version": "3.7.4"
  }
 },
 "nbformat": 4,
 "nbformat_minor": 2
}
