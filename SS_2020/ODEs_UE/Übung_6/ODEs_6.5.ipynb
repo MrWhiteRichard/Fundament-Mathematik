{
 "cells": [
  {
   "cell_type": "code",
   "execution_count": 1,
   "metadata": {},
   "outputs": [],
   "source": [
    "import sympy as sp"
   ]
  },
  {
   "cell_type": "markdown",
   "metadata": {},
   "source": [
    "Bestimmen Sie ein Fundamentalsystem für die ODE\n",
    "\n",
    "\\begin{align*}\n",
    "    y^{(3)} - 3 y^\\prime + 2 y = 0\n",
    "\\end{align*}"
   ]
  },
  {
   "cell_type": "code",
   "execution_count": 2,
   "metadata": {},
   "outputs": [],
   "source": [
    "A = sp.Matrix([[ 0, 1, 0],\n",
    "               [ 0, 0, 1],\n",
    "               [-2, 3, 0]])"
   ]
  },
  {
   "cell_type": "code",
   "execution_count": 3,
   "metadata": {},
   "outputs": [],
   "source": [
    "t = sp.Symbol('t')"
   ]
  },
  {
   "cell_type": "code",
   "execution_count": 4,
   "metadata": {},
   "outputs": [
    {
     "data": {
      "text/latex": [
       "$\\displaystyle \\left[\\begin{matrix}- \\frac{2 t e^{t}}{3} + \\frac{8 e^{t}}{9} + \\frac{e^{- 2 t}}{9} & \\frac{t e^{t}}{3} + \\frac{2 e^{t}}{9} - \\frac{2 e^{- 2 t}}{9} & \\frac{t e^{t}}{3} - \\frac{e^{t}}{9} + \\frac{e^{- 2 t}}{9}\\\\- \\frac{2 t e^{t}}{3} + \\frac{2 e^{t}}{9} - \\frac{2 e^{- 2 t}}{9} & \\frac{t e^{t}}{3} + \\frac{5 e^{t}}{9} + \\frac{4 e^{- 2 t}}{9} & \\frac{t e^{t}}{3} + \\frac{2 e^{t}}{9} - \\frac{2 e^{- 2 t}}{9}\\\\- \\frac{2 t e^{t}}{3} - \\frac{4 e^{t}}{9} + \\frac{4 e^{- 2 t}}{9} & \\frac{t e^{t}}{3} + \\frac{8 e^{t}}{9} - \\frac{8 e^{- 2 t}}{9} & \\frac{t e^{t}}{3} + \\frac{5 e^{t}}{9} + \\frac{4 e^{- 2 t}}{9}\\end{matrix}\\right]$"
      ],
      "text/plain": [
       "Matrix([\n",
       "[  -2*t*exp(t)/3 + 8*exp(t)/9 + exp(-2*t)/9, t*exp(t)/3 + 2*exp(t)/9 - 2*exp(-2*t)/9,     t*exp(t)/3 - exp(t)/9 + exp(-2*t)/9],\n",
       "[-2*t*exp(t)/3 + 2*exp(t)/9 - 2*exp(-2*t)/9, t*exp(t)/3 + 5*exp(t)/9 + 4*exp(-2*t)/9, t*exp(t)/3 + 2*exp(t)/9 - 2*exp(-2*t)/9],\n",
       "[-2*t*exp(t)/3 - 4*exp(t)/9 + 4*exp(-2*t)/9, t*exp(t)/3 + 8*exp(t)/9 - 8*exp(-2*t)/9, t*exp(t)/3 + 5*exp(t)/9 + 4*exp(-2*t)/9]])"
      ]
     },
     "metadata": {},
     "output_type": "display_data"
    }
   ],
   "source": [
    "Y = lambda t: sp.exp(t*A)\n",
    "display(Y(t))"
   ]
  },
  {
   "cell_type": "markdown",
   "metadata": {},
   "source": [
    "und suchen Sie eine spezielle Lösung der ODE\n",
    "\n",
    "\\begin{align*}\n",
    "    y^{(3)} - 3 y^\\prime + 2 y = 9 e^t\n",
    "\\end{align*}\n",
    "\n",
    "auf 2 Arten:"
   ]
  },
  {
   "cell_type": "markdown",
   "metadata": {},
   "source": [
    "1) mittels Variation der Konstanten und"
   ]
  },
  {
   "cell_type": "code",
   "execution_count": 5,
   "metadata": {},
   "outputs": [],
   "source": [
    "b = lambda s: sp.Matrix([0, 0, 9*sp.exp(s)])"
   ]
  },
  {
   "cell_type": "code",
   "execution_count": 6,
   "metadata": {},
   "outputs": [],
   "source": [
    "s = sp.Symbol('s')"
   ]
  },
  {
   "cell_type": "code",
   "execution_count": 7,
   "metadata": {},
   "outputs": [
    {
     "data": {
      "text/latex": [
       "$\\displaystyle \\left[\\begin{matrix}\\frac{3 t^{2} e^{t}}{2} - t e^{t} + \\frac{e^{t}}{3} - \\frac{e^{- 2 t}}{3}\\\\\\frac{3 t^{2} e^{t}}{2} + 2 t e^{t} - \\frac{2 e^{t}}{3} + \\frac{2 e^{- 2 t}}{3}\\\\\\frac{3 t^{2} e^{t}}{2} + 5 t e^{t} + \\frac{4 e^{t}}{3} - \\frac{4 e^{- 2 t}}{3}\\end{matrix}\\right]$"
      ],
      "text/plain": [
       "Matrix([\n",
       "[      3*t**2*exp(t)/2 - t*exp(t) + exp(t)/3 - exp(-2*t)/3],\n",
       "[3*t**2*exp(t)/2 + 2*t*exp(t) - 2*exp(t)/3 + 2*exp(-2*t)/3],\n",
       "[3*t**2*exp(t)/2 + 5*t*exp(t) + 4*exp(t)/3 - 4*exp(-2*t)/3]])"
      ]
     },
     "metadata": {},
     "output_type": "display_data"
    }
   ],
   "source": [
    "y_p = lambda t: Y(t) * sp.integrate(Y(s)**-1 * b(s), (s, 0, t))\n",
    "y_p = y_p(t)\n",
    "y_p = sp.simplify(y_p)\n",
    "display(y_p)"
   ]
  },
  {
   "cell_type": "code",
   "execution_count": 8,
   "metadata": {},
   "outputs": [],
   "source": [
    "# das ist die Lösung\n",
    "y = y_p[0]"
   ]
  },
  {
   "cell_type": "code",
   "execution_count": 9,
   "metadata": {},
   "outputs": [
    {
     "data": {
      "text/plain": [
       "True"
      ]
     },
     "metadata": {},
     "output_type": "display_data"
    },
    {
     "data": {
      "text/plain": [
       "True"
      ]
     },
     "metadata": {},
     "output_type": "display_data"
    }
   ],
   "source": [
    "# Probe\n",
    "display(sp.diff(y_p[0], t) == y_p[1])\n",
    "display(sp.diff(y_p[1], t) == y_p[2])"
   ]
  },
  {
   "cell_type": "code",
   "execution_count": 44,
   "metadata": {},
   "outputs": [
    {
     "data": {
      "text/plain": [
       "True"
      ]
     },
     "execution_count": 44,
     "metadata": {},
     "output_type": "execute_result"
    }
   ],
   "source": [
    "# Probe\n",
    "sp.diff(y, t, t, t) - 3*sp.diff(y, t) + 2*y == 9*sp.exp(t)"
   ]
  },
  {
   "cell_type": "markdown",
   "metadata": {},
   "source": [
    "2) mittels der Ansatzmethode"
   ]
  },
  {
   "cell_type": "code",
   "execution_count": 21,
   "metadata": {},
   "outputs": [
    {
     "data": {
      "text/latex": [
       "$\\displaystyle \\left(t - 1\\right)^{2} \\left(t + 2\\right)$"
      ],
      "text/plain": [
       "(t - 1)**2*(t + 2)"
      ]
     },
     "metadata": {},
     "output_type": "display_data"
    },
    {
     "data": {
      "text/latex": [
       "$\\displaystyle 3 \\left(t - 1\\right) \\left(t + 1\\right)$"
      ],
      "text/plain": [
       "3*(t - 1)*(t + 1)"
      ]
     },
     "metadata": {},
     "output_type": "display_data"
    }
   ],
   "source": [
    "# untersuche das charakteristische Polynom\n",
    "\n",
    "chi = lambda x: x**3 - 3*x + 2\n",
    "display(sp.factor(chi(t)))\n",
    "display(sp.factor(sp.diff(chi(t), t)))"
   ]
  },
  {
   "cell_type": "code",
   "execution_count": 37,
   "metadata": {},
   "outputs": [],
   "source": [
    "c = sp.Symbol('c')"
   ]
  },
  {
   "cell_type": "code",
   "execution_count": 42,
   "metadata": {},
   "outputs": [
    {
     "data": {
      "text/latex": [
       "$\\displaystyle 6 c e^{t}$"
      ],
      "text/plain": [
       "6*c*exp(t)"
      ]
     },
     "execution_count": 42,
     "metadata": {},
     "output_type": "execute_result"
    }
   ],
   "source": [
    "# Ansatz y_p einsetzten und vereinfachen\n",
    "\n",
    "y_p = t**2 * c * sp.exp(t)\n",
    "sp.simplify(sp.diff(y_p, t, t, t) - 3*sp.diff(y_p, t) + 2*y_p)"
   ]
  },
  {
   "cell_type": "code",
   "execution_count": 43,
   "metadata": {},
   "outputs": [
    {
     "data": {
      "text/plain": [
       "True"
      ]
     },
     "execution_count": 43,
     "metadata": {},
     "output_type": "execute_result"
    }
   ],
   "source": [
    "# Probe\n",
    "\n",
    "y_p = y_p.subs(c, 3/2)\n",
    "sp.simplify(sp.diff(y_p, t, t, t) - 3*sp.diff(y_p, t) + 2*y_p) == 9*sp.exp(t)"
   ]
  }
 ],
 "metadata": {
  "kernelspec": {
   "display_name": "Python 3",
   "language": "python",
   "name": "python3"
  },
  "language_info": {
   "codemirror_mode": {
    "name": "ipython",
    "version": 3
   },
   "file_extension": ".py",
   "mimetype": "text/x-python",
   "name": "python",
   "nbconvert_exporter": "python",
   "pygments_lexer": "ipython3",
   "version": "3.7.4"
  }
 },
 "nbformat": 4,
 "nbformat_minor": 2
}
