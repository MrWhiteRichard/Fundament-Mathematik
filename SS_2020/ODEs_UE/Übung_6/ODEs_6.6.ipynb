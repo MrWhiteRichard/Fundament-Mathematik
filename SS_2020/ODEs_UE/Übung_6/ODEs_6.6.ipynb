{
 "cells": [
  {
   "cell_type": "markdown",
   "metadata": {},
   "source": [
    "# Teil 1"
   ]
  },
  {
   "cell_type": "code",
   "execution_count": 1,
   "metadata": {},
   "outputs": [],
   "source": [
    "import numpy as np"
   ]
  },
  {
   "cell_type": "code",
   "execution_count": 2,
   "metadata": {},
   "outputs": [
    {
     "name": "stdout",
     "output_type": "stream",
     "text": [
      "[[1 0 0 0]\n",
      " [0 1 1 1]\n",
      " [0 0 1 1]\n",
      " [0 0 0 1]]\n"
     ]
    }
   ],
   "source": [
    "A = np.array([[1, 0, 0, 0], [0, 1, 1, 1], [0, 0, 1, 1], [0, 0, 0, 1]])\n",
    "print(A)"
   ]
  },
  {
   "cell_type": "code",
   "execution_count": 3,
   "metadata": {},
   "outputs": [
    {
     "name": "stdout",
     "output_type": "stream",
     "text": [
      "[-20  -4  10   2]\n"
     ]
    }
   ],
   "source": [
    "b = np.array([-20, -4, 10, 2])\n",
    "print(b)"
   ]
  },
  {
   "cell_type": "code",
   "execution_count": 4,
   "metadata": {},
   "outputs": [
    {
     "name": "stdout",
     "output_type": "stream",
     "text": [
      "[-20. -14.   8.   2.]\n"
     ]
    }
   ],
   "source": [
    "x = np.linalg.solve(A, b)\n",
    "print(x)"
   ]
  },
  {
   "cell_type": "code",
   "execution_count": 5,
   "metadata": {},
   "outputs": [
    {
     "name": "stdout",
     "output_type": "stream",
     "text": [
      "[ True  True  True  True]\n"
     ]
    }
   ],
   "source": [
    "# Probe\n",
    "print(A @ x == b)"
   ]
  },
  {
   "cell_type": "markdown",
   "metadata": {},
   "source": [
    "# Teil 2"
   ]
  },
  {
   "cell_type": "code",
   "execution_count": 6,
   "metadata": {},
   "outputs": [],
   "source": [
    "import sympy as sp"
   ]
  },
  {
   "cell_type": "code",
   "execution_count": 7,
   "metadata": {},
   "outputs": [],
   "source": [
    "tau = sp.Symbol(\"tau\")"
   ]
  },
  {
   "cell_type": "code",
   "execution_count": 103,
   "metadata": {},
   "outputs": [],
   "source": [
    "A = sp.Matrix([[0,  1,  0],\n",
    "               [0,  0,  1],\n",
    "               [10, 5, -2]])"
   ]
  },
  {
   "cell_type": "code",
   "execution_count": 110,
   "metadata": {},
   "outputs": [
    {
     "data": {
      "text/latex": [
       "$\\displaystyle \\left[\\begin{matrix}\\frac{\\left(- e^{2 \\tau} - 10 e^{\\sqrt{5} \\tau} + 5 \\sqrt{5} e^{\\sqrt{5} \\tau} - 4 \\sqrt{5} e^{2 \\tau \\left(1 + \\sqrt{5}\\right)} + 9 e^{2 \\tau \\left(1 + \\sqrt{5}\\right)}\\right) e^{- \\tau \\left(2 + \\sqrt{5}\\right)}}{-2 + \\sqrt{5}} & \\frac{\\sqrt{5} \\sinh{\\left(\\sqrt{5} \\tau \\right)}}{5} & - \\frac{\\sqrt{5} e^{\\sqrt{5} \\tau}}{5} + \\frac{e^{\\sqrt{5} \\tau}}{2} + \\frac{\\sqrt{5} e^{- \\sqrt{5} \\tau}}{5} + \\frac{e^{- \\sqrt{5} \\tau}}{2} - e^{- 2 \\tau}\\\\\\frac{\\left(\\sqrt{5} e^{2 \\tau} - 10 \\sqrt{5} e^{\\sqrt{5} \\tau} + 20 e^{\\sqrt{5} \\tau} - 20 e^{2 \\tau \\left(1 + \\sqrt{5}\\right)} + 9 \\sqrt{5} e^{2 \\tau \\left(1 + \\sqrt{5}\\right)}\\right) e^{- \\tau \\left(2 + \\sqrt{5}\\right)}}{-2 + \\sqrt{5}} & \\cosh{\\left(\\sqrt{5} \\tau \\right)} & \\frac{\\left(- \\left(2 + \\sqrt{5}\\right) e^{2 \\tau} + 4 e^{\\sqrt{5} \\tau} + \\left(-2 + \\sqrt{5}\\right) e^{2 \\tau \\left(1 + \\sqrt{5}\\right)}\\right) e^{- \\tau \\left(2 + \\sqrt{5}\\right)}}{2}\\\\\\frac{5 \\left(- e^{2 \\tau} - 8 e^{\\sqrt{5} \\tau} + 4 \\sqrt{5} e^{\\sqrt{5} \\tau} - 4 \\sqrt{5} e^{2 \\tau \\left(1 + \\sqrt{5}\\right)} + 9 e^{2 \\tau \\left(1 + \\sqrt{5}\\right)}\\right) e^{- \\tau \\left(2 + \\sqrt{5}\\right)}}{-2 + \\sqrt{5}} & \\sqrt{5} \\sinh{\\left(\\sqrt{5} \\tau \\right)} & - \\sqrt{5} e^{\\sqrt{5} \\tau} + \\frac{5 e^{\\sqrt{5} \\tau}}{2} + \\sqrt{5} e^{- \\sqrt{5} \\tau} + \\frac{5 e^{- \\sqrt{5} \\tau}}{2} - 4 e^{- 2 \\tau}\\end{matrix}\\right]$"
      ],
      "text/plain": [
       "Matrix([\n",
       "[         (-exp(2*tau) - 10*exp(sqrt(5)*tau) + 5*sqrt(5)*exp(sqrt(5)*tau) - 4*sqrt(5)*exp(2*tau*(1 + sqrt(5))) + 9*exp(2*tau*(1 + sqrt(5))))*exp(-tau*(2 + sqrt(5)))/(-2 + sqrt(5)), sqrt(5)*sinh(sqrt(5)*tau)/5,   -sqrt(5)*exp(sqrt(5)*tau)/5 + exp(sqrt(5)*tau)/2 + sqrt(5)*exp(-sqrt(5)*tau)/5 + exp(-sqrt(5)*tau)/2 - exp(-2*tau)],\n",
       "[(sqrt(5)*exp(2*tau) - 10*sqrt(5)*exp(sqrt(5)*tau) + 20*exp(sqrt(5)*tau) - 20*exp(2*tau*(1 + sqrt(5))) + 9*sqrt(5)*exp(2*tau*(1 + sqrt(5))))*exp(-tau*(2 + sqrt(5)))/(-2 + sqrt(5)),           cosh(sqrt(5)*tau), (-(2 + sqrt(5))*exp(2*tau) + 4*exp(sqrt(5)*tau) + (-2 + sqrt(5))*exp(2*tau*(1 + sqrt(5))))*exp(-tau*(2 + sqrt(5)))/2],\n",
       "[        5*(-exp(2*tau) - 8*exp(sqrt(5)*tau) + 4*sqrt(5)*exp(sqrt(5)*tau) - 4*sqrt(5)*exp(2*tau*(1 + sqrt(5))) + 9*exp(2*tau*(1 + sqrt(5))))*exp(-tau*(2 + sqrt(5)))/(-2 + sqrt(5)),   sqrt(5)*sinh(sqrt(5)*tau), -sqrt(5)*exp(sqrt(5)*tau) + 5*exp(sqrt(5)*tau)/2 + sqrt(5)*exp(-sqrt(5)*tau) + 5*exp(-sqrt(5)*tau)/2 - 4*exp(-2*tau)]])"
      ]
     },
     "metadata": {},
     "output_type": "display_data"
    }
   ],
   "source": [
    "U = sp.exp(tau*A)\n",
    "U = sp.simplify(U)\n",
    "display(U)"
   ]
  },
  {
   "cell_type": "code",
   "execution_count": 116,
   "metadata": {},
   "outputs": [
    {
     "data": {
      "text/latex": [
       "$\\displaystyle \\left[\\begin{matrix}\\frac{\\left(- e^{2 \\tau} - 10 e^{\\sqrt{5} \\tau} + 5 \\sqrt{5} e^{\\sqrt{5} \\tau} - 4 \\sqrt{5} e^{2 \\tau \\left(1 + \\sqrt{5}\\right)} + 9 e^{2 \\tau \\left(1 + \\sqrt{5}\\right)}\\right) e^{- \\tau \\left(2 + \\sqrt{5}\\right)}}{-2 + \\sqrt{5}} & \\frac{\\sqrt{5} \\sinh{\\left(\\sqrt{5} \\tau \\right)}}{5} & - \\frac{\\sqrt{5} e^{\\sqrt{5} \\tau}}{5} + \\frac{e^{\\sqrt{5} \\tau}}{2} + \\frac{\\sqrt{5} e^{- \\sqrt{5} \\tau}}{5} + \\frac{e^{- \\sqrt{5} \\tau}}{2} - e^{- 2 \\tau}\\end{matrix}\\right]$"
      ],
      "text/plain": [
       "Matrix([[(-exp(2*tau) - 10*exp(sqrt(5)*tau) + 5*sqrt(5)*exp(sqrt(5)*tau) - 4*sqrt(5)*exp(2*tau*(1 + sqrt(5))) + 9*exp(2*tau*(1 + sqrt(5))))*exp(-tau*(2 + sqrt(5)))/(-2 + sqrt(5)), sqrt(5)*sinh(sqrt(5)*tau)/5, -sqrt(5)*exp(sqrt(5)*tau)/5 + exp(sqrt(5)*tau)/2 + sqrt(5)*exp(-sqrt(5)*tau)/5 + exp(-sqrt(5)*tau)/2 - exp(-2*tau)]])"
      ]
     },
     "metadata": {},
     "output_type": "display_data"
    },
    {
     "data": {
      "text/plain": [
       "True"
      ]
     },
     "metadata": {},
     "output_type": "display_data"
    },
    {
     "data": {
      "text/latex": [
       "$\\displaystyle \\left[\\begin{matrix}0 & 0 & 0\\end{matrix}\\right]$"
      ],
      "text/plain": [
       "Matrix([[0, 0, 0]])"
      ]
     },
     "metadata": {},
     "output_type": "display_data"
    }
   ],
   "source": [
    "# Probe\n",
    "\n",
    "u = U[0, :]\n",
    "display(u)\n",
    "\n",
    "lhs = sp.diff(u, tau, tau, tau)\n",
    "lhs = sp.simplify(lhs)\n",
    "rhs = 10 * u + 5 * sp.diff(u, tau) - 2 * sp.diff(u, tau, tau)\n",
    "rhs = sp.simplify(rhs)\n",
    "display(lhs == rhs)\n",
    "\n",
    "lhs = 2 * sp.diff(u, tau, tau, tau) + 4 * sp.diff(u, tau, tau) - 10 * sp.diff(u, tau) - 20 * u\n",
    "lhs = sp.simplify(lhs)\n",
    "display(lhs)"
   ]
  },
  {
   "cell_type": "code",
   "execution_count": 45,
   "metadata": {},
   "outputs": [],
   "source": [
    "t = sp.Symbol('t')"
   ]
  },
  {
   "cell_type": "code",
   "execution_count": 118,
   "metadata": {},
   "outputs": [
    {
     "data": {
      "text/latex": [
       "$\\displaystyle \\left[\\begin{matrix}\\frac{t^{2} - 5 \\sqrt{5} t^{\\sqrt{5}} + 10 t^{\\sqrt{5}} - 9 t^{2 + 2 \\sqrt{5}} + 4 \\sqrt{5} t^{2 + 2 \\sqrt{5}}}{t^{2 + \\sqrt{5}} \\left(2 - \\sqrt{5}\\right)} & \\frac{\\sqrt{5} \\sinh{\\left(\\sqrt{5} \\log{\\left(t \\right)} \\right)}}{5} & \\frac{t^{2} \\left(2 \\sqrt{5} + 5\\right) - 10 t^{\\sqrt{5}} + t^{2 + 2 \\sqrt{5}} \\left(5 - 2 \\sqrt{5}\\right)}{10 t^{2 + \\sqrt{5}}}\\end{matrix}\\right]$"
      ],
      "text/plain": [
       "Matrix([[t**(-sqrt(5) - 2)*(t**2 - 5*sqrt(5)*t**(sqrt(5)) + 10*t**(sqrt(5)) - 9*t**(2 + 2*sqrt(5)) + 4*sqrt(5)*t**(2 + 2*sqrt(5)))/(2 - sqrt(5)), sqrt(5)*sinh(sqrt(5)*log(t))/5, t**(-sqrt(5) - 2)*(t**2*(2*sqrt(5) + 5) - 10*t**(sqrt(5)) + t**(2 + 2*sqrt(5))*(5 - 2*sqrt(5)))/10]])"
      ]
     },
     "metadata": {},
     "output_type": "display_data"
    }
   ],
   "source": [
    "y = u.subs(tau, sp.ln(t))\n",
    "y = sp.simplify(y)\n",
    "display(y)"
   ]
  },
  {
   "cell_type": "code",
   "execution_count": 119,
   "metadata": {},
   "outputs": [
    {
     "data": {
      "text/latex": [
       "$\\displaystyle \\left[\\begin{matrix}0 & 0 & 0\\end{matrix}\\right]$"
      ],
      "text/plain": [
       "Matrix([[0, 0, 0]])"
      ]
     },
     "metadata": {},
     "output_type": "display_data"
    }
   ],
   "source": [
    "# Probe\n",
    "\n",
    "lhs = 2 * t**3 * sp.diff(y, t, t, t) + 10 * t**2 * sp.diff(y, t, t) - 4 * t * sp.diff(y, t) - 20 * y\n",
    "lhs = sp.simplify(lhs)\n",
    "\n",
    "display(lhs)"
   ]
  }
 ],
 "metadata": {
  "kernelspec": {
   "display_name": "Python 3",
   "language": "python",
   "name": "python3"
  },
  "language_info": {
   "codemirror_mode": {
    "name": "ipython",
    "version": 3
   },
   "file_extension": ".py",
   "mimetype": "text/x-python",
   "name": "python",
   "nbconvert_exporter": "python",
   "pygments_lexer": "ipython3",
   "version": "3.7.4"
  }
 },
 "nbformat": 4,
 "nbformat_minor": 2
}
