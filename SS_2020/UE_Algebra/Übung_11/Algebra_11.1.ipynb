{
 "cells": [
  {
   "cell_type": "code",
   "execution_count": 1,
   "metadata": {},
   "outputs": [],
   "source": [
    "import sympy as sp"
   ]
  },
  {
   "cell_type": "code",
   "execution_count": 3,
   "metadata": {},
   "outputs": [],
   "source": [
    "x = sp.Symbol('x')\n",
    "\n",
    "f = sum([x**n for n in range(5)])\n",
    "g = (x**5 - 1) / (x - 1)"
   ]
  },
  {
   "cell_type": "code",
   "execution_count": 13,
   "metadata": {},
   "outputs": [
    {
     "data": {
      "text/latex": [
       "$\\displaystyle x^{4} + x^{3} + x^{2} + x + 1$"
      ],
      "text/plain": [
       "x**4 + x**3 + x**2 + x + 1"
      ]
     },
     "metadata": {},
     "output_type": "display_data"
    }
   ],
   "source": [
    "display(f)"
   ]
  },
  {
   "cell_type": "code",
   "execution_count": 14,
   "metadata": {},
   "outputs": [
    {
     "data": {
      "text/latex": [
       "$\\displaystyle - \\frac{1}{4} + \\frac{\\sqrt{5}}{4} - i \\sqrt{\\frac{\\sqrt{5}}{8} + \\frac{5}{8}}$"
      ],
      "text/plain": [
       "-1/4 + sqrt(5)/4 - I*sqrt(sqrt(5)/8 + 5/8)"
      ]
     },
     "metadata": {},
     "output_type": "display_data"
    },
    {
     "data": {
      "text/latex": [
       "$\\displaystyle - \\frac{1}{4} + \\frac{\\sqrt{5}}{4} + i \\sqrt{\\frac{\\sqrt{5}}{8} + \\frac{5}{8}}$"
      ],
      "text/plain": [
       "-1/4 + sqrt(5)/4 + I*sqrt(sqrt(5)/8 + 5/8)"
      ]
     },
     "metadata": {},
     "output_type": "display_data"
    },
    {
     "data": {
      "text/latex": [
       "$\\displaystyle - \\frac{\\sqrt{5}}{4} - \\frac{1}{4} - i \\sqrt{\\frac{5}{8} - \\frac{\\sqrt{5}}{8}}$"
      ],
      "text/plain": [
       "-sqrt(5)/4 - 1/4 - I*sqrt(5/8 - sqrt(5)/8)"
      ]
     },
     "metadata": {},
     "output_type": "display_data"
    },
    {
     "data": {
      "text/latex": [
       "$\\displaystyle - \\frac{\\sqrt{5}}{4} - \\frac{1}{4} + i \\sqrt{\\frac{5}{8} - \\frac{\\sqrt{5}}{8}}$"
      ],
      "text/plain": [
       "-sqrt(5)/4 - 1/4 + I*sqrt(5/8 - sqrt(5)/8)"
      ]
     },
     "metadata": {},
     "output_type": "display_data"
    },
    {
     "data": {
      "text/latex": [
       "$\\displaystyle \\left(x + \\frac{1}{4} + \\frac{\\sqrt{5}}{4} - i \\sqrt{\\frac{5}{8} - \\frac{\\sqrt{5}}{8}}\\right) \\left(x + \\frac{1}{4} + \\frac{\\sqrt{5}}{4} + i \\sqrt{\\frac{5}{8} - \\frac{\\sqrt{5}}{8}}\\right) \\left(x - \\frac{\\sqrt{5}}{4} + \\frac{1}{4} - i \\sqrt{\\frac{\\sqrt{5}}{8} + \\frac{5}{8}}\\right) \\left(x - \\frac{\\sqrt{5}}{4} + \\frac{1}{4} + i \\sqrt{\\frac{\\sqrt{5}}{8} + \\frac{5}{8}}\\right)$"
      ],
      "text/plain": [
       "(x + 1/4 + sqrt(5)/4 - I*sqrt(5/8 - sqrt(5)/8))*(x + 1/4 + sqrt(5)/4 + I*sqrt(5/8 - sqrt(5)/8))*(x - sqrt(5)/4 + 1/4 - I*sqrt(sqrt(5)/8 + 5/8))*(x - sqrt(5)/4 + 1/4 + I*sqrt(sqrt(5)/8 + 5/8))"
      ]
     },
     "metadata": {},
     "output_type": "display_data"
    }
   ],
   "source": [
    "roots = sp.solve(f, x)\n",
    "\n",
    "for root in roots:\n",
    "    display(root)\n",
    "\n",
    "f_factored = sp.prod([x - root for root in roots])\n",
    "display(f_factored)"
   ]
  },
  {
   "cell_type": "code",
   "execution_count": 5,
   "metadata": {},
   "outputs": [
    {
     "data": {
      "text/latex": [
       "$\\displaystyle \\frac{x^{5} - 1}{x - 1}$"
      ],
      "text/plain": [
       "(x**5 - 1)/(x - 1)"
      ]
     },
     "execution_count": 5,
     "metadata": {},
     "output_type": "execute_result"
    }
   ],
   "source": [
    "g"
   ]
  },
  {
   "cell_type": "code",
   "execution_count": 15,
   "metadata": {},
   "outputs": [
    {
     "data": {
      "text/latex": [
       "$\\displaystyle - \\frac{1}{4} + \\frac{\\sqrt{5}}{4} - i \\sqrt{\\frac{\\sqrt{5}}{8} + \\frac{5}{8}}$"
      ],
      "text/plain": [
       "-1/4 + sqrt(5)/4 - I*sqrt(sqrt(5)/8 + 5/8)"
      ]
     },
     "metadata": {},
     "output_type": "display_data"
    },
    {
     "data": {
      "text/latex": [
       "$\\displaystyle - \\frac{1}{4} + \\frac{\\sqrt{5}}{4} + i \\sqrt{\\frac{\\sqrt{5}}{8} + \\frac{5}{8}}$"
      ],
      "text/plain": [
       "-1/4 + sqrt(5)/4 + I*sqrt(sqrt(5)/8 + 5/8)"
      ]
     },
     "metadata": {},
     "output_type": "display_data"
    },
    {
     "data": {
      "text/latex": [
       "$\\displaystyle - \\frac{\\sqrt{5}}{4} - \\frac{1}{4} - i \\sqrt{\\frac{5}{8} - \\frac{\\sqrt{5}}{8}}$"
      ],
      "text/plain": [
       "-sqrt(5)/4 - 1/4 - I*sqrt(5/8 - sqrt(5)/8)"
      ]
     },
     "metadata": {},
     "output_type": "display_data"
    },
    {
     "data": {
      "text/latex": [
       "$\\displaystyle - \\frac{\\sqrt{5}}{4} - \\frac{1}{4} + i \\sqrt{\\frac{5}{8} - \\frac{\\sqrt{5}}{8}}$"
      ],
      "text/plain": [
       "-sqrt(5)/4 - 1/4 + I*sqrt(5/8 - sqrt(5)/8)"
      ]
     },
     "metadata": {},
     "output_type": "display_data"
    },
    {
     "data": {
      "text/latex": [
       "$\\displaystyle \\left(x + \\frac{1}{4} + \\frac{\\sqrt{5}}{4} - i \\sqrt{\\frac{5}{8} - \\frac{\\sqrt{5}}{8}}\\right) \\left(x + \\frac{1}{4} + \\frac{\\sqrt{5}}{4} + i \\sqrt{\\frac{5}{8} - \\frac{\\sqrt{5}}{8}}\\right) \\left(x - \\frac{\\sqrt{5}}{4} + \\frac{1}{4} - i \\sqrt{\\frac{\\sqrt{5}}{8} + \\frac{5}{8}}\\right) \\left(x - \\frac{\\sqrt{5}}{4} + \\frac{1}{4} + i \\sqrt{\\frac{\\sqrt{5}}{8} + \\frac{5}{8}}\\right)$"
      ],
      "text/plain": [
       "(x + 1/4 + sqrt(5)/4 - I*sqrt(5/8 - sqrt(5)/8))*(x + 1/4 + sqrt(5)/4 + I*sqrt(5/8 - sqrt(5)/8))*(x - sqrt(5)/4 + 1/4 - I*sqrt(sqrt(5)/8 + 5/8))*(x - sqrt(5)/4 + 1/4 + I*sqrt(sqrt(5)/8 + 5/8))"
      ]
     },
     "metadata": {},
     "output_type": "display_data"
    }
   ],
   "source": [
    "roots = sp.solve(g, x)\n",
    "\n",
    "for root in roots:\n",
    "    display(root)\n",
    "\n",
    "g_factored = sp.prod([x - root for root in roots])\n",
    "display(g_factored)"
   ]
  },
  {
   "cell_type": "code",
   "execution_count": 17,
   "metadata": {},
   "outputs": [
    {
     "data": {
      "text/plain": [
       "False"
      ]
     },
     "metadata": {},
     "output_type": "display_data"
    }
   ],
   "source": [
    "display(f == g)"
   ]
  },
  {
   "cell_type": "code",
   "execution_count": 18,
   "metadata": {},
   "outputs": [
    {
     "data": {
      "text/plain": [
       "True"
      ]
     },
     "metadata": {},
     "output_type": "display_data"
    }
   ],
   "source": [
    "display(f_factored == g_factored)"
   ]
  }
 ],
 "metadata": {
  "kernelspec": {
   "display_name": "Python 3",
   "language": "python",
   "name": "python3"
  },
  "language_info": {
   "codemirror_mode": {
    "name": "ipython",
    "version": 3
   },
   "file_extension": ".py",
   "mimetype": "text/x-python",
   "name": "python",
   "nbconvert_exporter": "python",
   "pygments_lexer": "ipython3",
   "version": "3.7.4"
  }
 },
 "nbformat": 4,
 "nbformat_minor": 2
}
