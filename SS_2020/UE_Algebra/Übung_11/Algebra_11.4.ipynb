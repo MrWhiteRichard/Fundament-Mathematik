{
 "cells": [
  {
   "cell_type": "code",
   "execution_count": 3,
   "metadata": {},
   "outputs": [],
   "source": [
    "import sympy as sp"
   ]
  },
  {
   "cell_type": "code",
   "execution_count": 5,
   "metadata": {},
   "outputs": [],
   "source": [
    "x = sp.Symbol('x')"
   ]
  },
  {
   "cell_type": "code",
   "execution_count": 13,
   "metadata": {},
   "outputs": [],
   "source": [
    "roots = sp.solve(x**3 - 2, x)"
   ]
  },
  {
   "cell_type": "code",
   "execution_count": 16,
   "metadata": {},
   "outputs": [
    {
     "data": {
      "text/latex": [
       "$\\displaystyle \\sqrt[3]{2}$"
      ],
      "text/plain": [
       "2**(1/3)"
      ]
     },
     "metadata": {},
     "output_type": "display_data"
    },
    {
     "data": {
      "text/latex": [
       "$\\displaystyle - \\frac{\\sqrt[3]{2}}{2} - \\frac{\\sqrt[3]{2} \\sqrt{3} i}{2}$"
      ],
      "text/plain": [
       "-2**(1/3)/2 - 2**(1/3)*sqrt(3)*I/2"
      ]
     },
     "metadata": {},
     "output_type": "display_data"
    },
    {
     "data": {
      "text/latex": [
       "$\\displaystyle - \\frac{\\sqrt[3]{2}}{2} + \\frac{\\sqrt[3]{2} \\sqrt{3} i}{2}$"
      ],
      "text/plain": [
       "-2**(1/3)/2 + 2**(1/3)*sqrt(3)*I/2"
      ]
     },
     "metadata": {},
     "output_type": "display_data"
    }
   ],
   "source": [
    "for root in roots:\n",
    "    display(root)"
   ]
  },
  {
   "cell_type": "code",
   "execution_count": 17,
   "metadata": {},
   "outputs": [
    {
     "data": {
      "text/latex": [
       "$\\displaystyle \\left(x - \\sqrt[3]{2}\\right) \\left(x + \\frac{\\sqrt[3]{2}}{2} - \\frac{\\sqrt[3]{2} \\sqrt{3} i}{2}\\right) \\left(x + \\frac{\\sqrt[3]{2}}{2} + \\frac{\\sqrt[3]{2} \\sqrt{3} i}{2}\\right)$"
      ],
      "text/plain": [
       "(x - 2**(1/3))*(x + 2**(1/3)/2 - 2**(1/3)*sqrt(3)*I/2)*(x + 2**(1/3)/2 + 2**(1/3)*sqrt(3)*I/2)"
      ]
     },
     "metadata": {},
     "output_type": "display_data"
    }
   ],
   "source": [
    "x_factored = sp.prod([x - root for root in roots])\n",
    "display(x_factored)"
   ]
  },
  {
   "cell_type": "code",
   "execution_count": 18,
   "metadata": {},
   "outputs": [
    {
     "data": {
      "text/latex": [
       "$\\displaystyle x^{3} - 2$"
      ],
      "text/plain": [
       "x**3 - 2"
      ]
     },
     "execution_count": 18,
     "metadata": {},
     "output_type": "execute_result"
    }
   ],
   "source": [
    "sp.simplify(x_factored)"
   ]
  }
 ],
 "metadata": {
  "kernelspec": {
   "display_name": "Python 3",
   "language": "python",
   "name": "python3"
  },
  "language_info": {
   "codemirror_mode": {
    "name": "ipython",
    "version": 3
   },
   "file_extension": ".py",
   "mimetype": "text/x-python",
   "name": "python",
   "nbconvert_exporter": "python",
   "pygments_lexer": "ipython3",
   "version": "3.7.4"
  }
 },
 "nbformat": 4,
 "nbformat_minor": 2
}
