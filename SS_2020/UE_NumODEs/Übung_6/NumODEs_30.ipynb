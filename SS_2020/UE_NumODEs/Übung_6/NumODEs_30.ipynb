{
 "cells": [
  {
   "cell_type": "markdown",
   "metadata": {},
   "source": [
    "**Aufgabe 30:**\n",
    "\n",
    "Schreiben Sie ein Programm, welches für ein gegebenes Runge-Kutta Verfahren mit Stabilitätsfunktion $R$ und ein gegebenes Rechteck $Q = \\{ z \\in \\mathbb{C}: (\\Re(z), \\Im(z)) \\in [a, b] \\times [c, d] \\}$ diejenigen $z \\in Q$ grafisch hervorhebt, für die $|R(z)| \\leq 1$ gilt.\n",
    "\n",
    "Testen Sie dieses Programm mit bereits bekannten expliziten und impliziten Runge-Kutta Verfahren. Verwenden Sie unter anderem die Verfahren aus Remark 4.25 und Definition 4.31. Welche Rechtecke $Q$ sind interessant?"
   ]
  },
  {
   "cell_type": "code",
   "execution_count": null,
   "metadata": {},
   "outputs": [],
   "source": []
  },
  {
   "cell_type": "code",
   "execution_count": null,
   "metadata": {},
   "outputs": [],
   "source": []
  },
  {
   "cell_type": "code",
   "execution_count": null,
   "metadata": {},
   "outputs": [],
   "source": []
  },
  {
   "cell_type": "code",
   "execution_count": null,
   "metadata": {},
   "outputs": [],
   "source": []
  },
  {
   "cell_type": "code",
   "execution_count": null,
   "metadata": {},
   "outputs": [],
   "source": []
  },
  {
   "cell_type": "code",
   "execution_count": null,
   "metadata": {},
   "outputs": [],
   "source": []
  }
 ],
 "metadata": {
  "kernelspec": {
   "display_name": "Python 3",
   "language": "python",
   "name": "python3"
  },
  "language_info": {
   "codemirror_mode": {
    "name": "ipython",
    "version": 3
   },
   "file_extension": ".py",
   "mimetype": "text/x-python",
   "name": "python",
   "nbconvert_exporter": "python",
   "pygments_lexer": "ipython3",
   "version": "3.7.4"
  }
 },
 "nbformat": 4,
 "nbformat_minor": 2
}
