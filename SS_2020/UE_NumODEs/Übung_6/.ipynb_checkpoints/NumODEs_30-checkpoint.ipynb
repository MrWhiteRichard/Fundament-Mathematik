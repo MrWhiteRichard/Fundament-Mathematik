{
 "cells": [
  {
   "cell_type": "markdown",
   "metadata": {},
   "source": [
    "**Aufgabe 30:**\n",
    "\n",
    "Schreiben Sie ein Programm, welches für ein gegebenes Runge-Kutta Verfahren mit Stabilitätsfunktion $R$ und ein gegebenes Rechteck $Q = \\{ z \\in \\mathbb{C}: (\\Re(z), \\Im(z)) \\in [a, b] \\times [c, d] \\}$ diejenigen $z \\in Q$ grafisch hervorhebt, für die $|R(z)| \\leq 1$ gilt.\n",
    "\n",
    "Testen Sie dieses Programm mit bereits bekannten expliziten und impliziten Runge-Kutta Verfahren. Verwenden Sie unter anderem die Verfahren aus Remark 4.25 und Definition 4.31. Welche Rechtecke $Q$ sind interessant?"
   ]
  },
  {
   "cell_type": "code",
   "execution_count": 1,
   "metadata": {},
   "outputs": [],
   "source": [
    "import numpy as np\n",
    "import matplotlib.pyplot as plt"
   ]
  },
  {
   "cell_type": "code",
   "execution_count": 25,
   "metadata": {},
   "outputs": [],
   "source": [
    "def programm(R, Q, dt):\n",
    "\n",
    "    \"\"\"\n",
    "        This program does, what is stated in \"Aufgabe 30\".\n",
    "        R .... stability function\n",
    "        Q .... interval (rectangle) of complex numbers,\n",
    "               via real intervals [a, b] & [c, d] on real & imaginary axis,\n",
    "               as ((a, b), (c, d))\n",
    "        dt ... grid fineness\n",
    "    \"\"\"\n",
    "\n",
    "    ((a, b), (c, d)) = Q\n",
    "\n",
    "    real = np.arange(a, b, dt)\n",
    "    real = np.array([real])\n",
    "    imag = np.arange(c, d, dt)[::-1]\n",
    "    imag = np.array([imag]).transpose()\n",
    "    comp = real + imag * 1j\n",
    "\n",
    "    cool_points = comp[abs(R(comp)) <= 1]\n",
    "    cool_points_real = cool_points.real.flatten()\n",
    "    cool_points_imag = cool_points.imag.flatten()\n",
    "\n",
    "    return cool_points_real, cool_points_imag"
   ]
  },
  {
   "cell_type": "code",
   "execution_count": 28,
   "metadata": {},
   "outputs": [],
   "source": [
    "# Various Stability Functions\n",
    "\n",
    "stability_functions = []\n",
    "names = []\n",
    "\n",
    "# explicit Euler\n",
    "R = lambda z: 1 + z\n",
    "stability_functions += [R]\n",
    "names += ['explicit Euler']\n",
    "\n",
    "# implicit Euler\n",
    "R = lambda z: 1/(1-z)\n",
    "stability_functions += [R]\n",
    "names += ['implicit Euler']\n",
    "\n",
    "# Heun / modified Euler\n",
    "R = lambda z: 1 + z + z**2 / 2\n",
    "stability_functions += [R]\n",
    "names += ['Heun / modified Euler']\n",
    "\n",
    "# classical RK4\n",
    "R = lambda z: 1 + z + z**2 / 2 + z**3 / 6 + z**4 / 24\n",
    "stability_functions += [R]\n",
    "names += ['classical RK4']"
   ]
  },
  {
   "cell_type": "code",
   "execution_count": null,
   "metadata": {},
   "outputs": [],
   "source": [
    "a = -10\n",
    "b = -a\n",
    "c = -10\n",
    "d = -c\n",
    "\n",
    "Q = ((a, b), (c, d))\n",
    "\n",
    "dt = 0.01"
   ]
  },
  {
   "cell_type": "code",
   "execution_count": null,
   "metadata": {
    "scrolled": false
   },
   "outputs": [
    {
     "name": "stdout",
     "output_type": "stream",
     "text": [
      "# ---------------------------------------------------------------- # \n",
      "\n",
      "Points $z$ in interval $[-10 + 10 \\cdot i, -10 + 10 \\cdot i]$ where $|R(z)| \\leq 1$ ...\n"
     ]
    }
   ],
   "source": [
    "print('#', '-'*64, '#', '\\n')\n",
    "\n",
    "for R, name in zip(stability_functions, names):\n",
    "\n",
    "    txt = 'Points $z$ in interval $[{} + {} \\cdot i, {} + {} \\cdot i]$ where $|R(z)| \\leq 1$ ...'.format(a, b, c, d)\n",
    "    print(txt)\n",
    "\n",
    "    x, y = programm(R, Q, dt)\n",
    "\n",
    "    plt.scatter(x, y, s = 10)\n",
    "\n",
    "    plt.suptitle(name)\n",
    "    plt.xlabel('$\\Re$')\n",
    "    plt.ylabel('$\\Im$')\n",
    "\n",
    "    plt.grid(linestyle = ':')\n",
    "\n",
    "    plt.show()\n",
    "\n",
    "    print('#', '-'*64, '#', '\\n')"
   ]
  }
 ],
 "metadata": {
  "kernelspec": {
   "display_name": "Python 3",
   "language": "python",
   "name": "python3"
  },
  "language_info": {
   "codemirror_mode": {
    "name": "ipython",
    "version": 3
   },
   "file_extension": ".py",
   "mimetype": "text/x-python",
   "name": "python",
   "nbconvert_exporter": "python",
   "pygments_lexer": "ipython3",
   "version": "3.7.4"
  }
 },
 "nbformat": 4,
 "nbformat_minor": 2
}
