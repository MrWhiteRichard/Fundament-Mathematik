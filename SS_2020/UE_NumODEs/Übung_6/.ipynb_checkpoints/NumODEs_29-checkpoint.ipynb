{
 "cells": [
  {
   "cell_type": "markdown",
   "metadata": {},
   "source": [
    "**Aufgabe 29:**\n",
    "\n",
    "Berechnen Sie die Lösung des Anfangswertproblems (4) auf dem Intervall $[0, 1]$ numerisch. Der Anfangswert $G$ soll die Funktion $g(x) := \\exp(−30 (x − 1/2)^2)$ nodal approximieren, d.h. $G_i := g(i/N)$ für $i = 1, \\ldots , N − 1$.\n",
    "\n",
    "**a)** Sei die Ortsschrittweite $h$ gegeben. Berechnen Sie mit Hilfe von (3a), wie groß die Zeitschrittweite $\\tau$ abhängig von $h$ maximal sein darf, damit das explizite Euler Verfahren zu exponentiell fallenden Lösungen führt.\n",
    "\n",
    "**b)** Überprüfen Sie dieses Resultat numerisch. Testen Sie dafür das explizite Euler Verfahren für dieses Problem numerisch fur unterschiedliche Orts- und Zeitschrittweiten (z.B. $h = 2^{−1}, \\ldots, 2^{−10}$, $\\tau = 2^{−1}, \\ldots, 2^{−10}$. Dazu können Sie z.B. $\\| U_h(t) \\|_\\infty$ über eine gewisse Zeit $t \\in [0, T]$ grafisch darstellen.\n",
    "\n",
    "**c)** Testen Sie nun mit dem impliziten Euler Verfahren. Zur Lösung des linearen Gleichungssystem verwenden Sie bitte LU-Faktorisierung und Vorwärts-/Rückwärtssubstitution (z.B. in Python durch die Funktionen ``lu_factor`` und ``lu_solve`` der Bibliothek ``scipy.linalg``)."
   ]
  },
  {
   "cell_type": "code",
   "execution_count": null,
   "metadata": {},
   "outputs": [],
   "source": []
  },
  {
   "cell_type": "code",
   "execution_count": null,
   "metadata": {},
   "outputs": [],
   "source": []
  },
  {
   "cell_type": "code",
   "execution_count": null,
   "metadata": {},
   "outputs": [],
   "source": []
  },
  {
   "cell_type": "code",
   "execution_count": null,
   "metadata": {},
   "outputs": [],
   "source": []
  },
  {
   "cell_type": "code",
   "execution_count": null,
   "metadata": {},
   "outputs": [],
   "source": []
  }
 ],
 "metadata": {
  "kernelspec": {
   "display_name": "Python 3",
   "language": "python",
   "name": "python3"
  },
  "language_info": {
   "codemirror_mode": {
    "name": "ipython",
    "version": 3
   },
   "file_extension": ".py",
   "mimetype": "text/x-python",
   "name": "python",
   "nbconvert_exporter": "python",
   "pygments_lexer": "ipython3",
   "version": "3.7.4"
  }
 },
 "nbformat": 4,
 "nbformat_minor": 2
}
