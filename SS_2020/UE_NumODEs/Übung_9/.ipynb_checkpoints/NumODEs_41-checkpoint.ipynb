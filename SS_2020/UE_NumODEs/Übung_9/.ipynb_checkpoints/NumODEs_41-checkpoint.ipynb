{
 "cells": [
  {
   "cell_type": "code",
   "execution_count": 1,
   "metadata": {},
   "outputs": [],
   "source": [
    "import sympy as sp\n",
    "import numpy as np\n",
    "from fractions import Fraction"
   ]
  },
  {
   "cell_type": "code",
   "execution_count": 2,
   "metadata": {},
   "outputs": [],
   "source": [
    "fraction_matrix = lambda M: [[str(Fraction(y).limit_denominator(100)) for y in x] for x in M]"
   ]
  },
  {
   "cell_type": "code",
   "execution_count": 3,
   "metadata": {},
   "outputs": [],
   "source": [
    "tau = sp.Symbol('tau')\n",
    "zeta = sp.Symbol('zeta')"
   ]
  },
  {
   "cell_type": "code",
   "execution_count": 4,
   "metadata": {},
   "outputs": [],
   "source": [
    "alpha = lambda k, j: float(np.prod([(m + tau) / (m - (k - j)) for m in range(k+1) if m != k-j]).diff(tau).subs(tau, 0))"
   ]
  },
  {
   "cell_type": "code",
   "execution_count": 5,
   "metadata": {},
   "outputs": [],
   "source": [
    "alphas = [[alpha(k, j) for j in range(k+1)] for k in range(1, 10+1)]"
   ]
  },
  {
   "cell_type": "code",
   "execution_count": 6,
   "metadata": {},
   "outputs": [
    {
     "name": "stdout",
     "output_type": "stream",
     "text": [
      "['-1', '1']\n",
      "['1/2', '-2', '3/2']\n",
      "['-1/3', '3/2', '-3', '11/6']\n",
      "['1/4', '-4/3', '3', '-4', '25/12']\n",
      "['-1/5', '5/4', '-10/3', '5', '-5', '137/60']\n",
      "['1/6', '-6/5', '15/4', '-20/3', '15/2', '-6', '49/20']\n",
      "['-1/7', '7/6', '-21/5', '35/4', '-35/3', '21/2', '-7', '223/86']\n",
      "['1/8', '-8/7', '14/3', '-56/5', '35/2', '-56/3', '14', '-8', '106/39']\n",
      "['-1/9', '9/8', '-36/7', '14', '-126/5', '63/2', '-28', '18', '-9', '215/76']\n",
      "['1/10', '-10/9', '45/8', '-120/7', '35', '-252/5', '105/2', '-40', '45/2', '-10', '290/99']\n"
     ]
    }
   ],
   "source": [
    "for row in fraction_matrix(alphas):\n",
    "    print(row)"
   ]
  },
  {
   "cell_type": "code",
   "execution_count": 7,
   "metadata": {},
   "outputs": [],
   "source": [
    "Roots = [np.roots(alphas_[::-1]) for alphas_ in alphas]"
   ]
  },
  {
   "cell_type": "code",
   "execution_count": 8,
   "metadata": {},
   "outputs": [
    {
     "name": "stdout",
     "output_type": "stream",
     "text": [
      "k = 1\n",
      "1.0\n",
      "\n",
      "k = 2\n",
      "1.0\n",
      "0.333333333\n",
      "\n",
      "k = 3\n",
      "1.0\n",
      "0.426401433\n",
      "0.426401433\n",
      "\n",
      "k = 4\n",
      "1.0\n",
      "0.560861516\n",
      "0.560861516\n",
      "0.381478409\n",
      "\n",
      "k = 5\n",
      "1.0\n",
      "0.708710816\n",
      "0.708710816\n",
      "0.417600758\n",
      "0.417600758\n",
      "\n",
      "k = 6\n",
      "0.863380268\n",
      "0.863380268\n",
      "1.0\n",
      "0.474034858\n",
      "0.474034858\n",
      "0.406123267\n",
      "\n",
      "k = 7\n",
      "1.022218244\n",
      "1.022218244\n",
      "1.0\n",
      "0.539143826\n",
      "0.539143826\n",
      "0.425905669\n",
      "0.425905669\n",
      "\n",
      "k = 8\n",
      "1.183869654\n",
      "1.183869654\n",
      "1.0\n",
      "0.608972479\n",
      "0.608972479\n",
      "0.458225474\n",
      "0.458225474\n",
      "0.421426479\n",
      "\n",
      "k = 9\n",
      "1.347544113\n",
      "1.347544113\n",
      "1.0\n",
      "0.681746131\n",
      "0.681746131\n",
      "0.496982071\n",
      "0.496982071\n",
      "0.434068543\n",
      "0.434068543\n",
      "\n",
      "k = 10\n",
      "1.512739536\n",
      "1.512739536\n",
      "0.756524483\n",
      "0.756524483\n",
      "1.0\n",
      "0.539560926\n",
      "0.539560926\n",
      "0.45528309\n",
      "0.45528309\n",
      "0.431983363\n",
      "\n"
     ]
    }
   ],
   "source": [
    "for k, roots in enumerate(Roots):\n",
    "\n",
    "    print('k =', k+1)\n",
    "    \n",
    "    for root in roots:\n",
    "        print(round(abs(root), 9))\n",
    "\n",
    "    print('')"
   ]
  }
 ],
 "metadata": {
  "kernelspec": {
   "display_name": "Python 3",
   "language": "python",
   "name": "python3"
  },
  "language_info": {
   "codemirror_mode": {
    "name": "ipython",
    "version": 3
   },
   "file_extension": ".py",
   "mimetype": "text/x-python",
   "name": "python",
   "nbconvert_exporter": "python",
   "pygments_lexer": "ipython3",
   "version": "3.7.4"
  }
 },
 "nbformat": 4,
 "nbformat_minor": 2
}
