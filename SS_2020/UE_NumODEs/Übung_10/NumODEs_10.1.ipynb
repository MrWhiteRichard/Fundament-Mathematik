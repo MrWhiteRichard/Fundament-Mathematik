{
 "cells": [
  {
   "cell_type": "markdown",
   "metadata": {},
   "source": [
    "**Aufgabe 46:**\n",
    "\n",
    "Schreiben Sie ein Programm, welches das Stabilitätsgebiet eines beliebigen, linearen Mehrschritverfahrens grafisch darstellt. Testen Sie mit den Ihnen bekannten impliziten und expliziten linearen Mehrschrittverfahren. Insbesondere sollen Sie Adams-Bashforth Verfahren (Example 5.5), AdamsMoulton Verfahren (Example 5.6) und BDF Verfahren (Aufgabe 41) verschiedener Ordnung testen.\n",
    "\n",
    "*Hinweis:* Sie können ein Computeralgebrasysten verwenden. Alternativ können die Nullstellen eines Polynoms über die Eigenwerte der Begleitmatrix numerisch berechnet werden."
   ]
  },
  {
   "cell_type": "code",
   "execution_count": null,
   "metadata": {},
   "outputs": [],
   "source": []
  }
 ],
 "metadata": {
  "kernelspec": {
   "display_name": "Python 3",
   "language": "python",
   "name": "python3"
  },
  "language_info": {
   "codemirror_mode": {
    "name": "ipython",
    "version": 3
   },
   "file_extension": ".py",
   "mimetype": "text/x-python",
   "name": "python",
   "nbconvert_exporter": "python",
   "pygments_lexer": "ipython3",
   "version": "3.7.4"
  }
 },
 "nbformat": 4,
 "nbformat_minor": 2
}
