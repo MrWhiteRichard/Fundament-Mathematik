{
 "cells": [
  {
   "cell_type": "code",
   "execution_count": 1,
   "metadata": {},
   "outputs": [],
   "source": [
    "import sympy as sp"
   ]
  },
  {
   "cell_type": "code",
   "execution_count": 15,
   "metadata": {},
   "outputs": [],
   "source": [
    "fraction_vector = lambda vector: [str(Fraction(float(coeff)).limit_denominator(100)) for coeff in vector]"
   ]
  },
  {
   "cell_type": "code",
   "execution_count": 13,
   "metadata": {},
   "outputs": [
    {
     "data": {
      "text/latex": [
       "$\\displaystyle \\emptyset$"
      ],
      "text/plain": [
       "EmptySet()"
      ]
     },
     "execution_count": 13,
     "metadata": {},
     "output_type": "execute_result"
    }
   ],
   "source": [
    "x, y = sp.symbols('x y')\n",
    "delta = sp.IndexedBase('delta')\n",
    "\n",
    "# delta = [1, 1]\n",
    "# x = 0\n",
    "# y = 1\n",
    "\n",
    "A = sp.Matrix([[1,  1,             1,    1,             1  ],\n",
    "               [0, -1,   delta[x],       0,             0  ],\n",
    "               [0,  1/2, delta[x]**2/2,  0,             0  ],\n",
    "               [0, -1/6, delta[x]**3/6,  0,             0  ],\n",
    "               [0,  0,             0,   -1,   delta[y]     ],\n",
    "               [0,  0,             0,    1/2, delta[y]**2/2],\n",
    "               [0,  0,             0,   -1/6, delta[y]**3/6]])\n",
    "\n",
    "b = sp.Matrix([0, 0, 1, 0, 0, 1, 0])\n",
    "\n",
    "sp.linsolve((A, b))"
   ]
  },
  {
   "cell_type": "code",
   "execution_count": 14,
   "metadata": {},
   "outputs": [
    {
     "data": {
      "text/latex": [
       "$\\displaystyle \\left\\{\\left( - \\frac{2}{{\\delta}_{y}} - \\frac{2}{{\\delta}_{x}}, \\  \\frac{2}{{\\delta}_{x} + 1}, \\  \\frac{2}{\\left({\\delta}_{x} + 1\\right) {\\delta}_{x}}, \\  \\frac{2}{{\\delta}_{y} + 1}, \\  \\frac{2}{\\left({\\delta}_{y} + 1\\right) {\\delta}_{y}}\\right)\\right\\}$"
      ],
      "text/plain": [
       "{(-2/delta[y] - 2/delta[x], 2/(delta[x] + 1), 2/((delta[x] + 1)*delta[x]), 2/(delta[y] + 1), 2/((delta[y] + 1)*delta[y]))}"
      ]
     },
     "execution_count": 14,
     "metadata": {},
     "output_type": "execute_result"
    }
   ],
   "source": [
    "x, y = sp.symbols('x y')\n",
    "delta = sp.IndexedBase('delta')\n",
    "\n",
    "A = sp.Matrix([[1,  1,             1,    1,             1  ],\n",
    "               [0, -1,   delta[x],       0,             0  ],\n",
    "               [0,  1/2, delta[x]**2/2,  0,             0  ],\n",
    "               [0,  0,             0,   -1,   delta[y]     ],\n",
    "               [0,  0,             0,    1/2, delta[y]**2/2]])\n",
    "\n",
    "b = sp.Matrix([0, 0, 1, 0, 1])\n",
    "\n",
    "sp.linsolve((A, b))"
   ]
  }
 ],
 "metadata": {
  "kernelspec": {
   "display_name": "Python 3",
   "language": "python",
   "name": "python3"
  },
  "language_info": {
   "codemirror_mode": {
    "name": "ipython",
    "version": 3
   },
   "file_extension": ".py",
   "mimetype": "text/x-python",
   "name": "python",
   "nbconvert_exporter": "python",
   "pygments_lexer": "ipython3",
   "version": "3.7.4"
  }
 },
 "nbformat": 4,
 "nbformat_minor": 2
}
