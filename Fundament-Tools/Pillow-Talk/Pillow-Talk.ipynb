{
 "cells": [
  {
   "cell_type": "code",
   "execution_count": 1,
   "metadata": {},
   "outputs": [],
   "source": [
    "from PIL import Image, ImageGrab\n",
    "import os"
   ]
  },
  {
   "cell_type": "code",
   "execution_count": 2,
   "metadata": {},
   "outputs": [],
   "source": [
    "def trim(im, trim_out_color = (255, 255, 255), border_size = 0, border_color = (255, 255, 255)):\n",
    "\n",
    "    rgb_im = im.convert('RGB')\n",
    "\n",
    "    error = \"Your image holds only pixels of color ... {}\".format(trim_out_color)\n",
    "\n",
    "    x_min, y_min = 1, 1\n",
    "    x_max, y_max = rgb_im.size\n",
    "    x_max -= 1\n",
    "    y_max -= 1\n",
    "\n",
    "    # find left hand side bound for x\n",
    "\n",
    "    x, y = x_min, y_min\n",
    "    r, g, b = trim_out_color\n",
    "\n",
    "    while (r, g, b) == trim_out_color:\n",
    "        if y < y_max:\n",
    "            y += 1\n",
    "        else:\n",
    "            y = y_min\n",
    "            if x < x_max:\n",
    "                x += 1\n",
    "            else:\n",
    "                print(error)\n",
    "                return False\n",
    "        r, g, b = rgb_im.getpixel((x, y))\n",
    "\n",
    "    x_1 = x\n",
    "\n",
    "    # find upper side bound for y\n",
    "\n",
    "    x, y = x_min, y_min\n",
    "    r, g, b = trim_out_color\n",
    "\n",
    "    while (r, g, b) == trim_out_color:\n",
    "        if x < x_max:\n",
    "            x += 1\n",
    "        else:\n",
    "            x = x_min\n",
    "            if y < y_max:\n",
    "                y += 1\n",
    "            else:\n",
    "                print(error)\n",
    "                return False\n",
    "        r, g, b = rgb_im.getpixel((x, y))\n",
    "\n",
    "    y_1 = y\n",
    "\n",
    "    # find right hand side bound for x\n",
    "\n",
    "    x, y = x_max, y_max\n",
    "    r, g, b = trim_out_color\n",
    "\n",
    "    while (r, g, b) == trim_out_color:\n",
    "        if y > 0:\n",
    "            y -= 1\n",
    "        else:\n",
    "            y = y_max\n",
    "            if x > 0:\n",
    "                x -= 1\n",
    "            else:\n",
    "                print(error)\n",
    "                return False\n",
    "        r, g, b = rgb_im.getpixel((x, y))\n",
    "\n",
    "    x_2 = x+1\n",
    "\n",
    "    # find lower side bound for y\n",
    "\n",
    "    x, y = x_max, y_max\n",
    "    r, g, b = trim_out_color\n",
    "\n",
    "    while (r, g, b) == trim_out_color:\n",
    "        if x > 0:\n",
    "            x -= 1\n",
    "        else:\n",
    "            x = x_max\n",
    "            if y > 0:\n",
    "                y -= 1\n",
    "            else:\n",
    "                print(error)\n",
    "                return False\n",
    "        r, g, b = rgb_im.getpixel((x, y))\n",
    "\n",
    "    y_2 = y+1\n",
    "\n",
    "    if x_1 == x_min:\n",
    "        x_1 -= 1\n",
    "    if y_1 == y_min:\n",
    "        y_1 -= 1\n",
    "\n",
    "    cropped = im.crop((x_1, y_1, x_2, y_2))\n",
    "    return cropped"
   ]
  },
  {
   "cell_type": "code",
   "execution_count": 3,
   "metadata": {},
   "outputs": [],
   "source": [
    "def trim_from_clipboard(trim_out_color = (255, 255, 255),\n",
    "                        border_size    = 0,\n",
    "                        border_color   = (255, 255, 255)):\n",
    "\n",
    "    # grab image from clipboard\n",
    "    im = ImageGrab.grabclipboard()\n",
    "\n",
    "    # trim out the border color\n",
    "    im_trimmed = trim(im, trim_out_color, border_size, border_color)\n",
    "\n",
    "    # show cropped image in default image displayer\n",
    "    im_trimmed.show()"
   ]
  },
  {
   "cell_type": "code",
   "execution_count": 4,
   "metadata": {},
   "outputs": [],
   "source": [
    "def trim_from_directory(trim_out_color = (255, 255, 255),\n",
    "                        border_size    = 0,\n",
    "                        border_color   = (255, 255, 255),\n",
    "                        image_folder   = \"\\\\images\"):\n",
    "\n",
    "    if os.getcwd()[-len(image_folder)::] != image_folder:\n",
    "        os.chdir(os.getcwd() + image_folder)\n",
    "\n",
    "    for file in os.listdir():\n",
    "\n",
    "        file_name, file_extension = os.path.splitext(file)\n",
    "\n",
    "        if file_extension in [\".PNG\", \".png\"]:\n",
    "\n",
    "            # import image from directory\n",
    "            im = Image.open(file)\n",
    "\n",
    "            # trim out the border color\n",
    "            im_trimmed = trim(im, trim_out_color, border_size, border_color)\n",
    "\n",
    "            # save cropped image in dirctory\n",
    "            im_trimmed.save(file_name + \".png\")\n",
    "\n",
    "            print(\"saved ...\", file)\n",
    "\n",
    "    os.chdir(os.getcwd()[:-7:])"
   ]
  },
  {
   "cell_type": "code",
   "execution_count": 7,
   "metadata": {},
   "outputs": [],
   "source": [
    "trim_from_clipboard()"
   ]
  },
  {
   "cell_type": "code",
   "execution_count": 42,
   "metadata": {
    "scrolled": false
   },
   "outputs": [
    {
     "name": "stdout",
     "output_type": "stream",
     "text": [
      "saved ... Definition 2.1.1_1.PNG\n",
      "saved ... Definition 2.1.1_2.PNG\n",
      "saved ... Lemma 2.1.3.PNG\n"
     ]
    }
   ],
   "source": [
    "trim_from_directory()"
   ]
  },
  {
   "cell_type": "code",
   "execution_count": null,
   "metadata": {},
   "outputs": [],
   "source": []
  }
 ],
 "metadata": {
  "kernelspec": {
   "display_name": "Python 3",
   "language": "python",
   "name": "python3"
  },
  "language_info": {
   "codemirror_mode": {
    "name": "ipython",
    "version": 3
   },
   "file_extension": ".py",
   "mimetype": "text/x-python",
   "name": "python",
   "nbconvert_exporter": "python",
   "pygments_lexer": "ipython3",
   "version": "3.7.4"
  }
 },
 "nbformat": 4,
 "nbformat_minor": 2
}
