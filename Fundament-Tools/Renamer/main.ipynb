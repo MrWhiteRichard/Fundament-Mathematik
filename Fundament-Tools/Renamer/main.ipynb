{
 "metadata": {
  "language_info": {
   "codemirror_mode": {
    "name": "ipython",
    "version": 3
   },
   "file_extension": ".py",
   "mimetype": "text/x-python",
   "name": "python",
   "nbconvert_exporter": "python",
   "pygments_lexer": "ipython3",
   "version": "3.7.4-final"
  },
  "orig_nbformat": 2,
  "kernelspec": {
   "name": "python_defaultSpec_1600697279264",
   "display_name": "Python 3.7.4 64-bit ('base': conda)"
  }
 },
 "nbformat": 4,
 "nbformat_minor": 2,
 "cells": [
  {
   "cell_type": "code",
   "execution_count": 1,
   "metadata": {},
   "outputs": [],
   "source": [
    "directories = {r'C:\\Users\\richa\\Dropbox\\SS_2019\\Maß- und Wahrscheinlichkeitstheorie 1\\_MISC\\Grill Sätze & Definitionen\\Kapitel ' + str(n) for n in {3, 4, 5}}"
   ]
  },
  {
   "cell_type": "code",
   "execution_count": 4,
   "metadata": {
    "tags": []
   },
   "outputs": [],
   "source": [
    "import os"
   ]
  },
  {
   "cell_type": "code",
   "execution_count": 6,
   "metadata": {
    "tags": []
   },
   "outputs": [],
   "source": [
    "for directory in directories:\n",
    "\n",
    "    os.chdir(directory)\n",
    "\n",
    "    for file_name_old in os.listdir():\n",
    "\n",
    "        file_name_new = file_name_old.replace('_', '.')\n",
    "        os.rename(file_name_old, file_name_new)"
   ]
  }
 ]
}