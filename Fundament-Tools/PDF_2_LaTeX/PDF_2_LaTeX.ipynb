{
 "cells": [
  {
   "cell_type": "code",
   "execution_count": 1,
   "metadata": {},
   "outputs": [
    {
     "name": "stdout",
     "output_type": "stream",
     "text": [
      "Man spricht von einem autonomen Anfangswertproblem, wenn die rechte Seite der Differentialgleichung nicht explizit von der Zeit abh¨angt, d.h. wenn Y L¨osung des Anfangswertproblems\n",
      "Y\n",
      "0\n",
      "(t) = F(Y (t)), t ? J, Y (t0) = Y0 (2)\n",
      "ist. Jedes ,,normale” Anfangswertproblem\n",
      "y = f(t, y(t)), t ? J, y(t0) = y0 (3)\n",
      "1\n",
      "kann ¨aquivalent in ein autonomes Anfangswertproblem mit Y (t) := (t, y(t))>, Y0 := (t0, y0)\n",
      ">\n",
      "und F(x) := (1, f(x))> umgeformt werden. Ein Einschrittverfahren heisst invariant gegenuber ¨\n",
      "Autonomisierung, wenn es angewendet auf (2) fur beliebiges ¨ f exakt die gleichen Approximationen\n",
      "erzeugt wie bei Anwendung auf (3).\n",
      "Zeigen Sie: Ein explizites, s-stufiges Runge-Kutte-Verfahren ist genau dann invariant gegenuber ¨\n",
      "Autonomisierung, wenn gilt\n",
      "cj =\n",
      "X\n",
      "j-1\n",
      "i=1\n",
      "aji, j = 1, . . . , s. (4)\n",
      "\n",
      "----------------------------------------------------------------\n",
      "\n",
      "Man spricht von einem autonomen Anfangswertproblem, wenn die rechte Seite der Differentialgleichung nicht explizit von der Zeit abhängt, d.h. wenn $Y$ Lösung des Anfangswertproblems\n",
      "Y^\\prime(t) = F(Y(t)), t \\in J, Y(t_0) = Y_0 (2)\n",
      "ist.\n",
      "Jedes \\Quote{normale} Anfangswertproblem\n",
      "y = f(t, y(t)), t \\in J, y(t_0) = y_0 (3)\n",
      "kann äquivalent in ein autonomes Anfangswertproblem mit Y(t) := (t, y(t))^T, Y_0 := (t_0, y_0)^T und F(x) := (1, f(x))^T umgeformt werden.\n",
      "Ein Einschrittverfahren heisst invariant gegenüber Autonomisierung, wenn es angewendet auf (2) für beliebiges $f$ exakt die gleichen Approximationen\n",
      "erzeugt wie bei Anwendung auf (3). \\\\\n",
      "\n",
      "Zeigen Sie:\n",
      "Ein explizites, $s$-stufiges Runge-Kutte-Verfahren ist genau dann invariant gegenüber Autonomisierung, wenn gilt\n",
      "c_j =\n",
      "X\n",
      "j-1\n",
      "i=1\n",
      "a_{ji}, j = 1, \\ldots, s.\n",
      "(4)\n",
      "\n"
     ]
    }
   ],
   "source": [
    "with open('' + 'input' + '.tex', 'r') as pdf:\n",
    "    raw = pdf.read()\n",
    "    print(raw)\n",
    "    print(\"\")\n",
    "    print(\"----------------------------------------------------------------\")\n",
    "    print(\"\")\n",
    "\n",
    "    umlaute = {'¨a': 'ä', '¨o': 'ö', '¨u': 'ü'}\n",
    "    misc = {'. ': '.\\n', 'gegenuber ¨\\n': 'gegenüber ', 'fur': 'für', ' ¨ ': ' ', 'd.h.\\n': 'd.h. ', '\\nZeigen Sie: ': ' \\\\\\\\\\n\\nZeigen Sie:\\n', '\\n1\\n': '\\n'}\n",
    "    math = {'\\n0\\n': '^\\prime', '.\\n.\\n.\\n': '\\ldots', 't0': 't_0', 'y0': 'y_0', 'Y0': 'Y_0', 'cj': 'c_j', ')>': ')^T', ')\\n>\\n': ')^T ', 'Y (': 'Y(', ' ? ': ' \\in ', ' s-': ' $s$-', ' Y ': ' $Y$ ', 'aji': 'a_{ji}', ' f ': ' $f$ '}\n",
    "\n",
    "    quote_position = 0\n",
    "    while quote_position < len(raw):\n",
    "        if raw[quote_position] != '”':\n",
    "            quote_position += 1\n",
    "        else:\n",
    "            backwards = quote_position\n",
    "            while raw[backwards] != ',':\n",
    "                backwards -= 1\n",
    "            raw = raw.replace(raw[backwards-1:quote_position+1:], '\\Quote{' + raw[backwards+1:quote_position:] + '}')\n",
    "            quote_position = 0        \n",
    "\n",
    "    substitutions = dict(list(umlaute.items()) + list(misc.items()) + list(math.items()))\n",
    "\n",
    "    for key, value in substitutions.items():\n",
    "        raw = raw.replace(key, value)\n",
    "\n",
    "    print(raw)\n",
    "    print(\"\")\n",
    "\n",
    "with open('output' + '.tex', 'w') as latex:\n",
    "    latex.write(raw)"
   ]
  },
  {
   "cell_type": "code",
   "execution_count": null,
   "metadata": {},
   "outputs": [],
   "source": []
  }
 ],
 "metadata": {
  "kernelspec": {
   "display_name": "Python 3",
   "language": "python",
   "name": "python3"
  },
  "language_info": {
   "codemirror_mode": {
    "name": "ipython",
    "version": 3
   },
   "file_extension": ".py",
   "mimetype": "text/x-python",
   "name": "python",
   "nbconvert_exporter": "python",
   "pygments_lexer": "ipython3",
   "version": "3.7.4"
  }
 },
 "nbformat": 4,
 "nbformat_minor": 2
}
