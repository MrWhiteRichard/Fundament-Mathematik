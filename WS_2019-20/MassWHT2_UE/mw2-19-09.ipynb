{
 "cells": [
  {
   "cell_type": "code",
   "execution_count": 1,
   "metadata": {},
   "outputs": [
    {
     "name": "stdout",
     "output_type": "stream",
     "text": [
      "1000\n"
     ]
    },
    {
     "data": {
      "text/plain": [
       "<Figure size 640x480 with 2 Axes>"
      ]
     },
     "metadata": {},
     "output_type": "display_data"
    },
    {
     "data": {
      "text/plain": [
       "<Figure size 640x480 with 4 Axes>"
      ]
     },
     "metadata": {},
     "output_type": "display_data"
    }
   ],
   "source": [
    "import numpy as np\n",
    "import matplotlib.pyplot as plt\n",
    "\n",
    "x = [i for i in range(1000)]\n",
    "y = np.random.uniform(-1, 1, 1000)\n",
    "m = [np.mean(y[:i+1]) for i in range(len(y))]\n",
    "fig, (ax1, ax2) = plt.subplots(2,1)\n",
    "fig.suptitle(\"Gleichverteilung\")\n",
    "ax1.scatter(x,y, c = \"red\", marker = \"x\", linewidth = 0.5)\n",
    "ax1.plot(m, label= \"Mittelwert\")\n",
    "ax1.legend()\n",
    "ax2.hist(y,20)\n",
    "\n",
    "\n",
    "fig2, ((ax21, ax22), (ax23, ax24)) = plt.subplots(2,2)\n",
    "\n",
    "x2 = np.random.uniform(0,1,1000)\n",
    "y2 = np.tan((x2-1/2)*np.pi)\n",
    "print(len(y2))\n",
    "m2 = [np.mean(y2[:i+1]) for i in range(len(y2))]\n",
    "a= max(abs(y2))\n",
    "ax21.scatter(x,y2, c = \"red\", marker = \"x\", linewidth = 0.5)\n",
    "ax21.plot(m2, label= \"Mittelwert\")\n",
    "fig2.suptitle(\"Cauchyverteilung\")\n",
    "ax21.legend()\n",
    "ax22.hist(y2,1000)\n",
    "ax23.scatter(x,y2, c = \"red\", marker = \"x\", linewidth = 0.5)\n",
    "ax23.plot(m2, label= \"Mittelwert\")\n",
    "ax23.set_ylim([-10,10])\n",
    "ax24.hist(y2,int(a)*10)\n",
    "ax24.set_xlim([-10,10])\n",
    "plt.show()"
   ]
  }
 ],
 "metadata": {
  "kernelspec": {
   "display_name": "Python 3",
   "language": "python",
   "name": "python3"
  },
  "language_info": {
   "codemirror_mode": {
    "name": "ipython",
    "version": 3
   },
   "file_extension": ".py",
   "mimetype": "text/x-python",
   "name": "python",
   "nbconvert_exporter": "python",
   "pygments_lexer": "ipython3",
   "version": "3.7.3"
  }
 },
 "nbformat": 4,
 "nbformat_minor": 2
}
