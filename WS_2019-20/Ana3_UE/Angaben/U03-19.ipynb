{
 "cells": [
  {
   "cell_type": "markdown",
   "metadata": {},
   "source": [
    "24. Bestimmen Sie jenes Polynom 3. Grades das bezüglich des Skalarporduktes des vorherigen Beispiels minimalen mittlenern quardatischen Abstand zu $f(x) = e^x$ hat, d.h. jenes Polynom $p$ für das $\\int_{-1}^1 |f(x) - p(x)|^2 dx$ minimal is."
   ]
  },
  {
   "cell_type": "code",
   "execution_count": 1,
   "metadata": {},
   "outputs": [],
   "source": [
    "from sympy import *"
   ]
  },
  {
   "cell_type": "code",
   "execution_count": 2,
   "metadata": {},
   "outputs": [
    {
     "data": {
      "text/latex": [
       "$\\displaystyle - \\frac{175 e x^{3}}{4} + \\frac{1295 x^{3}}{4 e} - \\frac{14 x^{2}}{3 e} + \\frac{2 e x^{2}}{3} - \\frac{765 x}{4 e} + \\frac{105 e x}{4} + \\frac{5}{9 e} + \\frac{7 e}{9}$"
      ],
      "text/plain": [
       "-175*E*x**3/4 + 1295*x**3*exp(-1)/4 - 14*x**2*exp(-1)/3 + 2*E*x**2/3 - 765*x*exp(-1)/4 + 105*E*x/4 + 5*exp(-1)/9 + 7*E/9"
      ]
     },
     "metadata": {},
     "output_type": "display_data"
    }
   ],
   "source": [
    "x = Symbol('x')\n",
    "\n",
    "p = 0\n",
    "\n",
    "p += integrate(exp(x)                               , (x, -1, 1))\n",
    "p += integrate(exp(x) *  x                          , (x, -1, 1)) * Rational('3/2')   *  x\n",
    "p += integrate(exp(x) * (x**2 - Rational('1/3'))    , (x, -1, 1))                     * (x**2 - Rational('1/3')    )\n",
    "p += integrate(exp(x) * (x**3 - Rational('3/5') * x), (x, -1, 1)) * Rational('175/8') * (x**3 - Rational('3/5') * x)\n",
    "\n",
    "p = expand(p)\n",
    "\n",
    "display(p)"
   ]
  }
 ],
 "metadata": {
  "kernelspec": {
   "display_name": "Python 3",
   "language": "python",
   "name": "python3"
  },
  "language_info": {
   "codemirror_mode": {
    "name": "ipython",
    "version": 3
   },
   "file_extension": ".py",
   "mimetype": "text/x-python",
   "name": "python",
   "nbconvert_exporter": "python",
   "pygments_lexer": "ipython3",
   "version": "3.7.3"
  }
 },
 "nbformat": 4,
 "nbformat_minor": 2
}
