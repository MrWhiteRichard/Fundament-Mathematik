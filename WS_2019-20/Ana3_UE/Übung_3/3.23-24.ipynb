{
 "metadata": {
  "language_info": {
   "codemirror_mode": {
    "name": "ipython",
    "version": 3
   },
   "file_extension": ".py",
   "mimetype": "text/x-python",
   "name": "python",
   "nbconvert_exporter": "python",
   "pygments_lexer": "ipython3",
   "version": "3.7.0-final"
  },
  "orig_nbformat": 2,
  "kernelspec": {
   "name": "python3",
   "display_name": "Python 3",
   "language": "python"
  }
 },
 "nbformat": 4,
 "nbformat_minor": 2,
 "cells": [
  {
   "cell_type": "code",
   "execution_count": 1,
   "metadata": {},
   "outputs": [],
   "source": [
    "import sympy as sp"
   ]
  },
  {
   "cell_type": "code",
   "execution_count": 2,
   "metadata": {},
   "outputs": [],
   "source": [
    "def gram_schmidt(scalar_product, norm, a):\n",
    "\n",
    "    n = len(a)\n",
    "\n",
    "    c = [None] * n\n",
    "    b = [None] * n\n",
    "\n",
    "    b[0] = a[0] / norm(a[0])\n",
    "\n",
    "    for k in range(n-1):\n",
    "\n",
    "        c[k+1] = a[k+1] - sum([\n",
    "            scalar_product(b[i], a[k+1]) * b[i]\n",
    "            for i in range(k+1)\n",
    "        ])\n",
    "\n",
    "        b[k+1] = sp.simplify(\n",
    "            c[k+1] / norm(c[k+1])\n",
    "        )\n",
    "\n",
    "    return b"
   ]
  },
  {
   "cell_type": "code",
   "execution_count": 3,
   "metadata": {},
   "outputs": [
    {
     "output_type": "stream",
     "name": "stdout",
     "text": [
      "# ---------------------------------------------------------------- # \n\np[0] =\n"
     ]
    },
    {
     "output_type": "display_data",
     "data": {
      "text/plain": "sqrt(2)/2",
      "text/latex": "$\\displaystyle \\frac{\\sqrt{2}}{2}$"
     },
     "metadata": {}
    },
    {
     "output_type": "stream",
     "name": "stdout",
     "text": [
      "p[1] =\n"
     ]
    },
    {
     "output_type": "display_data",
     "data": {
      "text/plain": "sqrt(6)*x/2",
      "text/latex": "$\\displaystyle \\frac{\\sqrt{6} x}{2}$"
     },
     "metadata": {}
    },
    {
     "output_type": "stream",
     "name": "stdout",
     "text": [
      "p[2] =\n"
     ]
    },
    {
     "output_type": "display_data",
     "data": {
      "text/plain": "3*sqrt(10)*x**2/4 - sqrt(10)/4",
      "text/latex": "$\\displaystyle \\frac{3 \\sqrt{10} x^{2}}{4} - \\frac{\\sqrt{10}}{4}$"
     },
     "metadata": {}
    },
    {
     "output_type": "stream",
     "name": "stdout",
     "text": [
      "p[3] =\n"
     ]
    },
    {
     "output_type": "display_data",
     "data": {
      "text/plain": "5*sqrt(14)*x**3/4 - 3*sqrt(14)*x/4",
      "text/latex": "$\\displaystyle \\frac{5 \\sqrt{14} x^{3}}{4} - \\frac{3 \\sqrt{14} x}{4}$"
     },
     "metadata": {}
    },
    {
     "output_type": "stream",
     "name": "stdout",
     "text": [
      "p[4] =\n"
     ]
    },
    {
     "output_type": "display_data",
     "data": {
      "text/plain": "105*sqrt(2)*x**4/16 - 45*sqrt(2)*x**2/8 + 9*sqrt(2)/16",
      "text/latex": "$\\displaystyle \\frac{105 \\sqrt{2} x^{4}}{16} - \\frac{45 \\sqrt{2} x^{2}}{8} + \\frac{9 \\sqrt{2}}{16}$"
     },
     "metadata": {}
    },
    {
     "output_type": "stream",
     "name": "stdout",
     "text": [
      "# ---------------------------------------------------------------- # \n\n"
     ]
    },
    {
     "output_type": "display_data",
     "data": {
      "text/plain": "Matrix([\n[1, 0, 0, 0, 0],\n[0, 1, 0, 0, 0],\n[0, 0, 1, 0, 0],\n[0, 0, 0, 1, 0],\n[0, 0, 0, 0, 1]])",
      "text/latex": "$\\displaystyle \\left[\\begin{matrix}1 & 0 & 0 & 0 & 0\\\\0 & 1 & 0 & 0 & 0\\\\0 & 0 & 1 & 0 & 0\\\\0 & 0 & 0 & 1 & 0\\\\0 & 0 & 0 & 0 & 1\\end{matrix}\\right]$"
     },
     "metadata": {}
    },
    {
     "output_type": "stream",
     "name": "stdout",
     "text": [
      "# ---------------------------------------------------------------- # \n\n"
     ]
    }
   ],
   "source": [
    "x = sp.Symbol('x')\n",
    "\n",
    "rho = lambda x: 1\n",
    "a = 1\n",
    "\n",
    "scalar_product = lambda f, g: sp.integrate(\n",
    "    f * sp.conjugate(g),\n",
    "    (x, -a, a)\n",
    ")\n",
    "norm = lambda x: sp.sqrt(\n",
    "    scalar_product(x, x)\n",
    ")\n",
    "\n",
    "monomials = [\n",
    "    x ** k\n",
    "    for k in range(4+1)\n",
    "]\n",
    "\n",
    "orthonormal_polynomials = gram_schmidt(\n",
    "    scalar_product,\n",
    "    norm,\n",
    "    monomials\n",
    ")\n",
    "\n",
    "print('#', '-' * 64, '#', '\\n')\n",
    "\n",
    "for i, p in enumerate(orthonormal_polynomials):\n",
    "\n",
    "    print(f'p[{i}] =')\n",
    "    display(\n",
    "        sp.expand(p)\n",
    "    )\n",
    "\n",
    "print('#', '-' * 64, '#', '\\n')\n",
    "\n",
    "display(\n",
    "    sp.Matrix([\n",
    "        [\n",
    "            scalar_product(p, q)\n",
    "            for q in orthonormal_polynomials\n",
    "        ]\n",
    "        for p in orthonormal_polynomials\n",
    "    ])\n",
    ")\n",
    "\n",
    "print('#', '-' * 64, '#', '\\n')"
   ]
  },
  {
   "cell_type": "code",
   "execution_count": 11,
   "metadata": {},
   "outputs": [
    {
     "output_type": "execute_result",
     "data": {
      "text/plain": [
       "-175*E*x**3/4 + 1295*x**3*exp(-1)/4 - 105*x**2*exp(-1)/4 + 15*E*x**2/4 - 765*x*exp(-1)/4 + 105*E*x/4 - 3*E/4 + 33*exp(-1)/4"
      ],
      "text/latex": "$\\displaystyle - \\frac{175 e x^{3}}{4} + \\frac{1295 x^{3}}{4 e} - \\frac{105 x^{2}}{4 e} + \\frac{15 e x^{2}}{4} - \\frac{765 x}{4 e} + \\frac{105 e x}{4} - \\frac{3 e}{4} + \\frac{33}{4 e}$"
     },
     "metadata": {},
     "execution_count": 11
    }
   ],
   "source": [
    "sum([\n",
    "    scalar_product(sp.exp(x), p) * p\n",
    "    for p in orthonormal_polynomials[:-1]\n",
    "]).expand()"
   ]
  }
 ]
}