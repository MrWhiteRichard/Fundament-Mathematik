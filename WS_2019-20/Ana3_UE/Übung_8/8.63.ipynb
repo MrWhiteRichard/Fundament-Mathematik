{
 "metadata": {
  "language_info": {
   "codemirror_mode": {
    "name": "ipython",
    "version": 3
   },
   "file_extension": ".py",
   "mimetype": "text/x-python",
   "name": "python",
   "nbconvert_exporter": "python",
   "pygments_lexer": "ipython3",
   "version": "3.7.0-final"
  },
  "orig_nbformat": 2,
  "kernelspec": {
   "name": "python3",
   "display_name": "Python 3",
   "language": "python"
  }
 },
 "nbformat": 4,
 "nbformat_minor": 2,
 "cells": [
  {
   "cell_type": "code",
   "execution_count": 1,
   "metadata": {},
   "outputs": [],
   "source": [
    "import sympy as sp"
   ]
  },
  {
   "cell_type": "code",
   "execution_count": 4,
   "metadata": {},
   "outputs": [],
   "source": [
    "x, y, z = sp.symbols('x y z')\n",
    "R = sp.Symbol('R')"
   ]
  },
  {
   "cell_type": "code",
   "execution_count": 6,
   "metadata": {},
   "outputs": [
    {
     "output_type": "display_data",
     "data": {
      "text/plain": "sqrt(z**2 + (R - sqrt(x**2 + y**2))**2)",
      "text/latex": "$\\displaystyle \\sqrt{z^{2} + \\left(R - \\sqrt{x^{2} + y^{2}}\\right)^{2}}$"
     },
     "metadata": {}
    }
   ],
   "source": [
    "f = sp.sqrt((R - sp.sqrt(x ** 2 + y ** 2)) ** 2 + z ** 2)\n",
    "display(f)"
   ]
  },
  {
   "cell_type": "code",
   "execution_count": 9,
   "metadata": {},
   "outputs": [
    {
     "output_type": "display_data",
     "data": {
      "text/plain": "-x*(R - sqrt(x**2 + y**2))/(sqrt(x**2 + y**2)*sqrt(z**2 + (R - sqrt(x**2 + y**2))**2))",
      "text/latex": "$\\displaystyle - \\frac{x \\left(R - \\sqrt{x^{2} + y^{2}}\\right)}{\\sqrt{x^{2} + y^{2}} \\sqrt{z^{2} + \\left(R - \\sqrt{x^{2} + y^{2}}\\right)^{2}}}$"
     },
     "metadata": {}
    },
    {
     "output_type": "display_data",
     "data": {
      "text/plain": "-y*(R - sqrt(x**2 + y**2))/(sqrt(x**2 + y**2)*sqrt(z**2 + (R - sqrt(x**2 + y**2))**2))",
      "text/latex": "$\\displaystyle - \\frac{y \\left(R - \\sqrt{x^{2} + y^{2}}\\right)}{\\sqrt{x^{2} + y^{2}} \\sqrt{z^{2} + \\left(R - \\sqrt{x^{2} + y^{2}}\\right)^{2}}}$"
     },
     "metadata": {}
    },
    {
     "output_type": "display_data",
     "data": {
      "text/plain": "z/sqrt(z**2 + (R - sqrt(x**2 + y**2))**2)",
      "text/latex": "$\\displaystyle \\frac{z}{\\sqrt{z^{2} + \\left(R - \\sqrt{x^{2} + y^{2}}\\right)^{2}}}$"
     },
     "metadata": {}
    }
   ],
   "source": [
    "f_x = f.diff(x)\n",
    "display(f_x)\n",
    "\n",
    "f_y = f.diff(y)\n",
    "display(f_y)\n",
    "\n",
    "f_z = f.diff(z)\n",
    "display(f_z)"
   ]
  },
  {
   "cell_type": "code",
   "execution_count": 8,
   "metadata": {},
   "outputs": [
    {
     "output_type": "execute_result",
     "data": {
      "text/plain": [
       "1"
      ],
      "text/latex": "$\\displaystyle 1$"
     },
     "metadata": {},
     "execution_count": 8
    }
   ],
   "source": [
    "sp.simplify(f_x ** 2 + f_y ** 2 + f_z ** 2)"
   ]
  }
 ]
}