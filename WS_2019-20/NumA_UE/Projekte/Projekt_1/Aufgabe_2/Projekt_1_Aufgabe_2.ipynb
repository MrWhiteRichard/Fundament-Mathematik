{
 "cells": [
  {
   "cell_type": "code",
   "execution_count": 1,
   "metadata": {},
   "outputs": [],
   "source": [
    "import sympy as sp\n",
    "import numpy as np\n",
    "import matplotlib.pyplot as plt\n",
    "import pandas as pd\n",
    "\n",
    "from timeit import default_timer as timer"
   ]
  },
  {
   "cell_type": "code",
   "execution_count": 2,
   "metadata": {},
   "outputs": [],
   "source": [
    "# returns i-th lagrange basis polynomial at t via interpolation points x\n",
    "def L(i, t, x):\n",
    "    n = len(x) - 1\n",
    "    dummy = 1\n",
    "\n",
    "    for j in range(n+1):\n",
    "        if j != i:\n",
    "            dummy *= (t - x[j])/(x[i] - x[j])\n",
    "\n",
    "    return dummy\n",
    "\n",
    "# calculates closed newton-cotes formula of order n on interval [a, b]\n",
    "def Q(n):\n",
    "    a, b = sp.symbols('a b')\n",
    "    t = sp.Symbol('t')\n",
    "\n",
    "    h = (b - a)/n\n",
    "    x = [a + h*i for i in range(n+1)]\n",
    "\n",
    "    # y_i = f(x_i)\n",
    "    y = sp.IndexedBase('y')\n",
    "    y = [y[i] for i in range(n+1)]\n",
    "\n",
    "    dummy = 0\n",
    "\n",
    "    for i in range(n+1):\n",
    "        weight = sp.integrate(L(i, t, x), (t, a, b))\n",
    "        weight = sp.factor(weight)\n",
    "\n",
    "        dummy += weight * y[i]\n",
    "\n",
    "    return sp.factor(dummy)"
   ]
  },
  {
   "cell_type": "code",
   "execution_count": 3,
   "metadata": {},
   "outputs": [
    {
     "data": {
      "text/plain": [
       "'Q_0 = '"
      ]
     },
     "metadata": {},
     "output_type": "display_data"
    },
    {
     "data": {
      "text/latex": [
       "$\\displaystyle - \\left(a - b\\right) {y}_{0}$"
      ],
      "text/plain": [
       "-(a - b)*y[0]"
      ]
     },
     "metadata": {},
     "output_type": "display_data"
    },
    {
     "data": {
      "text/plain": [
       "'Q_1 = '"
      ]
     },
     "metadata": {},
     "output_type": "display_data"
    },
    {
     "data": {
      "text/latex": [
       "$\\displaystyle - \\frac{\\left(a - b\\right) \\left({y}_{0} + {y}_{1}\\right)}{2}$"
      ],
      "text/plain": [
       "-(a - b)*(y[0] + y[1])/2"
      ]
     },
     "metadata": {},
     "output_type": "display_data"
    },
    {
     "data": {
      "text/plain": [
       "'Q_2 = '"
      ]
     },
     "metadata": {},
     "output_type": "display_data"
    },
    {
     "data": {
      "text/latex": [
       "$\\displaystyle - \\frac{\\left(a - b\\right) \\left({y}_{0} + 4 {y}_{1} + {y}_{2}\\right)}{6}$"
      ],
      "text/plain": [
       "-(a - b)*(y[0] + 4*y[1] + y[2])/6"
      ]
     },
     "metadata": {},
     "output_type": "display_data"
    },
    {
     "data": {
      "text/plain": [
       "'Q_3 = '"
      ]
     },
     "metadata": {},
     "output_type": "display_data"
    },
    {
     "data": {
      "text/latex": [
       "$\\displaystyle - \\frac{\\left(a - b\\right) \\left({y}_{0} + 3 {y}_{1} + 3 {y}_{2} + {y}_{3}\\right)}{8}$"
      ],
      "text/plain": [
       "-(a - b)*(y[0] + 3*y[1] + 3*y[2] + y[3])/8"
      ]
     },
     "metadata": {},
     "output_type": "display_data"
    },
    {
     "data": {
      "text/plain": [
       "'Q_4 = '"
      ]
     },
     "metadata": {},
     "output_type": "display_data"
    },
    {
     "data": {
      "text/latex": [
       "$\\displaystyle - \\frac{\\left(a - b\\right) \\left(7 {y}_{0} + 32 {y}_{1} + 12 {y}_{2} + 32 {y}_{3} + 7 {y}_{4}\\right)}{90}$"
      ],
      "text/plain": [
       "-(a - b)*(7*y[0] + 32*y[1] + 12*y[2] + 32*y[3] + 7*y[4])/90"
      ]
     },
     "metadata": {},
     "output_type": "display_data"
    }
   ],
   "source": [
    "n = 4\n",
    "\n",
    "for i in range(n+1):\n",
    "    name  = \"Q_{} = \".format(i)\n",
    "    value = Q(i)\n",
    "    \n",
    "    display(name, value)"
   ]
  },
  {
   "cell_type": "code",
   "execution_count": 4,
   "metadata": {},
   "outputs": [],
   "source": [
    "# ---------------------------------------------------------------- #\n",
    "\n",
    "# integrates f on [a, b] via trapezium rule with equidistant nodes of distance h\n",
    "def Q_1(h, f, a, b):\n",
    "    n = (b-a)/h\n",
    "    n = int(n)\n",
    "    x = np.linspace(a, b, n+1)\n",
    "\n",
    "    S_11 = f(a)\n",
    "    S_12 = np.sum(f(x[1:n]))\n",
    "    S_13 = f(b)\n",
    "\n",
    "    return h/2 * (S_11 + 2*S_12 + S_13)\n",
    "\n",
    "# ---------------------------------------------------------------- #\n",
    "\n",
    "# integrates f on [a, b] via simpson's rule with equidistant nodes of distance h\n",
    "def Q_2(h, f, a, b):\n",
    "    n = (b-a)/h\n",
    "    n = int(n)\n",
    "    x = np.linspace(a, b, n+1)\n",
    "\n",
    "    S_11 = f(a)\n",
    "    S_12 = np.sum(f(x[1:n]))\n",
    "    S_13 = f(b)\n",
    "    S_2  = np.sum(f((x[0:n] + x[1:n+1])/2))\n",
    "\n",
    "    return h/6 * (S_11 + 4*S_2 + 2*S_12 + S_13)\n",
    "\n",
    "# ---------------------------------------------------------------- #\n",
    "\n",
    "# integrates f on [a, b] via mile's rule with equidistant nodes of distance h\n",
    "def Q_4(h, f, a, b):\n",
    "    n = (b-a)/h\n",
    "    n = int(n)\n",
    "    x = np.linspace(a, b, n+1)\n",
    "\n",
    "    S_11 = f(a)\n",
    "    S_12 = np.sum(f(x[1:n]))\n",
    "    S_13 = f(b)\n",
    "    S_2  = np.sum(f((x[0:n] + x[1:n+1])/2))\n",
    "    S_41 = np.sum(f((3*x[0:n] + x[1:n+1])/4))\n",
    "    S_42 = np.sum(f((x[0:n] + 3*x[1:n+1])/4))\n",
    "\n",
    "    return h/90 * (7*S_11 + 32*S_41 + 12*S_2 + 14*S_12 + 32*S_42 + 7*S_13)\n",
    "\n",
    "# ---------------------------------------------------------------- #\n",
    "\n",
    "# returns summated quadrature formula of order m\n",
    "def Q(m):\n",
    "    if m == 1:\n",
    "        return Q_1\n",
    "    if m == 2:\n",
    "        return Q_2\n",
    "    if m == 4:\n",
    "        return Q_4\n",
    "\n",
    "# ---------------------------------------------------------------- #"
   ]
  },
  {
   "cell_type": "code",
   "execution_count": 5,
   "metadata": {},
   "outputs": [],
   "source": [
    "# ---------------------------------------------------------------- #\n",
    "\n",
    "# inefficient implementation (with recursion)\n",
    "\n",
    "def richardson_extrapolation_1(h_0, f, a, b, r):\n",
    "    return recursion(h_0, f, a, b, 0, r)\n",
    "\n",
    "def recursion(h_0, f, a, b, j, i):\n",
    "    h_j = h_0/2**j\n",
    "\n",
    "    if i == 0:\n",
    "        return Q_1(h_j, f, a, b)\n",
    "\n",
    "    else:\n",
    "        tmp_1 = recursion(h_0, f, a, b, j,   i-1)\n",
    "        tmp_2 = recursion(h_0, f, a, b, j+1, i-1)\n",
    "\n",
    "        return tmp_1 + (tmp_1 - tmp_2)/(1/2**(i*2) - 1)\n",
    "\n",
    "# ---------------------------------------------------------------- #\n",
    "\n",
    "# efficient implementation (with loops)\n",
    "\n",
    "def richardson_extrapolation_2(h_0, f, a, b, r):\n",
    "    A = np.zeros((r+1, r+1))\n",
    "\n",
    "    A[0,0] = Q_1(h_0, f, a, b)\n",
    "\n",
    "    for j in range(r):\n",
    "        h_j = h_0/2**j\n",
    "        n_j = int((b-a)/h_j)\n",
    "        x = np.linspace(a, b, n_j+1)\n",
    "\n",
    "        A[j+1, 0] = 1/2 * (A[j, 0] + h_j * np.sum(f((x[0:n_j] + x[1:n_j+1])/2)))\n",
    "\n",
    "    for i in range(1, r+1):\n",
    "        for j in range(r+1-i):\n",
    "            A[j, i] = A[j, i-1] + (A[j, i-1] - A[j+1, i-1])/(1/2**(i*2) - 1)\n",
    "\n",
    "    return A[0, -1]\n",
    "\n",
    "# ---------------------------------------------------------------- #\n",
    "\n",
    "# returns summated quadrature formula of order m\n",
    "def Q(m):\n",
    "    r = np.log2(m)\n",
    "    r = int(r)\n",
    "\n",
    "    def dummy(h_0, f, a, b):\n",
    "        return richardson_extrapolation_2(h_0, f, a, b, r)\n",
    "\n",
    "    return dummy\n",
    "\n",
    "# ---------------------------------------------------------------- #"
   ]
  },
  {
   "cell_type": "code",
   "execution_count": 6,
   "metadata": {},
   "outputs": [],
   "source": [
    "# functions .............. vector                         of functions\n",
    "# indefinite_integrals ... vector of indefinite integrals of functions\n",
    "# intervals .............. vector of intervals            of functions\n",
    "# names .................. matrix of names                of functions times intervals times quadrature types\n",
    "\n",
    "# quadrature_types ... array of types of summated quadrature formula:\n",
    "# 1 ... trapezium,\n",
    "# 2 ... simpson,\n",
    "# 4 ... mile;\n",
    "\n",
    "# with_references ... array of bools whether quadrature_types should have references\n",
    "\n",
    "# n_max + 1 ... maximum number of quadrature knots\n",
    "\n",
    "# ---------------------------------------------------------------- #\n",
    "\n",
    "# plots quratrature error vs. distance between quadrature knots\n",
    "def plot_1(functions, indefinite_integrals, intervals, names, quadrature_types, with_references, n_max):\n",
    "    plt.figure()\n",
    "\n",
    "    legend = []\n",
    "\n",
    "    for m, with_reference in zip(quadrature_types, with_references):\n",
    "        for a, b in intervals:\n",
    "            # array of distances between quadrature knots\n",
    "            H = (b-a)/np.array(range(1, n_max+1))\n",
    "\n",
    "            for f, F in zip(functions, indefinite_integrals):\n",
    "                # quadrature result and definite integral\n",
    "                approximate = np.array([Q(m)(h, f, a, b) for h in H])\n",
    "                exact       = F(b) - F(a)\n",
    "                # quadrature error\n",
    "                error = abs(exact - approximate)\n",
    "\n",
    "                plt.loglog(H, error, 'o-')\n",
    "\n",
    "        for name_space in names:\n",
    "            for name in name_space:\n",
    "                legend += [\"$\\epsilon_\\cdot^{}(\".format(m) + name + \")$\"]\n",
    "\n",
    "        if with_reference:\n",
    "            # convergence speed factor\n",
    "            p = 2*int(np.log2(m) + 1)\n",
    "            # convergence speed reference\n",
    "            reference = H**p\n",
    "\n",
    "            plt.loglog(H, reference)\n",
    "\n",
    "            legend += [\"id$^{{-{}}}$\".format(p)]\n",
    "\n",
    "    plt.legend((*legend,))\n",
    "    plt.grid(linestyle = ':')\n",
    "    plt.show()\n",
    "\n",
    "# ---------------------------------------------------------------- #\n",
    "\n",
    "# r_max ... maximal extrapolation degree of summated trapezium rule\n",
    "# k_max ... maximal index in romberg sequence\n",
    "\n",
    "# plots quratrature error vs. number of function evaluations\n",
    "def plot_2(function, indefinite_integral, interval, name, r_max, k_max):\n",
    "    fig, ax = plt.subplots()\n",
    "\n",
    "    legend = []\n",
    "\n",
    "    f = function\n",
    "    F = indefinite_integral\n",
    "\n",
    "    a = interval[0]\n",
    "    b = interval[1]\n",
    "\n",
    "    for r in range(r_max+1):\n",
    "        m = 2**r\n",
    "\n",
    "        # array of number of quadrature knots + 1\n",
    "        n = 2**np.array(range(k_max+1))\n",
    "        # array of distances between quadrature knots\n",
    "        h = (b-a)/n\n",
    "\n",
    "        # array of number of function evaluations\n",
    "        cost = n*m + 1\n",
    "\n",
    "        # quadrature result and definite integral\n",
    "        approximate = np.array([Q(m)(h[k], f, a, b) for k in range(k_max+1)])\n",
    "        exact       = F(b) - F(a)\n",
    "        # quadrature error\n",
    "        error = abs(exact - approximate)\n",
    "\n",
    "        plt.loglog(cost, error, 'o-')\n",
    "\n",
    "        legend += [\"$m = 2^{}$\".format(r)]\n",
    "\n",
    "    ax.set_xlabel(\"$\\# Q_h^m$\")\n",
    "    ax.set_ylabel(\"$\\epsilon_h^m(\" + name + \")$\")\n",
    "\n",
    "    plt.legend((*legend,))\n",
    "    plt.grid(linestyle = ':')\n",
    "    plt.show()\n",
    "\n",
    "# ---------------------------------------------------------------- #"
   ]
  },
  {
   "cell_type": "code",
   "execution_count": 7,
   "metadata": {},
   "outputs": [],
   "source": [
    "# ---------------------------------------------------------------- #\n",
    "\n",
    "def g(k):\n",
    "    def dummy(x):\n",
    "        return np.sqrt(x)**k\n",
    "\n",
    "    return dummy\n",
    "\n",
    "def G(k):\n",
    "    def dummy(x):\n",
    "        return 2/(k+2) * np.sqrt(x)**(k+2)\n",
    "    \n",
    "    return dummy\n",
    "\n",
    "# ---------------------------------------------------------------- #\n",
    "\n",
    "def f(x):\n",
    "    return np.sin(np.pi * x)\n",
    "\n",
    "def F(x):\n",
    "    return -np.cos(np.pi * x)/np.pi\n",
    "\n",
    "# ---------------------------------------------------------------- #"
   ]
  },
  {
   "cell_type": "code",
   "execution_count": 8,
   "metadata": {},
   "outputs": [
    {
     "data": {
      "image/png": "[encoded data removed]",
      "text/plain": [
       "<Figure size 432x288 with 1 Axes>"
      ]
     },
     "metadata": {
      "needs_background": "light"
     },
     "output_type": "display_data"
    }
   ],
   "source": [
    "a = 0\n",
    "b = 1\n",
    "\n",
    "k_max = 4\n",
    "indices = []\n",
    "for k in range(k_max+1):\n",
    "    if not k in [0, 2]:\n",
    "        indices += [k]\n",
    "\n",
    "functions            = [g(k)              for k in indices]\n",
    "indefinite_integrals = [G(k)              for k in indices]\n",
    "names                = [[\"g_{}\".format(k) for k in indices]]\n",
    "intervals            = [(a, b)]\n",
    "quadrature_types     = [1]\n",
    "with_references      = [True]\n",
    "n_max                = 16\n",
    "\n",
    "plot_1(functions, indefinite_integrals, intervals, names, quadrature_types, with_references, n_max)"
   ]
  },
  {
   "cell_type": "code",
   "execution_count": 9,
   "metadata": {},
   "outputs": [
    {
     "data": {
      "image/png": "[encoded data removed]",
      "text/plain": [
       "<Figure size 432x288 with 1 Axes>"
      ]
     },
     "metadata": {
      "needs_background": "light"
     },
     "output_type": "display_data"
    }
   ],
   "source": [
    "a = 0\n",
    "b = 3\n",
    "\n",
    "r_max = 3\n",
    "\n",
    "functions            = [f]\n",
    "indefinite_integrals = [F]\n",
    "intervals            = [(a, b)]\n",
    "names                = [\"f\"]\n",
    "quadrature_types     = [2**r for r in range(r_max+1)]\n",
    "with_references      = [False] * (r_max+1)\n",
    "n_max                = 16\n",
    "\n",
    "plot_1(functions, indefinite_integrals, intervals, names, quadrature_types, with_references, n_max)"
   ]
  },
  {
   "cell_type": "code",
   "execution_count": 10,
   "metadata": {},
   "outputs": [
    {
     "data": {
      "image/png": "[encoded data removed]",
      "text/plain": [
       "<Figure size 432x288 with 1 Axes>"
      ]
     },
     "metadata": {
      "needs_background": "light"
     },
     "output_type": "display_data"
    }
   ],
   "source": [
    "a = 1\n",
    "b = 2\n",
    "\n",
    "function            = g(1)\n",
    "indefinite_integral = G(1)\n",
    "interval            = (a, b)\n",
    "name                = \"g_1\"\n",
    "r_max               = 3\n",
    "k_max               = 16\n",
    "\n",
    "plot_2(function, indefinite_integral, interval, name, r_max, k_max)"
   ]
  },
  {
   "cell_type": "code",
   "execution_count": 11,
   "metadata": {},
   "outputs": [],
   "source": [
    "def time(h_0, f, a, b, r_max):\n",
    "    T = []\n",
    "\n",
    "    for r in range(r_max+1):\n",
    "        start = timer()\n",
    "        v_1 = richardson_extrapolation_1(h_0, f, a, b, r)\n",
    "        end = timer()\n",
    "        t_1 = end - start\n",
    "\n",
    "        start = timer()\n",
    "        v_2 = richardson_extrapolation_2(h_0, f, a, b, r)\n",
    "        end = timer()\n",
    "        t_2 = end - start\n",
    "\n",
    "        T += [[v_1, t_1, v_2, t_2]]\n",
    "\n",
    "    T = np.array(T)\n",
    "    T = pd.DataFrame(T)\n",
    "\n",
    "    return T"
   ]
  },
  {
   "cell_type": "code",
   "execution_count": 12,
   "metadata": {},
   "outputs": [],
   "source": [
    "def alien_1(x):\n",
    "    return np.exp(-x**2)\n",
    "\n",
    "def alien_2(x):\n",
    "    return np.sin(x)/x\n",
    "\n",
    "def alien_3(x):\n",
    "    return np.cos(x)/x"
   ]
  },
  {
   "cell_type": "code",
   "execution_count": 13,
   "metadata": {},
   "outputs": [
    {
     "name": "stdout",
     "output_type": "stream",
     "text": [
      "Extrapolation results and calculation times: \n",
      "\n",
      "                   0          1                 2          3\n",
      "0   0.68393972058572  0.0002587  0.68393972058572  0.0000706\n",
      "1   0.74718042890951  0.0001254  0.74718042890951  0.0000942\n",
      "2   0.74683370984975  0.0001729  0.74683370984975  0.0001290\n",
      "3   0.74682401848228  0.0003366  0.74682401848228  0.0002072\n",
      "4   0.74682413309509  0.0010272  0.74682413309509  0.0003538\n",
      "5   0.74682413281224  0.0013400  0.74682413281224  0.0002207\n",
      "6   0.74682413281243  0.0021929  0.74682413281243  0.0002596\n",
      "7   0.74682413281243  0.0044576  0.74682413281243  0.0002983\n",
      "8   0.74682413281243  0.0116581  0.74682413281243  0.0003493\n",
      "9   0.74682413281243  0.0198285  0.74682413281243  0.0005548\n",
      "10  0.74682413281243  0.0440120  0.74682413281243  0.0004480\n",
      "\n",
      " ---------------------------------------------------------------- \n",
      "\n",
      "Direct results: \n",
      "\n",
      "Q_1: 0.6839397205857212\n",
      "Q_2: 0.7471804289095104\n",
      "Q_4: 0.7468337098497525\n"
     ]
    }
   ],
   "source": [
    "h_0   = 1\n",
    "f     = alien_1\n",
    "a     = 0\n",
    "b     = 1\n",
    "r_max = 10\n",
    "\n",
    "digit = 14\n",
    "pd.set_option(\"display.precision\", digit)\n",
    "\n",
    "T = time(h_0, f, a, b, r_max)\n",
    "print(\"Extrapolation results and calculation times:\", \"\\n\")\n",
    "print(T)\n",
    "\n",
    "print(\"\\n\", \"----------------------------------------------------------------\", \"\\n\")\n",
    "\n",
    "print(\"Direct results:\", \"\\n\")\n",
    "print(\"Q_1:\", Q_1(h_0, f, a, b))\n",
    "print(\"Q_2:\", Q_2(h_0, f, a, b))\n",
    "print(\"Q_4:\", Q_4(h_0, f, a, b))"
   ]
  }
 ],
 "metadata": {
  "kernelspec": {
   "display_name": "Python 3",
   "language": "python",
   "name": "python3"
  },
  "language_info": {
   "codemirror_mode": {
    "name": "ipython",
    "version": 3
   },
   "file_extension": ".py",
   "mimetype": "text/x-python",
   "name": "python",
   "nbconvert_exporter": "python",
   "pygments_lexer": "ipython3",
   "version": "3.7.4"
  }
 },
 "nbformat": 4,
 "nbformat_minor": 2
}
