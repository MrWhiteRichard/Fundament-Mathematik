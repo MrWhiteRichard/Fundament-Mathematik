{
 "cells": [
  {
   "cell_type": "code",
   "execution_count": 1,
   "metadata": {},
   "outputs": [],
   "source": [
    "# D ... matrix with decimals (floats)\n",
    "# F ... matrix with fractions\n",
    "\n",
    "# takes matrix with decimals and returns matrix with fractions\n",
    "def decimal_to_fraction_matrices(D):\n",
    "    F = []\n",
    "\n",
    "    for i in range(D.shape[0]):\n",
    "        tmp = []\n",
    "        for j in range(D.shape[1]):\n",
    "            tmp += [D[i, j].as_integer_ratio()]\n",
    "\n",
    "        F += [tmp]\n",
    "\n",
    "    return np.array(F, dtype = [('numerator', 'i4'), ('denominator', 'i4')])"
   ]
  },
  {
   "cell_type": "markdown",
   "metadata": {},
   "source": [
    "**Aufgabe 37:**\n",
    "\n",
    "Sei $f: [0, 1] \\to \\mathbb{R}$ eine stetige Funktion und $Q(f) := \\int_0^1 \\frac{f(x)}{\\sqrt{x}} dx$. Berechnen Sie die Gewichte der offenen und geschlossenen Newton-Cotes Formeln mit $n = 0, 1, 2$ zur numerischen Approximation von $Q(f)$. Verwenden Sie dazu eine interpolatorische Quadraturformel der Form $Q_n(f) := \\int_0^1 \\frac{p_f(x)}{\\sqrt{x}} dx$, wobei $p_f \\in \\Pi_n$ das interpolierende Polynom zur Funktion $f$ ist."
   ]
  },
  {
   "cell_type": "code",
   "execution_count": 2,
   "metadata": {},
   "outputs": [
    {
     "name": "stdout",
     "output_type": "stream",
     "text": [
      "The weights will be printed as:\n",
      "alpha_(j, n)\n",
      "\n",
      "geschlossen:\n",
      "\n",
      "alpha_(0,0) = 2.0\n",
      "alpha_(0,1) = 1.3333333333333335\n",
      "alpha_(1,1) = 0.6666666666666666\n",
      "alpha_(0,2) = 0.7999999999999998\n",
      "alpha_(1,2) = 1.0666666666666667\n",
      "alpha_(2,2) = 0.13333333333333336\n",
      "\n",
      "offen:\n",
      "\n",
      "alpha_(0,0) = 2.0\n",
      "alpha_(0,1) = 2.0\n",
      "alpha_(1,1) = 0.0\n",
      "alpha_(0,2) = 2.5333333333333323\n",
      "alpha_(1,2) = -1.7333333333333343\n",
      "alpha_(2,2) = 1.2000000000000002\n"
     ]
    }
   ],
   "source": [
    "import numpy as np\n",
    "import sympy as sp\n",
    "\n",
    "def L(j, x, interpolation_points):\n",
    "    n = len(interpolation_points)\n",
    "    result = 1\n",
    "    \n",
    "    for i in range(n):\n",
    "        if i != j:\n",
    "            result *= (x - interpolation_points[i]) / (interpolation_points[j] - interpolation_points[i])\n",
    "    \n",
    "    return result\n",
    "\n",
    "def geschlossen(n, a, b):\n",
    "    h = (b-a)/n\n",
    "    return a + np.array(range(n+1), float)*h\n",
    "\n",
    "def offen(n, a, b):\n",
    "    h = (b-a)/(n+2)\n",
    "    return a + (np.array(range(n+1), float) + 1)*h\n",
    "\n",
    "def alpha(j, n, a, b, art):\n",
    "    interpolation_points = []\n",
    "    \n",
    "    if n != 0:\n",
    "        if art == 'geschlossen':\n",
    "            interpolation_points = geschlossen(n, a, b)\n",
    "        if art == 'offen':\n",
    "            interpolation_points = offen(n, a, b)\n",
    "    \n",
    "    x = sp.Symbol('x')\n",
    "\n",
    "    return sp.integrate(L(j, x, interpolation_points)/sp.sqrt(x), (x, a, b))\n",
    "\n",
    "a = 0\n",
    "b = 1\n",
    "\n",
    "alphas_1 = np.zeros((4, 4))\n",
    "alphas_2 = np.zeros((4, 4))\n",
    "\n",
    "print(\"The weights will be printed as:\")\n",
    "print(\"alpha_(j, n)\")\n",
    "\n",
    "print(\"\")\n",
    "\n",
    "art = 'geschlossen'\n",
    "print(art + \":\")\n",
    "print(\"\")\n",
    "\n",
    "for n in range(2+1):\n",
    "    for j in range(n+1):\n",
    "        alphas_1[j, n] = alpha(j, n, a, b, art)\n",
    "        print(\"alpha_({},{}) = {}\".format(j, n, alphas_1[j, n]))\n",
    "\n",
    "print(\"\")\n",
    "\n",
    "art = 'offen'\n",
    "print(art + \":\")\n",
    "print(\"\")\n",
    "\n",
    "for n in range(2+1):\n",
    "    for j in range(n+1):\n",
    "        alphas_2[j, n] = alpha(j, n, a, b, art)\n",
    "        print(\"alpha_({},{}) = {}\".format(j, n, alphas_2[j, n]))"
   ]
  },
  {
   "cell_type": "markdown",
   "metadata": {},
   "source": [
    "**Aufgabe 42:**\n",
    "\n",
    "Sei $A \\in \\mathbb{R}^{n \\times n}$ mit\n",
    "\n",
    "$$ A = \\begin{pmatrix}\n",
    "1      & 0      & \\cdots & 0      & 1      \\\\\n",
    "-1     & 1      & \\ddots & \\vdots & \\vdots \\\\\n",
    "\\vdots & \\ddots & \\ddots & 0      & \\vdots \\\\\n",
    "\\vdots &        & \\ddots & 1      & 1      \\\\\n",
    "-1     & \\cdots & \\cdots & -1     & 1      \\\\\n",
    "\\end{pmatrix}. $$\n",
    "\n",
    "Berechnen Sie $\\text{cond}_\\infty(A) = \\|A\\|_\\infty \\|A^{-1}\\|_\\infty$.\n"
   ]
  },
  {
   "cell_type": "code",
   "execution_count": 3,
   "metadata": {},
   "outputs": [
    {
     "data": {
      "text/plain": [
       "array([[( 1,  2), (-1,  4), (-1,  8), (-1, 16), (-1, 32), (-1, 32)],\n",
       "       [( 0,  1), ( 1,  2), (-1,  4), (-1,  8), (-1, 16), (-1, 16)],\n",
       "       [( 0,  1), ( 0,  1), ( 1,  2), (-1,  4), (-1,  8), (-1,  8)],\n",
       "       [( 0,  1), ( 0,  1), ( 0,  1), ( 1,  2), (-1,  4), (-1,  4)],\n",
       "       [( 0,  1), ( 0,  1), ( 0,  1), ( 0,  1), ( 1,  2), (-1,  2)],\n",
       "       [( 1,  2), ( 1,  4), ( 1,  8), ( 1, 16), ( 1, 32), ( 1, 32)]],\n",
       "      dtype=[('numerator', '<i4'), ('denominator', '<i4')])"
      ]
     },
     "metadata": {},
     "output_type": "display_data"
    }
   ],
   "source": [
    "import numpy as np\n",
    "\n",
    "def fancy_matrix(n):\n",
    "    A = np.eye(n)\n",
    "    \n",
    "    A[:, -1] = 1\n",
    "    \n",
    "    for j in range(n-1):\n",
    "        for i in range(j+1, n):\n",
    "            A[i, j] = -1\n",
    "    \n",
    "    return A\n",
    "\n",
    "def fancy_inverse(n):\n",
    "    A = fancy_matrix(n)\n",
    "    return np.linalg.inv(A)\n",
    "\n",
    "n = 6\n",
    "A = fancy_inverse(n)\n",
    "A = decimal_to_fraction_matrices(A)\n",
    "\n",
    "display(A)"
   ]
  }
 ],
 "metadata": {
  "kernelspec": {
   "display_name": "Python 3",
   "language": "python",
   "name": "python3"
  },
  "language_info": {
   "codemirror_mode": {
    "name": "ipython",
    "version": 3
   },
   "file_extension": ".py",
   "mimetype": "text/x-python",
   "name": "python",
   "nbconvert_exporter": "python",
   "pygments_lexer": "ipython3",
   "version": "3.7.3"
  }
 },
 "nbformat": 4,
 "nbformat_minor": 2
}
