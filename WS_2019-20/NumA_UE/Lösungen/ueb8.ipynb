{
 "cells": [
  {
   "cell_type": "markdown",
   "metadata": {},
   "source": [
    "**Aufgabe 45:**\n",
    "\n",
    "Seien $x_1, \\ldots, x_m$ paarweise verschiedene Stützstellen mit Stützwerten $y_1, \\dots, y_m$. Gesucht sei ein Polynom $p \\in \\Pi_n$ mit $n < m − 1$, sodass $\\sum_{j=0}^m |p(x_j) − y_j|^2$ minimal wird.\n",
    "\n",
    "**a)** Zeigen Sie mit Hilfe des Satzes 5.17, dass die Lösung $p \\in \\Pi_n$ des Ausgleichsproblems eindeutig ist. \\\n",
    "**b)** Stützstellen und Stützwerte seien gegeben durch\n",
    "\n",
    "$$ \\begin{array}{c | c | c | c | c | c}\n",
    "x_i & 0 &  1 & 2 & 3  & 4  & 5 \\\\\n",
    "\\hline\n",
    "y_i & 3 & −4 & 6 & 17 & 34 & 55\n",
    "\\end{array}. $$\n",
    "\n",
    "Berechnen Sie $p \\in \\Pi_2$, sodass $\\sum_{j=0}^6 |p(x_j) − y_j|^2$ minimal wird. Skizzieren Sie $p$ und die dazugehörigen Stützstellen und Stützwerte."
   ]
  },
  {
   "cell_type": "code",
   "execution_count": 1,
   "metadata": {},
   "outputs": [
    {
     "name": "stdout",
     "output_type": "stream",
     "text": [
      "A =\n",
      " [[ 1  0  0]\n",
      " [ 1  1  1]\n",
      " [ 1  2  4]\n",
      " [ 1  3  9]\n",
      " [ 1  4 16]\n",
      " [ 1  5 25]] \n",
      "\n",
      "lhs =\n",
      " [[  6  15  55]\n",
      " [ 15  55 225]\n",
      " [ 55 225 979]] \n",
      "\n",
      "rhs =\n",
      " [ 111  470 2092] \n",
      "\n",
      "z =\n",
      " [ 1. -4.  3.] \n",
      "\n"
     ]
    },
    {
     "ename": "ValueError",
     "evalue": "operands could not be broadcast together with shapes (50,) (6,) ",
     "output_type": "error",
     "traceback": [
      "\u001b[1;31m---------------------------------------------------------------------------\u001b[0m",
      "\u001b[1;31mValueError\u001b[0m                                Traceback (most recent call last)",
      "\u001b[1;32m<ipython-input-1-3563646a3222>\u001b[0m in \u001b[0;36m<module>\u001b[1;34m\u001b[0m\n\u001b[0;32m     31\u001b[0m \u001b[0mplt\u001b[0m\u001b[1;33m.\u001b[0m\u001b[0mplot\u001b[0m\u001b[1;33m(\u001b[0m\u001b[0mgrid\u001b[0m\u001b[1;33m,\u001b[0m \u001b[0mp\u001b[0m\u001b[1;33m(\u001b[0m\u001b[0mgrid\u001b[0m\u001b[1;33m,\u001b[0m \u001b[0mz\u001b[0m\u001b[1;33m)\u001b[0m\u001b[1;33m)\u001b[0m\u001b[1;33m\u001b[0m\u001b[1;33m\u001b[0m\u001b[0m\n\u001b[0;32m     32\u001b[0m \u001b[0mplt\u001b[0m\u001b[1;33m.\u001b[0m\u001b[0mplot\u001b[0m\u001b[1;33m(\u001b[0m\u001b[0mx\u001b[0m\u001b[1;33m,\u001b[0m \u001b[0my\u001b[0m\u001b[1;33m)\u001b[0m\u001b[1;33m\u001b[0m\u001b[1;33m\u001b[0m\u001b[0m\n\u001b[1;32m---> 33\u001b[1;33m \u001b[0mplt\u001b[0m\u001b[1;33m.\u001b[0m\u001b[0mplot\u001b[0m\u001b[1;33m(\u001b[0m\u001b[0mgrid\u001b[0m \u001b[1;33m-\u001b[0m \u001b[0mx\u001b[0m\u001b[1;33m,\u001b[0m \u001b[0mp\u001b[0m\u001b[1;33m(\u001b[0m\u001b[0mgrid\u001b[0m\u001b[1;33m,\u001b[0m \u001b[0mz\u001b[0m\u001b[1;33m)\u001b[0m \u001b[1;33m-\u001b[0m \u001b[0my\u001b[0m\u001b[1;33m)\u001b[0m\u001b[1;33m\u001b[0m\u001b[1;33m\u001b[0m\u001b[0m\n\u001b[0m\u001b[0;32m     34\u001b[0m \u001b[1;33m\u001b[0m\u001b[0m\n\u001b[0;32m     35\u001b[0m \u001b[0mplt\u001b[0m\u001b[1;33m.\u001b[0m\u001b[0mgrid\u001b[0m\u001b[1;33m(\u001b[0m\u001b[0mlinestyle\u001b[0m \u001b[1;33m=\u001b[0m \u001b[1;34m':'\u001b[0m\u001b[1;33m)\u001b[0m\u001b[1;33m\u001b[0m\u001b[1;33m\u001b[0m\u001b[0m\n",
      "\u001b[1;31mValueError\u001b[0m: operands could not be broadcast together with shapes (50,) (6,) "
     ]
    }
   ],
   "source": [
    "import numpy as np\n",
    "import matplotlib.pyplot as plt\n",
    "\n",
    "x = np.array([0,  1, 2,  3,  4, 5 ])\n",
    "y = np.array([3, -4, 6, 17, 34, 55])\n",
    "\n",
    "A = np.fromfunction(lambda i, j: x[i]**j, (6, 3), dtype = int)\n",
    "print(\"A =\\n\", A, \"\\n\")\n",
    "\n",
    "lhs = A.transpose() @ A\n",
    "print(\"lhs =\\n\", lhs, \"\\n\")\n",
    "\n",
    "rhs = A.transpose() @ y\n",
    "print(\"rhs =\\n\", rhs, \"\\n\")\n",
    "\n",
    "z = np.linalg.solve(lhs, rhs)\n",
    "print(\"z =\\n\", z, \"\\n\")\n",
    "\n",
    "def p(val, coeff):\n",
    "    n = len(coeff)\n",
    "    tmp = 0\n",
    "\n",
    "    for i in range(n):\n",
    "        tmp += coeff[i] * val**i\n",
    "\n",
    "    return tmp\n",
    "\n",
    "dt = 0.1\n",
    "grid = np.arange(0, 5, dt)\n",
    "\n",
    "plt.plot(grid, p(grid, z))\n",
    "plt.plot(x, y)\n",
    "\n",
    "plt.grid(linestyle = ':')\n",
    "plt.show()"
   ]
  }
 ],
 "metadata": {
  "kernelspec": {
   "display_name": "Python 3",
   "language": "python",
   "name": "python3"
  },
  "language_info": {
   "codemirror_mode": {
    "name": "ipython",
    "version": 3
   },
   "file_extension": ".py",
   "mimetype": "text/x-python",
   "name": "python",
   "nbconvert_exporter": "python",
   "pygments_lexer": "ipython3",
   "version": "3.7.3"
  }
 },
 "nbformat": 4,
 "nbformat_minor": 2
}
