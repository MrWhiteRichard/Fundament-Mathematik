{
 "cells": [
  {
   "cell_type": "code",
   "execution_count": 11,
   "metadata": {},
   "outputs": [],
   "source": [
    "import numpy as np\n",
    "import math as m\n",
    "import matplotlib.pyplot as plt"
   ]
  },
  {
   "cell_type": "markdown",
   "metadata": {},
   "source": [
    "**Aufgabe 22:**\n",
    "\n",
    "Wir betrachten in diesem Beispiel die Lagrange-Polynominterpolation auf dem Dreick $T \\in \\mathbb{R}^2$, welches durch die Eckpunte $(0, 0)$, $(1, 0)$ und $(0, 1)$ gegeben ist. Sei dazu $\\Pi_n$ der Raum aller Linearkombinationen von Polynomen\n",
    "der Form\n",
    "\n",
    "$$(x, y) \\in \\mathbb{R}^2 \\mapsto x^k y^j \\in \\mathbb{R},\n",
    "\\qquad\n",
    "j, k  = 0, \\ldots, n, j + k \\leq n.$$\n",
    "\n",
    "Beweisen Sie, dass die Lagrange-Polynominterpolationsaufgabe eindeutig lösbar ist, wenn\n",
    "\n",
    "**a)** ein Polynom aus $\\Pi_1$ gesucht und die Stützwerte an den Eckpunkten des Dreiecks gegeben sind,\n",
    "\n",
    "**b)** ein Polynom aus $\\Pi_2$ gesucht und die Stutzwerte an den Eckpunkten sowie den Mittelpunkten der Dreickskanten gegeben sind.\n",
    "\n",
    "Geben Sie für beide Aufgaben die zugehörige Lagrange-Basis an, d.h. die Basisfunktionen, die an jeweils einem Stützpunkt $1$ und an allen anderen $0$ sind."
   ]
  },
  {
   "cell_type": "code",
   "execution_count": 6,
   "metadata": {},
   "outputs": [
    {
     "data": {
      "text/plain": [
       "0.015625000000000007"
      ]
     },
     "metadata": {},
     "output_type": "display_data"
    }
   ],
   "source": [
    "A = np.array([[1, 0,   0,   0,   0,   0  ],\n",
    "              [1, 1/2, 0,   0,   1/4, 0  ],\n",
    "              [1, 1,   0,   0,   1,   0  ],\n",
    "              [1, 1/2, 1/2, 1/4, 1/4, 1/4],\n",
    "              [1, 0,   1,   0,   0,   1  ],\n",
    "              [1, 0,   1/2, 0,   0,   1/4]])\n",
    "\n",
    "det = np.linalg.det(A)\n",
    "display(det)"
   ]
  },
  {
   "cell_type": "code",
   "execution_count": 3,
   "metadata": {},
   "outputs": [
    {
     "data": {
      "text/plain": [
       "array([[ 1., -3., -3.,  4.,  2.,  2.],\n",
       "       [ 0.,  4.,  0., -4., -4., -0.],\n",
       "       [ 0., -1.,  0.,  0.,  2., -0.],\n",
       "       [ 0.,  0.,  0.,  4., -0., -0.],\n",
       "       [ 0.,  0., -1.,  0., -0.,  2.],\n",
       "       [ 0.,  0.,  4., -4., -0., -4.]])"
      ]
     },
     "metadata": {},
     "output_type": "display_data"
    }
   ],
   "source": [
    "M = np.zeros((6, 6))\n",
    "\n",
    "for n in range(6):\n",
    "    s = np.eye(6)[n]\n",
    "    M[n] = np.linalg.solve(A, s)\n",
    "\n",
    "display(M)"
   ]
  },
  {
   "cell_type": "code",
   "execution_count": 25,
   "metadata": {},
   "outputs": [
    {
     "name": "stdout",
     "output_type": "stream",
     "text": [
      "\n"
     ]
    },
    {
     "data": {
      "text/plain": [
       "'L_0 (0.0, 0.0) = 1.0'"
      ]
     },
     "metadata": {},
     "output_type": "display_data"
    },
    {
     "data": {
      "text/plain": [
       "'L_0 (0.5, 0.0) = 0.0'"
      ]
     },
     "metadata": {},
     "output_type": "display_data"
    },
    {
     "data": {
      "text/plain": [
       "'L_0 (1.0, 0.0) = 0.0'"
      ]
     },
     "metadata": {},
     "output_type": "display_data"
    },
    {
     "data": {
      "text/plain": [
       "'L_0 (0.5, 0.5) = 0.0'"
      ]
     },
     "metadata": {},
     "output_type": "display_data"
    },
    {
     "data": {
      "text/plain": [
       "'L_0 (0.0, 1.0) = 0.0'"
      ]
     },
     "metadata": {},
     "output_type": "display_data"
    },
    {
     "data": {
      "text/plain": [
       "'L_0 (0.0, 0.5) = 0.0'"
      ]
     },
     "metadata": {},
     "output_type": "display_data"
    },
    {
     "name": "stdout",
     "output_type": "stream",
     "text": [
      "\n"
     ]
    },
    {
     "data": {
      "text/plain": [
       "'L_1 (0.0, 0.0) = 0.0'"
      ]
     },
     "metadata": {},
     "output_type": "display_data"
    },
    {
     "data": {
      "text/plain": [
       "'L_1 (0.5, 0.0) = 1.0'"
      ]
     },
     "metadata": {},
     "output_type": "display_data"
    },
    {
     "data": {
      "text/plain": [
       "'L_1 (1.0, 0.0) = 0.0'"
      ]
     },
     "metadata": {},
     "output_type": "display_data"
    },
    {
     "data": {
      "text/plain": [
       "'L_1 (0.5, 0.5) = 0.0'"
      ]
     },
     "metadata": {},
     "output_type": "display_data"
    },
    {
     "data": {
      "text/plain": [
       "'L_1 (0.0, 1.0) = 0.0'"
      ]
     },
     "metadata": {},
     "output_type": "display_data"
    },
    {
     "data": {
      "text/plain": [
       "'L_1 (0.0, 0.5) = 0.0'"
      ]
     },
     "metadata": {},
     "output_type": "display_data"
    },
    {
     "name": "stdout",
     "output_type": "stream",
     "text": [
      "\n"
     ]
    },
    {
     "data": {
      "text/plain": [
       "'L_2 (0.0, 0.0) = 0.0'"
      ]
     },
     "metadata": {},
     "output_type": "display_data"
    },
    {
     "data": {
      "text/plain": [
       "'L_2 (0.5, 0.0) = 0.0'"
      ]
     },
     "metadata": {},
     "output_type": "display_data"
    },
    {
     "data": {
      "text/plain": [
       "'L_2 (1.0, 0.0) = 1.0'"
      ]
     },
     "metadata": {},
     "output_type": "display_data"
    },
    {
     "data": {
      "text/plain": [
       "'L_2 (0.5, 0.5) = 0.0'"
      ]
     },
     "metadata": {},
     "output_type": "display_data"
    },
    {
     "data": {
      "text/plain": [
       "'L_2 (0.0, 1.0) = 0.0'"
      ]
     },
     "metadata": {},
     "output_type": "display_data"
    },
    {
     "data": {
      "text/plain": [
       "'L_2 (0.0, 0.5) = 0.0'"
      ]
     },
     "metadata": {},
     "output_type": "display_data"
    },
    {
     "name": "stdout",
     "output_type": "stream",
     "text": [
      "\n"
     ]
    },
    {
     "data": {
      "text/plain": [
       "'L_3 (0.0, 0.0) = 0.0'"
      ]
     },
     "metadata": {},
     "output_type": "display_data"
    },
    {
     "data": {
      "text/plain": [
       "'L_3 (0.5, 0.0) = 0.0'"
      ]
     },
     "metadata": {},
     "output_type": "display_data"
    },
    {
     "data": {
      "text/plain": [
       "'L_3 (1.0, 0.0) = 0.0'"
      ]
     },
     "metadata": {},
     "output_type": "display_data"
    },
    {
     "data": {
      "text/plain": [
       "'L_3 (0.5, 0.5) = 1.0'"
      ]
     },
     "metadata": {},
     "output_type": "display_data"
    },
    {
     "data": {
      "text/plain": [
       "'L_3 (0.0, 1.0) = 0.0'"
      ]
     },
     "metadata": {},
     "output_type": "display_data"
    },
    {
     "data": {
      "text/plain": [
       "'L_3 (0.0, 0.5) = 0.0'"
      ]
     },
     "metadata": {},
     "output_type": "display_data"
    },
    {
     "name": "stdout",
     "output_type": "stream",
     "text": [
      "\n"
     ]
    },
    {
     "data": {
      "text/plain": [
       "'L_4 (0.0, 0.0) = 0.0'"
      ]
     },
     "metadata": {},
     "output_type": "display_data"
    },
    {
     "data": {
      "text/plain": [
       "'L_4 (0.5, 0.0) = 0.0'"
      ]
     },
     "metadata": {},
     "output_type": "display_data"
    },
    {
     "data": {
      "text/plain": [
       "'L_4 (1.0, 0.0) = 0.0'"
      ]
     },
     "metadata": {},
     "output_type": "display_data"
    },
    {
     "data": {
      "text/plain": [
       "'L_4 (0.5, 0.5) = 0.0'"
      ]
     },
     "metadata": {},
     "output_type": "display_data"
    },
    {
     "data": {
      "text/plain": [
       "'L_4 (0.0, 1.0) = 1.0'"
      ]
     },
     "metadata": {},
     "output_type": "display_data"
    },
    {
     "data": {
      "text/plain": [
       "'L_4 (0.0, 0.5) = 0.0'"
      ]
     },
     "metadata": {},
     "output_type": "display_data"
    },
    {
     "name": "stdout",
     "output_type": "stream",
     "text": [
      "\n"
     ]
    },
    {
     "data": {
      "text/plain": [
       "'L_5 (0.0, 0.0) = 0.0'"
      ]
     },
     "metadata": {},
     "output_type": "display_data"
    },
    {
     "data": {
      "text/plain": [
       "'L_5 (0.5, 0.0) = 0.0'"
      ]
     },
     "metadata": {},
     "output_type": "display_data"
    },
    {
     "data": {
      "text/plain": [
       "'L_5 (1.0, 0.0) = 0.0'"
      ]
     },
     "metadata": {},
     "output_type": "display_data"
    },
    {
     "data": {
      "text/plain": [
       "'L_5 (0.5, 0.5) = 0.0'"
      ]
     },
     "metadata": {},
     "output_type": "display_data"
    },
    {
     "data": {
      "text/plain": [
       "'L_5 (0.0, 1.0) = 0.0'"
      ]
     },
     "metadata": {},
     "output_type": "display_data"
    },
    {
     "data": {
      "text/plain": [
       "'L_5 (0.0, 0.5) = 1.0'"
      ]
     },
     "metadata": {},
     "output_type": "display_data"
    },
    {
     "name": "stdout",
     "output_type": "stream",
     "text": [
      "\n"
     ]
    }
   ],
   "source": [
    "# evaluates the k-th \"Lagrange Polynomial\" at (x, y)\n",
    "def L(k, M, x, y):\n",
    "    var   = np.array([1, x, y, x*y, x*x, y*y])\n",
    "    coeff = M[k]\n",
    "\n",
    "    return var @ coeff\n",
    "\n",
    "points = np.array([(0,   0  ),\n",
    "                   (1/2, 0  ),\n",
    "                   (1,   0  ),\n",
    "                   (1/2, 1/2),\n",
    "                   (0,   1  ),\n",
    "                   (0,   1/2)])\n",
    "\n",
    "print(\"\")\n",
    "\n",
    "for k in range(6):\n",
    "    for p in points:\n",
    "        display(\"L_{} ({}, {}) = {}\".format(k, p[0], p[1], L(k, M, *p)))\n",
    "    \n",
    "    print(\"\")"
   ]
  },
  {
   "cell_type": "markdown",
   "metadata": {},
   "source": [
    "**Aufgabe 23:**\n",
    "\n",
    "Sei $f: [−5, 5] \\to \\mathbb{R}$ gegeben durch\n",
    "\n",
    "$$ f(x) = \\frac{1}{(1 + x)^2}. $$\n",
    "\n",
    "Schreiben Sie ein Programm welches $f$ mit äquidistanten und Chebyshev Knoten für beliebige Ordnung $n$ interpoliert und plotten Sie die interpolierenden Polynome. Was stellen Sie für große $n$ fest?"
   ]
  },
  {
   "cell_type": "code",
   "execution_count": 187,
   "metadata": {},
   "outputs": [
    {
     "data": {
      "image/png": "[encoded data removed]",
      "text/plain": [
       "<Figure size 1080x360 with 3 Axes>"
      ]
     },
     "metadata": {
      "needs_background": "light"
     },
     "output_type": "display_data"
    }
   ],
   "source": [
    "# function to be interpolated\n",
    "def f(x):\n",
    "    return 1/(1 + x*x)\n",
    "\n",
    "# returns n equidistant knots in the interval (a, b)\n",
    "def equidistant(a, b, n):\n",
    "    x = np.linspace(a, b, n)\n",
    "    return x\n",
    "\n",
    "# returns n chebyshev knots in the interval (a, b)\n",
    "def chebyshev(a, b, n):\n",
    "    x = np.array([m.cos((2*i + 1) * m.pi / (2*n + 2)) for i in range(n+1)])\n",
    "    x *= (b - a)/2\n",
    "    return x\n",
    "\n",
    "# returns interpolating polynomial p of function f with interpolation points x via linear equation system\n",
    "def interpolate(f, x):\n",
    "    def p(t):\n",
    "        n = len(x)\n",
    "        y = np.array(f(x))\n",
    "        V = np.vander(x, increasing = True)\n",
    "\n",
    "        coeff = np.linalg.solve(V, y)\n",
    "\n",
    "        tmp = 0      \n",
    "        for i in range(n):\n",
    "            tmp += coeff[i] * t**i\n",
    "\n",
    "        return tmp\n",
    "\n",
    "    return p\n",
    "\n",
    "# maximum number of knots used for interpolation\n",
    "n = 100\n",
    "\n",
    "# a ... interval lower bound\n",
    "# b ... interval upper bound\n",
    "\n",
    "a = -5\n",
    "b =  5\n",
    "\n",
    "# interpolating polynomials of f using equidistant knots\n",
    "p = []\n",
    "\n",
    "for i in range(n):\n",
    "    x = equidistant(a, b, i+1)\n",
    "    p += [interpolate(f, x)]\n",
    "\n",
    "# interpolating polynomials of f using chebyshev knots\n",
    "q = []\n",
    "\n",
    "for i in range(n):\n",
    "    x = chebyshev(a, b, i+1)\n",
    "    q += [interpolate(f, x)]\n",
    "\n",
    "# dt   ... distance between grid points\n",
    "# grid ... points that are plotted\n",
    "\n",
    "dt   = 0.1\n",
    "grid = np.arange(a, b, dt)\n",
    "\n",
    "fig, (ax1, ax2, ax3) = plt.subplots(1, 3, figsize = (15, 5))\n",
    "\n",
    "fig.suptitle(\"plots of $f$ with $n$ = {} interpolation points\".format(n), y = 1.05)\n",
    "\n",
    "ax1.set_title(\"Equidistant\")\n",
    "ax2.set_title(\"Chebyshev\")\n",
    "ax3.set_title(\"Original\")\n",
    "\n",
    "\n",
    "for i in range(0, n-1, 5):\n",
    "    ax1.plot(grid, p[i](grid), linewidth = 0.5)\n",
    "    ax2.plot(grid, q[i](grid), linewidth = 0.5)\n",
    "\n",
    "ax3.plot(grid, f(grid), color = \"black\")\n",
    "\n",
    "ax1.set_ylim([0, 1])\n",
    "ax2.set_ylim([0, 1])\n",
    "\n",
    "#plt.subplots_adjust(wspace = 0.5)\n",
    "\n",
    "plt.show()"
   ]
  }
 ],
 "metadata": {
  "kernelspec": {
   "display_name": "Python 3",
   "language": "python",
   "name": "python3"
  },
  "language_info": {
   "codemirror_mode": {
    "name": "ipython",
    "version": 3
   },
   "file_extension": ".py",
   "mimetype": "text/x-python",
   "name": "python",
   "nbconvert_exporter": "python",
   "pygments_lexer": "ipython3",
   "version": "3.7.3"
  }
 },
 "nbformat": 4,
 "nbformat_minor": 2
}
