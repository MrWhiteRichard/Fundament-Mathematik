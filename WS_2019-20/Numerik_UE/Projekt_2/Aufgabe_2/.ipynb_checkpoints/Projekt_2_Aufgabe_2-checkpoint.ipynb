{
 "cells": [
  {
   "cell_type": "code",
   "execution_count": 128,
   "metadata": {},
   "outputs": [],
   "source": [
    "import numpy as np\n",
    "import matplotlib.pyplot as plt\n",
    "import sympy as sp\n",
    "from scipy.optimize import fsolve"
   ]
  },
  {
   "cell_type": "code",
   "execution_count": 2,
   "metadata": {},
   "outputs": [],
   "source": [
    "def my_matrix(n):\n",
    "    h = 1/n\n",
    "\n",
    "    a = -2 * np.ones(n-1)\n",
    "    b = np.ones(n-2)\n",
    "\n",
    "    A = np.diag(b, -1) + np.diag(a, 0) + np.diag(b, 1)\n",
    "\n",
    "    return A/h**2"
   ]
  },
  {
   "cell_type": "code",
   "execution_count": 3,
   "metadata": {},
   "outputs": [],
   "source": [
    "# returns structured array of eigen value & vector pairs sorted by value\n",
    "def sorted_eigen_pairs(A):\n",
    "    [values, vectors] = np.linalg.eig(A)\n",
    "\n",
    "    n = len(values)\n",
    "\n",
    "    pairs = np.zeros(n, dtype = [('eigen_value', 'f8'),\n",
    "                                 ('eigen_vector', 'f8', (n))])\n",
    "\n",
    "    pairs['eigen_value'] = values\n",
    "    pairs['eigen_vector'] = vectors\n",
    "\n",
    "    indices = np.argsort(pairs, order = ['eigen_value'])\n",
    "    indices = np.flip(indices)\n",
    "\n",
    "    return pairs[indices]"
   ]
  },
  {
   "cell_type": "code",
   "execution_count": 192,
   "metadata": {},
   "outputs": [
    {
     "name": "stdout",
     "output_type": "stream",
     "text": [
      "----------------------------------------------------------------\n",
      "\n",
      "n = 2\n",
      "-----\n",
      "-8.0\n",
      "\n",
      "n = 3\n",
      "-----\n",
      "-9.0\n",
      "-27.0\n",
      "\n",
      "n = 4\n",
      "-----\n",
      "-9.372583002030478\n",
      "-31.999999999999996\n",
      "-54.62741699796946\n",
      "\n",
      "n = 5\n",
      "-----\n",
      "-9.549150281252611\n",
      "-34.54915028125264\n",
      "-65.45084971874735\n",
      "-90.45084971874735\n",
      "\n",
      "n = 6\n",
      "-----\n",
      "-9.646170927520402\n",
      "-35.99999999999999\n",
      "-71.99999999999997\n",
      "-108.00000000000001\n",
      "-134.35382907247953\n",
      "\n",
      "n = 7\n",
      "-----\n",
      "-9.705050945562961\n",
      "-36.89799941784412\n",
      "-76.19294847228122\n",
      "-119.80705152771888\n",
      "-159.10200058215582\n",
      "-186.29494905443664\n",
      "\n",
      "n = 8\n",
      "-----\n",
      "-9.743419838555344\n",
      "-37.49033200812192\n",
      "-79.01652065726852\n",
      "-127.9999999999999\n",
      "-176.98347934273144\n",
      "-218.50966799187793\n",
      "-246.25658016144442\n",
      "\n",
      "n = 9\n",
      "-----\n",
      "-9.769795432682793\n",
      "-37.90080021472559\n",
      "-80.99999999999997\n",
      "-133.8689952179573\n",
      "-190.13100478204277\n",
      "-243.00000000000014\n",
      "-286.09919978527444\n",
      "-314.2302045673173\n",
      "\n",
      "n = 10\n",
      "-----\n",
      "-9.788696740969272\n",
      "-38.19660112501045\n",
      "-82.44294954150533\n",
      "-138.1966011250105\n",
      "-200.00000000000006\n",
      "-261.80339887498934\n",
      "-317.5570504584944\n",
      "-361.8033988749895\n",
      "-390.2113032590302\n",
      "\n"
     ]
    }
   ],
   "source": [
    "n_max = 10\n",
    "\n",
    "print(\"----------------------------------------------------------------\")\n",
    "print(\"\")\n",
    "\n",
    "for n in range(2, n_max+1):\n",
    "    print(\"n =\", n)\n",
    "    print(\"-----\")\n",
    "#    print(\"h =\", 1/n)\n",
    "#    print(\"\")\n",
    "\n",
    "    A = my_matrix(n)\n",
    "\n",
    "    \"\"\"\n",
    "    print(\"Matrix:\")\n",
    "    print(A)\n",
    "    print(\"\")\n",
    "    \"\"\"\n",
    "\n",
    "    pairs = sorted_eigen_pairs(A)\n",
    "\n",
    "    values  = []\n",
    "    vectors = []\n",
    "    for i in range(n-1):\n",
    "        values  += [pairs[i][0]]\n",
    "        vectors += [pairs[i][1]]\n",
    "\n",
    "    \"\"\"\n",
    "    print(\"Eigenpairs:\")\n",
    "    for pair in pairs:\n",
    "        print(pair)\n",
    "    print(\"\")\n",
    "    \"\"\"\n",
    "\n",
    "#    \"\"\"\n",
    "#    print(\"Eigenvalues:\")\n",
    "    for value in values:\n",
    "        print(value)\n",
    "    print(\"\")\n",
    "#    \"\"\"\n",
    "\n",
    "    \"\"\"\n",
    "    print(\"Eigenvectors:\")\n",
    "    for vector in vectors:\n",
    "        print(vector)\n",
    "    print(\"\")\n",
    "    \"\"\"\n",
    "\n",
    "#    print(\"----------------------------------------------------------------\")\n",
    "#    print(\"\")"
   ]
  },
  {
   "cell_type": "code",
   "execution_count": 183,
   "metadata": {},
   "outputs": [
    {
     "name": "stdout",
     "output_type": "stream",
     "text": [
      "-(1 * pi)^2 = -9.869604401089358\n",
      "-(2 * pi)^2 = -39.47841760435743\n",
      "-(3 * pi)^2 = -88.82643960980423\n",
      "-(4 * pi)^2 = -157.91367041742973\n",
      "-(5 * pi)^2 = -246.74011002723395\n",
      "-(6 * pi)^2 = -355.3057584392169\n",
      "-(7 * pi)^2 = -483.61061565337855\n",
      "-(8 * pi)^2 = -631.6546816697189\n",
      "-(9 * pi)^2 = -799.437956488238\n"
     ]
    }
   ],
   "source": [
    "for n in range(1, 10):\n",
    "    print(\"-({} * pi)^2 =\".format(n), -(n * np.pi)**2)"
   ]
  },
  {
   "cell_type": "code",
   "execution_count": null,
   "metadata": {},
   "outputs": [],
   "source": []
  },
  {
   "cell_type": "code",
   "execution_count": 201,
   "metadata": {},
   "outputs": [],
   "source": [
    "# n_max .......... maximum matrix type\n",
    "# eigen_amount ... maximum amount of eigen values to track\n",
    "\n",
    "# ---------------------------------------------------------------- #\n",
    "\n",
    "# plots convergence error of eigen values\n",
    "def plot_1(n_max, eigen_amount, lines):\n",
    "    # there are n_max-1 eigen values/vectors at max\n",
    "    assert eigen_amount < n_max\n",
    "\n",
    "    # where eigen values should converge to\n",
    "    eigen_limits = -(np.array(range(1, eigen_amount+1)) * np.pi)**2\n",
    "\n",
    "    # matrix types\n",
    "    x = np.array(range(2, n_max+1))\n",
    "\n",
    "    # upper triangular matrix of eigen values times eigen value instances\n",
    "    y = np.zeros((eigen_amount, len(x)))\n",
    "\n",
    "    # iterate over eigen value instances\n",
    "    for i in range(y.shape[1]):\n",
    "        A     = my_matrix(x[i])\n",
    "        pairs = sorted_eigen_pairs(A)\n",
    "\n",
    "        eigen_values  = []\n",
    "        eigen_vectors = []\n",
    "        for j in range(x[i]-1):\n",
    "            eigen_values  += [pairs[j][0]]\n",
    "            eigen_vectors += [pairs[j][1]]\n",
    "\n",
    "        # iterate over eigen values in instance\n",
    "        for j in range(np.minimum(x[i]-1, eigen_amount)):\n",
    "            y[j][i] = abs(eigen_limits[j] - eigen_values[j])\n",
    "\n",
    "    fig, ax = plt.subplots()\n",
    "\n",
    "    # do actual plotting\n",
    "    for j, line in zip(range(eigen_amount), lines):\n",
    "        plt.loglog(x[j::], y[j][j::], line, color = 'black')\n",
    "\n",
    "    # add reference\n",
    "    plt.loglog(x, 1/x**2, color = 'black')\n",
    "\n",
    "    # add legend\n",
    "    legend = []\n",
    "    legend += [\"$\\epsilon_{}$\".format(j) for j in range(1, eigen_amount+1)]\n",
    "    legend += [\"id$^{{-2}}$\"]\n",
    "\n",
    "    plt.legend((*legend,))\n",
    "    ax.set_xlabel(\"Matrix-Dimension\")\n",
    "    ax.set_ylabel(\"Konvergenz-Fehler\")\n",
    "\n",
    "    plt.grid(linestyle = ':')\n",
    "    plt.show()\n",
    "\n",
    "# ---------------------------------------------------------------- #\n",
    "\n",
    "# under construction:\n",
    "\n",
    "# eigen_number ... which eigen vector to track\n",
    "\n",
    "# plots eigen vector iterations\n",
    "def plot_2(n_max, eigen_number):\n",
    "    plt.figure(figsize = (15, 5))\n",
    "\n",
    "    # there are n_max-1 eigen values/vectors at max\n",
    "    assert eigen_number < n_max\n",
    "\n",
    "    # iterate over eigen vector instances\n",
    "    for n in range(n_max, n_max+1):\n",
    "        A     = my_matrix(n)\n",
    "        pairs = sorted_eigen_pairs(A)\n",
    "\n",
    "        eigen_values  = []\n",
    "        eigen_vectors = []\n",
    "        for i in range(n-1):\n",
    "            eigen_values  += [pairs[i][0]]\n",
    "            eigen_vectors += [pairs[i][1]]\n",
    "\n",
    "        x = np.linspace(0, 1, n+1)\n",
    "        y = np.concatenate(([0], eigen_vectors[eigen_number-1], [0]))\n",
    "\n",
    "        print(\"x =\", x)\n",
    "        print(\"y =\", y)\n",
    "\n",
    "        plt.plot(x, y, 'o-')\n",
    "        kappa = np.pi * eigen_number\n",
    "        C_1 = 0\n",
    "        C_2 = 1\n",
    "        plt.plot(x, C_1*np.cos(kappa * x) + C_2*np.sin(kappa * x))\n",
    "\n",
    "    plt.grid(linestyle = ':')\n",
    "    plt.show()\n",
    "\n",
    "# ---------------------------------------------------------------- #"
   ]
  },
  {
   "cell_type": "code",
   "execution_count": 202,
   "metadata": {},
   "outputs": [
    {
     "data": {
      "image/png": "[encoded data removed]",
      "text/plain": [
       "<Figure size 432x288 with 1 Axes>"
      ]
     },
     "metadata": {
      "needs_background": "light"
     },
     "output_type": "display_data"
    }
   ],
   "source": [
    "n_max        = 16\n",
    "eigen_amount = 3\n",
    "\n",
    "lines = ['--', '-.', ':']\n",
    "\n",
    "plot_1(n_max, eigen_amount, lines)"
   ]
  },
  {
   "cell_type": "code",
   "execution_count": 8,
   "metadata": {},
   "outputs": [
    {
     "name": "stdout",
     "output_type": "stream",
     "text": [
      "x = [0.   0.01 0.02 0.03 0.04 0.05 0.06 0.07 0.08 0.09 0.1  0.11 0.12 0.13\n",
      " 0.14 0.15 0.16 0.17 0.18 0.19 0.2  0.21 0.22 0.23 0.24 0.25 0.26 0.27\n",
      " 0.28 0.29 0.3  0.31 0.32 0.33 0.34 0.35 0.36 0.37 0.38 0.39 0.4  0.41\n",
      " 0.42 0.43 0.44 0.45 0.46 0.47 0.48 0.49 0.5  0.51 0.52 0.53 0.54 0.55\n",
      " 0.56 0.57 0.58 0.59 0.6  0.61 0.62 0.63 0.64 0.65 0.66 0.67 0.68 0.69\n",
      " 0.7  0.71 0.72 0.73 0.74 0.75 0.76 0.77 0.78 0.79 0.8  0.81 0.82 0.83\n",
      " 0.84 0.85 0.86 0.87 0.88 0.89 0.9  0.91 0.92 0.93 0.94 0.95 0.96 0.97\n",
      " 0.98 0.99 1.  ]\n",
      "y = [ 0.00000000e+00  1.34499702e-01  8.31253876e-02  8.31253876e-02\n",
      "  1.34499702e-01 -5.94067145e-14  1.34499702e-01  8.31253876e-02\n",
      " -8.31253876e-02 -8.31253876e-02  8.31253876e-02 -1.34499702e-01\n",
      "  1.34499702e-01  1.09215996e-15  1.34499702e-01 -2.41221734e-14\n",
      " -8.31253876e-02  1.34499702e-01  9.75181465e-15 -8.31253876e-02\n",
      " -8.31253876e-02  1.34499702e-01 -1.34499702e-01  1.33224194e-14\n",
      " -1.34499702e-01 -1.34499702e-01 -1.34499702e-01 -2.36187893e-14\n",
      " -1.34499702e-01  8.31253876e-02  8.31253876e-02 -8.31253876e-02\n",
      " -1.34499702e-01  5.66615056e-15 -1.34499702e-01  8.31253876e-02\n",
      " -8.31253876e-02  6.44791417e-15 -1.34499702e-01 -8.31253876e-02\n",
      "  1.34499702e-01  8.31253876e-02  8.31253876e-02  1.34499702e-01\n",
      " -1.24419801e-14  8.31253876e-02  1.34499702e-01  8.31253876e-02\n",
      " -1.34499702e-01  8.31253876e-02  4.74929553e-15 -1.34499702e-01\n",
      "  8.31253876e-02 -8.31253876e-02  8.31253876e-02 -8.31253876e-02\n",
      "  1.34499702e-01  1.34499702e-01 -1.34499702e-01 -4.20761148e-15\n",
      "  1.34499702e-01 -5.95886157e-15  1.34499702e-01  8.31253876e-02\n",
      " -8.31253876e-02  1.34499702e-01  8.31253876e-02  8.31253876e-02\n",
      "  3.80059229e-16  1.34499702e-01 -8.31253876e-02 -8.31253876e-02\n",
      " -8.31253876e-02 -1.34499702e-01  1.34499702e-01  4.85598020e-16\n",
      " -5.49178905e-15 -8.31253876e-02  5.73570635e-16 -1.34499702e-01\n",
      "  1.34499702e-01 -1.34499702e-01  1.34499702e-01 -1.34499702e-01\n",
      " -8.31253876e-02  1.34499702e-01 -8.31253876e-02 -1.74986952e-15\n",
      " -1.34499702e-01 -3.08075803e-15  8.31253876e-02 -8.31253876e-02\n",
      " -8.31253876e-02  8.31253876e-02 -1.34499702e-01  3.87830941e-15\n",
      " -1.34499702e-01  8.31253876e-02 -8.31253876e-02  1.34499702e-01\n",
      "  0.00000000e+00]\n"
     ]
    },
    {
     "data": {
      "image/png": "[encoded data removed]",
      "text/plain": [
       "<Figure size 1080x360 with 1 Axes>"
      ]
     },
     "metadata": {
      "needs_background": "light"
     },
     "output_type": "display_data"
    }
   ],
   "source": [
    "n_max = 100\n",
    "eigen_number = 1\n",
    "\n",
    "plot_2(n_max, eigen_number)"
   ]
  },
  {
   "cell_type": "code",
   "execution_count": 165,
   "metadata": {},
   "outputs": [],
   "source": [
    "def my_determinant_1(n):\n",
    "    h = 1/n\n",
    "\n",
    "    a = -2 * np.ones(n-1)\n",
    "    b = np.ones(n-2)\n",
    "\n",
    "    A = np.diag(b, -1) + np.diag(a, 0) + np.diag(b, 1)\n",
    "\n",
    "    return np.linalg.det(A)\n",
    "\n",
    "def my_determinant_2(n):\n",
    "    A = my_matrix(n)\n",
    "    \n",
    "    return np.linalg.det(A)"
   ]
  },
  {
   "cell_type": "code",
   "execution_count": 166,
   "metadata": {},
   "outputs": [
    {
     "name": "stdout",
     "output_type": "stream",
     "text": [
      "det(A'_2) = -2.0\n",
      "det(A'_3) = 3.0\n",
      "det(A'_4) = -4.0\n",
      "det(A'_5) = 5.0\n",
      "det(A'_6) = -6.0\n",
      "det(A'_7) = 7.0\n",
      "det(A'_8) = -8.0\n",
      "det(A'_9) = 9.0\n",
      "\n",
      "det(A_2) = -8.0\n",
      "det(A_3) = 243.0\n",
      "det(A_4) = -16384.0\n",
      "det(A_5) = 1953125.0\n",
      "det(A_6) = -362797056.0\n",
      "det(A_7) = 96889010407.0\n",
      "det(A_8) = -35184372088831.957\n",
      "det(A_9) = 1.6677181699666658e+16\n"
     ]
    }
   ],
   "source": [
    "n_max = 10\n",
    "\n",
    "for n in range(2, n_max):\n",
    "    det = my_determinant_1(n)\n",
    "    det = round(det, 14)\n",
    "    print(\"det(A'_{}) =\".format(n), det)\n",
    "\n",
    "print(\"\")\n",
    "\n",
    "for n in range(2, n_max):\n",
    "    det = my_determinant_2(n)\n",
    "    det = round(det, 4)\n",
    "    print(\"det(A_{}) =\".format(n), det)"
   ]
  },
  {
   "cell_type": "code",
   "execution_count": 173,
   "metadata": {},
   "outputs": [],
   "source": [
    "def my_sympy_matrix(n):\n",
    "    h = 1/n\n",
    "\n",
    "    def fill(i, j):\n",
    "        if i == j:\n",
    "            return -2\n",
    "        elif i == j-1 or i-1 == j:\n",
    "            return 1\n",
    "        else:\n",
    "            return 0\n",
    "\n",
    "    A = sp.Matrix(n-1, n-1, fill)\n",
    "\n",
    "    return A"
   ]
  },
  {
   "cell_type": "code",
   "execution_count": 181,
   "metadata": {},
   "outputs": [
    {
     "name": "stdout",
     "output_type": "stream",
     "text": [
      "A_2 =\n"
     ]
    },
    {
     "data": {
      "text/latex": [
       "$\\displaystyle \\left[\\begin{matrix}-2\\end{matrix}\\right]$"
      ],
      "text/plain": [
       "Matrix([[-2]])"
      ]
     },
     "metadata": {},
     "output_type": "display_data"
    },
    {
     "name": "stdout",
     "output_type": "stream",
     "text": [
      "Jordan:\n"
     ]
    },
    {
     "data": {
      "text/latex": [
       "$\\displaystyle \\left[\\begin{matrix}-2\\end{matrix}\\right]$"
      ],
      "text/plain": [
       "Matrix([[-2]])"
      ]
     },
     "metadata": {},
     "output_type": "display_data"
    },
    {
     "name": "stdout",
     "output_type": "stream",
     "text": [
      "A_3 =\n"
     ]
    },
    {
     "data": {
      "text/latex": [
       "$\\displaystyle \\left[\\begin{matrix}-2 & 1\\\\1 & -2\\end{matrix}\\right]$"
      ],
      "text/plain": [
       "Matrix([\n",
       "[-2,  1],\n",
       "[ 1, -2]])"
      ]
     },
     "metadata": {},
     "output_type": "display_data"
    },
    {
     "name": "stdout",
     "output_type": "stream",
     "text": [
      "Jordan:\n"
     ]
    },
    {
     "data": {
      "text/latex": [
       "$\\displaystyle \\left[\\begin{matrix}-3 & 0\\\\0 & -1\\end{matrix}\\right]$"
      ],
      "text/plain": [
       "Matrix([\n",
       "[-3,  0],\n",
       "[ 0, -1]])"
      ]
     },
     "metadata": {},
     "output_type": "display_data"
    },
    {
     "name": "stdout",
     "output_type": "stream",
     "text": [
      "A_4 =\n"
     ]
    },
    {
     "data": {
      "text/latex": [
       "$\\displaystyle \\left[\\begin{matrix}-2 & 1 & 0\\\\1 & -2 & 1\\\\0 & 1 & -2\\end{matrix}\\right]$"
      ],
      "text/plain": [
       "Matrix([\n",
       "[-2,  1,  0],\n",
       "[ 1, -2,  1],\n",
       "[ 0,  1, -2]])"
      ]
     },
     "metadata": {},
     "output_type": "display_data"
    },
    {
     "name": "stdout",
     "output_type": "stream",
     "text": [
      "Jordan:\n"
     ]
    },
    {
     "data": {
      "text/latex": [
       "$\\displaystyle \\left[\\begin{matrix}-2 & 0 & 0\\\\0 & -2 - \\sqrt{2} & 0\\\\0 & 0 & -2 + \\sqrt{2}\\end{matrix}\\right]$"
      ],
      "text/plain": [
       "Matrix([\n",
       "[-2,            0,            0],\n",
       "[ 0, -2 - sqrt(2),            0],\n",
       "[ 0,            0, -2 + sqrt(2)]])"
      ]
     },
     "metadata": {},
     "output_type": "display_data"
    },
    {
     "name": "stdout",
     "output_type": "stream",
     "text": [
      "A_5 =\n"
     ]
    },
    {
     "data": {
      "text/latex": [
       "$\\displaystyle \\left[\\begin{matrix}-2 & 1 & 0 & 0\\\\1 & -2 & 1 & 0\\\\0 & 1 & -2 & 1\\\\0 & 0 & 1 & -2\\end{matrix}\\right]$"
      ],
      "text/plain": [
       "Matrix([\n",
       "[-2,  1,  0,  0],\n",
       "[ 1, -2,  1,  0],\n",
       "[ 0,  1, -2,  1],\n",
       "[ 0,  0,  1, -2]])"
      ]
     },
     "metadata": {},
     "output_type": "display_data"
    },
    {
     "name": "stdout",
     "output_type": "stream",
     "text": [
      "Jordan:\n"
     ]
    },
    {
     "data": {
      "text/latex": [
       "$\\displaystyle \\left[\\begin{matrix}- \\frac{5}{2} - \\frac{\\sqrt{5}}{2} & 0 & 0 & 0\\\\0 & - \\frac{5}{2} + \\frac{\\sqrt{5}}{2} & 0 & 0\\\\0 & 0 & - \\frac{3}{2} - \\frac{\\sqrt{5}}{2} & 0\\\\0 & 0 & 0 & - \\frac{3}{2} + \\frac{\\sqrt{5}}{2}\\end{matrix}\\right]$"
      ],
      "text/plain": [
       "Matrix([\n",
       "[-5/2 - sqrt(5)/2,                0,                0,                0],\n",
       "[               0, -5/2 + sqrt(5)/2,                0,                0],\n",
       "[               0,                0, -3/2 - sqrt(5)/2,                0],\n",
       "[               0,                0,                0, -3/2 + sqrt(5)/2]])"
      ]
     },
     "metadata": {},
     "output_type": "display_data"
    },
    {
     "name": "stdout",
     "output_type": "stream",
     "text": [
      "A_6 =\n"
     ]
    },
    {
     "data": {
      "text/latex": [
       "$\\displaystyle \\left[\\begin{matrix}-2 & 1 & 0 & 0 & 0\\\\1 & -2 & 1 & 0 & 0\\\\0 & 1 & -2 & 1 & 0\\\\0 & 0 & 1 & -2 & 1\\\\0 & 0 & 0 & 1 & -2\\end{matrix}\\right]$"
      ],
      "text/plain": [
       "Matrix([\n",
       "[-2,  1,  0,  0,  0],\n",
       "[ 1, -2,  1,  0,  0],\n",
       "[ 0,  1, -2,  1,  0],\n",
       "[ 0,  0,  1, -2,  1],\n",
       "[ 0,  0,  0,  1, -2]])"
      ]
     },
     "metadata": {},
     "output_type": "display_data"
    },
    {
     "name": "stdout",
     "output_type": "stream",
     "text": [
      "Jordan:\n"
     ]
    },
    {
     "data": {
      "text/latex": [
       "$\\displaystyle \\left[\\begin{matrix}-3 & 0 & 0 & 0 & 0\\\\0 & -2 & 0 & 0 & 0\\\\0 & 0 & -1 & 0 & 0\\\\0 & 0 & 0 & -2 - \\sqrt{3} & 0\\\\0 & 0 & 0 & 0 & -2 + \\sqrt{3}\\end{matrix}\\right]$"
      ],
      "text/plain": [
       "Matrix([\n",
       "[-3,  0,  0,            0,            0],\n",
       "[ 0, -2,  0,            0,            0],\n",
       "[ 0,  0, -1,            0,            0],\n",
       "[ 0,  0,  0, -2 - sqrt(3),            0],\n",
       "[ 0,  0,  0,            0, -2 + sqrt(3)]])"
      ]
     },
     "metadata": {},
     "output_type": "display_data"
    }
   ],
   "source": [
    "n_max = 7\n",
    "\n",
    "for n in range(2, n_max):\n",
    "    A = my_sympy_matrix(n)\n",
    "    print(\"A_{} =\".format(n))\n",
    "    display(A)\n",
    "\n",
    "    (P, J) = A.jordan_form()\n",
    "    print(\"Jordan:\")\n",
    "    display(J)"
   ]
  },
  {
   "cell_type": "code",
   "execution_count": 11,
   "metadata": {},
   "outputs": [],
   "source": []
  },
  {
   "cell_type": "code",
   "execution_count": 44,
   "metadata": {},
   "outputs": [
    {
     "data": {
      "text/latex": [
       "$\\displaystyle \\left[\\begin{matrix}\\sin{\\left(\\frac{{\\kappa}_{0}}{2} \\right)} & - \\cos{\\left(\\frac{{\\kappa}_{1}}{2} \\right)} & - \\sin{\\left(\\frac{{\\kappa}_{1}}{2} \\right)}\\\\\\cos{\\left(\\frac{{\\kappa}_{0}}{2} \\right)} {\\kappa}_{0} & \\sin{\\left(\\frac{{\\kappa}_{1}}{2} \\right)} {\\kappa}_{1} & - \\cos{\\left(\\frac{{\\kappa}_{1}}{2} \\right)} {\\kappa}_{1}\\\\0 & \\cos{\\left({\\kappa}_{1} \\right)} & \\sin{\\left({\\kappa}_{1} \\right)}\\end{matrix}\\right]$"
      ],
      "text/plain": [
       "Matrix([\n",
       "[          sin(\\kappa[0]/2),          -cos(\\kappa[1]/2),           -sin(\\kappa[1]/2)],\n",
       "[cos(\\kappa[0]/2)*\\kappa[0], sin(\\kappa[1]/2)*\\kappa[1], -cos(\\kappa[1]/2)*\\kappa[1]],\n",
       "[                         0,             cos(\\kappa[1]),              sin(\\kappa[1])]])"
      ]
     },
     "metadata": {},
     "output_type": "display_data"
    }
   ],
   "source": [
    "omega = sp.Symbol('\\omega')\n",
    "c     = sp.IndexedBase('c')\n",
    "kappa = sp.IndexedBase('\\kappa')\n",
    "\n",
    "\n",
    "A = sp.Matrix([[ sp.sin(kappa[0]/2),  kappa[0]*sp.cos(kappa[0]/2), 0],\n",
    "               [-sp.cos(kappa[1]/2),  kappa[1]*sp.sin(kappa[1]/2), sp.cos(kappa[1])],\n",
    "               [-sp.sin(kappa[1]/2), -kappa[1]*sp.cos(kappa[1]/2), sp.sin(kappa[1])]])\n",
    "\n",
    "A = A.T\n",
    "\n",
    "display(A)"
   ]
  },
  {
   "cell_type": "code",
   "execution_count": 73,
   "metadata": {},
   "outputs": [],
   "source": []
  },
  {
   "cell_type": "code",
   "execution_count": 110,
   "metadata": {},
   "outputs": [
    {
     "name": "stdout",
     "output_type": "stream",
     "text": [
      "solutions: [9.82605835]\n",
      "solutions**2: [96.55142264]\n"
     ]
    },
    {
     "data": {
      "image/png": "[encoded data removed]",
      "text/plain": [
       "<Figure size 1080x360 with 1 Axes>"
      ]
     },
     "metadata": {
      "needs_background": "light"
     },
     "output_type": "display_data"
    }
   ],
   "source": [
    "det = sp.det(A)\n",
    "#display(det)\n",
    "\n",
    "det = sp.simplify(det)\n",
    "#display(det)\n",
    "\n",
    "kappa_0 = omega/c[0]\n",
    "kappa_1 = omega/c[1]\n",
    "\n",
    "det = det.subs({kappa[0]: kappa_0, kappa[1]: kappa_1})\n",
    "\n",
    "#display(det)\n",
    "\n",
    "c_0 = 100\n",
    "c_1 = 1\n",
    "\n",
    "det = det.subs({c[0]: c_0, c[1]: c_1})\n",
    "\n",
    "#display(det)\n",
    "\n",
    "f = sp.lambdify(omega, det, 'numpy')\n",
    "\n",
    "#\"\"\"\n",
    "start = 9\n",
    "tol = 1e-8\n",
    "\n",
    "solutions = fsolve(f, start, xtol = tol)\n",
    "print(\"solutions:\", solutions)\n",
    "print(\"solutions**2:\", solutions**2)\n",
    "#\"\"\"\n",
    "\n",
    "a = 0\n",
    "b = 10\n",
    "dt = 0.1\n",
    "\n",
    "x = np.arange(a, b, dt)\n",
    "y = f(x)\n",
    "\n",
    "C = 1e-3\n",
    "\n",
    "plt.figure(figsize = (15, 5))\n",
    "plt.grid(linestyle = \":\")\n",
    "plt.ylim(-C, C)\n",
    "plt.plot(x, y)\n",
    "plt.show()"
   ]
  }
 ],
 "metadata": {
  "kernelspec": {
   "display_name": "Python 3",
   "language": "python",
   "name": "python3"
  },
  "language_info": {
   "codemirror_mode": {
    "name": "ipython",
    "version": 3
   },
   "file_extension": ".py",
   "mimetype": "text/x-python",
   "name": "python",
   "nbconvert_exporter": "python",
   "pygments_lexer": "ipython3",
   "version": "3.7.4"
  }
 },
 "nbformat": 4,
 "nbformat_minor": 2
}
